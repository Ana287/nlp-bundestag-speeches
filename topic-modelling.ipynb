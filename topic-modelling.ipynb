{
 "cells": [
  {
   "cell_type": "markdown",
   "metadata": {},
   "source": [
    "# Data Pre-Processing"
   ]
  },
  {
   "cell_type": "code",
   "execution_count": 1,
   "metadata": {},
   "outputs": [],
   "source": [
    "import spacy\n",
    "import pandas as pd\n",
    "from tqdm.notebook import tqdm"
   ]
  },
  {
   "cell_type": "code",
   "execution_count": 70,
   "metadata": {},
   "outputs": [
    {
     "name": "stdout",
     "output_type": "stream",
     "text": [
      "<class 'pandas.core.frame.DataFrame'>\n",
      "Index: 971264 entries, 0 to 971279\n",
      "Data columns (total 10 columns):\n",
      " #   Column          Non-Null Count   Dtype         \n",
      "---  ------          --------------   -----         \n",
      " 0   text            971264 non-null  object        \n",
      " 1   date            971264 non-null  datetime64[ns]\n",
      " 2   speaker_name    971264 non-null  object        \n",
      " 3   speaker_gender  971264 non-null  object        \n",
      " 4   speaker_role    884850 non-null  object        \n",
      " 5   speaker_party   969563 non-null  object        \n",
      " 6   comments        971264 non-null  object        \n",
      " 7   id              971264 non-null  object        \n",
      " 8   speaker_id      971264 non-null  int64         \n",
      " 9   speech_length   971264 non-null  int64         \n",
      "dtypes: datetime64[ns](1), int64(2), object(7)\n",
      "memory usage: 81.5+ MB\n"
     ]
    }
   ],
   "source": [
    "df = pd.read_pickle('data_merged.pkl')\n",
    "df.info()"
   ]
  },
  {
   "cell_type": "code",
   "execution_count": null,
   "metadata": {},
   "outputs": [],
   "source": [
    "#!python -m spacy download de_core_news_sm # downloaded successfully"
   ]
  },
  {
   "cell_type": "code",
   "execution_count": 17,
   "metadata": {},
   "outputs": [
    {
     "data": {
      "text/plain": [
       "  Sehr geehrter Herr Alterspräsident! So muss ich es jetzt sagen, genau; ich muss mich daran gewöhnen. Nicht lange.  Nicht lange; da haben Sie schon recht. – Liebe Kolleginnen und Kollegen! Meine sehr geehrten Damen und Herren! Die Übernahme der Geschäftsordnung ist eine der ersten wichtigen Entscheidungen, die wir heute zu Beginn der Wahlperiode treffen müssen. Die Geschäftsordnung ist Grundlage für unsere gemeinsame Arbeit. Sie hat sich über viele Wahlperioden bewährt und wird uns auch durch die neue Wahlperiode tragen. Es ist gute Tradition, dass wir die Geschäftsordnung am Anfang einer Wahlperiode mit breiter parlamentarischer Mehrheit übernehmen, und das sollten wir auch heute tun. Sie ist nicht in Stein gemeißelt – das wissen diejenigen, die bereits in der letzten Wahlperiode hier im Bundestag tätig waren –, sondern die Geschäftsordnung ist immer ein, ich sage mal, lebendiges Dokument, das sich den Gegebenheiten des Parlamentarismus, aber auch den Gegebenheiten der Arbeit hier im Deutschen Bundestag anpassen muss. Das muss eine Geschäftsordnung dann auch immer wieder in ihrer Entwicklung nachvollziehen. Wir haben dieses bereits in der letzten Wahlperiode bewiesen und einige grundlegende Änderungen beschlossen, vor allem und vorangestellt die überfällige Reform der Verhaltensregeln. Wir begrüßen auch ausdrücklich die Initiative des scheidenden Präsidenten Herrn Schäuble, die Geschäftsordnung in dieser Wahlperiode einer Generalüberholung zu unterziehen. Wir sind gerne bereit, diese Impulse aufzunehmen, und laden auch alle anderen Fraktionen dazu ein, diesen Weg mit uns gemeinsam zu gehen. Die Vorschläge der Opposition sind ernst zu nehmen. Wir möchten sie aufgreifen und möchten gemeinsam mit Ihnen darüber diskutieren, wie eine Geschäftsordnung überarbeitet werden und in der nächsten Zeit auch wirken kann. Wir plädieren allerdings auch dafür, dass wir die in der letzten Legislaturperiode eingeführten Regelungen für das digitale Tagen von Ausschüssen – vorerst zeitlich möglichst kurz – beibehalten; das können Sie auch unserem Antrag entnehmen. Und wir plädieren dafür, das eingeführte coronabedingte Absenken der Quoren, das notwendig war für die Beschlussfähigkeit des Deutschen Bundestages, in die neue Geschäftsordnung nicht mehr aufzunehmen. Ich bitte, wir bitten Sie um Zustimmung zum vorliegenden Antrag zur Weitergeltung der Geschäftsordnung, damit wir in der erforderlichen Zeit, die wir dann haben, die notwendigen Änderungen gemeinsam diskutieren und hier verabschieden können. Herzlichen Dank. Stefan Müller, CDU/CSU, hat als Nächster das Wort."
      ]
     },
     "execution_count": 17,
     "metadata": {},
     "output_type": "execute_result"
    }
   ],
   "source": [
    "nlp = spacy.load('de_core_news_sm') \n",
    "doc = nlp(df.text[0])\n",
    "doc"
   ]
  },
  {
   "cell_type": "code",
   "execution_count": 21,
   "metadata": {},
   "outputs": [
    {
     "data": {
      "text/plain": [
       "'alterspräsident übernahme geschäftsordnung entscheidung beginn wahlperiode geschäftsordnung grundlage arbeit wahlperiode wahlperiode tradition geschäftsordnung anfang wahlperiode mehrheit stein wahlperiode bundestag geschäftsordnung dokument gegebenheit parlamentarismus gegebenheit arbeit bundestag geschäftsordnung entwicklung wahlperiode änderung reform verhaltensregeln initiative präsident geschäftsordnung wahlperiode generalüberholung impuls fraktion weg vorschlag opposition geschäftsordnung legislaturperiode regelung ausschuß antrag absenken quor beschlussfähigkeit bundestag geschäftsordnung zustimmung antrag weitergeltung geschäftsordnung änderung nächster wort'"
      ]
     },
     "execution_count": 21,
     "metadata": {},
     "output_type": "execute_result"
    }
   ],
   "source": [
    "def keep_token(token):\n",
    "    include_pos = ['NOUN', 'PROPN']\n",
    "    exclude_tokens = ['kollege', 'kollegin', 'abgeordneter', 'redner', 'rednerin', 'staatssekretär', 'staatssekretärin', 'minister', 'ministerin', 'bundesminister', 'dame', 'herr']\n",
    "\n",
    "    if token.is_alpha and token.ent_type_ != 'PER' and token.pos_ in include_pos and not (token.is_stop or token.lemma_.lower() in exclude_tokens):\n",
    "       return True\n",
    "    return False"
   ]
  },
  {
   "cell_type": "code",
   "execution_count": 22,
   "metadata": {},
   "outputs": [
    {
     "data": {
      "application/vnd.jupyter.widget-view+json": {
       "model_id": "c427c414117b41df84b7138f95554049",
       "version_major": 2,
       "version_minor": 0
      },
      "text/plain": [
       "0it [00:00, ?it/s]"
      ]
     },
     "metadata": {},
     "output_type": "display_data"
    }
   ],
   "source": [
    "speeches_processed = []\n",
    "\n",
    "for speech in tqdm(nlp.pipe(df.text, n_process=6, batch_size=64)):\n",
    "    tokens = [token.lemma_.lower() for token in speech if keep_token(token)]\n",
    "    speeches_processed.append(tokens)"
   ]
  },
  {
   "cell_type": "code",
   "execution_count": 23,
   "metadata": {},
   "outputs": [
    {
     "data": {
      "text/plain": [
       "971264"
      ]
     },
     "execution_count": 23,
     "metadata": {},
     "output_type": "execute_result"
    }
   ],
   "source": [
    "len(speeches_processed)"
   ]
  },
  {
   "cell_type": "markdown",
   "metadata": {},
   "source": [
    "## Save & load processed speeches"
   ]
  },
  {
   "cell_type": "code",
   "execution_count": 4,
   "metadata": {},
   "outputs": [],
   "source": [
    "import pickle\n",
    "\n",
    "# save processed speeches to a file\n",
    "with open('speeches_processed.pkl', 'wb') as f:\n",
    "   pickle.dump(speeches_processed, f)\n",
    "\n",
    "# load speeches_processed\n",
    "with open('speeches_processed.pkl', 'rb') as f:\n",
    "   loaded_speeches = pickle.load(f)"
   ]
  },
  {
   "cell_type": "code",
   "execution_count": 4,
   "metadata": {},
   "outputs": [
    {
     "data": {
      "text/plain": [
       "971264"
      ]
     },
     "execution_count": 4,
     "metadata": {},
     "output_type": "execute_result"
    }
   ],
   "source": [
    "len(loaded_speeches)"
   ]
  },
  {
   "cell_type": "markdown",
   "metadata": {},
   "source": [
    "# Topic Modelling"
   ]
  },
  {
   "cell_type": "code",
   "execution_count": null,
   "metadata": {},
   "outputs": [],
   "source": [
    "#!pip install gensim"
   ]
  },
  {
   "cell_type": "code",
   "execution_count": 5,
   "metadata": {},
   "outputs": [],
   "source": [
    "from gensim.corpora.dictionary import Dictionary\n",
    "from gensim.models import LdaMulticore\n",
    "from gensim.models import CoherenceModel"
   ]
  },
  {
   "cell_type": "code",
   "execution_count": 6,
   "metadata": {},
   "outputs": [],
   "source": [
    "dictionary = Dictionary(loaded_speeches)"
   ]
  },
  {
   "cell_type": "code",
   "execution_count": 7,
   "metadata": {},
   "outputs": [
    {
     "data": {
      "text/plain": [
       "971264"
      ]
     },
     "execution_count": 7,
     "metadata": {},
     "output_type": "execute_result"
    }
   ],
   "source": [
    "dictionary.num_docs"
   ]
  },
  {
   "cell_type": "code",
   "execution_count": 8,
   "metadata": {},
   "outputs": [],
   "source": [
    "dictionary.filter_extremes(no_below=30, no_above=0.2)"
   ]
  },
  {
   "cell_type": "code",
   "execution_count": 9,
   "metadata": {},
   "outputs": [
    {
     "data": {
      "text/plain": [
       "49455"
      ]
     },
     "execution_count": 9,
     "metadata": {},
     "output_type": "execute_result"
    }
   ],
   "source": [
    "len(dictionary)"
   ]
  },
  {
   "cell_type": "code",
   "execution_count": 10,
   "metadata": {},
   "outputs": [],
   "source": [
    "corpus = [dictionary.doc2bow(doc) for doc in loaded_speeches]"
   ]
  },
  {
   "cell_type": "code",
   "execution_count": 11,
   "metadata": {},
   "outputs": [],
   "source": [
    "num_topics = 150"
   ]
  },
  {
   "cell_type": "code",
   "execution_count": 12,
   "metadata": {},
   "outputs": [],
   "source": [
    "lda_model = LdaMulticore(corpus=corpus, id2word=dictionary, iterations=50,\n",
    "                         num_topics=num_topics, workers=8, passes=15, random_state=20)"
   ]
  },
  {
   "cell_type": "code",
   "execution_count": 27,
   "metadata": {},
   "outputs": [
    {
     "data": {
      "text/plain": [
       "[(0,\n",
       "  '0.098*\"zusatzfrage\" + 0.072*\"antwort\" + 0.032*\"beantwortung\" + 0.031*\"bundesministerium\" + 0.031*\"geschäftsbereich\" + 0.026*\"anlage\" + 0.024*\"danke\" + 0.020*\"anfrage\" + 0.019*\"sitzung\" + 0.019*\"fragestunde\"'),\n",
       " (1,\n",
       "  '0.041*\"milliarde\" + 0.037*\"land\" + 0.030*\"haushalt\" + 0.028*\"million\" + 0.023*\"dm\" + 0.019*\"bund\" + 0.010*\"investition\" + 0.010*\"geld\" + 0.010*\"bereich\" + 0.009*\"entwicklung\"'),\n",
       " (2,\n",
       "  '0.015*\"debatte\" + 0.015*\"cdu\" + 0.013*\"haus\" + 0.013*\"regierung\" + 0.012*\"parlament\" + 0.012*\"partei\" + 0.011*\"bundestag\" + 0.011*\"rede\" + 0.010*\"spd\" + 0.010*\"präsident\"'),\n",
       " (3,\n",
       "  '0.059*\"kind\" + 0.058*\"frau\" + 0.029*\"familie\" + 0.016*\"bildung\" + 0.016*\"mensch\" + 0.014*\"eltern\" + 0.013*\"schule\" + 0.013*\"gesellschaft\" + 0.013*\"jugendliche\" + 0.010*\"mann\"'),\n",
       " (4,\n",
       "  '0.063*\"fraktion\" + 0.048*\"ausschuss\" + 0.040*\"beratung\" + 0.038*\"drucksache\" + 0.029*\"antrag\" + 0.028*\"beschlussempfehlung\" + 0.026*\"bündnis\" + 0.025*\"ausschuß\" + 0.021*\"grüne\" + 0.021*\"linke\"'),\n",
       " (5,\n",
       "  '0.020*\"energie\" + 0.014*\"deutschland\" + 0.012*\"klimaschutz\" + 0.011*\"unternehmen\" + 0.008*\"bereich\" + 0.008*\"wirtschaft\" + 0.008*\"ziel\" + 0.008*\"technologie\" + 0.007*\"arbeitsplatz\" + 0.007*\"industrie\"'),\n",
       " (6,\n",
       "  '0.012*\"verbraucher\" + 0.010*\"bereich\" + 0.009*\"forschung\" + 0.008*\"umwelt\" + 0.008*\"schutz\" + 0.008*\"mensch\" + 0.007*\"antrag\" + 0.007*\"maßnahme\" + 0.006*\"produkt\" + 0.006*\"verbraucherschutz\"'),\n",
       " (7,\n",
       "  '0.031*\"landwirtschaft\" + 0.018*\"betrieb\" + 0.013*\"landwirt\" + 0.012*\"maßnahme\" + 0.011*\"bauer\" + 0.011*\"markt\" + 0.011*\"preis\" + 0.008*\"raum\" + 0.007*\"verbraucher\" + 0.007*\"bundesbahn\"'),\n",
       " (8,\n",
       "  '0.034*\"mensch\" + 0.017*\"arzt\" + 0.014*\"patient\" + 0.013*\"versorgung\" + 0.013*\"pflege\" + 0.012*\"krankenhaus\" + 0.011*\"krankenversicherung\" + 0.010*\"krankenkasse\" + 0.010*\"leistung\" + 0.009*\"gesetz\"'),\n",
       " (9,\n",
       "  '0.030*\"mensch\" + 0.024*\"land\" + 0.017*\"deutschland\" + 0.010*\"flüchtling\" + 0.010*\"menschenrecht\" + 0.008*\"staat\" + 0.008*\"opfer\" + 0.007*\"türkei\" + 0.007*\"antrag\" + 0.007*\"demokratie\"'),\n",
       " (10,\n",
       "  '0.041*\"bundeswehr\" + 0.036*\"soldat\" + 0.029*\"einsatz\" + 0.016*\"afghanistan\" + 0.012*\"bitte\" + 0.012*\"sicherheit\" + 0.012*\"mandat\" + 0.009*\"streitkraft\" + 0.009*\"dienst\" + 0.007*\"nato\"'),\n",
       " (11,\n",
       "  '0.027*\"kommune\" + 0.025*\"land\" + 0.023*\"stadt\" + 0.019*\"bund\" + 0.017*\"berlin\" + 0.015*\"wohnung\" + 0.014*\"bundesland\" + 0.013*\"bahn\" + 0.013*\"gemeinde\" + 0.009*\"straße\"'),\n",
       " (12,\n",
       "  '0.200*\"frau\" + 0.054*\"zwischenfrage\" + 0.031*\"nachfrage\" + 0.024*\"redezeit\" + 0.014*\"zp\" + 0.012*\"kurzintervention\" + 0.012*\"präsidentin\" + 0.011*\"müller\" + 0.011*\"berlin\" + 0.011*\"minute\"'),\n",
       " (13,\n",
       "  '0.034*\"gesetz\" + 0.028*\"gesetzentwurf\" + 0.019*\"regelung\" + 0.016*\"fall\" + 0.012*\"verfahren\" + 0.009*\"entwurf\" + 0.009*\"entscheidung\" + 0.008*\"änderung\" + 0.008*\"land\" + 0.008*\"bundesverfassungsgericht\"'),\n",
       " (14,\n",
       "  '0.025*\"arbeit\" + 0.023*\"mensch\" + 0.020*\"unternehmen\" + 0.019*\"arbeitsplatz\" + 0.017*\"arbeitnehmer\" + 0.014*\"arbeitsmarkt\" + 0.013*\"betrieb\" + 0.012*\"beschäftigter\" + 0.012*\"zahl\" + 0.011*\"wirtschaft\"'),\n",
       " (15,\n",
       "  '0.074*\"antrag\" + 0.038*\"ausschuß\" + 0.031*\"gesetz\" + 0.021*\"bundestag\" + 0.020*\"haus\" + 0.018*\"punkt\" + 0.016*\"präsident\" + 0.013*\"beratung\" + 0.012*\"art\" + 0.012*\"fraktion\"'),\n",
       " (16,\n",
       "  '0.034*\"euro\" + 0.030*\"deutschland\" + 0.028*\"prozent\" + 0.020*\"antrag\" + 0.019*\"thema\" + 0.019*\"frau\" + 0.015*\"land\" + 0.015*\"mensch\" + 0.011*\"punkt\" + 0.011*\"union\"'),\n",
       " (17,\n",
       "  '0.031*\"europa\" + 0.023*\"deutschland\" + 0.017*\"staat\" + 0.011*\"bundesrepublik\" + 0.010*\"land\" + 0.010*\"politik\" + 0.010*\"ddr\" + 0.009*\"vertrag\" + 0.009*\"welt\" + 0.008*\"interesse\"'),\n",
       " (18,\n",
       "  '0.025*\"dm\" + 0.021*\"rente\" + 0.014*\"einkommen\" + 0.013*\"steuer\" + 0.012*\"rentenversicherung\" + 0.012*\"milliarde\" + 0.010*\"leistung\" + 0.010*\"höhe\" + 0.009*\"million\" + 0.009*\"beitrag\"'),\n",
       " (19,\n",
       "  '0.018*\"unternehmen\" + 0.012*\"bank\" + 0.010*\"information\" + 0.010*\"bereich\" + 0.009*\"zusammenarbeit\" + 0.008*\"fall\" + 0.008*\"aufgabe\" + 0.008*\"mitarbeiter\" + 0.007*\"entwicklungsland\" + 0.007*\"sport\"')]"
      ]
     },
     "execution_count": 27,
     "metadata": {},
     "output_type": "execute_result"
    }
   ],
   "source": [
    "lda_model.print_topics()"
   ]
  },
  {
   "cell_type": "markdown",
   "metadata": {},
   "source": [
    "# Coherence Model"
   ]
  },
  {
   "cell_type": "markdown",
   "metadata": {},
   "source": [
    "## CV Coherence Score"
   ]
  },
  {
   "cell_type": "code",
   "execution_count": null,
   "metadata": {},
   "outputs": [],
   "source": [
    "# between 0 and 1\n",
    "coherence_model_lda = CoherenceModel(model=lda_model, texts=loaded_speeches, dictionary=dictionary, coherence='c_v')\n",
    "coherence_lda = coherence_model_lda.get_coherence()\n",
    "print('Coherence Score: ', coherence_lda)"
   ]
  },
  {
   "cell_type": "markdown",
   "metadata": {},
   "source": [
    "## UMass Coherence Score"
   ]
  },
  {
   "cell_type": "code",
   "execution_count": null,
   "metadata": {},
   "outputs": [],
   "source": [
    "# between -14 and 14\n",
    "corpus_lda = lda_model[corpus]\n",
    "\n",
    "cm = CoherenceModel(model=lda_model, corpus=corpus_lda, dictionary=dictionary, coherence='u_mass')\n",
    "cm.get_coherence()"
   ]
  },
  {
   "cell_type": "markdown",
   "metadata": {},
   "source": [
    "# Visualization with pyLDAvis"
   ]
  },
  {
   "cell_type": "code",
   "execution_count": null,
   "metadata": {},
   "outputs": [],
   "source": [
    "#!pip install pyldavis\n",
    "import pyLDAvis\n",
    "import pyLDAvis.gensim_models\n",
    "import pyLDAvis.gensim"
   ]
  },
  {
   "cell_type": "code",
   "execution_count": null,
   "metadata": {},
   "outputs": [],
   "source": [
    "# create topic distance visualization \n",
    "pyLDAvis.enable_notebook()\n",
    "topic_vis = pyLDAvis.gensim.prepare(lda_model, corpus, dictionary)\n",
    "topic_vis"
   ]
  },
  {
   "cell_type": "code",
   "execution_count": null,
   "metadata": {},
   "outputs": [],
   "source": [
    "# save visualization to html file\n",
    "pyLDAvis.save_html(topic_vis, f\"pyLDAvis/lda_{num_topics}_topics.html\")"
   ]
  },
  {
   "cell_type": "markdown",
   "metadata": {},
   "source": [
    "# Save Topic Model"
   ]
  },
  {
   "cell_type": "code",
   "execution_count": null,
   "metadata": {},
   "outputs": [],
   "source": [
    "# save LDA model\n",
    "with open(f'models/lda_model_{num_topics}.pkl', 'wb') as f:\n",
    "    pickle.dump(lda_model, f)"
   ]
  },
  {
   "cell_type": "markdown",
   "metadata": {},
   "source": [
    "# Add Topic Distribution to Dataframe"
   ]
  },
  {
   "cell_type": "code",
   "execution_count": 35,
   "metadata": {},
   "outputs": [],
   "source": [
    "# load LDA model\n",
    "with open(f'models/lda_model_150.pkl', 'rb') as f:\n",
    "    loaded_lda_model = pickle.load(f)"
   ]
  },
  {
   "cell_type": "code",
   "execution_count": null,
   "metadata": {},
   "outputs": [],
   "source": [
    "# print topics for saving to text file (topics.txt)\n",
    "for i in range(0, loaded_lda_model.num_topics):\n",
    "    print(f\"Topic {i}: \" + loaded_lda_model.print_topic(i))"
   ]
  },
  {
   "cell_type": "code",
   "execution_count": 56,
   "metadata": {},
   "outputs": [],
   "source": [
    "# get topic distribution for every speech\n",
    "topic_distribution = loaded_lda_model.get_document_topics(corpus, minimum_probability=0.2) # threshold\n",
    "topics_list = [dict(distribution) for distribution in topic_distribution]"
   ]
  },
  {
   "cell_type": "code",
   "execution_count": 86,
   "metadata": {},
   "outputs": [],
   "source": [
    "\n",
    "# add topic distribution as new column\n",
    "df['topic_distribution'] = topics_list"
   ]
  },
  {
   "cell_type": "code",
   "execution_count": 171,
   "metadata": {},
   "outputs": [
    {
     "data": {
      "text/html": [
       "<div>\n",
       "<style scoped>\n",
       "    .dataframe tbody tr th:only-of-type {\n",
       "        vertical-align: middle;\n",
       "    }\n",
       "\n",
       "    .dataframe tbody tr th {\n",
       "        vertical-align: top;\n",
       "    }\n",
       "\n",
       "    .dataframe thead th {\n",
       "        text-align: right;\n",
       "    }\n",
       "</style>\n",
       "<table border=\"1\" class=\"dataframe\">\n",
       "  <thead>\n",
       "    <tr style=\"text-align: right;\">\n",
       "      <th></th>\n",
       "      <th>text</th>\n",
       "      <th>date</th>\n",
       "      <th>speaker_name</th>\n",
       "      <th>speaker_gender</th>\n",
       "      <th>speaker_role</th>\n",
       "      <th>speaker_party</th>\n",
       "      <th>comments</th>\n",
       "      <th>id</th>\n",
       "      <th>speaker_id</th>\n",
       "      <th>speech_length</th>\n",
       "      <th>topic_distribution</th>\n",
       "    </tr>\n",
       "  </thead>\n",
       "  <tbody>\n",
       "    <tr>\n",
       "      <th>0</th>\n",
       "      <td>Sehr geehrter Herr Alterspräsident! So muss ...</td>\n",
       "      <td>2021-10-26</td>\n",
       "      <td>Gabriele Katzmarek</td>\n",
       "      <td>female</td>\n",
       "      <td>None</td>\n",
       "      <td>SPD</td>\n",
       "      <td>[(Beifall bei der SPD sowie bei Abgeordneten d...</td>\n",
       "      <td>SP-2021-0</td>\n",
       "      <td>1299</td>\n",
       "      <td>2593</td>\n",
       "      <td>{68: 0.3588338}</td>\n",
       "    </tr>\n",
       "    <tr>\n",
       "      <th>1</th>\n",
       "      <td>Herr Präsident! Liebe Kolleginnen und Kolleg...</td>\n",
       "      <td>2021-10-26</td>\n",
       "      <td>Stefan Müller</td>\n",
       "      <td>male</td>\n",
       "      <td>None</td>\n",
       "      <td>CDU/CSU</td>\n",
       "      <td>[(Beifall bei der CDU/CSU sowie bei Abgeordnet...</td>\n",
       "      <td>SP-2021-1</td>\n",
       "      <td>4028</td>\n",
       "      <td>3796</td>\n",
       "      <td>{68: 0.46662897}</td>\n",
       "    </tr>\n",
       "    <tr>\n",
       "      <th>2</th>\n",
       "      <td>Sehr geehrter Herr Alterspräsident Wolfgang ...</td>\n",
       "      <td>2021-10-26</td>\n",
       "      <td>Britta Haßelmann</td>\n",
       "      <td>female</td>\n",
       "      <td>None</td>\n",
       "      <td>BÜNDNIS 90/DIE GRÜNEN</td>\n",
       "      <td>[(Beifall beim BÜNDNIS 90/DIE GRÜNEN und bei d...</td>\n",
       "      <td>SP-2021-2</td>\n",
       "      <td>451</td>\n",
       "      <td>4301</td>\n",
       "      <td>{68: 0.2632997}</td>\n",
       "    </tr>\n",
       "    <tr>\n",
       "      <th>3</th>\n",
       "      <td>Sehr geehrter Herr Präsident! Meine lieben K...</td>\n",
       "      <td>2021-10-26</td>\n",
       "      <td>Marco Buschmann</td>\n",
       "      <td>male</td>\n",
       "      <td>None</td>\n",
       "      <td>FDP</td>\n",
       "      <td>[(Jan Korte [DIE LINKE]: Oder Jugendweihe!), (...</td>\n",
       "      <td>SP-2021-3</td>\n",
       "      <td>3083</td>\n",
       "      <td>4555</td>\n",
       "      <td>{}</td>\n",
       "    </tr>\n",
       "    <tr>\n",
       "      <th>4</th>\n",
       "      <td>Herr Alterspräsident! Lassen Sie mich zunäch...</td>\n",
       "      <td>2021-10-26</td>\n",
       "      <td>Stephan Brandner</td>\n",
       "      <td>male</td>\n",
       "      <td>None</td>\n",
       "      <td>AfD</td>\n",
       "      <td>[(Beifall bei der AfD), (Beifall bei Abgeordne...</td>\n",
       "      <td>SP-2021-4</td>\n",
       "      <td>4055</td>\n",
       "      <td>5996</td>\n",
       "      <td>{68: 0.3100206}</td>\n",
       "    </tr>\n",
       "  </tbody>\n",
       "</table>\n",
       "</div>"
      ],
      "text/plain": [
       "                                                text       date  \\\n",
       "0    Sehr geehrter Herr Alterspräsident! So muss ... 2021-10-26   \n",
       "1    Herr Präsident! Liebe Kolleginnen und Kolleg... 2021-10-26   \n",
       "2    Sehr geehrter Herr Alterspräsident Wolfgang ... 2021-10-26   \n",
       "3    Sehr geehrter Herr Präsident! Meine lieben K... 2021-10-26   \n",
       "4    Herr Alterspräsident! Lassen Sie mich zunäch... 2021-10-26   \n",
       "\n",
       "         speaker_name speaker_gender speaker_role          speaker_party  \\\n",
       "0  Gabriele Katzmarek         female         None                    SPD   \n",
       "1       Stefan Müller           male         None                CDU/CSU   \n",
       "2    Britta Haßelmann         female         None  BÜNDNIS 90/DIE GRÜNEN   \n",
       "3     Marco Buschmann           male         None                    FDP   \n",
       "4    Stephan Brandner           male         None                    AfD   \n",
       "\n",
       "                                            comments         id  speaker_id  \\\n",
       "0  [(Beifall bei der SPD sowie bei Abgeordneten d...  SP-2021-0        1299   \n",
       "1  [(Beifall bei der CDU/CSU sowie bei Abgeordnet...  SP-2021-1        4028   \n",
       "2  [(Beifall beim BÜNDNIS 90/DIE GRÜNEN und bei d...  SP-2021-2         451   \n",
       "3  [(Jan Korte [DIE LINKE]: Oder Jugendweihe!), (...  SP-2021-3        3083   \n",
       "4  [(Beifall bei der AfD), (Beifall bei Abgeordne...  SP-2021-4        4055   \n",
       "\n",
       "   speech_length topic_distribution  \n",
       "0           2593    {68: 0.3588338}  \n",
       "1           3796   {68: 0.46662897}  \n",
       "2           4301    {68: 0.2632997}  \n",
       "3           4555                 {}  \n",
       "4           5996    {68: 0.3100206}  "
      ]
     },
     "execution_count": 171,
     "metadata": {},
     "output_type": "execute_result"
    }
   ],
   "source": [
    "df.head()"
   ]
  },
  {
   "cell_type": "code",
   "execution_count": null,
   "metadata": {},
   "outputs": [],
   "source": [
    "# save new dataframe containing topics\n",
    "df.to_pickle('data_topics.pkl')"
   ]
  }
 ],
 "metadata": {
  "kernelspec": {
   "display_name": "Python 3",
   "language": "python",
   "name": "python3"
  },
  "language_info": {
   "codemirror_mode": {
    "name": "ipython",
    "version": 3
   },
   "file_extension": ".py",
   "mimetype": "text/x-python",
   "name": "python",
   "nbconvert_exporter": "python",
   "pygments_lexer": "ipython3",
   "version": "3.11.4"
  },
  "orig_nbformat": 4
 },
 "nbformat": 4,
 "nbformat_minor": 2
}
