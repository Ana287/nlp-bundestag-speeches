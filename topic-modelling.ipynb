{
 "cells": [
  {
   "cell_type": "markdown",
   "metadata": {},
   "source": [
    "# Data Pre-Processing"
   ]
  },
  {
   "cell_type": "code",
   "execution_count": 1,
   "metadata": {},
   "outputs": [],
   "source": [
    "import spacy\n",
    "import pandas as pd\n",
    "from tqdm.notebook import tqdm"
   ]
  },
  {
   "cell_type": "code",
   "execution_count": 2,
   "metadata": {},
   "outputs": [
    {
     "name": "stdout",
     "output_type": "stream",
     "text": [
      "<class 'pandas.core.frame.DataFrame'>\n",
      "Index: 971264 entries, 0 to 971279\n",
      "Data columns (total 11 columns):\n",
      " #   Column              Non-Null Count   Dtype         \n",
      "---  ------              --------------   -----         \n",
      " 0   text                971264 non-null  object        \n",
      " 1   date                971264 non-null  datetime64[ns]\n",
      " 2   legislative_period  971264 non-null  object        \n",
      " 3   speaker_name        971264 non-null  object        \n",
      " 4   speaker_gender      971264 non-null  object        \n",
      " 5   speaker_role        884850 non-null  object        \n",
      " 6   speaker_party       969563 non-null  object        \n",
      " 7   comments            971264 non-null  object        \n",
      " 8   id                  971264 non-null  object        \n",
      " 9   speaker_id          971264 non-null  int64         \n",
      " 10  speech_length       971264 non-null  int64         \n",
      "dtypes: datetime64[ns](1), int64(2), object(8)\n",
      "memory usage: 88.9+ MB\n"
     ]
    }
   ],
   "source": [
    "df = pd.read_pickle('data_merged_revised.pkl')\n",
    "df.info()"
   ]
  },
  {
   "cell_type": "code",
   "execution_count": null,
   "metadata": {},
   "outputs": [],
   "source": [
    "#!python -m spacy download de_core_news_sm # downloaded successfully"
   ]
  },
  {
   "cell_type": "code",
   "execution_count": 17,
   "metadata": {},
   "outputs": [
    {
     "data": {
      "text/plain": [
       "  Sehr geehrter Herr Alterspräsident! So muss ich es jetzt sagen, genau; ich muss mich daran gewöhnen. Nicht lange.  Nicht lange; da haben Sie schon recht. – Liebe Kolleginnen und Kollegen! Meine sehr geehrten Damen und Herren! Die Übernahme der Geschäftsordnung ist eine der ersten wichtigen Entscheidungen, die wir heute zu Beginn der Wahlperiode treffen müssen. Die Geschäftsordnung ist Grundlage für unsere gemeinsame Arbeit. Sie hat sich über viele Wahlperioden bewährt und wird uns auch durch die neue Wahlperiode tragen. Es ist gute Tradition, dass wir die Geschäftsordnung am Anfang einer Wahlperiode mit breiter parlamentarischer Mehrheit übernehmen, und das sollten wir auch heute tun. Sie ist nicht in Stein gemeißelt – das wissen diejenigen, die bereits in der letzten Wahlperiode hier im Bundestag tätig waren –, sondern die Geschäftsordnung ist immer ein, ich sage mal, lebendiges Dokument, das sich den Gegebenheiten des Parlamentarismus, aber auch den Gegebenheiten der Arbeit hier im Deutschen Bundestag anpassen muss. Das muss eine Geschäftsordnung dann auch immer wieder in ihrer Entwicklung nachvollziehen. Wir haben dieses bereits in der letzten Wahlperiode bewiesen und einige grundlegende Änderungen beschlossen, vor allem und vorangestellt die überfällige Reform der Verhaltensregeln. Wir begrüßen auch ausdrücklich die Initiative des scheidenden Präsidenten Herrn Schäuble, die Geschäftsordnung in dieser Wahlperiode einer Generalüberholung zu unterziehen. Wir sind gerne bereit, diese Impulse aufzunehmen, und laden auch alle anderen Fraktionen dazu ein, diesen Weg mit uns gemeinsam zu gehen. Die Vorschläge der Opposition sind ernst zu nehmen. Wir möchten sie aufgreifen und möchten gemeinsam mit Ihnen darüber diskutieren, wie eine Geschäftsordnung überarbeitet werden und in der nächsten Zeit auch wirken kann. Wir plädieren allerdings auch dafür, dass wir die in der letzten Legislaturperiode eingeführten Regelungen für das digitale Tagen von Ausschüssen – vorerst zeitlich möglichst kurz – beibehalten; das können Sie auch unserem Antrag entnehmen. Und wir plädieren dafür, das eingeführte coronabedingte Absenken der Quoren, das notwendig war für die Beschlussfähigkeit des Deutschen Bundestages, in die neue Geschäftsordnung nicht mehr aufzunehmen. Ich bitte, wir bitten Sie um Zustimmung zum vorliegenden Antrag zur Weitergeltung der Geschäftsordnung, damit wir in der erforderlichen Zeit, die wir dann haben, die notwendigen Änderungen gemeinsam diskutieren und hier verabschieden können. Herzlichen Dank. Stefan Müller, CDU/CSU, hat als Nächster das Wort."
      ]
     },
     "execution_count": 17,
     "metadata": {},
     "output_type": "execute_result"
    }
   ],
   "source": [
    "nlp = spacy.load('de_core_news_sm') \n",
    "doc = nlp(df.text[0])\n",
    "doc"
   ]
  },
  {
   "cell_type": "code",
   "execution_count": 21,
   "metadata": {},
   "outputs": [
    {
     "data": {
      "text/plain": [
       "'alterspräsident übernahme geschäftsordnung entscheidung beginn wahlperiode geschäftsordnung grundlage arbeit wahlperiode wahlperiode tradition geschäftsordnung anfang wahlperiode mehrheit stein wahlperiode bundestag geschäftsordnung dokument gegebenheit parlamentarismus gegebenheit arbeit bundestag geschäftsordnung entwicklung wahlperiode änderung reform verhaltensregeln initiative präsident geschäftsordnung wahlperiode generalüberholung impuls fraktion weg vorschlag opposition geschäftsordnung legislaturperiode regelung ausschuß antrag absenken quor beschlussfähigkeit bundestag geschäftsordnung zustimmung antrag weitergeltung geschäftsordnung änderung nächster wort'"
      ]
     },
     "execution_count": 21,
     "metadata": {},
     "output_type": "execute_result"
    }
   ],
   "source": [
    "def keep_token(token):\n",
    "    include_pos = ['NOUN', 'PROPN']\n",
    "    exclude_tokens = ['kollege', 'kollegin', 'abgeordneter', 'redner', 'rednerin', 'staatssekretär', 'staatssekretärin', 'minister', 'ministerin', 'bundesminister', 'dame', 'herr']\n",
    "\n",
    "    if token.is_alpha and token.ent_type_ != 'PER' and token.pos_ in include_pos and not (token.is_stop or token.lemma_.lower() in exclude_tokens):\n",
    "       return True\n",
    "    return False"
   ]
  },
  {
   "cell_type": "code",
   "execution_count": 22,
   "metadata": {},
   "outputs": [
    {
     "data": {
      "application/vnd.jupyter.widget-view+json": {
       "model_id": "c427c414117b41df84b7138f95554049",
       "version_major": 2,
       "version_minor": 0
      },
      "text/plain": [
       "0it [00:00, ?it/s]"
      ]
     },
     "metadata": {},
     "output_type": "display_data"
    }
   ],
   "source": [
    "speeches_processed = []\n",
    "\n",
    "for speech in tqdm(nlp.pipe(df.text, n_process=6, batch_size=64)):\n",
    "    tokens = [token.lemma_.lower() for token in speech if keep_token(token)]\n",
    "    speeches_processed.append(tokens)"
   ]
  },
  {
   "cell_type": "code",
   "execution_count": 23,
   "metadata": {},
   "outputs": [
    {
     "data": {
      "text/plain": [
       "971264"
      ]
     },
     "execution_count": 23,
     "metadata": {},
     "output_type": "execute_result"
    }
   ],
   "source": [
    "len(speeches_processed)"
   ]
  },
  {
   "cell_type": "markdown",
   "metadata": {},
   "source": [
    "## Save & load processed speeches"
   ]
  },
  {
   "cell_type": "code",
   "execution_count": 5,
   "metadata": {},
   "outputs": [],
   "source": [
    "import pickle"
   ]
  },
  {
   "cell_type": "code",
   "execution_count": 9,
   "metadata": {},
   "outputs": [],
   "source": [
    "# save processed speeches to a file\n",
    "#with open('speeches_processed.pkl', 'wb') as f:\n",
    " #  pickle.dump(speeches_processed, f)\n",
    "\n",
    "# load speeches_processed\n",
    "with open('speeches_processed.pkl', 'rb') as f:\n",
    "   loaded_speeches = pickle.load(f)"
   ]
  },
  {
   "cell_type": "code",
   "execution_count": 10,
   "metadata": {},
   "outputs": [
    {
     "data": {
      "text/plain": [
       "971264"
      ]
     },
     "execution_count": 10,
     "metadata": {},
     "output_type": "execute_result"
    }
   ],
   "source": [
    "len(loaded_speeches)"
   ]
  },
  {
   "cell_type": "markdown",
   "metadata": {},
   "source": [
    "# Topic Modelling"
   ]
  },
  {
   "cell_type": "code",
   "execution_count": null,
   "metadata": {},
   "outputs": [],
   "source": [
    "#!pip install gensim"
   ]
  },
  {
   "cell_type": "code",
   "execution_count": 3,
   "metadata": {},
   "outputs": [],
   "source": [
    "from gensim.corpora.dictionary import Dictionary\n",
    "from gensim.models import LdaMulticore\n",
    "from gensim.models import CoherenceModel"
   ]
  },
  {
   "cell_type": "code",
   "execution_count": 11,
   "metadata": {},
   "outputs": [],
   "source": [
    "dictionary = Dictionary(loaded_speeches)"
   ]
  },
  {
   "cell_type": "code",
   "execution_count": 12,
   "metadata": {},
   "outputs": [
    {
     "data": {
      "text/plain": [
       "971264"
      ]
     },
     "execution_count": 12,
     "metadata": {},
     "output_type": "execute_result"
    }
   ],
   "source": [
    "dictionary.num_docs"
   ]
  },
  {
   "cell_type": "code",
   "execution_count": 13,
   "metadata": {},
   "outputs": [],
   "source": [
    "dictionary.filter_extremes(no_below=30, no_above=0.2) #TODO?"
   ]
  },
  {
   "cell_type": "code",
   "execution_count": 14,
   "metadata": {},
   "outputs": [
    {
     "data": {
      "text/plain": [
       "49455"
      ]
     },
     "execution_count": 14,
     "metadata": {},
     "output_type": "execute_result"
    }
   ],
   "source": [
    "len(dictionary)"
   ]
  },
  {
   "cell_type": "code",
   "execution_count": 15,
   "metadata": {},
   "outputs": [],
   "source": [
    "corpus = [dictionary.doc2bow(doc) for doc in loaded_speeches]"
   ]
  },
  {
   "cell_type": "code",
   "execution_count": 186,
   "metadata": {},
   "outputs": [],
   "source": [
    "num_topics = 150"
   ]
  },
  {
   "cell_type": "code",
   "execution_count": 12,
   "metadata": {},
   "outputs": [],
   "source": [
    "lda_model = LdaMulticore(corpus=corpus, id2word=dictionary, iterations=50,\n",
    "                         num_topics=num_topics, workers=8, passes=15, random_state=20)"
   ]
  },
  {
   "cell_type": "code",
   "execution_count": 27,
   "metadata": {},
   "outputs": [
    {
     "data": {
      "text/plain": [
       "[(0,\n",
       "  '0.098*\"zusatzfrage\" + 0.072*\"antwort\" + 0.032*\"beantwortung\" + 0.031*\"bundesministerium\" + 0.031*\"geschäftsbereich\" + 0.026*\"anlage\" + 0.024*\"danke\" + 0.020*\"anfrage\" + 0.019*\"sitzung\" + 0.019*\"fragestunde\"'),\n",
       " (1,\n",
       "  '0.041*\"milliarde\" + 0.037*\"land\" + 0.030*\"haushalt\" + 0.028*\"million\" + 0.023*\"dm\" + 0.019*\"bund\" + 0.010*\"investition\" + 0.010*\"geld\" + 0.010*\"bereich\" + 0.009*\"entwicklung\"'),\n",
       " (2,\n",
       "  '0.015*\"debatte\" + 0.015*\"cdu\" + 0.013*\"haus\" + 0.013*\"regierung\" + 0.012*\"parlament\" + 0.012*\"partei\" + 0.011*\"bundestag\" + 0.011*\"rede\" + 0.010*\"spd\" + 0.010*\"präsident\"'),\n",
       " (3,\n",
       "  '0.059*\"kind\" + 0.058*\"frau\" + 0.029*\"familie\" + 0.016*\"bildung\" + 0.016*\"mensch\" + 0.014*\"eltern\" + 0.013*\"schule\" + 0.013*\"gesellschaft\" + 0.013*\"jugendliche\" + 0.010*\"mann\"'),\n",
       " (4,\n",
       "  '0.063*\"fraktion\" + 0.048*\"ausschuss\" + 0.040*\"beratung\" + 0.038*\"drucksache\" + 0.029*\"antrag\" + 0.028*\"beschlussempfehlung\" + 0.026*\"bündnis\" + 0.025*\"ausschuß\" + 0.021*\"grüne\" + 0.021*\"linke\"'),\n",
       " (5,\n",
       "  '0.020*\"energie\" + 0.014*\"deutschland\" + 0.012*\"klimaschutz\" + 0.011*\"unternehmen\" + 0.008*\"bereich\" + 0.008*\"wirtschaft\" + 0.008*\"ziel\" + 0.008*\"technologie\" + 0.007*\"arbeitsplatz\" + 0.007*\"industrie\"'),\n",
       " (6,\n",
       "  '0.012*\"verbraucher\" + 0.010*\"bereich\" + 0.009*\"forschung\" + 0.008*\"umwelt\" + 0.008*\"schutz\" + 0.008*\"mensch\" + 0.007*\"antrag\" + 0.007*\"maßnahme\" + 0.006*\"produkt\" + 0.006*\"verbraucherschutz\"'),\n",
       " (7,\n",
       "  '0.031*\"landwirtschaft\" + 0.018*\"betrieb\" + 0.013*\"landwirt\" + 0.012*\"maßnahme\" + 0.011*\"bauer\" + 0.011*\"markt\" + 0.011*\"preis\" + 0.008*\"raum\" + 0.007*\"verbraucher\" + 0.007*\"bundesbahn\"'),\n",
       " (8,\n",
       "  '0.034*\"mensch\" + 0.017*\"arzt\" + 0.014*\"patient\" + 0.013*\"versorgung\" + 0.013*\"pflege\" + 0.012*\"krankenhaus\" + 0.011*\"krankenversicherung\" + 0.010*\"krankenkasse\" + 0.010*\"leistung\" + 0.009*\"gesetz\"'),\n",
       " (9,\n",
       "  '0.030*\"mensch\" + 0.024*\"land\" + 0.017*\"deutschland\" + 0.010*\"flüchtling\" + 0.010*\"menschenrecht\" + 0.008*\"staat\" + 0.008*\"opfer\" + 0.007*\"türkei\" + 0.007*\"antrag\" + 0.007*\"demokratie\"'),\n",
       " (10,\n",
       "  '0.041*\"bundeswehr\" + 0.036*\"soldat\" + 0.029*\"einsatz\" + 0.016*\"afghanistan\" + 0.012*\"bitte\" + 0.012*\"sicherheit\" + 0.012*\"mandat\" + 0.009*\"streitkraft\" + 0.009*\"dienst\" + 0.007*\"nato\"'),\n",
       " (11,\n",
       "  '0.027*\"kommune\" + 0.025*\"land\" + 0.023*\"stadt\" + 0.019*\"bund\" + 0.017*\"berlin\" + 0.015*\"wohnung\" + 0.014*\"bundesland\" + 0.013*\"bahn\" + 0.013*\"gemeinde\" + 0.009*\"straße\"'),\n",
       " (12,\n",
       "  '0.200*\"frau\" + 0.054*\"zwischenfrage\" + 0.031*\"nachfrage\" + 0.024*\"redezeit\" + 0.014*\"zp\" + 0.012*\"kurzintervention\" + 0.012*\"präsidentin\" + 0.011*\"müller\" + 0.011*\"berlin\" + 0.011*\"minute\"'),\n",
       " (13,\n",
       "  '0.034*\"gesetz\" + 0.028*\"gesetzentwurf\" + 0.019*\"regelung\" + 0.016*\"fall\" + 0.012*\"verfahren\" + 0.009*\"entwurf\" + 0.009*\"entscheidung\" + 0.008*\"änderung\" + 0.008*\"land\" + 0.008*\"bundesverfassungsgericht\"'),\n",
       " (14,\n",
       "  '0.025*\"arbeit\" + 0.023*\"mensch\" + 0.020*\"unternehmen\" + 0.019*\"arbeitsplatz\" + 0.017*\"arbeitnehmer\" + 0.014*\"arbeitsmarkt\" + 0.013*\"betrieb\" + 0.012*\"beschäftigter\" + 0.012*\"zahl\" + 0.011*\"wirtschaft\"'),\n",
       " (15,\n",
       "  '0.074*\"antrag\" + 0.038*\"ausschuß\" + 0.031*\"gesetz\" + 0.021*\"bundestag\" + 0.020*\"haus\" + 0.018*\"punkt\" + 0.016*\"präsident\" + 0.013*\"beratung\" + 0.012*\"art\" + 0.012*\"fraktion\"'),\n",
       " (16,\n",
       "  '0.034*\"euro\" + 0.030*\"deutschland\" + 0.028*\"prozent\" + 0.020*\"antrag\" + 0.019*\"thema\" + 0.019*\"frau\" + 0.015*\"land\" + 0.015*\"mensch\" + 0.011*\"punkt\" + 0.011*\"union\"'),\n",
       " (17,\n",
       "  '0.031*\"europa\" + 0.023*\"deutschland\" + 0.017*\"staat\" + 0.011*\"bundesrepublik\" + 0.010*\"land\" + 0.010*\"politik\" + 0.010*\"ddr\" + 0.009*\"vertrag\" + 0.009*\"welt\" + 0.008*\"interesse\"'),\n",
       " (18,\n",
       "  '0.025*\"dm\" + 0.021*\"rente\" + 0.014*\"einkommen\" + 0.013*\"steuer\" + 0.012*\"rentenversicherung\" + 0.012*\"milliarde\" + 0.010*\"leistung\" + 0.010*\"höhe\" + 0.009*\"million\" + 0.009*\"beitrag\"'),\n",
       " (19,\n",
       "  '0.018*\"unternehmen\" + 0.012*\"bank\" + 0.010*\"information\" + 0.010*\"bereich\" + 0.009*\"zusammenarbeit\" + 0.008*\"fall\" + 0.008*\"aufgabe\" + 0.008*\"mitarbeiter\" + 0.007*\"entwicklungsland\" + 0.007*\"sport\"')]"
      ]
     },
     "execution_count": 27,
     "metadata": {},
     "output_type": "execute_result"
    }
   ],
   "source": [
    "lda_model.print_topics()"
   ]
  },
  {
   "cell_type": "markdown",
   "metadata": {},
   "source": [
    "# Coherence Model"
   ]
  },
  {
   "cell_type": "markdown",
   "metadata": {},
   "source": [
    "## CV Coherence Score"
   ]
  },
  {
   "cell_type": "code",
   "execution_count": null,
   "metadata": {},
   "outputs": [],
   "source": [
    "# between 0 and 1\n",
    "coherence_model_lda = CoherenceModel(model=lda_model, texts=loaded_speeches, dictionary=dictionary, coherence='c_v')\n",
    "coherence_lda = coherence_model_lda.get_coherence()\n",
    "print('Coherence Score: ', coherence_lda)"
   ]
  },
  {
   "cell_type": "markdown",
   "metadata": {},
   "source": [
    "## UMass Coherence Score"
   ]
  },
  {
   "cell_type": "code",
   "execution_count": null,
   "metadata": {},
   "outputs": [],
   "source": [
    "# between -14 and 14\n",
    "corpus_lda = lda_model[corpus]\n",
    "\n",
    "cm = CoherenceModel(model=lda_model, corpus=corpus_lda, dictionary=dictionary, coherence='u_mass')\n",
    "cm.get_coherence()"
   ]
  },
  {
   "cell_type": "markdown",
   "metadata": {},
   "source": [
    "# Visualization with pyLDAvis"
   ]
  },
  {
   "cell_type": "code",
   "execution_count": null,
   "metadata": {},
   "outputs": [],
   "source": [
    "#!pip install pyldavis\n",
    "import pyLDAvis\n",
    "import pyLDAvis.gensim_models\n",
    "import pyLDAvis.gensim"
   ]
  },
  {
   "cell_type": "code",
   "execution_count": null,
   "metadata": {},
   "outputs": [],
   "source": [
    "# create topic distance visualization \n",
    "pyLDAvis.enable_notebook()\n",
    "topic_vis = pyLDAvis.gensim.prepare(lda_model, corpus, dictionary)\n",
    "topic_vis"
   ]
  },
  {
   "cell_type": "code",
   "execution_count": null,
   "metadata": {},
   "outputs": [],
   "source": [
    "# save visualization to html file\n",
    "pyLDAvis.save_html(topic_vis, f\"pyLDAvis/lda_{num_topics}_topics.html\")"
   ]
  },
  {
   "cell_type": "markdown",
   "metadata": {},
   "source": [
    "# Save Topic Model"
   ]
  },
  {
   "cell_type": "code",
   "execution_count": 17,
   "metadata": {},
   "outputs": [],
   "source": [
    "# save LDA model\n",
    "with open(f'models/lda_model_{num_topics}.pkl', 'wb') as f:\n",
    "    pickle.dump(lda_model, f)\n",
    "\n",
    "# save corpus\n",
    "with open(f'models/corpus.pkl', 'wb') as f:\n",
    "    pickle.dump(corpus, f)"
   ]
  },
  {
   "cell_type": "markdown",
   "metadata": {},
   "source": [
    "# Add Topic Distribution to Dataframe"
   ]
  },
  {
   "cell_type": "code",
   "execution_count": 5,
   "metadata": {},
   "outputs": [],
   "source": [
    "# load LDA model\n",
    "with open(f'models/lda_model_150.pkl', 'rb') as f:\n",
    "    loaded_lda_model = pickle.load(f)"
   ]
  },
  {
   "cell_type": "code",
   "execution_count": 6,
   "metadata": {},
   "outputs": [
    {
     "name": "stdout",
     "output_type": "stream",
     "text": [
      "Topic 0: 0.036*\"studie\" + 0.031*\"risiko\" + 0.029*\"mensch\" + 0.024*\"gesundheit\" + 0.023*\"krankheit\" + 0.021*\"maßnahme\" + 0.018*\"gefahr\" + 0.016*\"pandemie\" + 0.015*\"untersuchung\" + 0.015*\"prävention\"\n",
      "Topic 1: 0.121*\"wert\" + 0.085*\"anspruch\" + 0.077*\"zweck\" + 0.037*\"zahlung\" + 0.033*\"grundstück\" + 0.027*\"fall\" + 0.025*\"absprache\" + 0.023*\"enteignung\" + 0.021*\"inanspruchnahme\" + 0.017*\"abwicklung\"\n",
      "Topic 2: 0.040*\"opfer\" + 0.029*\"fall\" + 0.028*\"straftat\" + 0.027*\"täter\" + 0.025*\"gewalt\" + 0.020*\"strafe\" + 0.018*\"strafrecht\" + 0.015*\"schutz\" + 0.013*\"verbrechen\" + 0.013*\"strafgesetzbuch\"\n",
      "Topic 3: 0.147*\"europa\" + 0.066*\"union\" + 0.031*\"deutschland\" + 0.020*\"mitgliedstaat\" + 0.020*\"eu\" + 0.017*\"land\" + 0.014*\"ebene\" + 0.014*\"parlament\" + 0.013*\"brüssel\" + 0.010*\"weg\"\n",
      "Topic 4: 0.125*\"modell\" + 0.084*\"münchen\" + 0.066*\"wasser\" + 0.064*\"stoff\" + 0.052*\"verwendung\" + 0.051*\"luft\" + 0.050*\"wirkung\" + 0.026*\"gefährdung\" + 0.019*\"leitlinie\" + 0.018*\"trinkwasser\"\n",
      "Topic 5: 0.086*\"sorge\" + 0.073*\"vater\" + 0.065*\"mutter\" + 0.027*\"lebensjahr\" + 0.026*\"gott\" + 0.021*\"geburt\" + 0.020*\"tochter\" + 0.015*\"junge\" + 0.014*\"altersgrenze\" + 0.014*\"adoption\"\n",
      "Topic 6: 0.070*\"politik\" + 0.050*\"regierung\" + 0.022*\"land\" + 0.015*\"geld\" + 0.015*\"koalition\" + 0.014*\"wahrheit\" + 0.013*\"problem\" + 0.012*\"leute\" + 0.010*\"vorschlag\" + 0.009*\"mensch\"\n",
      "Topic 7: 0.116*\"landwirtschaft\" + 0.049*\"landwirt\" + 0.043*\"betrieb\" + 0.040*\"bauer\" + 0.023*\"agrarpolitik\" + 0.013*\"ernährung\" + 0.012*\"preis\" + 0.010*\"raum\" + 0.010*\"produktion\" + 0.010*\"markt\"\n",
      "Topic 8: 0.037*\"bereich\" + 0.030*\"entwicklung\" + 0.022*\"zukunft\" + 0.018*\"ziel\" + 0.018*\"reform\" + 0.015*\"aufgabe\" + 0.015*\"konzept\" + 0.014*\"weg\" + 0.012*\"veränderung\" + 0.012*\"schritt\"\n",
      "Topic 9: 0.067*\"sicherheit\" + 0.040*\"polizei\" + 0.018*\"verfassungsschutz\" + 0.018*\"bekämpfung\" + 0.018*\"innenminister\" + 0.017*\"land\" + 0.016*\"terrorismus\" + 0.015*\"kriminalität\" + 0.015*\"bereich\" + 0.015*\"sicherheitsbehörde\"\n",
      "Topic 10: 0.663*\"zusatzfrage\" + 0.300*\"bitte\" + 0.004*\"informant\" + 0.004*\"ott\" + 0.003*\"mommer\" + 0.003*\"binder\" + 0.002*\"dürr\" + 0.002*\"präsident\" + 0.002*\"möglichkeit\" + 0.002*\"heydt\"\n",
      "Topic 11: 0.038*\"angelika\" + 0.033*\"röttg\" + 0.027*\"rüdiger\" + 0.027*\"mindestlöhne\" + 0.024*\"telekommunikation\" + 0.024*\"meister\" + 0.022*\"kai\" + 0.021*\"spandau\" + 0.019*\"cannabis\" + 0.019*\"renate\"\n",
      "Topic 12: 0.302*\"deutschland\" + 0.201*\"bundesrepublik\" + 0.113*\"ddr\" + 0.015*\"einheit\" + 0.011*\"sed\" + 0.011*\"staat\" + 0.009*\"wiedervereinigung\" + 0.007*\"mauer\" + 0.007*\"deutsche\" + 0.006*\"teil\"\n",
      "Topic 13: 0.116*\"stadt\" + 0.081*\"raum\" + 0.055*\"ort\" + 0.035*\"gemeinde\" + 0.032*\"region\" + 0.031*\"bau\" + 0.026*\"planung\" + 0.013*\"ausschreibung\" + 0.013*\"landkreis\" + 0.013*\"gebäude\"\n",
      "Topic 14: 0.049*\"jugendliche\" + 0.027*\"gesellschaft\" + 0.021*\"angebot\" + 0.017*\"chance\" + 0.014*\"engagement\" + 0.014*\"programm\" + 0.012*\"maßnahme\" + 0.011*\"generation\" + 0.009*\"kind\" + 0.009*\"förderung\"\n",
      "Topic 15: 0.062*\"schriftführerin\" + 0.047*\"karin\" + 0.047*\"heidelberg\" + 0.047*\"sabine\" + 0.041*\"eichel\" + 0.039*\"kerstin\" + 0.038*\"müntefering\" + 0.033*\"scharping\" + 0.025*\"steinbrück\" + 0.021*\"patent\"\n",
      "Topic 16: 0.330*\"monat\" + 0.056*\"dauer\" + 0.037*\"new\" + 0.033*\"zivildienst\" + 0.032*\"gewissen\" + 0.029*\"york\" + 0.017*\"verschiebung\" + 0.015*\"aussetzung\" + 0.014*\"stammzelle\" + 0.013*\"woche\"\n",
      "Topic 17: 0.111*\"empfehlung\" + 0.099*\"stellungnahme\" + 0.079*\"mai\" + 0.039*\"veranstaltung\" + 0.034*\"versammlung\" + 0.034*\"veröffentlichung\" + 0.030*\"termin\" + 0.025*\"europarat\" + 0.024*\"teilnehmer\" + 0.020*\"treffen\"\n",
      "Topic 18: 0.561*\"arbeit\" + 0.044*\"bundesanstalt\" + 0.036*\"bundesagentur\" + 0.032*\"sgb\" + 0.027*\"soziale\" + 0.023*\"sozialordnung\" + 0.022*\"arbeitslosengeld\" + 0.018*\"sozialgesetzbuch\" + 0.009*\"buch\" + 0.007*\"jugendschutz\"\n",
      "Topic 19: 0.132*\"person\" + 0.085*\"heimat\" + 0.072*\"polen\" + 0.052*\"deutsche\" + 0.040*\"flüchtling\" + 0.032*\"bundesamt\" + 0.029*\"aufnahme\" + 0.026*\"vertriebener\" + 0.022*\"vertreibung\" + 0.016*\"flucht\"\n",
      "Topic 20: 0.129*\"verlängerung\" + 0.114*\"frist\" + 0.064*\"ablauf\" + 0.036*\"quote\" + 0.035*\"erlaubnis\" + 0.026*\"bgb\" + 0.021*\"prämie\" + 0.019*\"verjährung\" + 0.014*\"bgh\" + 0.013*\"regelfall\"\n",
      "Topic 21: 0.103*\"schäuble\" + 0.035*\"vogler\" + 0.032*\"test\" + 0.030*\"vogt\" + 0.026*\"abwesenheit\" + 0.021*\"salzgitter\" + 0.020*\"landesbank\" + 0.020*\"brinkhaus\" + 0.020*\"lüdenscheid\" + 0.018*\"lutze\"\n",
      "Topic 22: 0.043*\"ehmke\" + 0.038*\"dach\" + 0.038*\"arbeitszeitverkürzung\" + 0.034*\"tarifpartei\" + 0.034*\"konkretisierung\" + 0.027*\"wagner\" + 0.027*\"gesamtpaket\" + 0.024*\"brück\" + 0.022*\"härtefall\" + 0.017*\"verschiebebahnhof\"\n",
      "Topic 23: 0.103*\"anwendung\" + 0.067*\"zulassung\" + 0.055*\"grenzwert\" + 0.030*\"pflanze\" + 0.029*\"pflanzenschutzmittel\" + 0.026*\"wolf\" + 0.021*\"glyphosat\" + 0.020*\"einsatz\" + 0.016*\"schaf\" + 0.015*\"methode\"\n",
      "Topic 24: 0.108*\"zahl\" + 0.074*\"arbeitsplatz\" + 0.074*\"arbeitsmarkt\" + 0.059*\"arbeitslosigkeit\" + 0.047*\"arbeitslose\" + 0.045*\"beschäftigung\" + 0.022*\"million\" + 0.021*\"arbeitsmarktpolitik\" + 0.017*\"statistik\" + 0.016*\"arbeit\"\n",
      "Topic 25: 0.049*\"arzt\" + 0.043*\"patient\" + 0.040*\"versorgung\" + 0.040*\"pflege\" + 0.035*\"krankenhaus\" + 0.024*\"gesundheitswesen\" + 0.020*\"pflegeversicherung\" + 0.015*\"krankenkasse\" + 0.015*\"system\" + 0.013*\"bereich\"\n",
      "Topic 26: 0.059*\"ziel\" + 0.026*\"umweltschutz\" + 0.021*\"umwelt\" + 0.020*\"nachhaltigkeit\" + 0.019*\"maßnahme\" + 0.018*\"auto\" + 0.017*\"industrie\" + 0.017*\"umweltpolitik\" + 0.014*\"instrument\" + 0.012*\"weg\"\n",
      "Topic 27: 0.087*\"entscheidung\" + 0.070*\"bundesverfassungsgericht\" + 0.068*\"verfahren\" + 0.054*\"urteil\" + 0.040*\"gericht\" + 0.027*\"fall\" + 0.019*\"richter\" + 0.017*\"rechtsprechung\" + 0.013*\"gesetzgeber\" + 0.012*\"justiz\"\n",
      "Topic 28: 0.086*\"sport\" + 0.085*\"verband\" + 0.071*\"zp\" + 0.064*\"initiative\" + 0.061*\"verein\" + 0.045*\"jugend\" + 0.042*\"bundesministerin\" + 0.028*\"spiel\" + 0.025*\"träger\" + 0.015*\"organisation\"\n",
      "Topic 29: 0.070*\"thema\" + 0.037*\"punkt\" + 0.032*\"problem\" + 0.028*\"frau\" + 0.027*\"debatte\" + 0.020*\"weg\" + 0.020*\"stelle\" + 0.019*\"diskussion\" + 0.016*\"bereich\" + 0.014*\"vorschlag\"\n",
      "Topic 30: 0.037*\"wachstum\" + 0.034*\"investition\" + 0.029*\"wirtschaft\" + 0.016*\"entwicklung\" + 0.015*\"krise\" + 0.015*\"milliarde\" + 0.014*\"wirtschaftspolitik\" + 0.013*\"staat\" + 0.012*\"bundesbank\" + 0.012*\"zins\"\n",
      "Topic 31: 0.157*\"liste\" + 0.035*\"augsburg\" + 0.031*\"bochum\" + 0.029*\"weide\" + 0.025*\"peter\" + 0.024*\"frank\" + 0.023*\"meyer\" + 0.022*\"duisburg\" + 0.019*\"hoppe\" + 0.019*\"wesel\"\n",
      "Topic 32: 0.160*\"kultur\" + 0.049*\"werk\" + 0.039*\"künstler\" + 0.039*\"kunst\" + 0.034*\"kulturpolitik\" + 0.027*\"staatsministerin\" + 0.024*\"urheberrecht\" + 0.023*\"museum\" + 0.020*\"erbe\" + 0.016*\"pfennig\"\n",
      "Topic 33: 0.237*\"euro\" + 0.100*\"milliarde\" + 0.085*\"million\" + 0.075*\"geld\" + 0.020*\"höhe\" + 0.017*\"verfügung\" + 0.012*\"deutschland\" + 0.011*\"haushalt\" + 0.010*\"frau\" + 0.008*\"kosten\"\n",
      "Topic 34: 0.085*\"leyen\" + 0.046*\"carsten\" + 0.043*\"bundeskanzlerin\" + 0.040*\"teilzeit\" + 0.032*\"bnd\" + 0.031*\"teilzeitarbeit\" + 0.025*\"minijob\" + 0.022*\"fusion\" + 0.018*\"härtefallregelung\" + 0.017*\"vollzeit\"\n",
      "Topic 35: 0.036*\"konzentration\" + 0.032*\"rhein\" + 0.030*\"kramme\" + 0.024*\"fracking\" + 0.024*\"vorkehrung\" + 0.023*\"verringerung\" + 0.023*\"verursacher\" + 0.022*\"chemikalie\" + 0.021*\"gewässer\" + 0.016*\"zivildienstleistend\"\n",
      "Topic 36: 0.040*\"opposition\" + 0.036*\"bundeskanzler\" + 0.021*\"debatte\" + 0.021*\"regierung\" + 0.017*\"punkt\" + 0.017*\"haus\" + 0.016*\"sache\" + 0.015*\"rede\" + 0.013*\"diskussion\" + 0.012*\"fraktion\"\n",
      "Topic 37: 0.134*\"bundeswehr\" + 0.098*\"soldat\" + 0.025*\"einsatz\" + 0.019*\"streitkraft\" + 0.014*\"soldatin\" + 0.014*\"soldatinn\" + 0.013*\"truppe\" + 0.011*\"wehrpflicht\" + 0.011*\"wehrbeauftragte\" + 0.011*\"dienst\"\n",
      "Topic 38: 0.130*\"leistung\" + 0.091*\"beitrag\" + 0.081*\"krankenversicherung\" + 0.068*\"kosten\" + 0.048*\"versicherter\" + 0.043*\"krankenkasse\" + 0.036*\"kasse\" + 0.029*\"selbstverwaltung\" + 0.020*\"versicherung\" + 0.018*\"sozialversicherung\"\n",
      "Topic 39: 0.155*\"griechenland\" + 0.090*\"ökosteuer\" + 0.059*\"versprechen\" + 0.025*\"atalanta\" + 0.024*\"presseerklärung\" + 0.023*\"aussiedler\" + 0.013*\"spätaussiedler\" + 0.012*\"hochschulbau\" + 0.012*\"pirat\" + 0.012*\"girokonto\"\n",
      "Topic 40: 0.318*\"prozent\" + 0.127*\"deutschland\" + 0.042*\"zahl\" + 0.031*\"anteil\" + 0.018*\"vergleich\" + 0.015*\"land\" + 0.011*\"fakt\" + 0.010*\"drittel\" + 0.009*\"hälfte\" + 0.008*\"ziel\"\n",
      "Topic 41: 0.112*\"menschenrecht\" + 0.026*\"dialog\" + 0.020*\"staat\" + 0.019*\"menschenrechtsverletzung\" + 0.018*\"regierung\" + 0.013*\"konvention\" + 0.012*\"nation\" + 0.012*\"protest\" + 0.012*\"forderung\" + 0.011*\"folter\"\n",
      "Topic 42: 0.062*\"deutschland\" + 0.055*\"flüchtling\" + 0.035*\"land\" + 0.031*\"integration\" + 0.023*\"ausländer\" + 0.019*\"mensch\" + 0.016*\"migration\" + 0.015*\"zuwanderung\" + 0.015*\"asylbewerber\" + 0.011*\"zahl\"\n",
      "Topic 43: 0.474*\"grünen\" + 0.050*\"j\" + 0.039*\"bündnisses\" + 0.026*\"spd\" + 0.023*\"volker\" + 0.017*\"abstimmungsverhalten\" + 0.017*\"plauen\" + 0.015*\"ulm\" + 0.013*\"debattenbeitrag\" + 0.011*\"neuss\"\n",
      "Topic 44: 0.168*\"papier\" + 0.159*\"kriterium\" + 0.076*\"standort\" + 0.040*\"schließung\" + 0.033*\"endlager\" + 0.031*\"abfall\" + 0.026*\"genscher\" + 0.025*\"asse\" + 0.021*\"absichtserklärung\" + 0.013*\"generalsekretär\"\n",
      "Topic 45: 0.034*\"fuchs\" + 0.026*\"tragen\" + 0.024*\"familienlastenausgleich\" + 0.024*\"haar\" + 0.022*\"fell\" + 0.020*\"meldepflicht\" + 0.020*\"bogen\" + 0.019*\"kwk\" + 0.019*\"bundestagsdrucksach\" + 0.018*\"maske\"\n",
      "Topic 46: 0.140*\"bildung\" + 0.090*\"schule\" + 0.035*\"land\" + 0.030*\"schüler\" + 0.026*\"sprache\" + 0.021*\"lehrer\" + 0.021*\"bildungspolitik\" + 0.015*\"weiterbildung\" + 0.013*\"bildungssystem\" + 0.013*\"ausbildung\"\n",
      "Topic 47: 0.171*\"dienst\" + 0.109*\"beamter\" + 0.053*\"tätigkeit\" + 0.031*\"angestellter\" + 0.021*\"angehörige\" + 0.016*\"arbeiter\" + 0.015*\"bewerber\" + 0.012*\"regelung\" + 0.012*\"beamtinn\" + 0.011*\"gehalt\"\n",
      "Topic 48: 0.188*\"sitzung\" + 0.111*\"schluss\" + 0.066*\"tagesordnung\" + 0.064*\"bundestag\" + 0.044*\"freitag\" + 0.042*\"arzneimittel\" + 0.032*\"mittwoch\" + 0.024*\"montag\" + 0.023*\"donnerstag\" + 0.020*\"abend\"\n",
      "Topic 49: 0.098*\"boden\" + 0.091*\"fläche\" + 0.064*\"auflage\" + 0.047*\"db\" + 0.042*\"verkauf\" + 0.032*\"werbung\" + 0.031*\"agentur\" + 0.028*\"hektar\" + 0.025*\"kinderarbeit\" + 0.021*\"bäuerinn\"\n",
      "Topic 50: 0.171*\"bundesministerium\" + 0.133*\"danke\" + 0.115*\"beantwortung\" + 0.111*\"geschäftsbereich\" + 0.081*\"verfügung\" + 0.067*\"fragestunde\" + 0.045*\"innere\" + 0.032*\"finanz\" + 0.031*\"saal\" + 0.021*\"stimmkarte\"\n",
      "Topic 51: 0.339*\"afd\" + 0.060*\"aktionsplan\" + 0.021*\"energiekonzept\" + 0.021*\"brandner\" + 0.016*\"schwabe\" + 0.015*\"dröge\" + 0.014*\"schwartze\" + 0.012*\"fremdenverkehr\" + 0.012*\"könig\" + 0.011*\"eisleben\"\n",
      "Topic 52: 0.189*\"ausschuss\" + 0.118*\"fraktion\" + 0.098*\"beschlussempfehlung\" + 0.087*\"linke\" + 0.035*\"antrag\" + 0.027*\"fdp\" + 0.021*\"stimme\" + 0.019*\"sammelübersicht\" + 0.016*\"titel\" + 0.016*\"verbraucherschutz\"\n",
      "Topic 53: 0.161*\"unternehmen\" + 0.040*\"bank\" + 0.033*\"wettbewerb\" + 0.031*\"wirtschaft\" + 0.023*\"mittelstand\" + 0.021*\"deutschland\" + 0.019*\"markt\" + 0.016*\"arbeitsplatz\" + 0.011*\"unternehmer\" + 0.011*\"gewinn\"\n",
      "Topic 54: 0.097*\"klimaschutz\" + 0.034*\"klimawandel\" + 0.024*\"co\" + 0.023*\"emissionshandel\" + 0.022*\"trittin\" + 0.019*\"klima\" + 0.017*\"standard\" + 0.017*\"ceta\" + 0.014*\"selbstverpflichtung\" + 0.013*\"eu\"\n",
      "Topic 55: 0.078*\"tourismus\" + 0.066*\"reise\" + 0.066*\"gast\" + 0.053*\"branche\" + 0.038*\"kohl\" + 0.025*\"urlaub\" + 0.021*\"bürgerinitiative\" + 0.020*\"besucher\" + 0.017*\"hotel\" + 0.016*\"wachstumsrate\"\n",
      "Topic 56: 0.185*\"ausschuß\" + 0.067*\"beratung\" + 0.064*\"punkt\" + 0.050*\"gesetz\" + 0.043*\"berichterstatter\" + 0.037*\"bericht\" + 0.033*\"tagesordnung\" + 0.027*\"entwurf\" + 0.024*\"sitzung\" + 0.018*\"haus\"\n",
      "Topic 57: 0.064*\"nato\" + 0.062*\"waffe\" + 0.032*\"abrüstung\" + 0.027*\"sicherheit\" + 0.017*\"bündnis\" + 0.017*\"atomwaffe\" + 0.017*\"usa\" + 0.015*\"sicherheitspolitik\" + 0.015*\"amerikaner\" + 0.013*\"pakt\"\n",
      "Topic 58: 0.094*\"hamburg\" + 0.087*\"ergebnis\" + 0.060*\"köln\" + 0.049*\"bremen\" + 0.044*\"de\" + 0.027*\"frankfurt\" + 0.027*\"düsseldorf\" + 0.026*\"schmidt\" + 0.022*\"aachen\" + 0.021*\"spd\"\n",
      "Topic 59: 0.131*\"verwaltung\" + 0.129*\"bemerkung\" + 0.073*\"bundesrechnungshof\" + 0.064*\"zuständigkeit\" + 0.023*\"föderalismusreform\" + 0.017*\"rechnungshof\" + 0.016*\"bundesbehörde\" + 0.011*\"wirtschaftlichkeit\" + 0.010*\"präsident\" + 0.009*\"prüfung\"\n",
      "Topic 60: 0.114*\"beratung\" + 0.103*\"drucksache\" + 0.063*\"tagesordnungspunkt\" + 0.060*\"ausschuß\" + 0.058*\"aussprache\" + 0.053*\"fraktion\" + 0.050*\"drucksach\" + 0.040*\"antrag\" + 0.034*\"gesetzentwurf\" + 0.031*\"überweisung\"\n",
      "Topic 61: 0.020*\"grund\" + 0.017*\"bestimmung\" + 0.016*\"auffassung\" + 0.016*\"ausschuß\" + 0.016*\"gesetz\" + 0.014*\"gesichtspunkt\" + 0.013*\"bedenken\" + 0.013*\"grundsatz\" + 0.012*\"möglichkeit\" + 0.012*\"regelung\"\n",
      "Topic 62: 0.092*\"wissenschaftler\" + 0.081*\"fischer\" + 0.038*\"evaluierung\" + 0.026*\"evaluation\" + 0.019*\"fisch\" + 0.014*\"energieforschung\" + 0.013*\"qualitätssicherung\" + 0.013*\"fischerei\" + 0.013*\"wissenschaftlerin\" + 0.012*\"stipendi\"\n",
      "Topic 63: 0.031*\"vorgang\" + 0.026*\"fall\" + 0.026*\"vorwurf\" + 0.021*\"sachverhalt\" + 0.019*\"aufklärung\" + 0.019*\"unterlage\" + 0.019*\"brief\" + 0.017*\"untersuchungsausschuß\" + 0.016*\"behauptung\" + 0.016*\"öffentlichkeit\"\n",
      "Topic 64: 0.036*\"vorbemerkung\" + 0.030*\"isaf\" + 0.022*\"anhänger\" + 0.021*\"großprojekt\" + 0.017*\"fahrrad\" + 0.017*\"anbindung\" + 0.014*\"governance\" + 0.013*\"mitwirkungsrecht\" + 0.013*\"glaube\" + 0.013*\"radverkehr\"\n",
      "Topic 65: 0.233*\"bayern\" + 0.048*\"meer\" + 0.035*\"see\" + 0.033*\"freistaat\" + 0.032*\"kabinettssitzung\" + 0.029*\"küste\" + 0.027*\"ostsee\" + 0.025*\"nordsee\" + 0.022*\"erwiderung\" + 0.021*\"liegenschaft\"\n",
      "Topic 66: 0.299*\"zwischenfrage\" + 0.184*\"nachfrage\" + 0.076*\"müller\" + 0.030*\"vogel\" + 0.022*\"schäfer\" + 0.021*\"nürnberg\" + 0.021*\"hannover\" + 0.018*\"wiesbaden\" + 0.016*\"mainz\" + 0.015*\"stuttgart\"\n",
      "Topic 67: 0.096*\"wohnung\" + 0.049*\"mieter\" + 0.039*\"miete\" + 0.025*\"wohnraum\" + 0.022*\"wohnen\" + 0.019*\"wohnungsbau\" + 0.018*\"vermieter\" + 0.014*\"mieterinn\" + 0.013*\"wohnungsmarkt\" + 0.013*\"mietrecht\"\n",
      "Topic 68: 0.160*\"bundestag\" + 0.116*\"parlament\" + 0.069*\"mitglied\" + 0.049*\"haus\" + 0.045*\"fraktion\" + 0.045*\"wahl\" + 0.023*\"mehrheit\" + 0.019*\"name\" + 0.018*\"präsident\" + 0.018*\"gremium\"\n",
      "Topic 69: 0.149*\"gesetz\" + 0.113*\"gesetzentwurf\" + 0.052*\"regelung\" + 0.034*\"entwurf\" + 0.030*\"änderung\" + 0.029*\"bundesrat\" + 0.016*\"beratung\" + 0.014*\"anhörung\" + 0.012*\"bundestag\" + 0.009*\"zustimmung\"\n",
      "Topic 70: 0.095*\"essen\" + 0.040*\"emmending\" + 0.037*\"van\" + 0.033*\"of\" + 0.032*\"wiederholung\" + 0.031*\"--\" + 0.023*\"kelber\" + 0.020*\"geschenk\" + 0.016*\"and\" + 0.016*\"kopp\"\n",
      "Topic 71: 0.122*\"ausbildung\" + 0.076*\"betrieb\" + 0.046*\"beruf\" + 0.040*\"handwerk\" + 0.038*\"ausbildungsplatz\" + 0.036*\"leute\" + 0.027*\"wirtschaft\" + 0.020*\"berufsausbildung\" + 0.017*\"qualifikation\" + 0.015*\"auszubildender\"\n",
      "Topic 72: 0.084*\"deutschland\" + 0.078*\"frankreich\" + 0.059*\"usa\" + 0.056*\"land\" + 0.042*\"großbritannien\" + 0.037*\"tier\" + 0.031*\"schweiz\" + 0.027*\"italien\" + 0.026*\"österreich\" + 0.025*\"staat\"\n",
      "Topic 73: 0.475*\"antwort\" + 0.125*\"anlage\" + 0.111*\"anfrage\" + 0.041*\"wunsch\" + 0.025*\"prüfung\" + 0.019*\"firma\" + 0.013*\"fragesteller\" + 0.008*\"untersuchung\" + 0.008*\"broschüre\" + 0.007*\"ergebnis\"\n",
      "Topic 74: 0.105*\"verbraucher\" + 0.052*\"produkt\" + 0.039*\"verbraucherschutz\" + 0.037*\"markt\" + 0.034*\"verbraucherin\" + 0.025*\"lebensmittel\" + 0.018*\"handel\" + 0.017*\"kunde\" + 0.014*\"anbieter\" + 0.014*\"hersteller\"\n",
      "Topic 75: 0.049*\"differenzierung\" + 0.045*\"roth\" + 0.038*\"erfindung\" + 0.025*\"existenzgründer\" + 0.024*\"deregulierung\" + 0.024*\"existenzgründung\" + 0.023*\"zuwanderungsgesetz\" + 0.020*\"entbürokratisierung\" + 0.020*\"ausschussberatung\" + 0.015*\"öffnungsklausel\"\n",
      "Topic 76: 0.092*\"vermögen\" + 0.084*\"privatisierung\" + 0.078*\"eigentum\" + 0.028*\"rung\" + 0.021*\"bundeszentrale\" + 0.018*\"verbindlichkeit\" + 0.015*\"maas\" + 0.015*\"gläubiger\" + 0.014*\"schuldner\" + 0.013*\"uhl\"\n",
      "Topic 77: 0.053*\"ding\" + 0.034*\"volk\" + 0.022*\"haus\" + 0.016*\"ausführung\" + 0.016*\"freund\" + 0.015*\"regierung\" + 0.014*\"seite\" + 0.012*\"meinung\" + 0.011*\"standpunkt\" + 0.009*\"gedanke\"\n",
      "Topic 78: 0.339*\"aufgabe\" + 0.063*\"personal\" + 0.059*\"stelle\" + 0.047*\"grenze\" + 0.016*\"zoll\" + 0.015*\"ausstattung\" + 0.014*\"funktion\" + 0.014*\"bundesgrenzschutz\" + 0.014*\"erfüllung\" + 0.011*\"organisation\"\n",
      "Topic 79: 0.052*\"straße\" + 0.046*\"verkehr\" + 0.041*\"projekt\" + 0.031*\"schiene\" + 0.031*\"infrastruktur\" + 0.027*\"ausbau\" + 0.024*\"strecke\" + 0.021*\"fahrzeug\" + 0.019*\"mobilität\" + 0.019*\"bahn\"\n",
      "Topic 80: 0.325*\"land\" + 0.157*\"bund\" + 0.094*\"kommune\" + 0.031*\"gemeinde\" + 0.017*\"verantwortung\" + 0.010*\"aufgabe\" + 0.009*\"bundesland\" + 0.008*\"bundesrat\" + 0.007*\"finanzierung\" + 0.007*\"kosten\"\n",
      "Topic 81: 0.064*\"steuer\" + 0.028*\"einkommen\" + 0.026*\"entlastung\" + 0.023*\"steuerreform\" + 0.021*\"erhöhung\" + 0.017*\"besteuerung\" + 0.016*\"belastung\" + 0.015*\"vorschlag\" + 0.014*\"senkung\" + 0.012*\"mehrwertsteuer\"\n",
      "Topic 82: 0.041*\"schaden\" + 0.038*\"fall\" + 0.029*\"angabe\" + 0.026*\"vorschrift\" + 0.024*\"einzelfall\" + 0.023*\"maßnahme\" + 0.021*\"meldung\" + 0.020*\"regel\" + 0.018*\"unfall\" + 0.016*\"überprüfung\"\n",
      "Topic 83: 0.037*\"mensch\" + 0.020*\"geschichte\" + 0.018*\"demokratie\" + 0.015*\"land\" + 0.013*\"opfer\" + 0.012*\"gesellschaft\" + 0.011*\"leben\" + 0.010*\"deutschland\" + 0.010*\"verantwortung\" + 0.009*\"freiheit\"\n",
      "Topic 84: 0.138*\"china\" + 0.036*\"westerwelle\" + 0.034*\"indien\" + 0.026*\"japan\" + 0.025*\"usa\" + 0.021*\"transrapid\" + 0.012*\"intelligenz\" + 0.012*\"sicherheitsstandard\" + 0.011*\"chinese\" + 0.010*\"volksrepublik\"\n",
      "Topic 85: 0.145*\"abstimmung\" + 0.107*\"enthaltung\" + 0.096*\"stimme\" + 0.060*\"änderungsantrag\" + 0.043*\"handzeichen\" + 0.041*\"entschließungsantrag\" + 0.037*\"gegenprobe\" + 0.036*\"drucksache\" + 0.034*\"fraktion\" + 0.023*\"gesetzentwurf\"\n",
      "Topic 86: 0.067*\"gebiet\" + 0.054*\"maßnahme\" + 0.030*\"problem\" + 0.019*\"schwierigkeit\" + 0.016*\"entwicklung\" + 0.014*\"wirtschaft\" + 0.014*\"bundesrepublik\" + 0.014*\"zahl\" + 0.010*\"lage\" + 0.010*\"möglichkeit\"\n",
      "Topic 87: 0.141*\"wald\" + 0.062*\"schwarzarbeit\" + 0.058*\"baum\" + 0.040*\"fragesteller\" + 0.038*\"bundesnachrichtendienst\" + 0.036*\"holz\" + 0.029*\"weiss\" + 0.028*\"beauftragter\" + 0.027*\"wegner\" + 0.027*\"ramsauer\"\n",
      "Topic 88: 0.118*\"hochschule\" + 0.083*\"studierend\" + 0.072*\"bafög\" + 0.064*\"student\" + 0.058*\"studium\" + 0.050*\"universität\" + 0.049*\"novelle\" + 0.026*\"zimmermann\" + 0.022*\"struck\" + 0.015*\"ausbildungsförderung\"\n",
      "Topic 89: 0.157*\"schutz\" + 0.068*\"umwelt\" + 0.059*\"natur\" + 0.051*\"naturschutz\" + 0.026*\"vielfalt\" + 0.019*\"mehrwertsteuererhöhung\" + 0.016*\"studiengebühr\" + 0.016*\"erhaltung\" + 0.016*\"erhalt\" + 0.015*\"nutzung\"\n",
      "Topic 90: 0.058*\"schön\" + 0.035*\"chemnitz\" + 0.029*\"linke\" + 0.026*\"erfurt\" + 0.026*\"mark\" + 0.025*\"heil\" + 0.024*\"potsdam\" + 0.024*\"runde\" + 0.023*\"care\" + 0.021*\"lay\"\n",
      "Topic 91: 0.259*\"professor\" + 0.110*\"schröder\" + 0.042*\"korruption\" + 0.029*\"steinmeier\" + 0.029*\"gutachter\" + 0.015*\"pferd\" + 0.015*\"simbabwe\" + 0.009*\"volkswagen\" + 0.008*\"schlange\" + 0.008*\"verleihung\"\n",
      "Topic 92: 0.066*\"finanzminister\" + 0.057*\"bundesfinanzminister\" + 0.036*\"steuerzahler\" + 0.034*\"steuerhinterziehung\" + 0.030*\"konto\" + 0.029*\"bundesfinanzministerium\" + 0.027*\"finanzministerium\" + 0.019*\"jahressteuergesetz\" + 0.017*\"koch\" + 0.015*\"finanzverwaltung\"\n",
      "Topic 93: 0.032*\"verbraucherpolitik\" + 0.030*\"arbeitsgemeinschaft\" + 0.028*\"manipulation\" + 0.026*\"vw\" + 0.021*\"nachsicht\" + 0.019*\"informationspflicht\" + 0.017*\"zuständigkeitsbereich\" + 0.016*\"verbraucherzentral\" + 0.016*\"gaststätte\" + 0.016*\"image\"\n",
      "Topic 94: 0.165*\"bundesland\" + 0.053*\"osten\" + 0.045*\"ost\" + 0.042*\"einheit\" + 0.039*\"ostdeutschland\" + 0.035*\"region\" + 0.027*\"westen\" + 0.026*\"land\" + 0.025*\"west\" + 0.025*\"aufbau\"\n",
      "Topic 95: 0.157*\"kommission\" + 0.105*\"vorschlag\" + 0.102*\"verordnung\" + 0.100*\"richtlinie\" + 0.093*\"rat\" + 0.026*\"mitgliedstaat\" + 0.026*\"ewg\" + 0.026*\"gemeinschaft\" + 0.019*\"vorlage\" + 0.019*\"änderung\"\n",
      "Topic 96: 0.121*\"auffassung\" + 0.100*\"meinung\" + 0.074*\"zusammenhang\" + 0.064*\"kenntnis\" + 0.061*\"aussage\" + 0.048*\"staatsminister\" + 0.037*\"äußerung\" + 0.020*\"ausdruck\" + 0.020*\"überlegung\" + 0.016*\"haltung\"\n",
      "Topic 97: 0.045*\"einsatz\" + 0.032*\"türkei\" + 0.024*\"nation\" + 0.024*\"mandat\" + 0.016*\"region\" + 0.015*\"konflikt\" + 0.012*\"mission\" + 0.012*\"soldat\" + 0.012*\"syrien\" + 0.011*\"regierung\"\n",
      "Topic 98: 0.047*\"bürokratie\" + 0.036*\"umweltminister\" + 0.030*\"bürokratieabbau\" + 0.023*\"gorleben\" + 0.021*\"abbau\" + 0.021*\"moratorium\" + 0.019*\"elbe\" + 0.017*\"wasser\" + 0.017*\"erde\" + 0.014*\"vollzug\"\n",
      "Topic 99: 0.371*\"mensch\" + 0.024*\"leben\" + 0.021*\"gesellschaft\" + 0.015*\"land\" + 0.014*\"armut\" + 0.012*\"leistung\" + 0.011*\"sozialhilfe\" + 0.010*\"million\" + 0.009*\"chance\" + 0.009*\"angst\"\n",
      "Topic 100: 0.250*\"stunde\" + 0.051*\"arbeitszeit\" + 0.044*\"bilanz\" + 0.026*\"verkürzung\" + 0.021*\"flexibilität\" + 0.020*\"ungleichgewicht\" + 0.019*\"überstunde\" + 0.019*\"aufsichtsbehörde\" + 0.017*\"kompensation\" + 0.016*\"zuschlag\"\n",
      "Topic 101: 0.062*\"preis\" + 0.047*\"industrie\" + 0.031*\"subvention\" + 0.029*\"kohle\" + 0.028*\"bundeswirtschaftsminister\" + 0.023*\"wirtschaftsminister\" + 0.018*\"arbeitsplatz\" + 0.018*\"tonne\" + 0.014*\"bergbau\" + 0.014*\"stahl\"\n",
      "Topic 102: 0.255*\"spd\" + 0.132*\"fdp\" + 0.116*\"partei\" + 0.068*\"cdu\" + 0.051*\"csu\" + 0.025*\"sozialdemokrat\" + 0.014*\"wähler\" + 0.012*\"wahlkampf\" + 0.011*\"union\" + 0.009*\"wählerin\"\n",
      "Topic 103: 0.095*\"datum\" + 0.083*\"information\" + 0.040*\"internet\" + 0.038*\"behörde\" + 0.031*\"digitalisierung\" + 0.028*\"datenschutz\" + 0.016*\"zugang\" + 0.014*\"netz\" + 0.011*\"bereich\" + 0.011*\"nutzer\"\n",
      "Topic 104: 0.192*\"verbesserung\" + 0.083*\"schiff\" + 0.056*\"anpassung\" + 0.038*\"hafen\" + 0.024*\"umstellung\" + 0.021*\"aufregung\" + 0.019*\"flagge\" + 0.017*\"reeder\" + 0.017*\"betreuer\" + 0.014*\"empfänger\"\n",
      "Topic 105: 0.134*\"beteiligung\" + 0.091*\"gesellschaft\" + 0.053*\"aufsichtsrat\" + 0.041*\"vorstand\" + 0.031*\"gmbh\" + 0.028*\"einfluß\" + 0.025*\"haftung\" + 0.018*\"aktiengesellschaft\" + 0.017*\"aktie\" + 0.017*\"aktionär\"\n",
      "Topic 106: 0.056*\"kopf\" + 0.048*\"corona\" + 0.039*\"herbst\" + 0.034*\"coronakrise\" + 0.032*\"gerster\" + 0.018*\"lockdown\" + 0.016*\"scheuer\" + 0.015*\"tragweite\" + 0.014*\"franke\" + 0.013*\"news\"\n",
      "Topic 107: 0.105*\"jahr\" + 0.067*\"januar\" + 0.057*\"dezember\" + 0.056*\"märz\" + 0.055*\"juni\" + 0.050*\"oktober\" + 0.046*\"november\" + 0.046*\"april\" + 0.042*\"september\" + 0.041*\"februar\"\n",
      "Topic 108: 0.131*\"petition\" + 0.079*\"petitionsausschuss\" + 0.052*\"entschädigung\" + 0.035*\"anliegen\" + 0.020*\"unrecht\" + 0.020*\"fall\" + 0.018*\"petent\" + 0.017*\"beschwerde\" + 0.016*\"bundestag\" + 0.016*\"opfer\"\n",
      "Topic 109: 0.102*\"minderheit\" + 0.081*\"frankfurt\" + 0.061*\"sitz\" + 0.040*\"freiwilligendienst\" + 0.039*\"antragsteller\" + 0.038*\"bad\" + 0.022*\"verteidigungsausschusse\" + 0.020*\"unterausschuss\" + 0.017*\"bewerbung\" + 0.016*\"zahnersatz\"\n",
      "Topic 110: 0.132*\"ministerpräsident\" + 0.097*\"landesregierung\" + 0.091*\"land\" + 0.081*\"niedersachsen\" + 0.060*\"hessen\" + 0.039*\"landtag\" + 0.024*\"bayern\" + 0.020*\"bayer\" + 0.016*\"bundesebene\" + 0.016*\"volksentscheid\"\n",
      "Topic 111: 0.673*\"antrag\" + 0.031*\"fraktion\" + 0.026*\"satz\" + 0.020*\"begründung\" + 0.018*\"präsident\" + 0.018*\"hand\" + 0.015*\"ziffer\" + 0.011*\"mehrheit\" + 0.009*\"umdruck\" + 0.008*\"antragsteller\"\n",
      "Topic 112: 0.176*\"betroffener\" + 0.127*\"einrichtung\" + 0.104*\"behinderung\" + 0.032*\"diskriminierung\" + 0.032*\"behinderter\" + 0.018*\"betreuung\" + 0.016*\"werkstatt\" + 0.015*\"rehabilitation\" + 0.013*\"eingliederungshilfe\" + 0.013*\"inklusion\"\n",
      "Topic 113: 0.078*\"grundgesetz\" + 0.066*\"art\" + 0.057*\"staat\" + 0.038*\"verfassung\" + 0.032*\"freiheit\" + 0.027*\"demokratie\" + 0.016*\"grundrecht\" + 0.016*\"begriff\" + 0.015*\"artikel\" + 0.014*\"ordnung\"\n",
      "Topic 114: 0.148*\"bericht\" + 0.078*\"ministerium\" + 0.072*\"mitarbeiter\" + 0.028*\"öffentlichkeit\" + 0.026*\"mitarbeiterin\" + 0.020*\"haus\" + 0.019*\"kritik\" + 0.019*\"eindruck\" + 0.017*\"ressort\" + 0.017*\"kabinett\"\n",
      "Topic 115: 0.668*\"frau\" + 0.059*\"präsidentin\" + 0.051*\"mann\" + 0.021*\"ehe\" + 0.011*\"gleichstellung\" + 0.008*\"mädchen\" + 0.007*\"gleichberechtigung\" + 0.006*\"geschlecht\" + 0.005*\"liebe\" + 0.005*\"diskriminierung\"\n",
      "Topic 116: 0.083*\"arbeitnehmer\" + 0.043*\"beschäftigter\" + 0.041*\"gewerkschaft\" + 0.041*\"arbeitgeber\" + 0.028*\"betrieb\" + 0.026*\"lohn\" + 0.024*\"arbeitnehmerin\" + 0.024*\"mindestlohn\" + 0.016*\"tarifvertrag\" + 0.014*\"betriebsrat\"\n",
      "Topic 117: 0.119*\"bundesaußenminister\" + 0.046*\"band\" + 0.022*\"fragezeichen\" + 0.020*\"lockerung\" + 0.019*\"tourist\" + 0.019*\"offenlegung\" + 0.018*\"pause\" + 0.018*\"umgehung\" + 0.017*\"interessenlage\" + 0.017*\"vorstoß\"\n",
      "Topic 118: 0.062*\"land\" + 0.051*\"welt\" + 0.034*\"zusammenarbeit\" + 0.033*\"entwicklungsland\" + 0.028*\"afrika\" + 0.026*\"entwicklung\" + 0.022*\"entwicklungszusammenarbeit\" + 0.019*\"entwicklungspolitik\" + 0.011*\"entwicklungshilfe\" + 0.011*\"armut\"\n",
      "Topic 119: 0.203*\"hilfe\" + 0.047*\"organisation\" + 0.047*\"kirche\" + 0.025*\"unterstützung\" + 0.018*\"christ\" + 0.017*\"rom\" + 0.017*\"religionsfreiheit\" + 0.017*\"katastrophe\" + 0.016*\"religion\" + 0.016*\"not\"\n",
      "Topic 120: 0.169*\"cdu\" + 0.104*\"debatte\" + 0.082*\"rede\" + 0.079*\"redezeit\" + 0.064*\"minute\" + 0.042*\"präsident\" + 0.025*\"protokoll\" + 0.024*\"augenblick\" + 0.022*\"erklärung\" + 0.022*\"moment\"\n",
      "Topic 121: 0.132*\"kurzintervention\" + 0.040*\"scholz\" + 0.035*\"esm\" + 0.034*\"einzelhandel\" + 0.018*\"umweltbelastung\" + 0.018*\"iwf\" + 0.017*\"rettungsschirm\" + 0.016*\"entschuldung\" + 0.014*\"innenstadt\" + 0.014*\"ressortabstimmung\"\n",
      "Topic 122: 0.173*\"erkenntnis\" + 0.131*\"hinweis\" + 0.087*\"auskunft\" + 0.042*\"aktion\" + 0.029*\"pressemitteilung\" + 0.027*\"vermutung\" + 0.022*\"öffentlichkeitsarbeit\" + 0.021*\"ermittlung\" + 0.020*\"backnang\" + 0.018*\"quelle\"\n",
      "Topic 123: 0.163*\"überweisungsvorschlag\" + 0.122*\"wirtschaft\" + 0.056*\"ernährung\" + 0.054*\"jugend\" + 0.053*\"familie\" + 0.052*\"gesundheit\" + 0.045*\"senior\" + 0.045*\"landwirtschaft\" + 0.042*\"frau\" + 0.029*\"arbeit\"\n",
      "Topic 124: 0.260*\"dm\" + 0.112*\"million\" + 0.099*\"milliarde\" + 0.026*\"höhe\" + 0.019*\"betrag\" + 0.017*\"zahl\" + 0.010*\"verfügung\" + 0.008*\"erhöhung\" + 0.008*\"summe\" + 0.008*\"bund\"\n",
      "Topic 125: 0.042*\"bezeichnung\" + 0.039*\"wein\" + 0.036*\"thomas\" + 0.033*\"ver\" + 0.031*\"themenbereich\" + 0.030*\"erlangen\" + 0.021*\"vergnügen\" + 0.021*\"betriebsrent\" + 0.015*\"etikett\" + 0.014*\"sack\"\n",
      "Topic 126: 0.088*\"rente\" + 0.049*\"rentenversicherung\" + 0.033*\"rentner\" + 0.020*\"beitrag\" + 0.016*\"alter\" + 0.012*\"altersvorsorge\" + 0.011*\"einkommen\" + 0.011*\"grundsicherung\" + 0.010*\"altersarmut\" + 0.009*\"system\"\n",
      "Topic 127: 0.033*\"berg\" + 0.030*\"nord\" + 0.027*\"konjunkturpaket\" + 0.025*\"geldwäsche\" + 0.021*\"wolmirstedt\" + 0.020*\"marschall\" + 0.020*\"schlauch\" + 0.018*\"zwischenlager\" + 0.015*\"stream\" + 0.015*\"bundesnaturschutzgesetz\"\n",
      "Topic 128: 0.174*\"gutachten\" + 0.082*\"sachverständige\" + 0.063*\"sachverständigenrat\" + 0.052*\"entschließung\" + 0.042*\"be\" + 0.035*\"auftrag\" + 0.027*\"sonntag\" + 0.024*\"jahn\" + 0.019*\"weihnachten\" + 0.015*\"öffnung\"\n",
      "Topic 129: 0.033*\"russland\" + 0.029*\"eu\" + 0.020*\"deutschland\" + 0.019*\"krise\" + 0.018*\"land\" + 0.016*\"ukraine\" + 0.016*\"partner\" + 0.011*\"union\" + 0.010*\"präsident\" + 0.010*\"außenpolitik\"\n",
      "Topic 130: 0.424*\"bürger\" + 0.170*\"bürgerin\" + 0.028*\"vertrauen\" + 0.013*\"rechtspolitik\" + 0.010*\"anwalt\" + 0.010*\"staat\" + 0.009*\"bevölkerung\" + 0.009*\"fahrverbot\" + 0.008*\"bürgerbeteiligung\" + 0.008*\"interesse\"\n",
      "Topic 131: 0.144*\"leben\" + 0.141*\"stiftung\" + 0.049*\"beratung\" + 0.024*\"errichtung\" + 0.023*\"entscheidung\" + 0.022*\"schwangerschaft\" + 0.022*\"schutz\" + 0.022*\"berater\" + 0.021*\"beratungsstelle\" + 0.016*\"schwangerschaftsabbruch\"\n",
      "Topic 132: 0.088*\"kosovo\" + 0.055*\"film\" + 0.043*\"staatsangehörigkeit\" + 0.039*\"jugoslawien\" + 0.036*\"serbien\" + 0.032*\"buch\" + 0.026*\"rumänien\" + 0.023*\"ungarn\" + 0.023*\"staatsbürgerschaft\" + 0.023*\"finanztransaktionsteuer\"\n",
      "Topic 133: 0.187*\"gespräch\" + 0.128*\"amt\" + 0.053*\"vertreter\" + 0.050*\"ausland\" + 0.036*\"botschaft\" + 0.034*\"kontakt\" + 0.028*\"besuch\" + 0.021*\"regierung\" + 0.016*\"beziehung\" + 0.014*\"bundespräsident\"\n",
      "Topic 134: 0.121*\"eg\" + 0.050*\"variante\" + 0.033*\"treuhand\" + 0.032*\"mindeststandard\" + 0.029*\"einstufung\" + 0.021*\"krischer\" + 0.020*\"bundessicherheitsrat\" + 0.019*\"alleingang\" + 0.018*\"pilotprojekt\" + 0.017*\"kondition\"\n",
      "Topic 135: 0.074*\"energie\" + 0.025*\"energiewende\" + 0.021*\"strom\" + 0.019*\"kernenergie\" + 0.016*\"energiepolitik\" + 0.014*\"kernkraftwerk\" + 0.014*\"ausstieg\" + 0.014*\"nutzung\" + 0.013*\"energieversorgung\" + 0.013*\"ausbau\"\n",
      "Topic 136: 0.160*\"republik\" + 0.114*\"sanktion\" + 0.076*\"druck\" + 0.066*\"aufhebung\" + 0.051*\"südafrika\" + 0.043*\"unabhängigkeit\" + 0.020*\"namibia\" + 0.016*\"sondersitzung\" + 0.015*\"sozialabbau\" + 0.014*\"hofreiter\"\n",
      "Topic 137: 0.063*\"befragung\" + 0.050*\"brüderle\" + 0.034*\"thema\" + 0.034*\"selbstständig\" + 0.027*\"nachrüstung\" + 0.024*\"bmu\" + 0.023*\"rösler\" + 0.020*\"bundesumweltministerium\" + 0.019*\"ba\" + 0.019*\"selbstständige\"\n",
      "Topic 138: 0.086*\"koalition\" + 0.047*\"linke\" + 0.035*\"deutschland\" + 0.035*\"frau\" + 0.035*\"koalitionsvertrag\" + 0.034*\"grüne\" + 0.031*\"union\" + 0.023*\"übrig\" + 0.021*\"präsidentin\" + 0.015*\"schluss\"\n",
      "Topic 139: 0.194*\"förderung\" + 0.066*\"wohnungsbau\" + 0.045*\"wohngeld\" + 0.025*\"städtebauförderung\" + 0.019*\"einkommen\" + 0.018*\"mietpreisbremse\" + 0.016*\"zuschuß\" + 0.016*\"mittel\" + 0.015*\"darlehen\" + 0.011*\"programm\"\n",
      "Topic 140: 0.081*\"afghanistan\" + 0.042*\"krieg\" + 0.036*\"israel\" + 0.031*\"iran\" + 0.025*\"irak\" + 0.024*\"land\" + 0.017*\"staat\" + 0.015*\"usa\" + 0.015*\"syrien\" + 0.015*\"regierung\"\n",
      "Topic 141: 0.440*\"berlin\" + 0.081*\"bonn\" + 0.037*\"stadt\" + 0.025*\"bürgermeister\" + 0.025*\"senat\" + 0.021*\"leipzig\" + 0.017*\"hauptstadt\" + 0.016*\"heringen\" + 0.014*\"umzug\" + 0.011*\"enthalten\"\n",
      "Topic 142: 0.302*\"grüne\" + 0.249*\"bündnis\" + 0.090*\"fraktion\" + 0.065*\"pds\" + 0.038*\"spd\" + 0.037*\"zusatzpunkt\" + 0.028*\"gruppe\" + 0.027*\"koalitionsfraktion\" + 0.020*\"schlussabstimmung\" + 0.012*\"stimme\"\n",
      "Topic 143: 0.080*\"zeitung\" + 0.068*\"programm\" + 0.058*\"presse\" + 0.050*\"medium\" + 0.048*\"journalist\" + 0.045*\"artikel\" + 0.034*\"welle\" + 0.026*\"fernsehen\" + 0.023*\"interview\" + 0.021*\"graf\"\n",
      "Topic 144: 0.107*\"bahn\" + 0.061*\"post\" + 0.058*\"bundesbahn\" + 0.028*\"bundespost\" + 0.027*\"gebühr\" + 0.014*\"personennahverkehr\" + 0.012*\"verkehrsmittel\" + 0.011*\"verkehr\" + 0.011*\"eisenbahn\" + 0.010*\"bundesverkehrsminister\"\n",
      "Topic 145: 0.108*\"forschung\" + 0.048*\"wissenschaft\" + 0.035*\"bereich\" + 0.028*\"entwicklung\" + 0.027*\"innovation\" + 0.025*\"technologie\" + 0.020*\"förderung\" + 0.019*\"institut\" + 0.019*\"bildung\" + 0.018*\"projekt\"\n",
      "Topic 146: 0.028*\"politik\" + 0.026*\"europa\" + 0.025*\"staat\" + 0.020*\"frieden\" + 0.019*\"sowjetunion\" + 0.018*\"welt\" + 0.015*\"volk\" + 0.012*\"interesse\" + 0.012*\"beziehung\" + 0.012*\"deutsche\"\n",
      "Topic 147: 0.114*\"vertrag\" + 0.094*\"verhandlung\" + 0.068*\"abkommen\" + 0.043*\"vereinbarung\" + 0.022*\"regierung\" + 0.019*\"staat\" + 0.018*\"konferenz\" + 0.014*\"verpflichtung\" + 0.014*\"seite\" + 0.013*\"übereinkommen\"\n",
      "Topic 148: 0.289*\"kind\" + 0.135*\"familie\" + 0.060*\"eltern\" + 0.019*\"kindergeld\" + 0.015*\"mutter\" + 0.013*\"elterngeld\" + 0.013*\"familienpolitik\" + 0.012*\"leistung\" + 0.009*\"vater\" + 0.008*\"einkommen\"\n",
      "Topic 149: 0.153*\"haushalt\" + 0.033*\"ausgabe\" + 0.030*\"einzelplan\" + 0.029*\"bundeshaushalt\" + 0.018*\"etat\" + 0.018*\"kürzung\" + 0.016*\"haushaltsberatung\" + 0.016*\"milliarde\" + 0.014*\"bereich\" + 0.013*\"haushaltsausschuß\"\n"
     ]
    }
   ],
   "source": [
    "# print topics for saving to text file (topics.txt)\n",
    "for i in range(0, loaded_lda_model.num_topics):\n",
    "    print(f\"Topic {i}: \" + loaded_lda_model.print_topic(i))"
   ]
  },
  {
   "cell_type": "code",
   "execution_count": 8,
   "metadata": {},
   "outputs": [],
   "source": [
    "with open('corpus.pkl', 'rb') as f:\n",
    "   corpus = pickle.load(f)"
   ]
  },
  {
   "cell_type": "code",
   "execution_count": 9,
   "metadata": {},
   "outputs": [],
   "source": [
    "# get topic distribution for every speech\n",
    "topic_distribution = loaded_lda_model.get_document_topics(corpus, minimum_probability=0.2) # threshold\n",
    "topics_list = [dict(distribution) for distribution in topic_distribution]"
   ]
  },
  {
   "cell_type": "code",
   "execution_count": 10,
   "metadata": {},
   "outputs": [],
   "source": [
    "\n",
    "# add topic distribution as new column\n",
    "df['topic_distribution'] = topics_list"
   ]
  },
  {
   "cell_type": "code",
   "execution_count": 11,
   "metadata": {},
   "outputs": [
    {
     "data": {
      "text/html": [
       "<div>\n",
       "<style scoped>\n",
       "    .dataframe tbody tr th:only-of-type {\n",
       "        vertical-align: middle;\n",
       "    }\n",
       "\n",
       "    .dataframe tbody tr th {\n",
       "        vertical-align: top;\n",
       "    }\n",
       "\n",
       "    .dataframe thead th {\n",
       "        text-align: right;\n",
       "    }\n",
       "</style>\n",
       "<table border=\"1\" class=\"dataframe\">\n",
       "  <thead>\n",
       "    <tr style=\"text-align: right;\">\n",
       "      <th></th>\n",
       "      <th>text</th>\n",
       "      <th>date</th>\n",
       "      <th>legislative_period</th>\n",
       "      <th>speaker_name</th>\n",
       "      <th>speaker_gender</th>\n",
       "      <th>speaker_role</th>\n",
       "      <th>speaker_party</th>\n",
       "      <th>comments</th>\n",
       "      <th>id</th>\n",
       "      <th>speaker_id</th>\n",
       "      <th>speech_length</th>\n",
       "      <th>topic_distribution</th>\n",
       "    </tr>\n",
       "  </thead>\n",
       "  <tbody>\n",
       "    <tr>\n",
       "      <th>0</th>\n",
       "      <td>Sehr geehrter Herr Alterspräsident! So muss ...</td>\n",
       "      <td>2021-10-26</td>\n",
       "      <td>20</td>\n",
       "      <td>Gabriele Katzmarek</td>\n",
       "      <td>female</td>\n",
       "      <td>None</td>\n",
       "      <td>SPD</td>\n",
       "      <td>[(Beifall bei der SPD sowie bei Abgeordneten d...</td>\n",
       "      <td>SP-2021-0</td>\n",
       "      <td>1299</td>\n",
       "      <td>2593</td>\n",
       "      <td>{68: 0.35882655}</td>\n",
       "    </tr>\n",
       "    <tr>\n",
       "      <th>1</th>\n",
       "      <td>Herr Präsident! Liebe Kolleginnen und Kolleg...</td>\n",
       "      <td>2021-10-26</td>\n",
       "      <td>20</td>\n",
       "      <td>Stefan Müller</td>\n",
       "      <td>male</td>\n",
       "      <td>None</td>\n",
       "      <td>CDU/CSU</td>\n",
       "      <td>[(Beifall bei der CDU/CSU sowie bei Abgeordnet...</td>\n",
       "      <td>SP-2021-1</td>\n",
       "      <td>4028</td>\n",
       "      <td>3796</td>\n",
       "      <td>{68: 0.46776655}</td>\n",
       "    </tr>\n",
       "    <tr>\n",
       "      <th>2</th>\n",
       "      <td>Sehr geehrter Herr Alterspräsident Wolfgang ...</td>\n",
       "      <td>2021-10-26</td>\n",
       "      <td>20</td>\n",
       "      <td>Britta Haßelmann</td>\n",
       "      <td>female</td>\n",
       "      <td>None</td>\n",
       "      <td>BÜNDNIS 90/DIE GRÜNEN</td>\n",
       "      <td>[(Beifall beim BÜNDNIS 90/DIE GRÜNEN und bei d...</td>\n",
       "      <td>SP-2021-2</td>\n",
       "      <td>451</td>\n",
       "      <td>4301</td>\n",
       "      <td>{68: 0.26328164}</td>\n",
       "    </tr>\n",
       "    <tr>\n",
       "      <th>3</th>\n",
       "      <td>Sehr geehrter Herr Präsident! Meine lieben K...</td>\n",
       "      <td>2021-10-26</td>\n",
       "      <td>20</td>\n",
       "      <td>Marco Buschmann</td>\n",
       "      <td>male</td>\n",
       "      <td>None</td>\n",
       "      <td>FDP</td>\n",
       "      <td>[(Jan Korte [DIE LINKE]: Oder Jugendweihe!), (...</td>\n",
       "      <td>SP-2021-3</td>\n",
       "      <td>3083</td>\n",
       "      <td>4555</td>\n",
       "      <td>{}</td>\n",
       "    </tr>\n",
       "    <tr>\n",
       "      <th>4</th>\n",
       "      <td>Herr Alterspräsident! Lassen Sie mich zunäch...</td>\n",
       "      <td>2021-10-26</td>\n",
       "      <td>20</td>\n",
       "      <td>Stephan Brandner</td>\n",
       "      <td>male</td>\n",
       "      <td>None</td>\n",
       "      <td>AfD</td>\n",
       "      <td>[(Beifall bei der AfD), (Beifall bei Abgeordne...</td>\n",
       "      <td>SP-2021-4</td>\n",
       "      <td>4055</td>\n",
       "      <td>5996</td>\n",
       "      <td>{68: 0.3120498}</td>\n",
       "    </tr>\n",
       "  </tbody>\n",
       "</table>\n",
       "</div>"
      ],
      "text/plain": [
       "                                                text       date  \\\n",
       "0    Sehr geehrter Herr Alterspräsident! So muss ... 2021-10-26   \n",
       "1    Herr Präsident! Liebe Kolleginnen und Kolleg... 2021-10-26   \n",
       "2    Sehr geehrter Herr Alterspräsident Wolfgang ... 2021-10-26   \n",
       "3    Sehr geehrter Herr Präsident! Meine lieben K... 2021-10-26   \n",
       "4    Herr Alterspräsident! Lassen Sie mich zunäch... 2021-10-26   \n",
       "\n",
       "  legislative_period        speaker_name speaker_gender speaker_role  \\\n",
       "0                 20  Gabriele Katzmarek         female         None   \n",
       "1                 20       Stefan Müller           male         None   \n",
       "2                 20    Britta Haßelmann         female         None   \n",
       "3                 20     Marco Buschmann           male         None   \n",
       "4                 20    Stephan Brandner           male         None   \n",
       "\n",
       "           speaker_party                                           comments  \\\n",
       "0                    SPD  [(Beifall bei der SPD sowie bei Abgeordneten d...   \n",
       "1                CDU/CSU  [(Beifall bei der CDU/CSU sowie bei Abgeordnet...   \n",
       "2  BÜNDNIS 90/DIE GRÜNEN  [(Beifall beim BÜNDNIS 90/DIE GRÜNEN und bei d...   \n",
       "3                    FDP  [(Jan Korte [DIE LINKE]: Oder Jugendweihe!), (...   \n",
       "4                    AfD  [(Beifall bei der AfD), (Beifall bei Abgeordne...   \n",
       "\n",
       "          id  speaker_id  speech_length topic_distribution  \n",
       "0  SP-2021-0        1299           2593   {68: 0.35882655}  \n",
       "1  SP-2021-1        4028           3796   {68: 0.46776655}  \n",
       "2  SP-2021-2         451           4301   {68: 0.26328164}  \n",
       "3  SP-2021-3        3083           4555                 {}  \n",
       "4  SP-2021-4        4055           5996    {68: 0.3120498}  "
      ]
     },
     "execution_count": 11,
     "metadata": {},
     "output_type": "execute_result"
    }
   ],
   "source": [
    "df.head()"
   ]
  },
  {
   "cell_type": "code",
   "execution_count": 12,
   "metadata": {},
   "outputs": [],
   "source": [
    "# save new dataframe containing topics\n",
    "df.to_pickle('data_topics_revised.pkl')"
   ]
  }
 ],
 "metadata": {
  "kernelspec": {
   "display_name": "Python 3",
   "language": "python",
   "name": "python3"
  },
  "language_info": {
   "codemirror_mode": {
    "name": "ipython",
    "version": 3
   },
   "file_extension": ".py",
   "mimetype": "text/x-python",
   "name": "python",
   "nbconvert_exporter": "python",
   "pygments_lexer": "ipython3",
   "version": "3.11.4"
  },
  "orig_nbformat": 4
 },
 "nbformat": 4,
 "nbformat_minor": 2
}
