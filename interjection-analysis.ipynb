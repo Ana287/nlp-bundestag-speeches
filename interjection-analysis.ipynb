{
 "cells": [
  {
   "cell_type": "markdown",
   "metadata": {},
   "source": [
    "# Interjection Analysis"
   ]
  },
  {
   "cell_type": "code",
   "execution_count": 1,
   "metadata": {},
   "outputs": [],
   "source": [
    "import pandas as pd\n",
    "import matplotlib.pyplot as plt\n",
    "import numpy as np\n",
    "import re\n",
    "import gender_classification as gc"
   ]
  },
  {
   "cell_type": "code",
   "execution_count": 2,
   "metadata": {},
   "outputs": [],
   "source": [
    "# load data\n",
    "df = pd.read_pickle('C:/Users/Ana/OneDrive - Hochschule Düsseldorf/MA/data_topics.pkl')"
   ]
  },
  {
   "cell_type": "code",
   "execution_count": 3,
   "metadata": {},
   "outputs": [],
   "source": [
    "# add year column\n",
    "df['year'] = df['date'].dt.year"
   ]
  },
  {
   "cell_type": "code",
   "execution_count": 4,
   "metadata": {},
   "outputs": [
    {
     "data": {
      "text/html": [
       "<div>\n",
       "<style scoped>\n",
       "    .dataframe tbody tr th:only-of-type {\n",
       "        vertical-align: middle;\n",
       "    }\n",
       "\n",
       "    .dataframe tbody tr th {\n",
       "        vertical-align: top;\n",
       "    }\n",
       "\n",
       "    .dataframe thead th {\n",
       "        text-align: right;\n",
       "    }\n",
       "</style>\n",
       "<table border=\"1\" class=\"dataframe\">\n",
       "  <thead>\n",
       "    <tr style=\"text-align: right;\">\n",
       "      <th></th>\n",
       "      <th>text</th>\n",
       "      <th>date</th>\n",
       "      <th>legislative_period</th>\n",
       "      <th>speaker_name</th>\n",
       "      <th>speaker_gender</th>\n",
       "      <th>speaker_role</th>\n",
       "      <th>speaker_party</th>\n",
       "      <th>comments</th>\n",
       "      <th>id</th>\n",
       "      <th>speaker_id</th>\n",
       "      <th>speech_length</th>\n",
       "      <th>topic_distribution</th>\n",
       "      <th>year</th>\n",
       "    </tr>\n",
       "  </thead>\n",
       "  <tbody>\n",
       "    <tr>\n",
       "      <th>0</th>\n",
       "      <td>Sehr geehrter Herr Alterspräsident! So muss ...</td>\n",
       "      <td>2021-10-26</td>\n",
       "      <td>20</td>\n",
       "      <td>Gabriele Katzmarek</td>\n",
       "      <td>female</td>\n",
       "      <td>None</td>\n",
       "      <td>SPD</td>\n",
       "      <td>[(Beifall bei der SPD sowie bei Abgeordneten d...</td>\n",
       "      <td>SP-2021-0</td>\n",
       "      <td>1299</td>\n",
       "      <td>2593</td>\n",
       "      <td>{68: 0.35882655}</td>\n",
       "      <td>2021</td>\n",
       "    </tr>\n",
       "    <tr>\n",
       "      <th>1</th>\n",
       "      <td>Herr Präsident! Liebe Kolleginnen und Kolleg...</td>\n",
       "      <td>2021-10-26</td>\n",
       "      <td>20</td>\n",
       "      <td>Stefan Müller</td>\n",
       "      <td>male</td>\n",
       "      <td>None</td>\n",
       "      <td>CDU/CSU</td>\n",
       "      <td>[(Beifall bei der CDU/CSU sowie bei Abgeordnet...</td>\n",
       "      <td>SP-2021-1</td>\n",
       "      <td>4028</td>\n",
       "      <td>3796</td>\n",
       "      <td>{68: 0.46776655}</td>\n",
       "      <td>2021</td>\n",
       "    </tr>\n",
       "    <tr>\n",
       "      <th>2</th>\n",
       "      <td>Sehr geehrter Herr Alterspräsident Wolfgang ...</td>\n",
       "      <td>2021-10-26</td>\n",
       "      <td>20</td>\n",
       "      <td>Britta Haßelmann</td>\n",
       "      <td>female</td>\n",
       "      <td>None</td>\n",
       "      <td>BÜNDNIS 90/DIE GRÜNEN</td>\n",
       "      <td>[(Beifall beim BÜNDNIS 90/DIE GRÜNEN und bei d...</td>\n",
       "      <td>SP-2021-2</td>\n",
       "      <td>451</td>\n",
       "      <td>4301</td>\n",
       "      <td>{68: 0.26328164}</td>\n",
       "      <td>2021</td>\n",
       "    </tr>\n",
       "    <tr>\n",
       "      <th>3</th>\n",
       "      <td>Sehr geehrter Herr Präsident! Meine lieben K...</td>\n",
       "      <td>2021-10-26</td>\n",
       "      <td>20</td>\n",
       "      <td>Marco Buschmann</td>\n",
       "      <td>male</td>\n",
       "      <td>None</td>\n",
       "      <td>FDP</td>\n",
       "      <td>[(Jan Korte [DIE LINKE]: Oder Jugendweihe!), (...</td>\n",
       "      <td>SP-2021-3</td>\n",
       "      <td>3083</td>\n",
       "      <td>4555</td>\n",
       "      <td>{}</td>\n",
       "      <td>2021</td>\n",
       "    </tr>\n",
       "    <tr>\n",
       "      <th>4</th>\n",
       "      <td>Herr Alterspräsident! Lassen Sie mich zunäch...</td>\n",
       "      <td>2021-10-26</td>\n",
       "      <td>20</td>\n",
       "      <td>Stephan Brandner</td>\n",
       "      <td>male</td>\n",
       "      <td>None</td>\n",
       "      <td>AfD</td>\n",
       "      <td>[(Beifall bei der AfD), (Beifall bei Abgeordne...</td>\n",
       "      <td>SP-2021-4</td>\n",
       "      <td>4055</td>\n",
       "      <td>5996</td>\n",
       "      <td>{68: 0.3120498}</td>\n",
       "      <td>2021</td>\n",
       "    </tr>\n",
       "  </tbody>\n",
       "</table>\n",
       "</div>"
      ],
      "text/plain": [
       "                                                text       date  \\\n",
       "0    Sehr geehrter Herr Alterspräsident! So muss ... 2021-10-26   \n",
       "1    Herr Präsident! Liebe Kolleginnen und Kolleg... 2021-10-26   \n",
       "2    Sehr geehrter Herr Alterspräsident Wolfgang ... 2021-10-26   \n",
       "3    Sehr geehrter Herr Präsident! Meine lieben K... 2021-10-26   \n",
       "4    Herr Alterspräsident! Lassen Sie mich zunäch... 2021-10-26   \n",
       "\n",
       "  legislative_period        speaker_name speaker_gender speaker_role  \\\n",
       "0                 20  Gabriele Katzmarek         female         None   \n",
       "1                 20       Stefan Müller           male         None   \n",
       "2                 20    Britta Haßelmann         female         None   \n",
       "3                 20     Marco Buschmann           male         None   \n",
       "4                 20    Stephan Brandner           male         None   \n",
       "\n",
       "           speaker_party                                           comments  \\\n",
       "0                    SPD  [(Beifall bei der SPD sowie bei Abgeordneten d...   \n",
       "1                CDU/CSU  [(Beifall bei der CDU/CSU sowie bei Abgeordnet...   \n",
       "2  BÜNDNIS 90/DIE GRÜNEN  [(Beifall beim BÜNDNIS 90/DIE GRÜNEN und bei d...   \n",
       "3                    FDP  [(Jan Korte [DIE LINKE]: Oder Jugendweihe!), (...   \n",
       "4                    AfD  [(Beifall bei der AfD), (Beifall bei Abgeordne...   \n",
       "\n",
       "          id  speaker_id  speech_length topic_distribution  year  \n",
       "0  SP-2021-0        1299           2593   {68: 0.35882655}  2021  \n",
       "1  SP-2021-1        4028           3796   {68: 0.46776655}  2021  \n",
       "2  SP-2021-2         451           4301   {68: 0.26328164}  2021  \n",
       "3  SP-2021-3        3083           4555                 {}  2021  \n",
       "4  SP-2021-4        4055           5996    {68: 0.3120498}  2021  "
      ]
     },
     "execution_count": 4,
     "metadata": {},
     "output_type": "execute_result"
    }
   ],
   "source": [
    "df.head()"
   ]
  },
  {
   "cell_type": "code",
   "execution_count": 5,
   "metadata": {},
   "outputs": [],
   "source": [
    "# filter dataframe for speeches with comments\n",
    "df_comments = df[df['comments'].apply(lambda x: len(x) > 0)]"
   ]
  },
  {
   "cell_type": "code",
   "execution_count": 213,
   "metadata": {},
   "outputs": [
    {
     "data": {
      "text/plain": [
       "371023"
      ]
     },
     "execution_count": 213,
     "metadata": {},
     "output_type": "execute_result"
    }
   ],
   "source": [
    "# number of speeches with comments\n",
    "len(df_comments)"
   ]
  },
  {
   "cell_type": "markdown",
   "metadata": {},
   "source": [
    "## Matching and counting comments"
   ]
  },
  {
   "cell_type": "code",
   "execution_count": 195,
   "metadata": {},
   "outputs": [],
   "source": [
    "# function for cleaning and classifying speaker names\n",
    "PRE_1 = re.compile(r'(((Weiterer )?Gegenruf (?P<article>des|der) Abg\\.))(?P<name>[\\w,\\s\\.]*)')\n",
    "PRE_2 = re.compile(r'((Zuruf (?P<article>des|der) Abg\\.)|(Zuruf von))(?P<name>[\\w,\\s\\.]*)')\n",
    "PRE_3 = re.compile(r'(.*?)\\s*--\\s*(?P<name>[\\w\\s\\.-]+)$')\n",
    "\n",
    "PREAMBLES = [PRE_1, PRE_2, PRE_3]\n",
    "\n",
    "def get_speaker_gender(name):\n",
    "\n",
    "    for PREAMBLE in PREAMBLES:\n",
    "        match = re.search(PREAMBLE, name)\n",
    "        if(match):\n",
    "            name = match.groupdict()[\"name\"]\n",
    "            if 'article' in match.groupdict():\n",
    "                article = match.groupdict()[\"article\"]\n",
    "                #print(article)\n",
    "                return 'female' if article == 'der' else 'male'\n",
    "    \n",
    "    name = name.strip()\n",
    "    name_length = len(name.split())\n",
    "\n",
    "    if name_length > 1:\n",
    "        #print(\"größer als 1\")\n",
    "\n",
    "        # remove 'Abgeordnete(r)' from name\n",
    "        name = re.sub('Abg\\.?', '', name).strip()\n",
    "\n",
    "        # if name 'Frau X', classify as female\n",
    "        if name.split()[0] == 'Frau':\n",
    "            #print(\"Frau Bla\")\n",
    "            return 'female'\n",
    "        \n",
    "        # if first substring is title, take second substring or return unknown\n",
    "        if \".\" in name.split()[0]:\n",
    "            if name_length > 2 :\n",
    "                #print(\"Dr. Bla Bli\")\n",
    "                first_name = name.split()[1]\n",
    "            else:\n",
    "                #print(\"Dr. Bli\", name)\n",
    "                return 'unkown'\n",
    "        else:\n",
    "            first_name = name.split()[0]\n",
    "        #print(first_name)\n",
    "        return gc.get_gender(first_name)\n",
    "    \n",
    "    # return unknown if only last name is given\n",
    "    else:\n",
    "        #print(name)\n",
    "        return 'unknown'\n",
    "    \n",
    "    "
   ]
  },
  {
   "cell_type": "code",
   "execution_count": 208,
   "metadata": {},
   "outputs": [
    {
     "data": {
      "text/plain": [
       "'unknown'"
      ]
     },
     "execution_count": 208,
     "metadata": {},
     "output_type": "execute_result"
    }
   ],
   "source": [
    "# test classification\n",
    "get_speaker_gender(\"Beifall bei der SPD. -- Abg. Dr. Marx\")"
   ]
  },
  {
   "cell_type": "code",
   "execution_count": 175,
   "metadata": {},
   "outputs": [],
   "source": [
    "# dict of faulty characters and names to replace\n",
    "chars_to_replace = {\n",
    "    '\\xa0': ' ',\n",
    "    '…': '...',\n",
    "    '\\u202f': '',\n",
    "    '„': '\"',\n",
    "    '”': '\"',\n",
    "    '“': '\"',\n",
    "    '§': 'Paragraph',\n",
    "    '\\n                   ': '',\n",
    "    'Prinz zu Sayn-Wittgenstein-Hohenstein': 'Botho Prinz zu Sayn-Wittgenstein-Hohenstein',\n",
    "    'Dr.Kohl': 'Dr. Kohl',\n",
    "    'Dr. -Ing.': 'Dr.-Ing.'\n",
    "}"
   ]
  },
  {
   "cell_type": "markdown",
   "metadata": {},
   "source": [
    "### Counting comments and identifying speakers and their gender"
   ]
  },
  {
   "cell_type": "code",
   "execution_count": 202,
   "metadata": {},
   "outputs": [],
   "source": [
    "# recognizes comments of named speakers\n",
    "RE_SPEAKER_DIRECTLY = re.compile(r'(?P<speaker>[\\w]+[\\w\\s\\.-]*) \\[(?P<party>[\\w,/\\s]*)\\]: (?P<comment>[\\w,!\\s\\.\\?\\\"]*)( - )*')\n",
    "\n",
    "RES = [RE_SPEAKER_DIRECTLY]\n",
    "\n",
    "comment_counts = {}\n",
    "comment_speakers = {}\n",
    "comment_fem_speakers = {}\n",
    "comment_male_speakers = {}\n",
    "\n",
    "f = open('reference files/comments_per_speech.txt', 'w', encoding='utf-8')\n",
    "\n",
    "for index, speech in df_comments.iterrows():\n",
    "    comment_count = 0\n",
    "    speakers = []\n",
    "    fem_speakers = 0\n",
    "    male_speakers = 0\n",
    "\n",
    "    for comment in speech['comments']:\n",
    "        for key, value in chars_to_replace.items():\n",
    "            comment = comment.replace(key, value)\n",
    "        for RE in RES:\n",
    "            matches = RE.finditer(comment)\n",
    "            for match in matches:\n",
    "                speaker = match.groupdict()['speaker']\n",
    "                print(f\"{index}: {match.groupdict()}\", file=f)\n",
    "                comment_count += 1\n",
    "\n",
    "                if speaker != \"\":\n",
    "                    speakers.append(speaker)\n",
    "\n",
    "    for speaker in speakers:\n",
    "        if get_speaker_gender(speaker) == 'female':\n",
    "            fem_speakers += 1\n",
    "        if get_speaker_gender(speaker) == 'male':\n",
    "            male_speakers += 1\n",
    "\n",
    "    comment_counts[index] = comment_count\n",
    "    comment_speakers[index] = speakers\n",
    "    comment_fem_speakers[index] = fem_speakers\n",
    "    comment_male_speakers[index] = male_speakers\n",
    "\n",
    "f.close()"
   ]
  },
  {
   "cell_type": "code",
   "execution_count": 207,
   "metadata": {},
   "outputs": [
    {
     "data": {
      "text/plain": [
       "371023"
      ]
     },
     "execution_count": 207,
     "metadata": {},
     "output_type": "execute_result"
    }
   ],
   "source": [
    "len(comment_counts)"
   ]
  },
  {
   "cell_type": "code",
   "execution_count": 164,
   "metadata": {},
   "outputs": [
    {
     "data": {
      "text/plain": [
       "4"
      ]
     },
     "execution_count": 164,
     "metadata": {},
     "output_type": "execute_result"
    }
   ],
   "source": [
    "# get comment count by speech id\n",
    "comment_counts[14]"
   ]
  },
  {
   "cell_type": "code",
   "execution_count": null,
   "metadata": {},
   "outputs": [],
   "source": [
    "# add columns for comment- and speaker gender count\n",
    "df_comments['comment_count'] = comment_counts.values()\n",
    "df_comments['comment_fem_speakers'] = comment_fem_speakers.values()\n",
    "df_comments['comment_male_speakers'] = comment_male_speakers.values()"
   ]
  },
  {
   "cell_type": "code",
   "execution_count": 217,
   "metadata": {},
   "outputs": [
    {
     "data": {
      "text/html": [
       "<div>\n",
       "<style scoped>\n",
       "    .dataframe tbody tr th:only-of-type {\n",
       "        vertical-align: middle;\n",
       "    }\n",
       "\n",
       "    .dataframe tbody tr th {\n",
       "        vertical-align: top;\n",
       "    }\n",
       "\n",
       "    .dataframe thead th {\n",
       "        text-align: right;\n",
       "    }\n",
       "</style>\n",
       "<table border=\"1\" class=\"dataframe\">\n",
       "  <thead>\n",
       "    <tr style=\"text-align: right;\">\n",
       "      <th></th>\n",
       "      <th>text</th>\n",
       "      <th>date</th>\n",
       "      <th>legislative_period</th>\n",
       "      <th>speaker_name</th>\n",
       "      <th>speaker_gender</th>\n",
       "      <th>speaker_role</th>\n",
       "      <th>speaker_party</th>\n",
       "      <th>comments</th>\n",
       "      <th>id</th>\n",
       "      <th>speaker_id</th>\n",
       "      <th>speech_length</th>\n",
       "      <th>topic_distribution</th>\n",
       "      <th>year</th>\n",
       "      <th>comment_count</th>\n",
       "      <th>comment_fem_speakers</th>\n",
       "      <th>comment_male_speakers</th>\n",
       "    </tr>\n",
       "  </thead>\n",
       "  <tbody>\n",
       "    <tr>\n",
       "      <th>0</th>\n",
       "      <td>Sehr geehrter Herr Alterspräsident! So muss ...</td>\n",
       "      <td>2021-10-26</td>\n",
       "      <td>20</td>\n",
       "      <td>Gabriele Katzmarek</td>\n",
       "      <td>female</td>\n",
       "      <td>None</td>\n",
       "      <td>SPD</td>\n",
       "      <td>[(Beifall bei der SPD sowie bei Abgeordneten d...</td>\n",
       "      <td>SP-2021-0</td>\n",
       "      <td>1299</td>\n",
       "      <td>2593</td>\n",
       "      <td>{68: 0.35882655}</td>\n",
       "      <td>2021</td>\n",
       "      <td>0</td>\n",
       "      <td>0</td>\n",
       "      <td>0</td>\n",
       "    </tr>\n",
       "    <tr>\n",
       "      <th>1</th>\n",
       "      <td>Herr Präsident! Liebe Kolleginnen und Kolleg...</td>\n",
       "      <td>2021-10-26</td>\n",
       "      <td>20</td>\n",
       "      <td>Stefan Müller</td>\n",
       "      <td>male</td>\n",
       "      <td>None</td>\n",
       "      <td>CDU/CSU</td>\n",
       "      <td>[(Beifall bei der CDU/CSU sowie bei Abgeordnet...</td>\n",
       "      <td>SP-2021-1</td>\n",
       "      <td>4028</td>\n",
       "      <td>3796</td>\n",
       "      <td>{68: 0.46776655}</td>\n",
       "      <td>2021</td>\n",
       "      <td>4</td>\n",
       "      <td>3</td>\n",
       "      <td>1</td>\n",
       "    </tr>\n",
       "    <tr>\n",
       "      <th>2</th>\n",
       "      <td>Sehr geehrter Herr Alterspräsident Wolfgang ...</td>\n",
       "      <td>2021-10-26</td>\n",
       "      <td>20</td>\n",
       "      <td>Britta Haßelmann</td>\n",
       "      <td>female</td>\n",
       "      <td>None</td>\n",
       "      <td>BÜNDNIS 90/DIE GRÜNEN</td>\n",
       "      <td>[(Beifall beim BÜNDNIS 90/DIE GRÜNEN und bei d...</td>\n",
       "      <td>SP-2021-2</td>\n",
       "      <td>451</td>\n",
       "      <td>4301</td>\n",
       "      <td>{68: 0.26328164}</td>\n",
       "      <td>2021</td>\n",
       "      <td>3</td>\n",
       "      <td>1</td>\n",
       "      <td>2</td>\n",
       "    </tr>\n",
       "    <tr>\n",
       "      <th>3</th>\n",
       "      <td>Sehr geehrter Herr Präsident! Meine lieben K...</td>\n",
       "      <td>2021-10-26</td>\n",
       "      <td>20</td>\n",
       "      <td>Marco Buschmann</td>\n",
       "      <td>male</td>\n",
       "      <td>None</td>\n",
       "      <td>FDP</td>\n",
       "      <td>[(Jan Korte [DIE LINKE]: Oder Jugendweihe!), (...</td>\n",
       "      <td>SP-2021-3</td>\n",
       "      <td>3083</td>\n",
       "      <td>4555</td>\n",
       "      <td>{}</td>\n",
       "      <td>2021</td>\n",
       "      <td>1</td>\n",
       "      <td>0</td>\n",
       "      <td>1</td>\n",
       "    </tr>\n",
       "    <tr>\n",
       "      <th>4</th>\n",
       "      <td>Herr Alterspräsident! Lassen Sie mich zunäch...</td>\n",
       "      <td>2021-10-26</td>\n",
       "      <td>20</td>\n",
       "      <td>Stephan Brandner</td>\n",
       "      <td>male</td>\n",
       "      <td>None</td>\n",
       "      <td>AfD</td>\n",
       "      <td>[(Beifall bei der AfD), (Beifall bei Abgeordne...</td>\n",
       "      <td>SP-2021-4</td>\n",
       "      <td>4055</td>\n",
       "      <td>5996</td>\n",
       "      <td>{68: 0.3120498}</td>\n",
       "      <td>2021</td>\n",
       "      <td>4</td>\n",
       "      <td>3</td>\n",
       "      <td>1</td>\n",
       "    </tr>\n",
       "  </tbody>\n",
       "</table>\n",
       "</div>"
      ],
      "text/plain": [
       "                                                text       date  \\\n",
       "0    Sehr geehrter Herr Alterspräsident! So muss ... 2021-10-26   \n",
       "1    Herr Präsident! Liebe Kolleginnen und Kolleg... 2021-10-26   \n",
       "2    Sehr geehrter Herr Alterspräsident Wolfgang ... 2021-10-26   \n",
       "3    Sehr geehrter Herr Präsident! Meine lieben K... 2021-10-26   \n",
       "4    Herr Alterspräsident! Lassen Sie mich zunäch... 2021-10-26   \n",
       "\n",
       "  legislative_period        speaker_name speaker_gender speaker_role  \\\n",
       "0                 20  Gabriele Katzmarek         female         None   \n",
       "1                 20       Stefan Müller           male         None   \n",
       "2                 20    Britta Haßelmann         female         None   \n",
       "3                 20     Marco Buschmann           male         None   \n",
       "4                 20    Stephan Brandner           male         None   \n",
       "\n",
       "           speaker_party                                           comments  \\\n",
       "0                    SPD  [(Beifall bei der SPD sowie bei Abgeordneten d...   \n",
       "1                CDU/CSU  [(Beifall bei der CDU/CSU sowie bei Abgeordnet...   \n",
       "2  BÜNDNIS 90/DIE GRÜNEN  [(Beifall beim BÜNDNIS 90/DIE GRÜNEN und bei d...   \n",
       "3                    FDP  [(Jan Korte [DIE LINKE]: Oder Jugendweihe!), (...   \n",
       "4                    AfD  [(Beifall bei der AfD), (Beifall bei Abgeordne...   \n",
       "\n",
       "          id  speaker_id  speech_length topic_distribution  year  \\\n",
       "0  SP-2021-0        1299           2593   {68: 0.35882655}  2021   \n",
       "1  SP-2021-1        4028           3796   {68: 0.46776655}  2021   \n",
       "2  SP-2021-2         451           4301   {68: 0.26328164}  2021   \n",
       "3  SP-2021-3        3083           4555                 {}  2021   \n",
       "4  SP-2021-4        4055           5996    {68: 0.3120498}  2021   \n",
       "\n",
       "   comment_count  comment_fem_speakers  comment_male_speakers  \n",
       "0              0                     0                      0  \n",
       "1              4                     3                      1  \n",
       "2              3                     1                      2  \n",
       "3              1                     0                      1  \n",
       "4              4                     3                      1  "
      ]
     },
     "execution_count": 217,
     "metadata": {},
     "output_type": "execute_result"
    }
   ],
   "source": [
    "df_comments.head()"
   ]
  },
  {
   "cell_type": "code",
   "execution_count": 218,
   "metadata": {},
   "outputs": [
    {
     "name": "stdout",
     "output_type": "stream",
     "text": [
      "{'speaker': 'Gabriele Katzmarek', 'party': 'SPD', 'comment': 'Herr Kollege, jetzt wird es aber komisch!'}\n",
      "{'speaker': 'Andrea Lindholz', 'party': 'CDU/CSU', 'comment': 'Absolut!'}\n",
      "{'speaker': 'Andrea Lindholz', 'party': 'CDU/CSU', 'comment': 'Ja, genau!'}\n",
      "{'speaker': 'Andrea Lindholz', 'party': 'CDU/CSU', 'comment': 'So ist es!\\xa0'}\n",
      "{'speaker': 'Dr.\\xa0Marco Buschmann', 'party': 'FDP', 'comment': 'Ihr lehnt doch auch unseren kleinen Wunsch bei der Sitzordnung ab!'}\n",
      "{'speaker': 'Dr.\\xa0Marco Buschmann', 'party': 'FDP', 'comment': 'Ja, das ist doch genau das, was du thematisierst!'}\n",
      "{'speaker': 'Dr.\\xa0Marco Buschmann', 'party': 'FDP', 'comment': 'Ach, viel hilft viel? Deswegen habt ihr das Wahlrecht so schlecht geändert!'}\n",
      "{'speaker': 'Jan Korte', 'party': 'DIE LINKE', 'comment': 'Na ja!'}\n"
     ]
    }
   ],
   "source": [
    "# test comment count per speech\n",
    "RE_SPEAKER_DIRECTLY = re.compile(r'(?P<speaker>[\\w]+[\\w\\s\\.-]*) \\[(?P<party>[\\w,/\\s]*)\\]: (?P<comment>[\\w,!\\s\\.\\?\\\"]*)( - )*')\n",
    "\n",
    "RES = [RE_SPEAKER_DIRECTLY]\n",
    "\n",
    "for comment in df_comments[\"comments\"][15]: # insert speech id here\n",
    "    for RE in RES:\n",
    "        matches = RE.finditer(comment)\n",
    "        for match in matches:\n",
    "            if match.groupdict()[\"speaker\"] == \"\":\n",
    "                print(\"no name\")\n",
    "            else:\n",
    "                print(match.groupdict())"
   ]
  },
  {
   "cell_type": "markdown",
   "metadata": {},
   "source": [
    "## Calculating Means per Gender"
   ]
  },
  {
   "cell_type": "code",
   "execution_count": 220,
   "metadata": {},
   "outputs": [
    {
     "data": {
      "text/plain": [
       "speaker_gender\n",
       "female    1.626886\n",
       "male      1.618065\n",
       "Name: comment_count, dtype: float64"
      ]
     },
     "execution_count": 220,
     "metadata": {},
     "output_type": "execute_result"
    }
   ],
   "source": [
    "# calculate average comment count per speech by gender\n",
    "average_comments_by_gender = df_comments.groupby('speaker_gender')['comment_count'].mean()\n",
    "average_comments_by_gender"
   ]
  },
  {
   "cell_type": "code",
   "execution_count": 221,
   "metadata": {},
   "outputs": [
    {
     "data": {
      "text/plain": [
       "speaker_gender\n",
       "female    0.356641\n",
       "male      0.340016\n",
       "Name: comment_fem_speakers, dtype: float64"
      ]
     },
     "execution_count": 221,
     "metadata": {},
     "output_type": "execute_result"
    }
   ],
   "source": [
    "# calculate average count of female commentators per speech by gender\n",
    "female_commentators_by_gender = df_comments.groupby('speaker_gender')['comment_fem_speakers'].mean()\n",
    "female_commentators_by_gender"
   ]
  },
  {
   "cell_type": "code",
   "execution_count": 222,
   "metadata": {},
   "outputs": [
    {
     "data": {
      "text/plain": [
       "speaker_gender\n",
       "female    0.966006\n",
       "male      0.797386\n",
       "Name: comment_male_speakers, dtype: float64"
      ]
     },
     "execution_count": 222,
     "metadata": {},
     "output_type": "execute_result"
    }
   ],
   "source": [
    "# calculate average count of male commentators per speech by gender\n",
    "male_commentators_by_gender = df_comments.groupby('speaker_gender')['comment_male_speakers'].mean()\n",
    "male_commentators_by_gender"
   ]
  },
  {
   "cell_type": "code",
   "execution_count": null,
   "metadata": {},
   "outputs": [],
   "source": []
  }
 ],
 "metadata": {
  "kernelspec": {
   "display_name": "Python 3",
   "language": "python",
   "name": "python3"
  },
  "language_info": {
   "codemirror_mode": {
    "name": "ipython",
    "version": 3
   },
   "file_extension": ".py",
   "mimetype": "text/x-python",
   "name": "python",
   "nbconvert_exporter": "python",
   "pygments_lexer": "ipython3",
   "version": "3.11.4"
  }
 },
 "nbformat": 4,
 "nbformat_minor": 2
}
