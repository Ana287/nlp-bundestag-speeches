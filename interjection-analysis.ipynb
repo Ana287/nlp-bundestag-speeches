{
 "cells": [
  {
   "cell_type": "markdown",
   "metadata": {},
   "source": [
    "# Interjection Analysis"
   ]
  },
  {
   "cell_type": "code",
   "execution_count": 1,
   "metadata": {},
   "outputs": [],
   "source": [
    "import pandas as pd\n",
    "import matplotlib.pyplot as plt\n",
    "import numpy as np\n",
    "import re\n",
    "import gender_classification as gc\n",
    "from collections import Counter\n",
    "import pickle"
   ]
  },
  {
   "cell_type": "code",
   "execution_count": 3,
   "metadata": {},
   "outputs": [],
   "source": [
    "# load data\n",
    "df = pd.read_pickle('C:/Users/Ana/OneDrive - Hochschule Düsseldorf/MA/data_topics_revised.pkl')"
   ]
  },
  {
   "cell_type": "code",
   "execution_count": 4,
   "metadata": {},
   "outputs": [],
   "source": [
    "# add year column\n",
    "df['year'] = df['date'].dt.year"
   ]
  },
  {
   "cell_type": "code",
   "execution_count": 5,
   "metadata": {},
   "outputs": [
    {
     "data": {
      "text/html": [
       "<div>\n",
       "<style scoped>\n",
       "    .dataframe tbody tr th:only-of-type {\n",
       "        vertical-align: middle;\n",
       "    }\n",
       "\n",
       "    .dataframe tbody tr th {\n",
       "        vertical-align: top;\n",
       "    }\n",
       "\n",
       "    .dataframe thead th {\n",
       "        text-align: right;\n",
       "    }\n",
       "</style>\n",
       "<table border=\"1\" class=\"dataframe\">\n",
       "  <thead>\n",
       "    <tr style=\"text-align: right;\">\n",
       "      <th></th>\n",
       "      <th>text</th>\n",
       "      <th>date</th>\n",
       "      <th>legislative_period</th>\n",
       "      <th>speaker_name</th>\n",
       "      <th>speaker_gender</th>\n",
       "      <th>speaker_role</th>\n",
       "      <th>speaker_party</th>\n",
       "      <th>comments</th>\n",
       "      <th>id</th>\n",
       "      <th>speaker_id</th>\n",
       "      <th>speech_length</th>\n",
       "      <th>topic_distribution</th>\n",
       "      <th>year</th>\n",
       "    </tr>\n",
       "  </thead>\n",
       "  <tbody>\n",
       "    <tr>\n",
       "      <th>0</th>\n",
       "      <td>Sehr geehrter Herr Alterspräsident! So muss ...</td>\n",
       "      <td>2021-10-26</td>\n",
       "      <td>20</td>\n",
       "      <td>Gabriele Katzmarek</td>\n",
       "      <td>female</td>\n",
       "      <td>None</td>\n",
       "      <td>SPD</td>\n",
       "      <td>[(Beifall bei der SPD sowie bei Abgeordneten d...</td>\n",
       "      <td>SP-2021-0</td>\n",
       "      <td>1299</td>\n",
       "      <td>2593</td>\n",
       "      <td>{68: 0.35882655}</td>\n",
       "      <td>2021</td>\n",
       "    </tr>\n",
       "    <tr>\n",
       "      <th>1</th>\n",
       "      <td>Herr Präsident! Liebe Kolleginnen und Kolleg...</td>\n",
       "      <td>2021-10-26</td>\n",
       "      <td>20</td>\n",
       "      <td>Stefan Müller</td>\n",
       "      <td>male</td>\n",
       "      <td>None</td>\n",
       "      <td>CDU/CSU</td>\n",
       "      <td>[(Beifall bei der CDU/CSU sowie bei Abgeordnet...</td>\n",
       "      <td>SP-2021-1</td>\n",
       "      <td>4028</td>\n",
       "      <td>3796</td>\n",
       "      <td>{68: 0.46776655}</td>\n",
       "      <td>2021</td>\n",
       "    </tr>\n",
       "    <tr>\n",
       "      <th>2</th>\n",
       "      <td>Sehr geehrter Herr Alterspräsident Wolfgang ...</td>\n",
       "      <td>2021-10-26</td>\n",
       "      <td>20</td>\n",
       "      <td>Britta Haßelmann</td>\n",
       "      <td>female</td>\n",
       "      <td>None</td>\n",
       "      <td>BÜNDNIS 90/DIE GRÜNEN</td>\n",
       "      <td>[(Beifall beim BÜNDNIS 90/DIE GRÜNEN und bei d...</td>\n",
       "      <td>SP-2021-2</td>\n",
       "      <td>451</td>\n",
       "      <td>4301</td>\n",
       "      <td>{68: 0.26328164}</td>\n",
       "      <td>2021</td>\n",
       "    </tr>\n",
       "    <tr>\n",
       "      <th>3</th>\n",
       "      <td>Sehr geehrter Herr Präsident! Meine lieben K...</td>\n",
       "      <td>2021-10-26</td>\n",
       "      <td>20</td>\n",
       "      <td>Marco Buschmann</td>\n",
       "      <td>male</td>\n",
       "      <td>None</td>\n",
       "      <td>FDP</td>\n",
       "      <td>[(Jan Korte [DIE LINKE]: Oder Jugendweihe!), (...</td>\n",
       "      <td>SP-2021-3</td>\n",
       "      <td>3083</td>\n",
       "      <td>4555</td>\n",
       "      <td>{}</td>\n",
       "      <td>2021</td>\n",
       "    </tr>\n",
       "    <tr>\n",
       "      <th>4</th>\n",
       "      <td>Herr Alterspräsident! Lassen Sie mich zunäch...</td>\n",
       "      <td>2021-10-26</td>\n",
       "      <td>20</td>\n",
       "      <td>Stephan Brandner</td>\n",
       "      <td>male</td>\n",
       "      <td>None</td>\n",
       "      <td>AfD</td>\n",
       "      <td>[(Beifall bei der AfD), (Beifall bei Abgeordne...</td>\n",
       "      <td>SP-2021-4</td>\n",
       "      <td>4055</td>\n",
       "      <td>5996</td>\n",
       "      <td>{68: 0.3120498}</td>\n",
       "      <td>2021</td>\n",
       "    </tr>\n",
       "  </tbody>\n",
       "</table>\n",
       "</div>"
      ],
      "text/plain": [
       "                                                text       date  \\\n",
       "0    Sehr geehrter Herr Alterspräsident! So muss ... 2021-10-26   \n",
       "1    Herr Präsident! Liebe Kolleginnen und Kolleg... 2021-10-26   \n",
       "2    Sehr geehrter Herr Alterspräsident Wolfgang ... 2021-10-26   \n",
       "3    Sehr geehrter Herr Präsident! Meine lieben K... 2021-10-26   \n",
       "4    Herr Alterspräsident! Lassen Sie mich zunäch... 2021-10-26   \n",
       "\n",
       "  legislative_period        speaker_name speaker_gender speaker_role  \\\n",
       "0                 20  Gabriele Katzmarek         female         None   \n",
       "1                 20       Stefan Müller           male         None   \n",
       "2                 20    Britta Haßelmann         female         None   \n",
       "3                 20     Marco Buschmann           male         None   \n",
       "4                 20    Stephan Brandner           male         None   \n",
       "\n",
       "           speaker_party                                           comments  \\\n",
       "0                    SPD  [(Beifall bei der SPD sowie bei Abgeordneten d...   \n",
       "1                CDU/CSU  [(Beifall bei der CDU/CSU sowie bei Abgeordnet...   \n",
       "2  BÜNDNIS 90/DIE GRÜNEN  [(Beifall beim BÜNDNIS 90/DIE GRÜNEN und bei d...   \n",
       "3                    FDP  [(Jan Korte [DIE LINKE]: Oder Jugendweihe!), (...   \n",
       "4                    AfD  [(Beifall bei der AfD), (Beifall bei Abgeordne...   \n",
       "\n",
       "          id  speaker_id  speech_length topic_distribution  year  \n",
       "0  SP-2021-0        1299           2593   {68: 0.35882655}  2021  \n",
       "1  SP-2021-1        4028           3796   {68: 0.46776655}  2021  \n",
       "2  SP-2021-2         451           4301   {68: 0.26328164}  2021  \n",
       "3  SP-2021-3        3083           4555                 {}  2021  \n",
       "4  SP-2021-4        4055           5996    {68: 0.3120498}  2021  "
      ]
     },
     "execution_count": 5,
     "metadata": {},
     "output_type": "execute_result"
    }
   ],
   "source": [
    "df.head()"
   ]
  },
  {
   "cell_type": "code",
   "execution_count": 6,
   "metadata": {},
   "outputs": [
    {
     "data": {
      "text/plain": [
       "dtype('int32')"
      ]
     },
     "execution_count": 6,
     "metadata": {},
     "output_type": "execute_result"
    }
   ],
   "source": [
    "# change data type of period\n",
    "df = df.astype({'legislative_period': 'int32'})\n",
    "df[\"legislative_period\"].dtype"
   ]
  },
  {
   "cell_type": "code",
   "execution_count": 7,
   "metadata": {},
   "outputs": [],
   "source": [
    "# filter dataframe for speeches with comments\n",
    "df_comments = df[df['comments'].apply(lambda x: len(x) > 0)]"
   ]
  },
  {
   "cell_type": "code",
   "execution_count": 8,
   "metadata": {},
   "outputs": [
    {
     "data": {
      "text/plain": [
       "371023"
      ]
     },
     "execution_count": 8,
     "metadata": {},
     "output_type": "execute_result"
    }
   ],
   "source": [
    "# number of speeches with comments\n",
    "len(df_comments)"
   ]
  },
  {
   "cell_type": "markdown",
   "metadata": {},
   "source": [
    "## Matching and counting comments"
   ]
  },
  {
   "cell_type": "markdown",
   "metadata": {},
   "source": [
    "### Classifying speaker gender"
   ]
  },
  {
   "cell_type": "code",
   "execution_count": 9,
   "metadata": {},
   "outputs": [],
   "source": [
    "# function for classifying speaker gender by preambles # TODO Classify if approval or disapproval\n",
    "PRE_1 = re.compile(r'(((Weiterer )?(Gegenruf|Zuruf) (?P<article>des|der) Abg\\.))(?P<name>[\\w,\\s\\.]*)')\n",
    "PRE_2 = re.compile(r'(((Zuruf|Zustimmung) (?P<article>des|der) Abg\\.)|(Zuruf von))(?P<name>[\\w,\\s\\.]*)')\n",
    "PRE_3 = re.compile(r'(.*?)\\s*--\\s*(?P<name>[\\w\\s\\.-]+)$')\n",
    "\n",
    "PREAMBLES = [PRE_1, PRE_2, PRE_3]\n",
    "\n",
    "def get_speaker_gender_by_preamble(comment):\n",
    "    for PREAMBLE in PREAMBLES:\n",
    "            match = re.search(PREAMBLE, comment)\n",
    "            if(match):\n",
    "                comment = match.groupdict()[\"name\"]\n",
    "                if 'article' in match.groupdict():\n",
    "                    article = match.groupdict()[\"article\"]\n",
    "                    return 'female' if article == 'der' else 'male'"
   ]
  },
  {
   "cell_type": "code",
   "execution_count": 10,
   "metadata": {},
   "outputs": [
    {
     "data": {
      "text/plain": [
       "'male'"
      ]
     },
     "execution_count": 10,
     "metadata": {},
     "output_type": "execute_result"
    }
   ],
   "source": [
    "# test classification\n",
    "get_speaker_gender_by_preamble(\"Weiterer Gegenruf des Abg. Müller: So ein Quatsch, Herr Hauchler!\")"
   ]
  },
  {
   "cell_type": "code",
   "execution_count": 11,
   "metadata": {},
   "outputs": [],
   "source": [
    "# function for cleaning and classifying speaker names\n",
    "def get_speaker_gender_by_name(name):\n",
    "\n",
    "    gender_by_preamble = get_speaker_gender_by_preamble(name)\n",
    "    if gender_by_preamble:\n",
    "        return gender_by_preamble\n",
    "    \n",
    "    name = name.strip()\n",
    "    name_length = len(name.split())\n",
    "\n",
    "    if name_length > 1:\n",
    "        # remove 'Abgeordnete(r)' from name\n",
    "        name = re.sub('Abg\\.?', '', name).strip()\n",
    "\n",
    "        # if name 'Frau X', classify as female\n",
    "        if name.split()[0] == 'Frau':\n",
    "            return 'female'\n",
    "        \n",
    "        # if first substring is title, take second substring or return unknown\n",
    "        if \".\" in name.split()[0]:\n",
    "            if name_length > 2 :\n",
    "                first_name = name.split()[1]\n",
    "            else:\n",
    "                return 'unkown'\n",
    "        else:\n",
    "            first_name = name.split()[0]\n",
    "        return gc.get_gender(first_name)\n",
    "    \n",
    "    # return unknown if only last name is given\n",
    "    else:\n",
    "        return 'unknown'"
   ]
  },
  {
   "cell_type": "code",
   "execution_count": 12,
   "metadata": {},
   "outputs": [
    {
     "data": {
      "text/plain": [
       "'male'"
      ]
     },
     "execution_count": 12,
     "metadata": {},
     "output_type": "execute_result"
    }
   ],
   "source": [
    "# test classification\n",
    "get_speaker_gender_by_name(\"Weiterer Zuruf des Abg. Kai Gehring\")"
   ]
  },
  {
   "cell_type": "markdown",
   "metadata": {},
   "source": [
    "### Identifying speakers where gender classification by name doesn't work"
   ]
  },
  {
   "cell_type": "code",
   "execution_count": 32,
   "metadata": {},
   "outputs": [],
   "source": [
    "# load member data\n",
    "with open('data/member_data.pkl', 'rb') as f:\n",
    "   member_data = pickle.load(f)"
   ]
  },
  {
   "cell_type": "code",
   "execution_count": 68,
   "metadata": {},
   "outputs": [],
   "source": [
    "# function returning only the unique items out of multiple lists\n",
    "def flatten_list(str_list):\n",
    "    split_items = [str(item).split() for item in str_list]\n",
    "    flat_items = [item for sublist in split_items for item in sublist]\n",
    "    unique_items = list(set(flat_items))\n",
    "\n",
    "    return unique_items"
   ]
  },
  {
   "cell_type": "code",
   "execution_count": 85,
   "metadata": {},
   "outputs": [],
   "source": [
    "# identifying speakers and their genders by verifying new member data\n",
    "def identify_speaker(name, legislative_period):\n",
    "    splitted_name = name.split()\n",
    "    matching_members = []\n",
    "    member_has_title = True if 'Dr.' in splitted_name else False\n",
    "\n",
    "    # iterate through member data\n",
    "    for member in member_data:\n",
    "        names = member['last_name']\n",
    "        periods = member['periods']\n",
    "        titles = member['titles']\n",
    "\n",
    "        unique_names = flatten_list(names)\n",
    "        unique_titles = flatten_list(titles)\n",
    "            \n",
    "        if (len(set(unique_names) & set(splitted_name)) >= 1) and legislative_period in periods:\n",
    "            if member_has_title:\n",
    "                if 'Dr.' in unique_titles:\n",
    "                    matching_members.append(member_data.index(member))\n",
    "            else:\n",
    "                matching_members.append(member_data.index(member))\n",
    "\n",
    "    # return gender only if there is one definitive match\n",
    "    if len(matching_members) == 1:\n",
    "        member_id = matching_members[0]\n",
    "        #print(f\"Match found for df_speaker {name} and real speaker {member_data[member_id]['full_name']}\")\n",
    "        return member_data[member_id]['gender']\n",
    "    else:\n",
    "        #print(f\"No single match found for df_speaker {name}\")\n",
    "        return None"
   ]
  },
  {
   "cell_type": "code",
   "execution_count": 86,
   "metadata": {},
   "outputs": [
    {
     "data": {
      "text/plain": [
       "'male'"
      ]
     },
     "execution_count": 86,
     "metadata": {},
     "output_type": "execute_result"
    }
   ],
   "source": [
    "# test speaker identification\n",
    "identify_speaker(\"Dr. Ing. Kansy\", 9)"
   ]
  },
  {
   "cell_type": "markdown",
   "metadata": {},
   "source": [
    "### Cleaning comments"
   ]
  },
  {
   "cell_type": "code",
   "execution_count": 18,
   "metadata": {},
   "outputs": [],
   "source": [
    "# dict of faulty characters and names to replace\n",
    "chars_to_replace = {\n",
    "    '\\xa0': ' ',\n",
    "    '…': '...',\n",
    "    '\\u202f': '',\n",
    "    '„': '\"',\n",
    "    '”': '\"',\n",
    "    '“': '\"',\n",
    "    '§': 'Paragraph',\n",
    "    '\\n                   ': '',\n",
    "    'Prinz zu Sayn-Wittgenstein-Hohenstein': 'Botho Prinz zu Sayn-Wittgenstein-Hohenstein',\n",
    "    'Dr.Kohl': 'Dr. Kohl',\n",
    "    'Dr. -Ing.': 'Dr.-Ing.',\n",
    "}"
   ]
  },
  {
   "cell_type": "code",
   "execution_count": 19,
   "metadata": {},
   "outputs": [],
   "source": [
    "# function for replacing in-comment hyphens (that are not used for separation between comments)\n",
    "def replace_hyphens(string):\n",
    "    hyphen = re.compile(r'[a-zA-Z\\.\\\"]+(?P<hyphen>-)[a-zA-Z\\.]+')\n",
    "\n",
    "    matches = hyphen.finditer(string)\n",
    "    hyphens_pos = []\n",
    "\n",
    "    for match in matches:\n",
    "        if 'hyphen' in match.groupdict():\n",
    "            pos = match.start(1)\n",
    "            hyphens_pos.append(pos)\n",
    "\n",
    "    cleaned_str = string \n",
    "    for pos in hyphens_pos:\n",
    "        cleaned_str = cleaned_str[: pos] + ' ' + cleaned_str[pos + 1:]\n",
    "\n",
    "    return cleaned_str"
   ]
  },
  {
   "cell_type": "code",
   "execution_count": 20,
   "metadata": {},
   "outputs": [
    {
     "data": {
      "text/plain": [
       "'(Rawe [CDU/CSU] : Er hat den Kanzler gemeint! — Seiters [CDU/CSU]: Meinen Sie die Dr. Ing SPD Flügel? — Franke [Osnabrück] [CDU/CSU]: Meinen Sie Herrn Bangemann? — Weitere Zurufe von der CDU/CSU)'"
      ]
     },
     "execution_count": 20,
     "metadata": {},
     "output_type": "execute_result"
    }
   ],
   "source": [
    "# test hyphen replacement\n",
    "test_string = \"(Rawe [CDU/CSU] : Er hat den-Kanzler gemeint! — Seiters [CDU/CSU]: Meinen Sie die Dr.-Ing SPD-Flügel? — Franke [Osnabrück] [CDU/CSU]: Meinen Sie Herrn-Bangemann? — Weitere Zurufe von der CDU/CSU)\"\n",
    "\n",
    "replace_hyphens(test_string)"
   ]
  },
  {
   "cell_type": "code",
   "execution_count": 21,
   "metadata": {},
   "outputs": [],
   "source": [
    "# function for cleaning unmatched interjections in multiple-comment-string\n",
    "to_remove = [' ', '']\n",
    "separators = r'—|–'\n",
    "\n",
    "def clean_rest_comments(rest_string):\n",
    "    rest_string = re.sub('[()]', '', rest_string)\n",
    "    comments = re.split(separators, rest_string)\n",
    "    comments = [c for c in comments if c not in to_remove]\n",
    "\n",
    "    for index, comment in enumerate(comments):\n",
    "        comments[index] = comment.strip()\n",
    "\n",
    "    return comments"
   ]
  },
  {
   "cell_type": "markdown",
   "metadata": {},
   "source": [
    "### Classifying reactions"
   ]
  },
  {
   "cell_type": "code",
   "execution_count": 22,
   "metadata": {},
   "outputs": [],
   "source": [
    "# function for classifying reaction interjections\n",
    "def check_reaction(interjection):\n",
    "    cheerful_reactions = ['Heiterkeit', 'Heiterkeit und Beifall', 'Beifall und Heiterkeit']\n",
    "    disgust_pattern = re.compile(r'(Pfui Rufe?)|(Pfui)')\n",
    "\n",
    "    for reaction in cheerful_reactions:\n",
    "        if reaction in interjection:\n",
    "            return 'cheerfulness'\n",
    "    if 'Beifall' in interjection:\n",
    "        return 'applause'\n",
    "    elif 'Unruhe' in interjection:\n",
    "        return 'disquiet'\n",
    "    elif 'Lachen' in interjection:\n",
    "        return 'laughter'\n",
    "    elif 'Zustimmung' in interjection:\n",
    "        return 'approval'\n",
    "    elif disgust_pattern.search(interjection) is not None:\n",
    "        return 'disgust'\n",
    "    elif 'Widerspruch' in interjection:\n",
    "        return 'objection'\n",
    "    else:\n",
    "        return"
   ]
  },
  {
   "cell_type": "code",
   "execution_count": 23,
   "metadata": {},
   "outputs": [],
   "source": [
    "all_reactions = ['applause', 'cheerfulness', 'laughter', 'approval', 'disgust', 'disquiet', 'objection']"
   ]
  },
  {
   "cell_type": "code",
   "execution_count": 24,
   "metadata": {},
   "outputs": [],
   "source": [
    "def check_rest_comment(comment):\n",
    "    reactions = []\n",
    "    female_speaker_count = 0\n",
    "    male_speaker_count = 0\n",
    "\n",
    "    unmatched_comments = clean_rest_comments(comment)\n",
    "    \n",
    "    for unmatched_comment in unmatched_comments:\n",
    "        reaction = check_reaction(unmatched_comment)\n",
    "        if(reaction): \n",
    "            reactions.append(reaction)\n",
    "\n",
    "        if get_speaker_gender_by_preamble(unmatched_comment) == 'female':\n",
    "            female_speaker_count += 1\n",
    "        if get_speaker_gender_by_preamble(unmatched_comment) == 'male':\n",
    "            male_speaker_count += 1\n",
    "        \n",
    "\n",
    "    return reactions, female_speaker_count, male_speaker_count"
   ]
  },
  {
   "cell_type": "code",
   "execution_count": 25,
   "metadata": {},
   "outputs": [
    {
     "data": {
      "text/plain": [
       "(['applause'], 0, 1)"
      ]
     },
     "execution_count": 25,
     "metadata": {},
     "output_type": "execute_result"
    }
   ],
   "source": [
    "check_rest_comment(\"(Beifall bei der AfD – – Weiterer Zuruf des Abg. Norbert Kleinwächter [AfD])\")"
   ]
  },
  {
   "cell_type": "markdown",
   "metadata": {},
   "source": [
    "### Counting comment types and identifying speakers and their gender"
   ]
  },
  {
   "cell_type": "code",
   "execution_count": null,
   "metadata": {},
   "outputs": [],
   "source": [
    "# recognizes comments of named speakers\n",
    "RE_SPEAKER_DIRECTLY = re.compile(r'(?P<speaker>[\\w]+[\\w\\s\\.]*) \\[(?P<party>[\\w,/\\s]*)\\]: (?P<comment>[\\w,!\\s\\.\\?\\\":]*)( - )*')\n",
    "\n",
    "RES = [RE_SPEAKER_DIRECTLY]\n",
    "\n",
    "comment_counts = {}\n",
    "comment_speakers = {}\n",
    "comment_fem_speakers = {}\n",
    "comment_male_speakers = {}\n",
    "reaction_counts = {}\n",
    "\n",
    "# comment in all the print statements to assemble a text file containing all comment and reaction matches\n",
    "# f = open('reference files/matches.txt', 'w', encoding='utf-8')\n",
    "\n",
    "for index, speech in df_comments.iterrows():\n",
    "    # print(f\"Speech {index}:\", file=f)\n",
    "    comment_count = 0\n",
    "    speakers = []\n",
    "    fem_speakers = 0\n",
    "    male_speakers = 0\n",
    "    reactions = []\n",
    "\n",
    "    for comment in speech['comments']:\n",
    "        # clean comments\n",
    "        for key, value in chars_to_replace.items():\n",
    "            comment = comment.replace(key, value)\n",
    "        comment = replace_hyphens(comment)\n",
    "\n",
    "        # search for regex\n",
    "        for RE in RES:\n",
    "            rest_str = comment\n",
    "\n",
    "            if re.search(RE, comment) is not None:\n",
    "                matches = RE.finditer(comment)\n",
    "                # print(f\"    Matches found in comment: {comment}\", file=f)\n",
    "\n",
    "                for match in matches:\n",
    "                    if 'speaker' in match.groupdict():\n",
    "                        speaker = match.groupdict()['speaker']\n",
    "                        comment_count += 1\n",
    "                        # print(f\"        Match: {match.group()}\", file=f)\n",
    "\n",
    "                        if speaker != \"\":\n",
    "                            speakers.append(speaker)\n",
    "                    \n",
    "                    # get unmatched comments\n",
    "                    rest_str = rest_str.replace(match.group(), '')\n",
    "                    if rest_str != \"()\":\n",
    "                        reactions_in_comment, female_speaker_count, male_speaker_count = check_rest_comment(rest_str)\n",
    "                        reactions.extend(reactions_in_comment)\n",
    "                        fem_speakers += female_speaker_count\n",
    "                        male_speakers += male_speaker_count\n",
    "                        # print(f\"    Unmatched Rest-Comment: {rest_str}\", file=f)\n",
    "                        # if (len(reactions_in_comment) > 0):\n",
    "                        #     print(f\"    Found {len(reactions_in_comment)} reactions in: {rest_str}\", file=f)\n",
    "                        #     print(f\"        Reactions: {reactions_in_comment}\", file=f)\n",
    "            \n",
    "            # if no direct speaker match, check for reactions\n",
    "            else:\n",
    "                reactions_in_comment, female_speaker_count, male_speaker_count = check_rest_comment(rest_str)\n",
    "                reactions.extend(reactions_in_comment)\n",
    "                fem_speakers += female_speaker_count\n",
    "                male_speakers += male_speaker_count\n",
    "                # if (len(reactions_in_comment) > 0):\n",
    "                #     print(f\"    Found {len(reactions_in_comment)} reactions in: {comment}\", file=f)\n",
    "                #     print(f\"        Reactions: {reactions_in_comment}\", file=f)\n",
    "\n",
    "    # get speaker gender\n",
    "    for speaker in speakers:\n",
    "        if get_speaker_gender_by_name(speaker) == 'female':\n",
    "            fem_speakers += 1\n",
    "        elif get_speaker_gender_by_name(speaker) == 'male':\n",
    "            male_speakers += 1\n",
    "        elif get_speaker_gender_by_name(speaker) == 'unknown':\n",
    "            identified_gender = identify_speaker(speaker, speech.legislative_period)\n",
    "            if identified_gender == 'female':\n",
    "                fem_speakers += 1\n",
    "            elif identified_gender == 'male':\n",
    "                male_speakers += 1\n",
    "\n",
    "    comment_counts[index] = comment_count\n",
    "    comment_speakers[index] = speakers\n",
    "    comment_fem_speakers[index] = fem_speakers\n",
    "    comment_male_speakers[index] = male_speakers\n",
    "    reaction_counts[index] = Counter(reactions)\n",
    "\n",
    "# f.close()"
   ]
  },
  {
   "cell_type": "code",
   "execution_count": 60,
   "metadata": {},
   "outputs": [
    {
     "data": {
      "text/plain": [
       "3"
      ]
     },
     "execution_count": 60,
     "metadata": {},
     "output_type": "execute_result"
    }
   ],
   "source": [
    "# get comment count by speech id\n",
    "comment_counts[2]"
   ]
  },
  {
   "cell_type": "code",
   "execution_count": 61,
   "metadata": {},
   "outputs": [
    {
     "data": {
      "text/plain": [
       "371023"
      ]
     },
     "execution_count": 61,
     "metadata": {},
     "output_type": "execute_result"
    }
   ],
   "source": [
    "len(comment_counts)"
   ]
  },
  {
   "cell_type": "code",
   "execution_count": 87,
   "metadata": {},
   "outputs": [
    {
     "name": "stdout",
     "output_type": "stream",
     "text": [
      "\n",
      "      Total Count of Direct Speaker Comments: 601690\n",
      "      Total Count of Reactions: 1133955\n",
      "      Total Count of Comments by Male Speakers: 557518\n",
      "      Total Count of Comments by Female Speaker: 146575\n",
      "      \n"
     ]
    }
   ],
   "source": [
    "# get total counts of comments and reactions\n",
    "total_count_comments = Counter(comment_counts).total()\n",
    "total_count_fem_speakers = Counter(comment_fem_speakers).total()\n",
    "total_count_male_speakers = Counter(comment_male_speakers).total()\n",
    "total_count_reactions = 0\n",
    "\n",
    "for reactions in reaction_counts.values():\n",
    "    total_count_reactions = total_count_reactions + Counter(reactions).total()\n",
    "\n",
    "print(f'''\n",
    "      Total Count of Direct Speaker Comments: {total_count_comments}\n",
    "      Total Count of Reactions: {total_count_reactions}\n",
    "      Total Count of Comments by Male Speakers: {total_count_male_speakers}\n",
    "      Total Count of Comments by Female Speaker: {total_count_fem_speakers}\n",
    "      ''')"
   ]
  },
  {
   "cell_type": "code",
   "execution_count": null,
   "metadata": {},
   "outputs": [],
   "source": [
    "# add columns for comment- and speaker gender count\n",
    "df_comments['comment_count'] = comment_counts.values()\n",
    "df_comments['comment_fem_speakers'] = comment_fem_speakers.values()\n",
    "df_comments['comment_male_speakers'] = comment_male_speakers.values()\n",
    "df_comments['reaction_count'] = reaction_counts.values()"
   ]
  },
  {
   "cell_type": "code",
   "execution_count": 89,
   "metadata": {},
   "outputs": [
    {
     "data": {
      "text/html": [
       "<div>\n",
       "<style scoped>\n",
       "    .dataframe tbody tr th:only-of-type {\n",
       "        vertical-align: middle;\n",
       "    }\n",
       "\n",
       "    .dataframe tbody tr th {\n",
       "        vertical-align: top;\n",
       "    }\n",
       "\n",
       "    .dataframe thead th {\n",
       "        text-align: right;\n",
       "    }\n",
       "</style>\n",
       "<table border=\"1\" class=\"dataframe\">\n",
       "  <thead>\n",
       "    <tr style=\"text-align: right;\">\n",
       "      <th></th>\n",
       "      <th>text</th>\n",
       "      <th>date</th>\n",
       "      <th>legislative_period</th>\n",
       "      <th>speaker_name</th>\n",
       "      <th>speaker_gender</th>\n",
       "      <th>speaker_role</th>\n",
       "      <th>speaker_party</th>\n",
       "      <th>comments</th>\n",
       "      <th>id</th>\n",
       "      <th>speaker_id</th>\n",
       "      <th>speech_length</th>\n",
       "      <th>topic_distribution</th>\n",
       "      <th>year</th>\n",
       "      <th>comment_count</th>\n",
       "      <th>comment_fem_speakers</th>\n",
       "      <th>comment_male_speakers</th>\n",
       "      <th>reaction_count</th>\n",
       "    </tr>\n",
       "  </thead>\n",
       "  <tbody>\n",
       "    <tr>\n",
       "      <th>0</th>\n",
       "      <td>Sehr geehrter Herr Alterspräsident! So muss ...</td>\n",
       "      <td>2021-10-26</td>\n",
       "      <td>20</td>\n",
       "      <td>Gabriele Katzmarek</td>\n",
       "      <td>female</td>\n",
       "      <td>None</td>\n",
       "      <td>SPD</td>\n",
       "      <td>[(Beifall bei der SPD sowie bei Abgeordneten d...</td>\n",
       "      <td>SP-2021-0</td>\n",
       "      <td>1299</td>\n",
       "      <td>2593</td>\n",
       "      <td>{68: 0.35882655}</td>\n",
       "      <td>2021</td>\n",
       "      <td>0</td>\n",
       "      <td>0</td>\n",
       "      <td>0</td>\n",
       "      <td>{'applause': 2}</td>\n",
       "    </tr>\n",
       "    <tr>\n",
       "      <th>1</th>\n",
       "      <td>Herr Präsident! Liebe Kolleginnen und Kolleg...</td>\n",
       "      <td>2021-10-26</td>\n",
       "      <td>20</td>\n",
       "      <td>Stefan Müller</td>\n",
       "      <td>male</td>\n",
       "      <td>None</td>\n",
       "      <td>CDU/CSU</td>\n",
       "      <td>[(Beifall bei der CDU/CSU sowie bei Abgeordnet...</td>\n",
       "      <td>SP-2021-1</td>\n",
       "      <td>4028</td>\n",
       "      <td>3796</td>\n",
       "      <td>{68: 0.46776655}</td>\n",
       "      <td>2021</td>\n",
       "      <td>4</td>\n",
       "      <td>5</td>\n",
       "      <td>2</td>\n",
       "      <td>{'applause': 7}</td>\n",
       "    </tr>\n",
       "    <tr>\n",
       "      <th>2</th>\n",
       "      <td>Sehr geehrter Herr Alterspräsident Wolfgang ...</td>\n",
       "      <td>2021-10-26</td>\n",
       "      <td>20</td>\n",
       "      <td>Britta Haßelmann</td>\n",
       "      <td>female</td>\n",
       "      <td>None</td>\n",
       "      <td>BÜNDNIS 90/DIE GRÜNEN</td>\n",
       "      <td>[(Beifall beim BÜNDNIS 90/DIE GRÜNEN und bei d...</td>\n",
       "      <td>SP-2021-2</td>\n",
       "      <td>451</td>\n",
       "      <td>4301</td>\n",
       "      <td>{68: 0.26328164}</td>\n",
       "      <td>2021</td>\n",
       "      <td>3</td>\n",
       "      <td>2</td>\n",
       "      <td>2</td>\n",
       "      <td>{'applause': 9}</td>\n",
       "    </tr>\n",
       "    <tr>\n",
       "      <th>3</th>\n",
       "      <td>Sehr geehrter Herr Präsident! Meine lieben K...</td>\n",
       "      <td>2021-10-26</td>\n",
       "      <td>20</td>\n",
       "      <td>Marco Buschmann</td>\n",
       "      <td>male</td>\n",
       "      <td>None</td>\n",
       "      <td>FDP</td>\n",
       "      <td>[(Jan Korte [DIE LINKE]: Oder Jugendweihe!), (...</td>\n",
       "      <td>SP-2021-3</td>\n",
       "      <td>3083</td>\n",
       "      <td>4555</td>\n",
       "      <td>{}</td>\n",
       "      <td>2021</td>\n",
       "      <td>1</td>\n",
       "      <td>0</td>\n",
       "      <td>1</td>\n",
       "      <td>{'cheerfulness': 1, 'applause': 3}</td>\n",
       "    </tr>\n",
       "    <tr>\n",
       "      <th>4</th>\n",
       "      <td>Herr Alterspräsident! Lassen Sie mich zunäch...</td>\n",
       "      <td>2021-10-26</td>\n",
       "      <td>20</td>\n",
       "      <td>Stephan Brandner</td>\n",
       "      <td>male</td>\n",
       "      <td>None</td>\n",
       "      <td>AfD</td>\n",
       "      <td>[(Beifall bei der AfD), (Beifall bei Abgeordne...</td>\n",
       "      <td>SP-2021-4</td>\n",
       "      <td>4055</td>\n",
       "      <td>5996</td>\n",
       "      <td>{68: 0.3120498}</td>\n",
       "      <td>2021</td>\n",
       "      <td>4</td>\n",
       "      <td>3</td>\n",
       "      <td>1</td>\n",
       "      <td>{'applause': 10, 'laughter': 1}</td>\n",
       "    </tr>\n",
       "  </tbody>\n",
       "</table>\n",
       "</div>"
      ],
      "text/plain": [
       "                                                text       date  \\\n",
       "0    Sehr geehrter Herr Alterspräsident! So muss ... 2021-10-26   \n",
       "1    Herr Präsident! Liebe Kolleginnen und Kolleg... 2021-10-26   \n",
       "2    Sehr geehrter Herr Alterspräsident Wolfgang ... 2021-10-26   \n",
       "3    Sehr geehrter Herr Präsident! Meine lieben K... 2021-10-26   \n",
       "4    Herr Alterspräsident! Lassen Sie mich zunäch... 2021-10-26   \n",
       "\n",
       "   legislative_period        speaker_name speaker_gender speaker_role  \\\n",
       "0                  20  Gabriele Katzmarek         female         None   \n",
       "1                  20       Stefan Müller           male         None   \n",
       "2                  20    Britta Haßelmann         female         None   \n",
       "3                  20     Marco Buschmann           male         None   \n",
       "4                  20    Stephan Brandner           male         None   \n",
       "\n",
       "           speaker_party                                           comments  \\\n",
       "0                    SPD  [(Beifall bei der SPD sowie bei Abgeordneten d...   \n",
       "1                CDU/CSU  [(Beifall bei der CDU/CSU sowie bei Abgeordnet...   \n",
       "2  BÜNDNIS 90/DIE GRÜNEN  [(Beifall beim BÜNDNIS 90/DIE GRÜNEN und bei d...   \n",
       "3                    FDP  [(Jan Korte [DIE LINKE]: Oder Jugendweihe!), (...   \n",
       "4                    AfD  [(Beifall bei der AfD), (Beifall bei Abgeordne...   \n",
       "\n",
       "          id  speaker_id  speech_length topic_distribution  year  \\\n",
       "0  SP-2021-0        1299           2593   {68: 0.35882655}  2021   \n",
       "1  SP-2021-1        4028           3796   {68: 0.46776655}  2021   \n",
       "2  SP-2021-2         451           4301   {68: 0.26328164}  2021   \n",
       "3  SP-2021-3        3083           4555                 {}  2021   \n",
       "4  SP-2021-4        4055           5996    {68: 0.3120498}  2021   \n",
       "\n",
       "   comment_count  comment_fem_speakers  comment_male_speakers  \\\n",
       "0              0                     0                      0   \n",
       "1              4                     5                      2   \n",
       "2              3                     2                      2   \n",
       "3              1                     0                      1   \n",
       "4              4                     3                      1   \n",
       "\n",
       "                       reaction_count  \n",
       "0                     {'applause': 2}  \n",
       "1                     {'applause': 7}  \n",
       "2                     {'applause': 9}  \n",
       "3  {'cheerfulness': 1, 'applause': 3}  \n",
       "4     {'applause': 10, 'laughter': 1}  "
      ]
     },
     "execution_count": 89,
     "metadata": {},
     "output_type": "execute_result"
    }
   ],
   "source": [
    "df_comments.head()"
   ]
  },
  {
   "cell_type": "code",
   "execution_count": 90,
   "metadata": {},
   "outputs": [
    {
     "data": {
      "text/plain": [
       "Counter({'objection': 1, 'disgust': 1})"
      ]
     },
     "execution_count": 90,
     "metadata": {},
     "output_type": "execute_result"
    }
   ],
   "source": [
    "df_comments[\"reaction_count\"][15742] #[\"applause\"]"
   ]
  },
  {
   "cell_type": "code",
   "execution_count": 91,
   "metadata": {},
   "outputs": [
    {
     "name": "stdout",
     "output_type": "stream",
     "text": [
      "no direct speaker comment: (Zuruf.)\n",
      "no direct speaker comment: (Widerspruch in der Mitte und rechts.)\n",
      "no direct speaker comment: (Zurufe rechts und Gegenrufe links.)\n",
      "no direct speaker comment: (Hört! Hört! bei der SPD.)\n",
      "no direct speaker comment: (Hört! Hört! — Abg. Hilbert: Pfui! - Weitere Pfui-Rufe rechts. — Glocke des Präsidenten.)\n"
     ]
    }
   ],
   "source": [
    "# test comment count and speaker classification per speech\n",
    "RE_SPEAKER_DIRECTLY = re.compile(r'(?P<speaker>[\\w]+[\\w\\s\\.-]*) \\[(?P<party>[\\w,/\\s]*)\\]: (?P<comment>[\\w,!\\s\\.\\?\\\"]*)( - )*')\n",
    "\n",
    "RES = [RE_SPEAKER_DIRECTLY]\n",
    "\n",
    "for comment in df_comments[\"comments\"][15742]: # insert speech id here\n",
    "    for RE in RES:\n",
    "        if re.search(RE, comment) is not None:\n",
    "            for match in re.finditer(RE, comment):\n",
    "                print(match.groupdict())\n",
    "        else:\n",
    "            print(f\"no direct speaker comment: {comment}\")"
   ]
  },
  {
   "cell_type": "markdown",
   "metadata": {},
   "source": [
    "## Calculating Means per Gender"
   ]
  },
  {
   "cell_type": "code",
   "execution_count": 92,
   "metadata": {},
   "outputs": [],
   "source": [
    "comment_stats = {\n",
    "    'female': [],\n",
    "    'male': []\n",
    "    }"
   ]
  },
  {
   "cell_type": "code",
   "execution_count": 94,
   "metadata": {},
   "outputs": [
    {
     "data": {
      "text/plain": [
       "speaker_gender\n",
       "female    1.632006\n",
       "male      1.618209\n",
       "Name: comment_count, dtype: float64"
      ]
     },
     "execution_count": 94,
     "metadata": {},
     "output_type": "execute_result"
    }
   ],
   "source": [
    "# calculate average comment count per speech by gender\n",
    "average_comments_by_gender = df_comments.groupby('speaker_gender')['comment_count'].mean()\n",
    "average_comments_by_gender"
   ]
  },
  {
   "cell_type": "code",
   "execution_count": 95,
   "metadata": {},
   "outputs": [
    {
     "data": {
      "text/plain": [
       "speaker_gender\n",
       "female    0.417810\n",
       "male      0.387333\n",
       "Name: comment_fem_speakers, dtype: float64"
      ]
     },
     "execution_count": 95,
     "metadata": {},
     "output_type": "execute_result"
    }
   ],
   "source": [
    "# calculate average count of female commentators per speech by gender\n",
    "female_commentators_by_gender = df_comments.groupby('speaker_gender')['comment_fem_speakers'].mean()\n",
    "female_commentators_by_gender"
   ]
  },
  {
   "cell_type": "code",
   "execution_count": 96,
   "metadata": {},
   "outputs": [
    {
     "data": {
      "text/plain": [
       "speaker_gender\n",
       "female    1.436305\n",
       "male      1.525172\n",
       "Name: comment_male_speakers, dtype: float64"
      ]
     },
     "execution_count": 96,
     "metadata": {},
     "output_type": "execute_result"
    }
   ],
   "source": [
    "# calculate average count of male commentators per speech by gender\n",
    "male_commentators_by_gender = df_comments.groupby('speaker_gender')['comment_male_speakers'].mean()\n",
    "male_commentators_by_gender"
   ]
  },
  {
   "cell_type": "code",
   "execution_count": 97,
   "metadata": {},
   "outputs": [
    {
     "name": "stdout",
     "output_type": "stream",
     "text": [
      "    female speeches:\n",
      "applause        3.445165\n",
      "disquiet        1.144841\n",
      "laughter        1.238906\n",
      "cheerfulness    1.225658\n",
      "objection       1.149581\n",
      "approval        1.283140\n",
      "disgust         1.079710\n",
      "dtype: float64\n",
      "    male speeches:\n",
      "applause        3.650318\n",
      "cheerfulness    1.501184\n",
      "laughter        1.357033\n",
      "objection       1.176043\n",
      "approval        1.356110\n",
      "disgust         1.218073\n",
      "disquiet        1.256039\n",
      "dtype: float64\n"
     ]
    }
   ],
   "source": [
    "# calculate average count of reactions per speech by gender\n",
    "reactions_by_gender = df_comments.groupby('speaker_gender')['reaction_count']\n",
    "\n",
    "avg_reactions_male_speeches = pd.json_normalize(reactions_by_gender.get_group(\"male\")).mean()\n",
    "avg_reactions_fem_speeches = pd.json_normalize(reactions_by_gender.get_group(\"female\")).mean()\n",
    "\n",
    "print(f\"    female speeches:\\n{avg_reactions_fem_speeches}\\n    male speeches:\\n{avg_reactions_male_speeches}\")"
   ]
  },
  {
   "cell_type": "markdown",
   "metadata": {},
   "source": [
    "### Assemble Dataframe for Stats"
   ]
  },
  {
   "cell_type": "code",
   "execution_count": null,
   "metadata": {},
   "outputs": [],
   "source": [
    "for gender in ['male', 'female']:\n",
    "    comment_stats[gender].extend([average_comments_by_gender[gender], female_commentators_by_gender[gender], male_commentators_by_gender[gender]])\n",
    "\n",
    "for reaction in all_reactions: # use list of reactions to ensure correct order\n",
    "    comment_stats['male'].append(avg_reactions_male_speeches[reaction])\n",
    "    comment_stats['female'].append(avg_reactions_fem_speeches[reaction])\n",
    "\n",
    "comment_stats"
   ]
  },
  {
   "cell_type": "code",
   "execution_count": 99,
   "metadata": {},
   "outputs": [
    {
     "data": {
      "text/plain": [
       "['avg_comments_per_speech',\n",
       " 'avg_female_commentators',\n",
       " 'avg_male_commentators',\n",
       " 'avg_applause',\n",
       " 'avg_cheerfulness',\n",
       " 'avg_laughter',\n",
       " 'avg_approval',\n",
       " 'avg_disgust',\n",
       " 'avg_disquiet',\n",
       " 'avg_objection']"
      ]
     },
     "execution_count": 99,
     "metadata": {},
     "output_type": "execute_result"
    }
   ],
   "source": [
    "# get column names\n",
    "def get_columns():\n",
    "    comment_stats = ['avg_comments_per_speech', 'avg_female_commentators', 'avg_male_commentators']\n",
    "    reaction_stats = []\n",
    "\n",
    "    for reaction in all_reactions:\n",
    "        reaction_stats.append(f'avg_{reaction}')\n",
    "\n",
    "    comment_stats.extend(reaction_stats)\n",
    "\n",
    "    return comment_stats\n",
    "\n",
    "get_columns()"
   ]
  },
  {
   "cell_type": "code",
   "execution_count": 100,
   "metadata": {},
   "outputs": [
    {
     "data": {
      "text/html": [
       "<div>\n",
       "<style scoped>\n",
       "    .dataframe tbody tr th:only-of-type {\n",
       "        vertical-align: middle;\n",
       "    }\n",
       "\n",
       "    .dataframe tbody tr th {\n",
       "        vertical-align: top;\n",
       "    }\n",
       "\n",
       "    .dataframe thead th {\n",
       "        text-align: right;\n",
       "    }\n",
       "</style>\n",
       "<table border=\"1\" class=\"dataframe\">\n",
       "  <thead>\n",
       "    <tr style=\"text-align: right;\">\n",
       "      <th></th>\n",
       "      <th>avg_comments_per_speech</th>\n",
       "      <th>avg_female_commentators</th>\n",
       "      <th>avg_male_commentators</th>\n",
       "      <th>avg_applause</th>\n",
       "      <th>avg_cheerfulness</th>\n",
       "      <th>avg_laughter</th>\n",
       "      <th>avg_approval</th>\n",
       "      <th>avg_disgust</th>\n",
       "      <th>avg_disquiet</th>\n",
       "      <th>avg_objection</th>\n",
       "    </tr>\n",
       "  </thead>\n",
       "  <tbody>\n",
       "    <tr>\n",
       "      <th>female</th>\n",
       "      <td>1.632006</td>\n",
       "      <td>0.417810</td>\n",
       "      <td>1.436305</td>\n",
       "      <td>3.445165</td>\n",
       "      <td>1.225658</td>\n",
       "      <td>1.238906</td>\n",
       "      <td>1.28314</td>\n",
       "      <td>1.079710</td>\n",
       "      <td>1.144841</td>\n",
       "      <td>1.149581</td>\n",
       "    </tr>\n",
       "    <tr>\n",
       "      <th>male</th>\n",
       "      <td>1.618209</td>\n",
       "      <td>0.387333</td>\n",
       "      <td>1.525172</td>\n",
       "      <td>3.650318</td>\n",
       "      <td>1.501184</td>\n",
       "      <td>1.357033</td>\n",
       "      <td>1.35611</td>\n",
       "      <td>1.218073</td>\n",
       "      <td>1.256039</td>\n",
       "      <td>1.176043</td>\n",
       "    </tr>\n",
       "  </tbody>\n",
       "</table>\n",
       "</div>"
      ],
      "text/plain": [
       "        avg_comments_per_speech  avg_female_commentators  \\\n",
       "female                 1.632006                 0.417810   \n",
       "male                   1.618209                 0.387333   \n",
       "\n",
       "        avg_male_commentators  avg_applause  avg_cheerfulness  avg_laughter  \\\n",
       "female               1.436305      3.445165          1.225658      1.238906   \n",
       "male                 1.525172      3.650318          1.501184      1.357033   \n",
       "\n",
       "        avg_approval  avg_disgust  avg_disquiet  avg_objection  \n",
       "female       1.28314     1.079710      1.144841       1.149581  \n",
       "male         1.35611     1.218073      1.256039       1.176043  "
      ]
     },
     "execution_count": 100,
     "metadata": {},
     "output_type": "execute_result"
    }
   ],
   "source": [
    "# create dataframe\n",
    "df_comment_stats = pd.DataFrame.from_dict(comment_stats, orient='index', columns=get_columns())\n",
    "df_comment_stats"
   ]
  },
  {
   "cell_type": "markdown",
   "metadata": {},
   "source": [
    "## Plot Interjection Stats"
   ]
  },
  {
   "cell_type": "code",
   "execution_count": 101,
   "metadata": {},
   "outputs": [],
   "source": [
    "# function for formatting dataframe column names into x_labels\n",
    "to_replace = {\n",
    "    '_': ' ',\n",
    "    'avg': '',\n",
    "    ' ': '\\n'\n",
    "}\n",
    "\n",
    "def get_stat_labels(stats):\n",
    "    stats = list(map(lambda stat: format_label(str(stat)), stats))\n",
    "    return stats\n",
    "\n",
    "\n",
    "def format_label(label):\n",
    "    for key, value in to_replace.items():\n",
    "        label = label.replace(key, value)\n",
    "    \n",
    "    label = label.strip().title()\n",
    "        \n",
    "    return label"
   ]
  },
  {
   "cell_type": "code",
   "execution_count": 102,
   "metadata": {},
   "outputs": [
    {
     "data": {
      "image/png": "[encoded data removed]",
      "text/plain": [
       "<Figure size 2000x1000 with 1 Axes>"
      ]
     },
     "metadata": {},
     "output_type": "display_data"
    }
   ],
   "source": [
    "stats = df_comment_stats.columns\n",
    "x = np.arange(len(stats))\n",
    "width = 0.25 # bar width\n",
    "multiplier = 0\n",
    "\n",
    "fig, ax = plt.subplots(figsize=(20, 10))\n",
    "colors = {'female': 'orange', 'male': 'lightblue'}\n",
    "\n",
    "for gender in ['female', 'male']:\n",
    "    values = df_comment_stats.loc[gender].values\n",
    "    offset = width * multiplier\n",
    "    rects = ax.bar(\n",
    "        x + offset, \n",
    "        values, \n",
    "        width, \n",
    "        label=gender,\n",
    "        color=colors[gender]\n",
    "        )\n",
    "    ax.bar_label(rects, np.round(values, decimals=2), padding=3)\n",
    "    multiplier += 1\n",
    "\n",
    "ax.set_ylabel('Average Interjection per Speech')\n",
    "ax.set_title('Interjections')\n",
    "ax.set_xticks(x + width / 2, get_stat_labels(stats), rotation=20)\n",
    "ax.legend()\n",
    "plt.grid(True)\n",
    "ax.set_axisbelow(True)\n",
    "\n",
    "plt.show()"
   ]
  },
  {
   "cell_type": "code",
   "execution_count": 160,
   "metadata": {},
   "outputs": [],
   "source": [
    "# TODO split reaction and comment plot"
   ]
  }
 ],
 "metadata": {
  "kernelspec": {
   "display_name": "Python 3",
   "language": "python",
   "name": "python3"
  },
  "language_info": {
   "codemirror_mode": {
    "name": "ipython",
    "version": 3
   },
   "file_extension": ".py",
   "mimetype": "text/x-python",
   "name": "python",
   "nbconvert_exporter": "python",
   "pygments_lexer": "ipython3",
   "version": "3.11.4"
  }
 },
 "nbformat": 4,
 "nbformat_minor": 2
}
