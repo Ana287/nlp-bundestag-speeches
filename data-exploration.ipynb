{
 "cells": [
  {
   "cell_type": "markdown",
   "metadata": {},
   "source": [
    "# Data Exploration"
   ]
  },
  {
   "cell_type": "code",
   "execution_count": 1,
   "metadata": {},
   "outputs": [
    {
     "data": {
      "text/html": [
       "<div>\n",
       "<style scoped>\n",
       "    .dataframe tbody tr th:only-of-type {\n",
       "        vertical-align: middle;\n",
       "    }\n",
       "\n",
       "    .dataframe tbody tr th {\n",
       "        vertical-align: top;\n",
       "    }\n",
       "\n",
       "    .dataframe thead th {\n",
       "        text-align: right;\n",
       "    }\n",
       "</style>\n",
       "<table border=\"1\" class=\"dataframe\">\n",
       "  <thead>\n",
       "    <tr style=\"text-align: right;\">\n",
       "      <th></th>\n",
       "      <th>text</th>\n",
       "      <th>date</th>\n",
       "      <th>legislative_period</th>\n",
       "      <th>speaker_name</th>\n",
       "      <th>speaker_gender</th>\n",
       "      <th>speaker_role</th>\n",
       "      <th>speaker_party</th>\n",
       "      <th>comments</th>\n",
       "      <th>id</th>\n",
       "      <th>speaker_id</th>\n",
       "      <th>speech_length</th>\n",
       "    </tr>\n",
       "  </thead>\n",
       "  <tbody>\n",
       "    <tr>\n",
       "      <th>0</th>\n",
       "      <td>Sehr geehrter Herr Alterspräsident! So muss ...</td>\n",
       "      <td>2021-10-26</td>\n",
       "      <td>20</td>\n",
       "      <td>Gabriele Katzmarek</td>\n",
       "      <td>female</td>\n",
       "      <td>None</td>\n",
       "      <td>SPD</td>\n",
       "      <td>[(Beifall bei der SPD sowie bei Abgeordneten d...</td>\n",
       "      <td>SP-2021-0</td>\n",
       "      <td>1299</td>\n",
       "      <td>2593</td>\n",
       "    </tr>\n",
       "    <tr>\n",
       "      <th>1</th>\n",
       "      <td>Herr Präsident! Liebe Kolleginnen und Kolleg...</td>\n",
       "      <td>2021-10-26</td>\n",
       "      <td>20</td>\n",
       "      <td>Stefan Müller</td>\n",
       "      <td>male</td>\n",
       "      <td>None</td>\n",
       "      <td>CDU/CSU</td>\n",
       "      <td>[(Beifall bei der CDU/CSU sowie bei Abgeordnet...</td>\n",
       "      <td>SP-2021-1</td>\n",
       "      <td>4028</td>\n",
       "      <td>3796</td>\n",
       "    </tr>\n",
       "    <tr>\n",
       "      <th>2</th>\n",
       "      <td>Sehr geehrter Herr Alterspräsident Wolfgang ...</td>\n",
       "      <td>2021-10-26</td>\n",
       "      <td>20</td>\n",
       "      <td>Britta Haßelmann</td>\n",
       "      <td>female</td>\n",
       "      <td>None</td>\n",
       "      <td>BÜNDNIS 90/DIE GRÜNEN</td>\n",
       "      <td>[(Beifall beim BÜNDNIS 90/DIE GRÜNEN und bei d...</td>\n",
       "      <td>SP-2021-2</td>\n",
       "      <td>451</td>\n",
       "      <td>4301</td>\n",
       "    </tr>\n",
       "    <tr>\n",
       "      <th>3</th>\n",
       "      <td>Sehr geehrter Herr Präsident! Meine lieben K...</td>\n",
       "      <td>2021-10-26</td>\n",
       "      <td>20</td>\n",
       "      <td>Marco Buschmann</td>\n",
       "      <td>male</td>\n",
       "      <td>None</td>\n",
       "      <td>FDP</td>\n",
       "      <td>[(Jan Korte [DIE LINKE]: Oder Jugendweihe!), (...</td>\n",
       "      <td>SP-2021-3</td>\n",
       "      <td>3083</td>\n",
       "      <td>4555</td>\n",
       "    </tr>\n",
       "    <tr>\n",
       "      <th>4</th>\n",
       "      <td>Herr Alterspräsident! Lassen Sie mich zunäch...</td>\n",
       "      <td>2021-10-26</td>\n",
       "      <td>20</td>\n",
       "      <td>Stephan Brandner</td>\n",
       "      <td>male</td>\n",
       "      <td>None</td>\n",
       "      <td>AfD</td>\n",
       "      <td>[(Beifall bei der AfD), (Beifall bei Abgeordne...</td>\n",
       "      <td>SP-2021-4</td>\n",
       "      <td>4055</td>\n",
       "      <td>5996</td>\n",
       "    </tr>\n",
       "  </tbody>\n",
       "</table>\n",
       "</div>"
      ],
      "text/plain": [
       "                                                text       date  \\\n",
       "0    Sehr geehrter Herr Alterspräsident! So muss ... 2021-10-26   \n",
       "1    Herr Präsident! Liebe Kolleginnen und Kolleg... 2021-10-26   \n",
       "2    Sehr geehrter Herr Alterspräsident Wolfgang ... 2021-10-26   \n",
       "3    Sehr geehrter Herr Präsident! Meine lieben K... 2021-10-26   \n",
       "4    Herr Alterspräsident! Lassen Sie mich zunäch... 2021-10-26   \n",
       "\n",
       "  legislative_period        speaker_name speaker_gender speaker_role  \\\n",
       "0                 20  Gabriele Katzmarek         female         None   \n",
       "1                 20       Stefan Müller           male         None   \n",
       "2                 20    Britta Haßelmann         female         None   \n",
       "3                 20     Marco Buschmann           male         None   \n",
       "4                 20    Stephan Brandner           male         None   \n",
       "\n",
       "           speaker_party                                           comments  \\\n",
       "0                    SPD  [(Beifall bei der SPD sowie bei Abgeordneten d...   \n",
       "1                CDU/CSU  [(Beifall bei der CDU/CSU sowie bei Abgeordnet...   \n",
       "2  BÜNDNIS 90/DIE GRÜNEN  [(Beifall beim BÜNDNIS 90/DIE GRÜNEN und bei d...   \n",
       "3                    FDP  [(Jan Korte [DIE LINKE]: Oder Jugendweihe!), (...   \n",
       "4                    AfD  [(Beifall bei der AfD), (Beifall bei Abgeordne...   \n",
       "\n",
       "          id  speaker_id  speech_length  \n",
       "0  SP-2021-0        1299           2593  \n",
       "1  SP-2021-1        4028           3796  \n",
       "2  SP-2021-2         451           4301  \n",
       "3  SP-2021-3        3083           4555  \n",
       "4  SP-2021-4        4055           5996  "
      ]
     },
     "execution_count": 1,
     "metadata": {},
     "output_type": "execute_result"
    }
   ],
   "source": [
    "import pandas as pd\n",
    "\n",
    "df = pd.read_pickle('C:/Users/Ana/OneDrive - Hochschule Düsseldorf/MA/data_merged_revised.pkl')\n",
    "df.head()"
   ]
  },
  {
   "cell_type": "code",
   "execution_count": 2,
   "metadata": {},
   "outputs": [
    {
     "name": "stdout",
     "output_type": "stream",
     "text": [
      "<class 'pandas.core.frame.DataFrame'>\n",
      "Index: 971264 entries, 0 to 971279\n",
      "Data columns (total 11 columns):\n",
      " #   Column              Non-Null Count   Dtype         \n",
      "---  ------              --------------   -----         \n",
      " 0   text                971264 non-null  object        \n",
      " 1   date                971264 non-null  datetime64[ns]\n",
      " 2   legislative_period  971264 non-null  object        \n",
      " 3   speaker_name        971264 non-null  object        \n",
      " 4   speaker_gender      971264 non-null  object        \n",
      " 5   speaker_role        884850 non-null  object        \n",
      " 6   speaker_party       969563 non-null  object        \n",
      " 7   comments            971264 non-null  object        \n",
      " 8   id                  971264 non-null  object        \n",
      " 9   speaker_id          971264 non-null  int64         \n",
      " 10  speech_length       971264 non-null  int64         \n",
      "dtypes: datetime64[ns](1), int64(2), object(8)\n",
      "memory usage: 88.9+ MB\n"
     ]
    }
   ],
   "source": [
    "df.info()"
   ]
  },
  {
   "cell_type": "code",
   "execution_count": 3,
   "metadata": {},
   "outputs": [
    {
     "data": {
      "text/plain": [
       "speaker_party\n",
       "AfD                                                            112\n",
       "BHE|CDU                                                          2\n",
       "BP                                                              22\n",
       "BÜNDNIS 90/DIE\\n                                    GRÜNEN       1\n",
       "BÜNDNIS 90/DIE\\n                                GRÜNEN          23\n",
       "BÜNDNIS 90/DIE\\n                            GRÜNEN              12\n",
       "BÜNDNIS 90/DIE\\n                        GRÜNEN                  12\n",
       "BÜNDNIS 90/DIE\\n                    GRÜNEN                      28\n",
       "BÜNDNIS 90/DIE GRÜNEN                                          113\n",
       "CDU                                                           1399\n",
       "CDU oder parteilos                                               1\n",
       "CDU/CSU                                                        196\n",
       "CSU                                                            312\n",
       "DIE\\n                                LINKE                       7\n",
       "DIE\\n                        LINKE                               3\n",
       "DIE\\n                    LINKE                                   4\n",
       "DIE LINKE                                                      149\n",
       "DKP-DRP                                                          5\n",
       "DP                                                              36\n",
       "DPS                                                              2\n",
       "DP|CDU                                                           2\n",
       "DSU                                                              3\n",
       "Die PARTEI                                                       1\n",
       "FDP                                                            520\n",
       "FDP|FVP                                                          4\n",
       "FDV                                                              1\n",
       "FVP                                                              1\n",
       "Fraktionslos                                                     5\n",
       "GB/BHE                                                          25\n",
       "GDP                                                              4\n",
       "GRUENE                                                         289\n",
       "KPD                                                             18\n",
       "LINKE                                                            4\n",
       "LKR                                                              2\n",
       "NA                                                              88\n",
       "PDS                                                             75\n",
       "Partei Rechtsstaatlicher Offensive                               1\n",
       "SPD                                                           1546\n",
       "SPDCDU/CSU                                                       2\n",
       "SSW                                                              1\n",
       "WAV                                                             13\n",
       "Z                                                               14\n",
       "parteilos                                                       31\n",
       "Name: speaker_id, dtype: int64"
      ]
     },
     "execution_count": 3,
     "metadata": {},
     "output_type": "execute_result"
    }
   ],
   "source": [
    "df[\"speaker_party\"].value_counts() # speeches done by speaker parties\n",
    "df.groupby('speaker_party')['speaker_id'].nunique() # unique speaker parties"
   ]
  },
  {
   "cell_type": "code",
   "execution_count": 4,
   "metadata": {},
   "outputs": [
    {
     "data": {
      "text/plain": [
       "speaker_role\n",
       "Alterspräsident                                                                                                        11\n",
       "Alterspräsidentin                                                                                                       1\n",
       "Bayerischer Staatsminister für Wirtschaft                                                                               1\n",
       "Beauftragte der Bundesregierung für\\n                                    Menschenrechtspolitik und humanitäre Hilfe     1\n",
       "Beauftragte der Bundesregierung für Ausländerfragen                                                                     1\n",
       "                                                                                                                       ..\n",
       "Vîzepräsident                                                                                                           1\n",
       "Wehrbeauftragte des Deutschen Bundestages                                                                               1\n",
       "Wehrbeauftragter des Deutschen Bundestags                                                                              10\n",
       "misc_pres_general                                                                                                       4\n",
       "schriftfuehrer                                                                                                         37\n",
       "Name: speaker_id, Length: 1472, dtype: int64"
      ]
     },
     "execution_count": 4,
     "metadata": {},
     "output_type": "execute_result"
    }
   ],
   "source": [
    "df[\"speaker_role\"].value_counts() # speeches done by speaker roles\n",
    "df.groupby('speaker_role')['speaker_id'].nunique() # unique speaker roles"
   ]
  },
  {
   "cell_type": "code",
   "execution_count": 5,
   "metadata": {},
   "outputs": [
    {
     "data": {
      "text/plain": [
       "speaker_gender\n",
       "male      743167\n",
       "female    228097\n",
       "Name: count, dtype: int64"
      ]
     },
     "execution_count": 5,
     "metadata": {},
     "output_type": "execute_result"
    }
   ],
   "source": [
    "df[\"speaker_gender\"].value_counts() # speeches by male vs. female speakers"
   ]
  },
  {
   "cell_type": "code",
   "execution_count": 6,
   "metadata": {},
   "outputs": [
    {
     "data": {
      "text/plain": [
       "speaker_gender\n",
       "female    1064\n",
       "male      3649\n",
       "Name: speaker_id, dtype: int64"
      ]
     },
     "execution_count": 6,
     "metadata": {},
     "output_type": "execute_result"
    }
   ],
   "source": [
    "# get unique male vs. female speakers\n",
    "gender_counts = df.groupby('speaker_gender')['speaker_id'].nunique()\n",
    "gender_counts"
   ]
  },
  {
   "cell_type": "code",
   "execution_count": 7,
   "metadata": {},
   "outputs": [
    {
     "data": {
      "text/plain": [
       "4713"
      ]
     },
     "execution_count": 7,
     "metadata": {},
     "output_type": "execute_result"
    }
   ],
   "source": [
    "df[\"speaker_id\"].nunique() # unqiue speakers"
   ]
  },
  {
   "cell_type": "code",
   "execution_count": 8,
   "metadata": {},
   "outputs": [
    {
     "data": {
      "text/plain": [
       "4713"
      ]
     },
     "execution_count": 8,
     "metadata": {},
     "output_type": "execute_result"
    }
   ],
   "source": [
    "df[\"speaker_name\"].nunique() # unqiue speakers"
   ]
  },
  {
   "cell_type": "markdown",
   "metadata": {},
   "source": [
    "## Redeanteile Frauen vs. Männer"
   ]
  },
  {
   "cell_type": "markdown",
   "metadata": {},
   "source": [
    "### Nach Anzahl der Reden"
   ]
  },
  {
   "cell_type": "code",
   "execution_count": 9,
   "metadata": {},
   "outputs": [
    {
     "data": {
      "text/plain": [
       "speaker_gender\n",
       "male      0.765154\n",
       "female    0.234846\n",
       "Name: count, dtype: float64"
      ]
     },
     "execution_count": 9,
     "metadata": {},
     "output_type": "execute_result"
    }
   ],
   "source": [
    "# speech count by gender\n",
    "gender_speech_counts = df['speaker_gender'].value_counts()\n",
    "\n",
    "# ratio of speeches by each gender\n",
    "total_speeches = len(df)\n",
    "speech_ratio = gender_speech_counts / total_speeches\n",
    "\n",
    "speech_ratio"
   ]
  },
  {
   "cell_type": "code",
   "execution_count": 10,
   "metadata": {},
   "outputs": [
    {
     "data": {
      "text/plain": [
       "speaker_gender\n",
       "male      743167\n",
       "female    228097\n",
       "Name: count, dtype: int64"
      ]
     },
     "execution_count": 10,
     "metadata": {},
     "output_type": "execute_result"
    }
   ],
   "source": [
    "gender_speech_counts"
   ]
  },
  {
   "cell_type": "code",
   "execution_count": 11,
   "metadata": {},
   "outputs": [],
   "source": [
    "import matplotlib.pyplot as plt"
   ]
  },
  {
   "cell_type": "code",
   "execution_count": 12,
   "metadata": {},
   "outputs": [
    {
     "data": {
      "image/png": "[encoded data removed]",
      "text/plain": [
       "<Figure size 600x600 with 1 Axes>"
      ]
     },
     "metadata": {},
     "output_type": "display_data"
    }
   ],
   "source": [
    "labels = ['Male', 'Female']\n",
    "sizes = [gender_speech_counts.male, gender_speech_counts.female]\n",
    "colors = ['lightblue', 'gold']\n",
    "\n",
    "plt.figure(figsize=(6, 6))\n",
    "plt.pie(sizes, labels=labels, colors=colors, autopct='%1.1f%%', startangle=90)\n",
    "plt.title('Distribution of Speeches by Gender')\n",
    "\n",
    "plt.show()"
   ]
  },
  {
   "cell_type": "markdown",
   "metadata": {},
   "source": [
    "### Nach Länge der Reden insgesamt"
   ]
  },
  {
   "cell_type": "code",
   "execution_count": 13,
   "metadata": {},
   "outputs": [
    {
     "data": {
      "text/plain": [
       "speaker_gender\n",
       "female    0.216732\n",
       "male      0.783268\n",
       "Name: speech_length, dtype: float64"
      ]
     },
     "execution_count": 13,
     "metadata": {},
     "output_type": "execute_result"
    }
   ],
   "source": [
    "# Calculate the total length of speeches by each gender (number of characters)\n",
    "gender_speech_lengths = df.groupby('speaker_gender')['speech_length'].sum()\n",
    "\n",
    "# Calculate the ratio of speech lengths by each gender\n",
    "total_speech_length = gender_speech_lengths.sum()\n",
    "speech_length_ratio = gender_speech_lengths / total_speech_length\n",
    "\n",
    "speech_length_ratio"
   ]
  },
  {
   "cell_type": "code",
   "execution_count": 14,
   "metadata": {},
   "outputs": [
    {
     "data": {
      "text/html": [
       "<div>\n",
       "<style scoped>\n",
       "    .dataframe tbody tr th:only-of-type {\n",
       "        vertical-align: middle;\n",
       "    }\n",
       "\n",
       "    .dataframe tbody tr th {\n",
       "        vertical-align: top;\n",
       "    }\n",
       "\n",
       "    .dataframe thead th {\n",
       "        text-align: right;\n",
       "    }\n",
       "</style>\n",
       "<table border=\"1\" class=\"dataframe\">\n",
       "  <thead>\n",
       "    <tr style=\"text-align: right;\">\n",
       "      <th></th>\n",
       "      <th>count</th>\n",
       "      <th>mean</th>\n",
       "      <th>std</th>\n",
       "      <th>min</th>\n",
       "      <th>25%</th>\n",
       "      <th>50%</th>\n",
       "      <th>75%</th>\n",
       "      <th>max</th>\n",
       "    </tr>\n",
       "    <tr>\n",
       "      <th>speaker_gender</th>\n",
       "      <th></th>\n",
       "      <th></th>\n",
       "      <th></th>\n",
       "      <th></th>\n",
       "      <th></th>\n",
       "      <th></th>\n",
       "      <th></th>\n",
       "      <th></th>\n",
       "    </tr>\n",
       "  </thead>\n",
       "  <tbody>\n",
       "    <tr>\n",
       "      <th>female</th>\n",
       "      <td>228097.0</td>\n",
       "      <td>1476.224641</td>\n",
       "      <td>2972.57608</td>\n",
       "      <td>1.0</td>\n",
       "      <td>57.0</td>\n",
       "      <td>184.0</td>\n",
       "      <td>1316.0</td>\n",
       "      <td>124673.0</td>\n",
       "    </tr>\n",
       "    <tr>\n",
       "      <th>male</th>\n",
       "      <td>743167.0</td>\n",
       "      <td>1637.464340</td>\n",
       "      <td>3639.35166</td>\n",
       "      <td>0.0</td>\n",
       "      <td>70.0</td>\n",
       "      <td>312.0</td>\n",
       "      <td>1290.0</td>\n",
       "      <td>352221.0</td>\n",
       "    </tr>\n",
       "  </tbody>\n",
       "</table>\n",
       "</div>"
      ],
      "text/plain": [
       "                   count         mean         std  min   25%    50%     75%  \\\n",
       "speaker_gender                                                                \n",
       "female          228097.0  1476.224641  2972.57608  1.0  57.0  184.0  1316.0   \n",
       "male            743167.0  1637.464340  3639.35166  0.0  70.0  312.0  1290.0   \n",
       "\n",
       "                     max  \n",
       "speaker_gender            \n",
       "female          124673.0  \n",
       "male            352221.0  "
      ]
     },
     "execution_count": 14,
     "metadata": {},
     "output_type": "execute_result"
    }
   ],
   "source": [
    "gender_summary = df.groupby('speaker_gender')['speech_length'].describe()\n",
    "gender_summary"
   ]
  },
  {
   "cell_type": "code",
   "execution_count": 15,
   "metadata": {},
   "outputs": [
    {
     "data": {
      "image/png": "[encoded data removed]",
      "text/plain": [
       "<Figure size 800x600 with 1 Axes>"
      ]
     },
     "metadata": {},
     "output_type": "display_data"
    }
   ],
   "source": [
    "plt.figure(figsize=(8, 6))\n",
    "\n",
    "colors = {'male': 'salmon', 'female': 'gold'}\n",
    "alphas = {'male': 0.4, 'female': 0.6}\n",
    "\n",
    "for gender in [\"male\", \"female\"]:\n",
    "    plt.hist(\n",
    "        df[df['speaker_gender'] == gender]['speech_length'], \n",
    "        bins=[0,50000,100000,150000,200000,250000,300000,350000,400000], # list\n",
    "        alpha=alphas[gender], \n",
    "        label=gender,\n",
    "        log=True,\n",
    "        color=colors[gender],\n",
    "        edgecolor='grey'\n",
    "    )\n",
    "\n",
    "plt.title('Speech Length Distribution by Gender')\n",
    "plt.xlabel('Speech Length in Characters')\n",
    "plt.ylabel('Number of Speeches') # within length range\n",
    "plt.legend()\n",
    "plt.show()"
   ]
  },
  {
   "cell_type": "code",
   "execution_count": 16,
   "metadata": {},
   "outputs": [
    {
     "name": "stderr",
     "output_type": "stream",
     "text": [
      "C:\\Users\\Ana\\AppData\\Local\\Temp\\ipykernel_69504\\943203183.py:15: RuntimeWarning: invalid value encountered in scalar divide\n",
      "  male_speech_length_ratio = male_total_length / total_speech_length\n",
      "C:\\Users\\Ana\\AppData\\Local\\Temp\\ipykernel_69504\\943203183.py:16: RuntimeWarning: invalid value encountered in scalar divide\n",
      "  female_speech_length_ratio = female_total_length / total_speech_length\n"
     ]
    },
    {
     "data": {
      "image/png": "[encoded data removed]",
      "text/plain": [
       "<Figure size 640x480 with 1 Axes>"
      ]
     },
     "metadata": {},
     "output_type": "display_data"
    }
   ],
   "source": [
    "# new dataframe with only the needed information\n",
    "relative_freqs = pd.DataFrame()\n",
    "\n",
    "# parameters for speech length ranges\n",
    "max_cats = 9\n",
    "cat_steps = 25000\n",
    "\n",
    "for speech_length_cat in range(max_cats):\n",
    "    speeches_of_cat = df[(df[\"speech_length\"] > speech_length_cat * cat_steps) \n",
    "                         & (df[\"speech_length\"] < (speech_length_cat + 1) * cat_steps)]\n",
    "    \n",
    "    total_speech_length = speeches_of_cat[\"speech_length\"].sum()\n",
    "    male_total_length = speeches_of_cat[speeches_of_cat[\"speaker_gender\"] == \"male\"][\"speech_length\"].sum()\n",
    "    female_total_length = speeches_of_cat[speeches_of_cat[\"speaker_gender\"] == \"female\"][\"speech_length\"].sum()\n",
    "    male_speech_length_ratio = male_total_length / total_speech_length\n",
    "    female_speech_length_ratio = female_total_length / total_speech_length\n",
    "\n",
    "    relative_freqs = pd.concat([relative_freqs, pd.DataFrame.from_records([\n",
    "        {\n",
    "            \"gender\": \"male\",\n",
    "            \"speech_length_cat\": speech_length_cat,\n",
    "            \"relative_gender_frequency\": male_speech_length_ratio\n",
    "        },\n",
    "        {\n",
    "            \"gender\": \"female\",\n",
    "            \"speech_length_cat\": speech_length_cat,\n",
    "            \"relative_gender_frequency\": female_speech_length_ratio\n",
    "        }])], ignore_index=True)\n",
    "\n",
    "category_labels = [f\"{cat * cat_steps}\" for cat in range(max_cats)]\n",
    "colors = {'male': 'lightblue', 'female': 'gold'}\n",
    "\n",
    "for gender in [\"male\", \"female\"]:\n",
    "    p = plt.bar(\n",
    "            category_labels, relative_freqs[relative_freqs[\"gender\"] == gender][\"relative_gender_frequency\"] * 100, \n",
    "            width=1, \n",
    "            label=gender,\n",
    "            alpha=0.6, \n",
    "            color=colors[gender],\n",
    "            edgecolor='grey',\n",
    "            align='edge'\n",
    "        )\n",
    "    plt.bar_label(p, label_type='edge', fmt='{:0.0f}%')\n",
    "    \n",
    "#TODO sinnvolle Betitelung\n",
    "plt.title('Speech Length Distribution by Gender')\n",
    "plt.xlabel('Speech Length in Characters')\n",
    "plt.ylabel('Distribution of Speeches in %') # within length range\n",
    "plt.legend()\n",
    "\n",
    "plt.show()\n"
   ]
  }
 ],
 "metadata": {
  "kernelspec": {
   "display_name": "Python 3",
   "language": "python",
   "name": "python3"
  },
  "language_info": {
   "codemirror_mode": {
    "name": "ipython",
    "version": 3
   },
   "file_extension": ".py",
   "mimetype": "text/x-python",
   "name": "python",
   "nbconvert_exporter": "python",
   "pygments_lexer": "ipython3",
   "version": "3.11.4"
  },
  "orig_nbformat": 4
 },
 "nbformat": 4,
 "nbformat_minor": 2
}
