{
 "cells": [
  {
   "cell_type": "code",
   "execution_count": 72,
   "metadata": {},
   "outputs": [
    {
     "data": {
      "text/html": [
       "<div>\n",
       "<style scoped>\n",
       "    .dataframe tbody tr th:only-of-type {\n",
       "        vertical-align: middle;\n",
       "    }\n",
       "\n",
       "    .dataframe tbody tr th {\n",
       "        vertical-align: top;\n",
       "    }\n",
       "\n",
       "    .dataframe thead th {\n",
       "        text-align: right;\n",
       "    }\n",
       "</style>\n",
       "<table border=\"1\" class=\"dataframe\">\n",
       "  <thead>\n",
       "    <tr style=\"text-align: right;\">\n",
       "      <th></th>\n",
       "      <th>text</th>\n",
       "      <th>date</th>\n",
       "      <th>speaker_name</th>\n",
       "      <th>speaker_gender</th>\n",
       "      <th>speaker_role</th>\n",
       "      <th>speaker_party</th>\n",
       "      <th>comments</th>\n",
       "      <th>id</th>\n",
       "      <th>speaker_id</th>\n",
       "      <th>speech_length</th>\n",
       "    </tr>\n",
       "  </thead>\n",
       "  <tbody>\n",
       "    <tr>\n",
       "      <th>0</th>\n",
       "      <td>Sehr geehrter Herr Alterspräsident! So muss ...</td>\n",
       "      <td>2021-10-26</td>\n",
       "      <td>Gabriele Katzmarek</td>\n",
       "      <td>female</td>\n",
       "      <td>None</td>\n",
       "      <td>SPD</td>\n",
       "      <td>[(Beifall bei der SPD sowie bei Abgeordneten d...</td>\n",
       "      <td>SP-2021-0</td>\n",
       "      <td>1299</td>\n",
       "      <td>2593</td>\n",
       "    </tr>\n",
       "    <tr>\n",
       "      <th>1</th>\n",
       "      <td>Herr Präsident! Liebe Kolleginnen und Kolleg...</td>\n",
       "      <td>2021-10-26</td>\n",
       "      <td>Stefan Müller</td>\n",
       "      <td>male</td>\n",
       "      <td>None</td>\n",
       "      <td>CDU/CSU</td>\n",
       "      <td>[(Beifall bei der CDU/CSU sowie bei Abgeordnet...</td>\n",
       "      <td>SP-2021-1</td>\n",
       "      <td>4028</td>\n",
       "      <td>3796</td>\n",
       "    </tr>\n",
       "    <tr>\n",
       "      <th>2</th>\n",
       "      <td>Sehr geehrter Herr Alterspräsident Wolfgang ...</td>\n",
       "      <td>2021-10-26</td>\n",
       "      <td>Britta Haßelmann</td>\n",
       "      <td>female</td>\n",
       "      <td>None</td>\n",
       "      <td>BÜNDNIS 90/DIE GRÜNEN</td>\n",
       "      <td>[(Beifall beim BÜNDNIS 90/DIE GRÜNEN und bei d...</td>\n",
       "      <td>SP-2021-2</td>\n",
       "      <td>451</td>\n",
       "      <td>4301</td>\n",
       "    </tr>\n",
       "    <tr>\n",
       "      <th>3</th>\n",
       "      <td>Sehr geehrter Herr Präsident! Meine lieben K...</td>\n",
       "      <td>2021-10-26</td>\n",
       "      <td>Marco Buschmann</td>\n",
       "      <td>male</td>\n",
       "      <td>None</td>\n",
       "      <td>FDP</td>\n",
       "      <td>[(Jan Korte [DIE LINKE]: Oder Jugendweihe!), (...</td>\n",
       "      <td>SP-2021-3</td>\n",
       "      <td>3083</td>\n",
       "      <td>4555</td>\n",
       "    </tr>\n",
       "    <tr>\n",
       "      <th>4</th>\n",
       "      <td>Herr Alterspräsident! Lassen Sie mich zunäch...</td>\n",
       "      <td>2021-10-26</td>\n",
       "      <td>Stephan Brandner</td>\n",
       "      <td>male</td>\n",
       "      <td>None</td>\n",
       "      <td>AfD</td>\n",
       "      <td>[(Beifall bei der AfD), (Beifall bei Abgeordne...</td>\n",
       "      <td>SP-2021-4</td>\n",
       "      <td>4055</td>\n",
       "      <td>5996</td>\n",
       "    </tr>\n",
       "  </tbody>\n",
       "</table>\n",
       "</div>"
      ],
      "text/plain": [
       "                                                text       date  \\\n",
       "0    Sehr geehrter Herr Alterspräsident! So muss ... 2021-10-26   \n",
       "1    Herr Präsident! Liebe Kolleginnen und Kolleg... 2021-10-26   \n",
       "2    Sehr geehrter Herr Alterspräsident Wolfgang ... 2021-10-26   \n",
       "3    Sehr geehrter Herr Präsident! Meine lieben K... 2021-10-26   \n",
       "4    Herr Alterspräsident! Lassen Sie mich zunäch... 2021-10-26   \n",
       "\n",
       "         speaker_name speaker_gender speaker_role          speaker_party  \\\n",
       "0  Gabriele Katzmarek         female         None                    SPD   \n",
       "1       Stefan Müller           male         None                CDU/CSU   \n",
       "2    Britta Haßelmann         female         None  BÜNDNIS 90/DIE GRÜNEN   \n",
       "3     Marco Buschmann           male         None                    FDP   \n",
       "4    Stephan Brandner           male         None                    AfD   \n",
       "\n",
       "                                            comments         id  speaker_id  \\\n",
       "0  [(Beifall bei der SPD sowie bei Abgeordneten d...  SP-2021-0        1299   \n",
       "1  [(Beifall bei der CDU/CSU sowie bei Abgeordnet...  SP-2021-1        4028   \n",
       "2  [(Beifall beim BÜNDNIS 90/DIE GRÜNEN und bei d...  SP-2021-2         451   \n",
       "3  [(Jan Korte [DIE LINKE]: Oder Jugendweihe!), (...  SP-2021-3        3083   \n",
       "4  [(Beifall bei der AfD), (Beifall bei Abgeordne...  SP-2021-4        4055   \n",
       "\n",
       "   speech_length  \n",
       "0           2593  \n",
       "1           3796  \n",
       "2           4301  \n",
       "3           4555  \n",
       "4           5996  "
      ]
     },
     "execution_count": 72,
     "metadata": {},
     "output_type": "execute_result"
    }
   ],
   "source": [
    "import pandas as pd\n",
    "\n",
    "df = pd.read_pickle('data_merged.pkl')\n",
    "df.head()"
   ]
  },
  {
   "cell_type": "code",
   "execution_count": 73,
   "metadata": {},
   "outputs": [
    {
     "name": "stdout",
     "output_type": "stream",
     "text": [
      "<class 'pandas.core.frame.DataFrame'>\n",
      "Int64Index: 971264 entries, 0 to 971279\n",
      "Data columns (total 10 columns):\n",
      " #   Column          Non-Null Count   Dtype         \n",
      "---  ------          --------------   -----         \n",
      " 0   text            971264 non-null  object        \n",
      " 1   date            971264 non-null  datetime64[ns]\n",
      " 2   speaker_name    971264 non-null  object        \n",
      " 3   speaker_gender  971264 non-null  object        \n",
      " 4   speaker_role    884850 non-null  object        \n",
      " 5   speaker_party   969563 non-null  object        \n",
      " 6   comments        971264 non-null  object        \n",
      " 7   id              971264 non-null  object        \n",
      " 8   speaker_id      971264 non-null  int64         \n",
      " 9   speech_length   971264 non-null  int64         \n",
      "dtypes: datetime64[ns](1), int64(2), object(7)\n",
      "memory usage: 81.5+ MB\n"
     ]
    }
   ],
   "source": [
    "df.info()"
   ]
  },
  {
   "cell_type": "code",
   "execution_count": 74,
   "metadata": {},
   "outputs": [
    {
     "data": {
      "text/plain": [
       "speaker_party\n",
       "AfD                                                            112\n",
       "BHE|CDU                                                          2\n",
       "BP                                                              22\n",
       "BÜNDNIS 90/DIE\\n                                    GRÜNEN       1\n",
       "BÜNDNIS 90/DIE\\n                                GRÜNEN          23\n",
       "BÜNDNIS 90/DIE\\n                            GRÜNEN              12\n",
       "BÜNDNIS 90/DIE\\n                        GRÜNEN                  12\n",
       "BÜNDNIS 90/DIE\\n                    GRÜNEN                      28\n",
       "BÜNDNIS 90/DIE GRÜNEN                                          113\n",
       "CDU                                                           1399\n",
       "CDU oder parteilos                                               1\n",
       "CDU/CSU                                                        196\n",
       "CSU                                                            312\n",
       "DIE\\n                                LINKE                       7\n",
       "DIE\\n                        LINKE                               3\n",
       "DIE\\n                    LINKE                                   4\n",
       "DIE LINKE                                                      149\n",
       "DKP-DRP                                                          5\n",
       "DP                                                              36\n",
       "DPS                                                              2\n",
       "DP|CDU                                                           2\n",
       "DSU                                                              3\n",
       "Die PARTEI                                                       1\n",
       "FDP                                                            520\n",
       "FDP|FVP                                                          4\n",
       "FDV                                                              1\n",
       "FVP                                                              1\n",
       "Fraktionslos                                                     5\n",
       "GB/BHE                                                          25\n",
       "GDP                                                              4\n",
       "GRUENE                                                         289\n",
       "KPD                                                             18\n",
       "LINKE                                                            4\n",
       "LKR                                                              2\n",
       "NA                                                              88\n",
       "PDS                                                             75\n",
       "Partei Rechtsstaatlicher Offensive                               1\n",
       "SPD                                                           1546\n",
       "SPDCDU/CSU                                                       2\n",
       "SSW                                                              1\n",
       "WAV                                                             13\n",
       "Z                                                               14\n",
       "parteilos                                                       31\n",
       "Name: speaker_id, dtype: int64"
      ]
     },
     "execution_count": 74,
     "metadata": {},
     "output_type": "execute_result"
    }
   ],
   "source": [
    "df[\"speaker_party\"].value_counts() # speeches done by speaker parties\n",
    "df.groupby('speaker_party')['speaker_id'].nunique() # unique speaker parties"
   ]
  },
  {
   "cell_type": "code",
   "execution_count": 75,
   "metadata": {},
   "outputs": [
    {
     "data": {
      "text/plain": [
       "speaker_role\n",
       "Alterspräsident                                                                                                        11\n",
       "Alterspräsidentin                                                                                                       1\n",
       "Bayerischer Staatsminister für Wirtschaft                                                                               1\n",
       "Beauftragte der Bundesregierung für\\n                                    Menschenrechtspolitik und humanitäre Hilfe     1\n",
       "Beauftragte der Bundesregierung für Ausländerfragen                                                                     1\n",
       "                                                                                                                       ..\n",
       "Vîzepräsident                                                                                                           1\n",
       "Wehrbeauftragte des Deutschen Bundestages                                                                               1\n",
       "Wehrbeauftragter des Deutschen Bundestags                                                                              10\n",
       "misc_pres_general                                                                                                       4\n",
       "schriftfuehrer                                                                                                         37\n",
       "Name: speaker_id, Length: 1472, dtype: int64"
      ]
     },
     "execution_count": 75,
     "metadata": {},
     "output_type": "execute_result"
    }
   ],
   "source": [
    "df[\"speaker_role\"].value_counts() # speeches done by speaker roles\n",
    "df.groupby('speaker_role')['speaker_id'].nunique() # unique speaker roles"
   ]
  },
  {
   "cell_type": "code",
   "execution_count": 76,
   "metadata": {},
   "outputs": [
    {
     "data": {
      "text/plain": [
       "male      743700\n",
       "female    227564\n",
       "Name: speaker_gender, dtype: int64"
      ]
     },
     "execution_count": 76,
     "metadata": {},
     "output_type": "execute_result"
    }
   ],
   "source": [
    "df[\"speaker_gender\"].value_counts() # speeches by male vs. female speakers"
   ]
  },
  {
   "cell_type": "code",
   "execution_count": 77,
   "metadata": {},
   "outputs": [
    {
     "data": {
      "text/plain": [
       "speaker_gender\n",
       "female    1057\n",
       "male      3656\n",
       "Name: speaker_id, dtype: int64"
      ]
     },
     "execution_count": 77,
     "metadata": {},
     "output_type": "execute_result"
    }
   ],
   "source": [
    "# get unique male vs. female speakers\n",
    "gender_counts = df.groupby('speaker_gender')['speaker_id'].nunique()\n",
    "gender_counts"
   ]
  },
  {
   "cell_type": "code",
   "execution_count": 78,
   "metadata": {},
   "outputs": [
    {
     "data": {
      "text/plain": [
       "4713"
      ]
     },
     "execution_count": 78,
     "metadata": {},
     "output_type": "execute_result"
    }
   ],
   "source": [
    "df[\"speaker_id\"].nunique() # unqiue speakers"
   ]
  },
  {
   "cell_type": "code",
   "execution_count": 79,
   "metadata": {},
   "outputs": [
    {
     "data": {
      "text/plain": [
       "4713"
      ]
     },
     "execution_count": 79,
     "metadata": {},
     "output_type": "execute_result"
    }
   ],
   "source": [
    "df[\"speaker_name\"].nunique() # unqiue speakers"
   ]
  },
  {
   "cell_type": "code",
   "execution_count": 80,
   "metadata": {},
   "outputs": [
    {
     "data": {
      "text/plain": [
       "male      743700\n",
       "female    227564\n",
       "Name: speaker_gender, dtype: int64"
      ]
     },
     "execution_count": 80,
     "metadata": {},
     "output_type": "execute_result"
    }
   ],
   "source": [
    "#df.drop(df[df['speaker_gender'] == 'unknown'].index, inplace=True)\n",
    "df[\"speaker_gender\"].value_counts() # speeches by male vs. female speakers"
   ]
  },
  {
   "cell_type": "markdown",
   "metadata": {},
   "source": [
    "## Redeanteile Frauen vs. Männer"
   ]
  },
  {
   "cell_type": "markdown",
   "metadata": {},
   "source": [
    "### Nach Anzahl der Reden"
   ]
  },
  {
   "cell_type": "code",
   "execution_count": 81,
   "metadata": {},
   "outputs": [
    {
     "data": {
      "text/plain": [
       "male      0.765703\n",
       "female    0.234297\n",
       "Name: speaker_gender, dtype: float64"
      ]
     },
     "execution_count": 81,
     "metadata": {},
     "output_type": "execute_result"
    }
   ],
   "source": [
    "# speech count by gender\n",
    "gender_speech_counts = df['speaker_gender'].value_counts()\n",
    "\n",
    "# ratio of speeches by each gender\n",
    "total_speeches = len(df)\n",
    "speech_ratio = gender_speech_counts / total_speeches\n",
    "\n",
    "speech_ratio"
   ]
  },
  {
   "cell_type": "markdown",
   "metadata": {},
   "source": [
    "### Nach Länge der Reden insgesamt"
   ]
  },
  {
   "cell_type": "code",
   "execution_count": 82,
   "metadata": {},
   "outputs": [
    {
     "data": {
      "text/plain": [
       "speaker_gender\n",
       "female    0.215681\n",
       "male      0.784319\n",
       "Name: speech_length, dtype: float64"
      ]
     },
     "execution_count": 82,
     "metadata": {},
     "output_type": "execute_result"
    }
   ],
   "source": [
    "# Calculate the total length of speeches by each gender (number of characters)\n",
    "gender_speech_lengths = df.groupby('speaker_gender')['speech_length'].sum()\n",
    "\n",
    "# Calculate the ratio of speech lengths by each gender\n",
    "total_speech_length = gender_speech_lengths.sum()\n",
    "speech_length_ratio = gender_speech_lengths / total_speech_length\n",
    "\n",
    "speech_length_ratio"
   ]
  },
  {
   "cell_type": "code",
   "execution_count": 83,
   "metadata": {},
   "outputs": [],
   "source": [
    "import matplotlib.pyplot as plt"
   ]
  },
  {
   "cell_type": "code",
   "execution_count": 84,
   "metadata": {},
   "outputs": [
    {
     "data": {
      "text/html": [
       "<div>\n",
       "<style scoped>\n",
       "    .dataframe tbody tr th:only-of-type {\n",
       "        vertical-align: middle;\n",
       "    }\n",
       "\n",
       "    .dataframe tbody tr th {\n",
       "        vertical-align: top;\n",
       "    }\n",
       "\n",
       "    .dataframe thead th {\n",
       "        text-align: right;\n",
       "    }\n",
       "</style>\n",
       "<table border=\"1\" class=\"dataframe\">\n",
       "  <thead>\n",
       "    <tr style=\"text-align: right;\">\n",
       "      <th></th>\n",
       "      <th>count</th>\n",
       "      <th>mean</th>\n",
       "      <th>std</th>\n",
       "      <th>min</th>\n",
       "      <th>25%</th>\n",
       "      <th>50%</th>\n",
       "      <th>75%</th>\n",
       "      <th>max</th>\n",
       "    </tr>\n",
       "    <tr>\n",
       "      <th>speaker_gender</th>\n",
       "      <th></th>\n",
       "      <th></th>\n",
       "      <th></th>\n",
       "      <th></th>\n",
       "      <th></th>\n",
       "      <th></th>\n",
       "      <th></th>\n",
       "      <th></th>\n",
       "    </tr>\n",
       "  </thead>\n",
       "  <tbody>\n",
       "    <tr>\n",
       "      <th>female</th>\n",
       "      <td>227564.0</td>\n",
       "      <td>1472.501683</td>\n",
       "      <td>2972.160760</td>\n",
       "      <td>1.0</td>\n",
       "      <td>57.0</td>\n",
       "      <td>182.0</td>\n",
       "      <td>1303.0</td>\n",
       "      <td>124673.0</td>\n",
       "    </tr>\n",
       "    <tr>\n",
       "      <th>male</th>\n",
       "      <td>743700.0</td>\n",
       "      <td>1638.487966</td>\n",
       "      <td>3638.972701</td>\n",
       "      <td>0.0</td>\n",
       "      <td>70.0</td>\n",
       "      <td>312.0</td>\n",
       "      <td>1294.0</td>\n",
       "      <td>352221.0</td>\n",
       "    </tr>\n",
       "  </tbody>\n",
       "</table>\n",
       "</div>"
      ],
      "text/plain": [
       "                   count         mean          std  min   25%    50%     75%  \\\n",
       "speaker_gender                                                                 \n",
       "female          227564.0  1472.501683  2972.160760  1.0  57.0  182.0  1303.0   \n",
       "male            743700.0  1638.487966  3638.972701  0.0  70.0  312.0  1294.0   \n",
       "\n",
       "                     max  \n",
       "speaker_gender            \n",
       "female          124673.0  \n",
       "male            352221.0  "
      ]
     },
     "execution_count": 84,
     "metadata": {},
     "output_type": "execute_result"
    }
   ],
   "source": [
    "gender_summary = df.groupby('speaker_gender')['speech_length'].describe()\n",
    "gender_summary"
   ]
  },
  {
   "cell_type": "code",
   "execution_count": 85,
   "metadata": {},
   "outputs": [
    {
     "data": {
      "image/png": "[encoded data removed]",
      "text/plain": [
       "<Figure size 800x600 with 1 Axes>"
      ]
     },
     "metadata": {},
     "output_type": "display_data"
    }
   ],
   "source": [
    "plt.figure(figsize=(8, 6))\n",
    "\n",
    "colors = {'male': 'salmon', 'female': 'gold'}\n",
    "alphas = {'male': 0.4, 'female': 0.6}\n",
    "\n",
    "for gender in gender_summary.index:\n",
    "    plt.hist(\n",
    "        df[df['speaker_gender'] == gender]['speech_length'], \n",
    "        bins=15, \n",
    "        alpha=alphas[gender], \n",
    "        label=gender,\n",
    "        log=True,\n",
    "        color=colors[gender],\n",
    "        edgecolor='grey'\n",
    "    )\n",
    "\n",
    "plt.title('Speech Length Distribution by Gender')\n",
    "plt.xlabel('Speech Length')\n",
    "plt.ylabel('Number of Speeches') # within length range\n",
    "plt.legend()\n",
    "plt.show()"
   ]
  }
 ],
 "metadata": {
  "kernelspec": {
   "display_name": "Python 3",
   "language": "python",
   "name": "python3"
  },
  "language_info": {
   "codemirror_mode": {
    "name": "ipython",
    "version": 3
   },
   "file_extension": ".py",
   "mimetype": "text/x-python",
   "name": "python",
   "nbconvert_exporter": "python",
   "pygments_lexer": "ipython3",
   "version": "3.8.2"
  },
  "orig_nbformat": 4
 },
 "nbformat": 4,
 "nbformat_minor": 2
}
