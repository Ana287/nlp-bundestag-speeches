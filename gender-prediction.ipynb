{
 "cells": [
  {
   "cell_type": "markdown",
   "metadata": {},
   "source": [
    "# Gender Prediction by Speech Content"
   ]
  },
  {
   "cell_type": "code",
   "execution_count": 1,
   "metadata": {},
   "outputs": [],
   "source": [
    "import joblib\n",
    "import re\n",
    "import string\n",
    "import numpy as np\n",
    "import random\n",
    "import spacy\n",
    "\n",
    "import pandas as pd\n",
    "from matplotlib import pyplot as plt\n",
    "import seaborn as sb\n",
    "\n",
    "from sklearn.feature_extraction.text import CountVectorizer\n",
    "from sklearn.metrics import classification_report\n",
    "from sklearn.model_selection import train_test_split\n",
    "from sklearn.linear_model import LogisticRegression\n",
    "from sklearn.metrics import confusion_matrix\n",
    "\n",
    "import nltk\n",
    "from nltk.corpus import stopwords"
   ]
  },
  {
   "cell_type": "code",
   "execution_count": 2,
   "metadata": {},
   "outputs": [
    {
     "name": "stderr",
     "output_type": "stream",
     "text": [
      "[nltk_data] Downloading package stopwords to\n",
      "[nltk_data]     C:\\Users\\Ana\\AppData\\Roaming\\nltk_data...\n",
      "[nltk_data]   Package stopwords is already up-to-date!\n"
     ]
    },
    {
     "data": {
      "text/plain": [
       "True"
      ]
     },
     "execution_count": 2,
     "metadata": {},
     "output_type": "execute_result"
    }
   ],
   "source": [
    "nltk.download('stopwords')"
   ]
  },
  {
   "cell_type": "code",
   "execution_count": 3,
   "metadata": {},
   "outputs": [],
   "source": [
    "nlp = spacy.load('de_core_news_sm') "
   ]
  },
  {
   "cell_type": "code",
   "execution_count": 113,
   "metadata": {},
   "outputs": [],
   "source": [
    "stop_words = list(set(stopwords.words('german')))"
   ]
  },
  {
   "cell_type": "code",
   "execution_count": 114,
   "metadata": {},
   "outputs": [],
   "source": [
    "# complement stopword list to remove custom named entities\n",
    "exclude_tokens = ['ge', 'hinsken', 'diemer', 'nicolaus', 'atzenroth', 'lippelt']\n",
    "stop_words.extend(exclude_tokens)"
   ]
  },
  {
   "cell_type": "code",
   "execution_count": 5,
   "metadata": {},
   "outputs": [
    {
     "data": {
      "text/html": [
       "<div>\n",
       "<style scoped>\n",
       "    .dataframe tbody tr th:only-of-type {\n",
       "        vertical-align: middle;\n",
       "    }\n",
       "\n",
       "    .dataframe tbody tr th {\n",
       "        vertical-align: top;\n",
       "    }\n",
       "\n",
       "    .dataframe thead th {\n",
       "        text-align: right;\n",
       "    }\n",
       "</style>\n",
       "<table border=\"1\" class=\"dataframe\">\n",
       "  <thead>\n",
       "    <tr style=\"text-align: right;\">\n",
       "      <th></th>\n",
       "      <th>text</th>\n",
       "      <th>date</th>\n",
       "      <th>legislative_period</th>\n",
       "      <th>speaker_name</th>\n",
       "      <th>speaker_gender</th>\n",
       "      <th>speaker_role</th>\n",
       "      <th>speaker_party</th>\n",
       "      <th>comments</th>\n",
       "      <th>id</th>\n",
       "      <th>speaker_id</th>\n",
       "      <th>speech_length</th>\n",
       "      <th>topic_distribution</th>\n",
       "    </tr>\n",
       "  </thead>\n",
       "  <tbody>\n",
       "    <tr>\n",
       "      <th>0</th>\n",
       "      <td>Sehr geehrter Herr Alterspräsident! So muss ...</td>\n",
       "      <td>2021-10-26</td>\n",
       "      <td>20</td>\n",
       "      <td>Gabriele Katzmarek</td>\n",
       "      <td>female</td>\n",
       "      <td>None</td>\n",
       "      <td>SPD</td>\n",
       "      <td>[(Beifall bei der SPD sowie bei Abgeordneten d...</td>\n",
       "      <td>SP-2021-0</td>\n",
       "      <td>1299</td>\n",
       "      <td>2593</td>\n",
       "      <td>{68: 0.35882655}</td>\n",
       "    </tr>\n",
       "    <tr>\n",
       "      <th>1</th>\n",
       "      <td>Herr Präsident! Liebe Kolleginnen und Kolleg...</td>\n",
       "      <td>2021-10-26</td>\n",
       "      <td>20</td>\n",
       "      <td>Stefan Müller</td>\n",
       "      <td>male</td>\n",
       "      <td>None</td>\n",
       "      <td>CDU/CSU</td>\n",
       "      <td>[(Beifall bei der CDU/CSU sowie bei Abgeordnet...</td>\n",
       "      <td>SP-2021-1</td>\n",
       "      <td>4028</td>\n",
       "      <td>3796</td>\n",
       "      <td>{68: 0.46776655}</td>\n",
       "    </tr>\n",
       "    <tr>\n",
       "      <th>2</th>\n",
       "      <td>Sehr geehrter Herr Alterspräsident Wolfgang ...</td>\n",
       "      <td>2021-10-26</td>\n",
       "      <td>20</td>\n",
       "      <td>Britta Haßelmann</td>\n",
       "      <td>female</td>\n",
       "      <td>None</td>\n",
       "      <td>BÜNDNIS 90/DIE GRÜNEN</td>\n",
       "      <td>[(Beifall beim BÜNDNIS 90/DIE GRÜNEN und bei d...</td>\n",
       "      <td>SP-2021-2</td>\n",
       "      <td>451</td>\n",
       "      <td>4301</td>\n",
       "      <td>{68: 0.26328164}</td>\n",
       "    </tr>\n",
       "    <tr>\n",
       "      <th>3</th>\n",
       "      <td>Sehr geehrter Herr Präsident! Meine lieben K...</td>\n",
       "      <td>2021-10-26</td>\n",
       "      <td>20</td>\n",
       "      <td>Marco Buschmann</td>\n",
       "      <td>male</td>\n",
       "      <td>None</td>\n",
       "      <td>FDP</td>\n",
       "      <td>[(Jan Korte [DIE LINKE]: Oder Jugendweihe!), (...</td>\n",
       "      <td>SP-2021-3</td>\n",
       "      <td>3083</td>\n",
       "      <td>4555</td>\n",
       "      <td>{}</td>\n",
       "    </tr>\n",
       "    <tr>\n",
       "      <th>4</th>\n",
       "      <td>Herr Alterspräsident! Lassen Sie mich zunäch...</td>\n",
       "      <td>2021-10-26</td>\n",
       "      <td>20</td>\n",
       "      <td>Stephan Brandner</td>\n",
       "      <td>male</td>\n",
       "      <td>None</td>\n",
       "      <td>AfD</td>\n",
       "      <td>[(Beifall bei der AfD), (Beifall bei Abgeordne...</td>\n",
       "      <td>SP-2021-4</td>\n",
       "      <td>4055</td>\n",
       "      <td>5996</td>\n",
       "      <td>{68: 0.3120498}</td>\n",
       "    </tr>\n",
       "  </tbody>\n",
       "</table>\n",
       "</div>"
      ],
      "text/plain": [
       "                                                text       date  \\\n",
       "0    Sehr geehrter Herr Alterspräsident! So muss ... 2021-10-26   \n",
       "1    Herr Präsident! Liebe Kolleginnen und Kolleg... 2021-10-26   \n",
       "2    Sehr geehrter Herr Alterspräsident Wolfgang ... 2021-10-26   \n",
       "3    Sehr geehrter Herr Präsident! Meine lieben K... 2021-10-26   \n",
       "4    Herr Alterspräsident! Lassen Sie mich zunäch... 2021-10-26   \n",
       "\n",
       "  legislative_period        speaker_name speaker_gender speaker_role  \\\n",
       "0                 20  Gabriele Katzmarek         female         None   \n",
       "1                 20       Stefan Müller           male         None   \n",
       "2                 20    Britta Haßelmann         female         None   \n",
       "3                 20     Marco Buschmann           male         None   \n",
       "4                 20    Stephan Brandner           male         None   \n",
       "\n",
       "           speaker_party                                           comments  \\\n",
       "0                    SPD  [(Beifall bei der SPD sowie bei Abgeordneten d...   \n",
       "1                CDU/CSU  [(Beifall bei der CDU/CSU sowie bei Abgeordnet...   \n",
       "2  BÜNDNIS 90/DIE GRÜNEN  [(Beifall beim BÜNDNIS 90/DIE GRÜNEN und bei d...   \n",
       "3                    FDP  [(Jan Korte [DIE LINKE]: Oder Jugendweihe!), (...   \n",
       "4                    AfD  [(Beifall bei der AfD), (Beifall bei Abgeordne...   \n",
       "\n",
       "          id  speaker_id  speech_length topic_distribution  \n",
       "0  SP-2021-0        1299           2593   {68: 0.35882655}  \n",
       "1  SP-2021-1        4028           3796   {68: 0.46776655}  \n",
       "2  SP-2021-2         451           4301   {68: 0.26328164}  \n",
       "3  SP-2021-3        3083           4555                 {}  \n",
       "4  SP-2021-4        4055           5996    {68: 0.3120498}  "
      ]
     },
     "execution_count": 5,
     "metadata": {},
     "output_type": "execute_result"
    }
   ],
   "source": [
    "# load data\n",
    "df = pd.read_pickle('C:/Users/Ana/OneDrive - Hochschule Düsseldorf/MA/data_topics_revised.pkl')\n",
    "\n",
    "df.head()"
   ]
  },
  {
   "cell_type": "code",
   "execution_count": 8,
   "metadata": {},
   "outputs": [
    {
     "data": {
      "text/plain": [
       "speaker_gender\n",
       "male      743167\n",
       "female    228097\n",
       "Name: count, dtype: int64"
      ]
     },
     "execution_count": 8,
     "metadata": {},
     "output_type": "execute_result"
    }
   ],
   "source": [
    "df[\"speaker_gender\"].value_counts()"
   ]
  },
  {
   "cell_type": "markdown",
   "metadata": {},
   "source": [
    "## Method #1: Undersampling Male Speeches"
   ]
  },
  {
   "cell_type": "code",
   "execution_count": 9,
   "metadata": {},
   "outputs": [],
   "source": [
    "male_speeches_total = df['speaker_gender'].value_counts().male\n",
    "female_speeches_total = df['speaker_gender'].value_counts().female"
   ]
  },
  {
   "cell_type": "code",
   "execution_count": 10,
   "metadata": {},
   "outputs": [
    {
     "data": {
      "text/plain": [
       "{0: 0.005736261163372431,\n",
       " 1: 0.003451444964590731,\n",
       " 2: 0.007904010807799592,\n",
       " 3: 0.007038794779639031,\n",
       " 4: 0.003116392412472567,\n",
       " 5: 0.0018892119806180846,\n",
       " 6: 0.008447630209629868,\n",
       " 7: 0.01052253396612067,\n",
       " 8: 0.01244538576120845,\n",
       " 9: 0.007341553109866289,\n",
       " 10: 0.09141417743252862,\n",
       " 11: 0.001030723915351462,\n",
       " 12: 0.00847050528346926,\n",
       " 13: 0.00716258929688751,\n",
       " 14: 0.003537562889633151,\n",
       " 15: 0.0014317105038302294,\n",
       " 16: 0.0016200934648605227,\n",
       " 17: 0.004498315990887647,\n",
       " 18: 0.002875531340869549,\n",
       " 19: 0.0035886954076270877,\n",
       " 20: 0.002385735642190786,\n",
       " 21: 0.0019201606099302042,\n",
       " 22: 0.0015366667249756783,\n",
       " 23: 0.0014586223554059854,\n",
       " 24: 0.008325181284960178,\n",
       " 25: 0.004908721727417929,\n",
       " 26: 0.003822828516336167,\n",
       " 27: 0.013593176230914451,\n",
       " 28: 0.003030274487430147,\n",
       " 29: 0.021168862449489817,\n",
       " 30: 0.007741194105766268,\n",
       " 31: 0.003970843700002826,\n",
       " 32: 0.0015312843546605272,\n",
       " 33: 0.0049356335789936855,\n",
       " 34: 0.0007468038812272343,\n",
       " 35: 0.001037451878245401,\n",
       " 36: 0.031115482791889307,\n",
       " 37: 0.010246687487469168,\n",
       " 38: 0.004328771325960383,\n",
       " 39: 0.0004736485877333089,\n",
       " 40: 0.003318231299290738,\n",
       " 41: 0.00455213969403916,\n",
       " 42: 0.005101141466184586,\n",
       " 43: 0.0010630181372423696,\n",
       " 44: 0.0018071308333120282,\n",
       " 45: 0.001371158837784778,\n",
       " 46: 0.0029885611174877247,\n",
       " 47: 0.006117063863169382,\n",
       " 48: 0.008751734132435914,\n",
       " 49: 0.0014370928741453805,\n",
       " 50: 0.017865432668565745,\n",
       " 51: 0.0014572767628271976,\n",
       " 52: 0.012729305795332678,\n",
       " 53: 0.007110111186314785,\n",
       " 54: 0.0014801518366665905,\n",
       " 55: 0.0017183217231120328,\n",
       " 56: 0.02282797809913519,\n",
       " 57: 0.00553442227655426,\n",
       " 58: 0.006406366267608761,\n",
       " 59: 0.0022686690878362466,\n",
       " 60: 0.019083193952368713,\n",
       " 61: 0.03172907300781655,\n",
       " 62: 0.0012729305795332678,\n",
       " 63: 0.02000761605399594,\n",
       " 64: 0.0007064361038636,\n",
       " 65: 0.0017842557594726354,\n",
       " 66: 0.0439309065122644,\n",
       " 67: 0.005095759095869435,\n",
       " 68: 0.014942805587438624,\n",
       " 69: 0.017523652153553643,\n",
       " 70: 0.0008705983984757127,\n",
       " 71: 0.004503698361202798,\n",
       " 72: 0.004188829697766451,\n",
       " 73: 0.014731547552568938,\n",
       " 74: 0.004289749141175536,\n",
       " 75: 0.0011679743583878186,\n",
       " 76: 0.0013684676526272022,\n",
       " 77: 0.01988516712932625,\n",
       " 78: 0.003950659811321008,\n",
       " 79: 0.01009194434090857,\n",
       " 80: 0.01136487492044184,\n",
       " 81: 0.009193088498278315,\n",
       " 82: 0.013088579013869023,\n",
       " 83: 0.009108316165814683,\n",
       " 84: 0.0011047315071847916,\n",
       " 85: 0.016922172270835492,\n",
       " 86: 0.014334597741826533,\n",
       " 87: 0.004094638217251304,\n",
       " 88: 0.0021744776073211003,\n",
       " 89: 0.0013106071717393264,\n",
       " 90: 0.0015877992429696151,\n",
       " 91: 0.0028903328592362145,\n",
       " 92: 0.002535096418436233,\n",
       " 93: 0.0010858932110817622,\n",
       " 94: 0.0031446498566271106,\n",
       " 95: 0.0055196207581875946,\n",
       " 96: 0.03384165335651341,\n",
       " 97: 0.007570303848260216,\n",
       " 98: 0.0010509078040332792,\n",
       " 99: 0.003086789375739235,\n",
       " 100: 0.0018528809809908136,\n",
       " 101: 0.005755099459475461,\n",
       " 102: 0.008820359353954092,\n",
       " 103: 0.004749941803120967,\n",
       " 104: 0.0018380794626241478,\n",
       " 105: 0.0032536428555089234,\n",
       " 106: 0.002895715229551366,\n",
       " 107: 0.008897058130944996,\n",
       " 108: 0.002614486380584714,\n",
       " 109: 0.0023144192355150322,\n",
       " 110: 0.0035362172970543632,\n",
       " 111: 0.015697683024138584,\n",
       " 112: 0.002492037455915023,\n",
       " 113: 0.010199591747211596,\n",
       " 114: 0.011607081584623645,\n",
       " 115: 0.037182759729643536,\n",
       " 116: 0.007360391405969318,\n",
       " 117: 0.0019820578685544434,\n",
       " 118: 0.0068665589295541915,\n",
       " 119: 0.0022148453846847346,\n",
       " 120: 0.04721415240450666,\n",
       " 121: 0.0033855109282301286,\n",
       " 122: 0.005923298531823937,\n",
       " 123: 0.004907376134839141,\n",
       " 124: 0.014727510774832574,\n",
       " 125: 0.0012944600607938726,\n",
       " 126: 0.00829826943338442,\n",
       " 127: 0.0005436194018302751,\n",
       " 128: 0.00324960607777256,\n",
       " 129: 0.004856243616845205,\n",
       " 130: 0.0009136573609969226,\n",
       " 131: 0.001270239394375692,\n",
       " 132: 0.00145593117024841,\n",
       " 133: 0.010145768044060083,\n",
       " 134: 0.0008235026582181394,\n",
       " 135: 0.007616053995939002,\n",
       " 136: 0.0007535318441211733,\n",
       " 137: 0.0009284588793635885,\n",
       " 138: 0.0035994601482573904,\n",
       " 139: 0.00460058102687552,\n",
       " 140: 0.003914328811693738,\n",
       " 141: 0.003246914892614984,\n",
       " 142: 0.00981609786225707,\n",
       " 143: 0.006777749819354196,\n",
       " 144: 0.008739623799226822,\n",
       " 145: 0.005701275756323948,\n",
       " 146: 0.013402102084726582,\n",
       " 147: 0.012041707987572106,\n",
       " 148: 0.0038645418862785887,\n",
       " 149: 0.007897282844905654}"
      ]
     },
     "execution_count": 10,
     "metadata": {},
     "output_type": "execute_result"
    }
   ],
   "source": [
    "# calculate topic ratios in original data\n",
    "male_topic_ratios = {}\n",
    "\n",
    "for topic in np.arange(0, 150):\n",
    "    filtered_df = df[df['topic_distribution'].apply(lambda topics: topic in topics)]\n",
    "    male_speeches = filtered_df.groupby('speaker_gender').size().male\n",
    "    topic_ratio = male_speeches / male_speeches_total\n",
    "    male_topic_ratios[topic] = topic_ratio\n",
    "\n",
    "male_topic_ratios"
   ]
  },
  {
   "cell_type": "code",
   "execution_count": 11,
   "metadata": {},
   "outputs": [
    {
     "data": {
      "text/plain": [
       "{0: 1308,\n",
       " 1: 787,\n",
       " 2: 1803,\n",
       " 3: 1606,\n",
       " 4: 711,\n",
       " 5: 431,\n",
       " 6: 1927,\n",
       " 7: 2400,\n",
       " 8: 2839,\n",
       " 9: 1675,\n",
       " 10: 20851,\n",
       " 11: 235,\n",
       " 12: 1932,\n",
       " 13: 1634,\n",
       " 14: 807,\n",
       " 15: 327,\n",
       " 16: 370,\n",
       " 17: 1026,\n",
       " 18: 656,\n",
       " 19: 819,\n",
       " 20: 544,\n",
       " 21: 438,\n",
       " 22: 351,\n",
       " 23: 333,\n",
       " 24: 1899,\n",
       " 25: 1120,\n",
       " 26: 872,\n",
       " 27: 3101,\n",
       " 28: 691,\n",
       " 29: 4829,\n",
       " 30: 1766,\n",
       " 31: 906,\n",
       " 32: 349,\n",
       " 33: 1126,\n",
       " 34: 170,\n",
       " 35: 237,\n",
       " 36: 7097,\n",
       " 37: 2337,\n",
       " 38: 987,\n",
       " 39: 108,\n",
       " 40: 757,\n",
       " 41: 1038,\n",
       " 42: 1164,\n",
       " 43: 242,\n",
       " 44: 412,\n",
       " 45: 313,\n",
       " 46: 682,\n",
       " 47: 1395,\n",
       " 48: 1996,\n",
       " 49: 328,\n",
       " 50: 4075,\n",
       " 51: 332,\n",
       " 52: 2904,\n",
       " 53: 1622,\n",
       " 54: 338,\n",
       " 55: 392,\n",
       " 56: 5207,\n",
       " 57: 1262,\n",
       " 58: 1461,\n",
       " 59: 517,\n",
       " 60: 4353,\n",
       " 61: 7237,\n",
       " 62: 290,\n",
       " 63: 4564,\n",
       " 64: 161,\n",
       " 65: 407,\n",
       " 66: 10021,\n",
       " 67: 1162,\n",
       " 68: 3408,\n",
       " 69: 3997,\n",
       " 70: 199,\n",
       " 71: 1027,\n",
       " 72: 955,\n",
       " 73: 3360,\n",
       " 74: 978,\n",
       " 75: 266,\n",
       " 76: 312,\n",
       " 77: 4536,\n",
       " 78: 901,\n",
       " 79: 2302,\n",
       " 80: 2592,\n",
       " 81: 2097,\n",
       " 82: 2985,\n",
       " 83: 2078,\n",
       " 84: 252,\n",
       " 85: 3860,\n",
       " 86: 3270,\n",
       " 87: 934,\n",
       " 88: 496,\n",
       " 89: 299,\n",
       " 90: 362,\n",
       " 91: 659,\n",
       " 92: 578,\n",
       " 93: 248,\n",
       " 94: 717,\n",
       " 95: 1259,\n",
       " 96: 7719,\n",
       " 97: 1727,\n",
       " 98: 240,\n",
       " 99: 704,\n",
       " 100: 423,\n",
       " 101: 1313,\n",
       " 102: 2012,\n",
       " 103: 1083,\n",
       " 104: 419,\n",
       " 105: 742,\n",
       " 106: 661,\n",
       " 107: 2029,\n",
       " 108: 596,\n",
       " 109: 528,\n",
       " 110: 807,\n",
       " 111: 3581,\n",
       " 112: 568,\n",
       " 113: 2326,\n",
       " 114: 2648,\n",
       " 115: 8481,\n",
       " 116: 1679,\n",
       " 117: 452,\n",
       " 118: 1566,\n",
       " 119: 505,\n",
       " 120: 10769,\n",
       " 121: 772,\n",
       " 122: 1351,\n",
       " 123: 1119,\n",
       " 124: 3359,\n",
       " 125: 295,\n",
       " 126: 1893,\n",
       " 127: 124,\n",
       " 128: 741,\n",
       " 129: 1108,\n",
       " 130: 208,\n",
       " 131: 290,\n",
       " 132: 332,\n",
       " 133: 2314,\n",
       " 134: 188,\n",
       " 135: 1737,\n",
       " 136: 172,\n",
       " 137: 212,\n",
       " 138: 821,\n",
       " 139: 1049,\n",
       " 140: 893,\n",
       " 141: 741,\n",
       " 142: 2239,\n",
       " 143: 1546,\n",
       " 144: 1993,\n",
       " 145: 1300,\n",
       " 146: 3057,\n",
       " 147: 2747,\n",
       " 148: 881,\n",
       " 149: 1801}"
      ]
     },
     "execution_count": 11,
     "metadata": {},
     "output_type": "execute_result"
    }
   ],
   "source": [
    "# calculate new speech counts per topic for resampled data\n",
    "new_speech_counts = {}\n",
    "\n",
    "for topic, ratio in male_topic_ratios.items():\n",
    "    new_speech_count = np.round(ratio * female_speeches_total)\n",
    "    new_speech_counts[topic] = int(new_speech_count)\n",
    "\n",
    "new_speech_counts"
   ]
  },
  {
   "cell_type": "code",
   "execution_count": 12,
   "metadata": {},
   "outputs": [
    {
     "name": "stderr",
     "output_type": "stream",
     "text": [
      "C:\\Users\\Ana\\AppData\\Local\\Temp\\ipykernel_26360\\4180490814.py:7: FutureWarning: The behavior of DataFrame concatenation with empty or all-NA entries is deprecated. In a future version, this will no longer exclude empty or all-NA columns when determining the result dtypes. To retain the old behavior, exclude the relevant entries before the concat operation.\n",
      "  reduced_male_df = pd.concat([reduced_male_df, selected_speeches], ignore_index=True)\n"
     ]
    }
   ],
   "source": [
    "# assemble reduced male data\n",
    "reduced_male_df = pd.DataFrame(columns=df.columns)\n",
    "\n",
    "for topic, count in new_speech_counts.items():\n",
    "    selected_speeches = df[(df['speaker_gender'] == 'male') & (df['topic_distribution'].apply(lambda topics: topic in topics))].head(count)\n",
    "    \n",
    "    reduced_male_df = pd.concat([reduced_male_df, selected_speeches], ignore_index=True)"
   ]
  },
  {
   "cell_type": "code",
   "execution_count": 19,
   "metadata": {},
   "outputs": [
    {
     "data": {
      "text/html": [
       "<div>\n",
       "<style scoped>\n",
       "    .dataframe tbody tr th:only-of-type {\n",
       "        vertical-align: middle;\n",
       "    }\n",
       "\n",
       "    .dataframe tbody tr th {\n",
       "        vertical-align: top;\n",
       "    }\n",
       "\n",
       "    .dataframe thead th {\n",
       "        text-align: right;\n",
       "    }\n",
       "</style>\n",
       "<table border=\"1\" class=\"dataframe\">\n",
       "  <thead>\n",
       "    <tr style=\"text-align: right;\">\n",
       "      <th></th>\n",
       "      <th>text</th>\n",
       "      <th>date</th>\n",
       "      <th>legislative_period</th>\n",
       "      <th>speaker_name</th>\n",
       "      <th>speaker_gender</th>\n",
       "      <th>speaker_role</th>\n",
       "      <th>speaker_party</th>\n",
       "      <th>comments</th>\n",
       "      <th>id</th>\n",
       "      <th>speaker_id</th>\n",
       "      <th>speech_length</th>\n",
       "      <th>topic_distribution</th>\n",
       "    </tr>\n",
       "  </thead>\n",
       "  <tbody>\n",
       "    <tr>\n",
       "      <th>0</th>\n",
       "      <td>Meine Damen und Herren! Herr Minister, ich m...</td>\n",
       "      <td>2021-11-11</td>\n",
       "      <td>20</td>\n",
       "      <td>Thomas Ehrhorn</td>\n",
       "      <td>male</td>\n",
       "      <td>None</td>\n",
       "      <td>AfD</td>\n",
       "      <td>[(Beifall bei Abgeordneten der AfD), (Beifall ...</td>\n",
       "      <td>SP-2021-21</td>\n",
       "      <td>4132</td>\n",
       "      <td>982</td>\n",
       "      <td>{0: 0.22465643}</td>\n",
       "    </tr>\n",
       "    <tr>\n",
       "      <th>1</th>\n",
       "      <td>Ich möchte auf Ihre Frage gern antworten. Er...</td>\n",
       "      <td>2021-11-11</td>\n",
       "      <td>20</td>\n",
       "      <td>Olaf Scholz</td>\n",
       "      <td>male</td>\n",
       "      <td>Bundesminister der Finanzen</td>\n",
       "      <td>None</td>\n",
       "      <td>[(Zuruf von der AfD: Warum?), (Beifall bei der...</td>\n",
       "      <td>SP-2021-22</td>\n",
       "      <td>3440</td>\n",
       "      <td>1951</td>\n",
       "      <td>{0: 0.42684105, 29: 0.2142375}</td>\n",
       "    </tr>\n",
       "    <tr>\n",
       "      <th>2</th>\n",
       "      <td>Sehr geehrte Frau Präsidentin! Meine Damen u...</td>\n",
       "      <td>2021-11-11</td>\n",
       "      <td>20</td>\n",
       "      <td>Sebastian Münzenmaier</td>\n",
       "      <td>male</td>\n",
       "      <td>None</td>\n",
       "      <td>AfD</td>\n",
       "      <td>[(Dr. Marco Buschmann [FDP]: Das ist Quatsch!)...</td>\n",
       "      <td>SP-2021-26</td>\n",
       "      <td>3961</td>\n",
       "      <td>4231</td>\n",
       "      <td>{0: 0.20533974}</td>\n",
       "    </tr>\n",
       "    <tr>\n",
       "      <th>3</th>\n",
       "      <td>Ja, gerne. – Zunächst mal ist es ja ein Fort...</td>\n",
       "      <td>2021-11-18</td>\n",
       "      <td>20</td>\n",
       "      <td>Johannes Fechner</td>\n",
       "      <td>male</td>\n",
       "      <td>None</td>\n",
       "      <td>SPD</td>\n",
       "      <td>[(Beifall bei der SPD, dem BÜNDNIS 90/DIE GRÜN...</td>\n",
       "      <td>SP-2021-98</td>\n",
       "      <td>2376</td>\n",
       "      <td>496</td>\n",
       "      <td>{0: 0.24128607, 130: 0.25529233}</td>\n",
       "    </tr>\n",
       "    <tr>\n",
       "      <th>4</th>\n",
       "      <td>Frau Präsidentin! Meine Damen und Herren! Da...</td>\n",
       "      <td>2021-11-18</td>\n",
       "      <td>20</td>\n",
       "      <td>Martin Sichert</td>\n",
       "      <td>male</td>\n",
       "      <td>None</td>\n",
       "      <td>AfD</td>\n",
       "      <td>[(Beifall bei Abgeordneten der AfD – Widerspru...</td>\n",
       "      <td>SP-2021-104</td>\n",
       "      <td>3216</td>\n",
       "      <td>6208</td>\n",
       "      <td>{0: 0.28747255}</td>\n",
       "    </tr>\n",
       "    <tr>\n",
       "      <th>...</th>\n",
       "      <td>...</td>\n",
       "      <td>...</td>\n",
       "      <td>...</td>\n",
       "      <td>...</td>\n",
       "      <td>...</td>\n",
       "      <td>...</td>\n",
       "      <td>...</td>\n",
       "      <td>...</td>\n",
       "      <td>...</td>\n",
       "      <td>...</td>\n",
       "      <td>...</td>\n",
       "      <td>...</td>\n",
       "    </tr>\n",
       "    <tr>\n",
       "      <th>261819</th>\n",
       "      <td>Herr Abgeordneter, ich habe deutlich betont, ...</td>\n",
       "      <td>1971-05-13</td>\n",
       "      <td>6</td>\n",
       "      <td>Herbert Ehrenberg</td>\n",
       "      <td>male</td>\n",
       "      <td>Staatssekretär des Bundesministeriums für Arbe...</td>\n",
       "      <td>SPD</td>\n",
       "      <td>[]</td>\n",
       "      <td>SP-1971-229694</td>\n",
       "      <td>2018</td>\n",
       "      <td>295</td>\n",
       "      <td>{5: 0.24575704, 27: 0.24492292, 149: 0.2524942}</td>\n",
       "    </tr>\n",
       "    <tr>\n",
       "      <th>261821</th>\n",
       "      <td>Herr Kollege Baier, selbstverständlich respek...</td>\n",
       "      <td>1971-05-14</td>\n",
       "      <td>6</td>\n",
       "      <td>Heinz Westphal</td>\n",
       "      <td>male</td>\n",
       "      <td>Parlamentarischer Staatssekretär beim Bundesmi...</td>\n",
       "      <td>SPD</td>\n",
       "      <td>[]</td>\n",
       "      <td>SP-1971-229920</td>\n",
       "      <td>1936</td>\n",
       "      <td>1451</td>\n",
       "      <td>{61: 0.28843397, 86: 0.26967123, 149: 0.21287826}</td>\n",
       "    </tr>\n",
       "    <tr>\n",
       "      <th>261822</th>\n",
       "      <td>Herr Kollege Baier, Sie sind Mitglied des Hau...</td>\n",
       "      <td>1971-05-14</td>\n",
       "      <td>6</td>\n",
       "      <td>Heinz Westphal</td>\n",
       "      <td>male</td>\n",
       "      <td>Parlamentarischer Staatssekretär beim Bundesmi...</td>\n",
       "      <td>SPD</td>\n",
       "      <td>[]</td>\n",
       "      <td>SP-1971-229923</td>\n",
       "      <td>1936</td>\n",
       "      <td>1164</td>\n",
       "      <td>{107: 0.28058052, 149: 0.22335199}</td>\n",
       "    </tr>\n",
       "    <tr>\n",
       "      <th>261823</th>\n",
       "      <td>Herr Staatssekretär, ich verstehe Sie nicht, ...</td>\n",
       "      <td>1971-05-14</td>\n",
       "      <td>6</td>\n",
       "      <td>Fritz Baier</td>\n",
       "      <td>male</td>\n",
       "      <td>NA</td>\n",
       "      <td>CDU</td>\n",
       "      <td>[]</td>\n",
       "      <td>SP-1971-229925</td>\n",
       "      <td>1243</td>\n",
       "      <td>475</td>\n",
       "      <td>{149: 0.36631507}</td>\n",
       "    </tr>\n",
       "    <tr>\n",
       "      <th>261824</th>\n",
       "      <td>Herr Staatssekretär, Sie haben in der Fragest...</td>\n",
       "      <td>1971-09-06</td>\n",
       "      <td>6</td>\n",
       "      <td>Rolf Meinecke</td>\n",
       "      <td>male</td>\n",
       "      <td>NA</td>\n",
       "      <td>SPD</td>\n",
       "      <td>[]</td>\n",
       "      <td>SP-1971-230130</td>\n",
       "      <td>3843</td>\n",
       "      <td>340</td>\n",
       "      <td>{149: 0.26268545}</td>\n",
       "    </tr>\n",
       "  </tbody>\n",
       "</table>\n",
       "<p>200209 rows × 12 columns</p>\n",
       "</div>"
      ],
      "text/plain": [
       "                                                     text       date  \\\n",
       "0         Meine Damen und Herren! Herr Minister, ich m... 2021-11-11   \n",
       "1         Ich möchte auf Ihre Frage gern antworten. Er... 2021-11-11   \n",
       "2         Sehr geehrte Frau Präsidentin! Meine Damen u... 2021-11-11   \n",
       "3         Ja, gerne. – Zunächst mal ist es ja ein Fort... 2021-11-18   \n",
       "4         Frau Präsidentin! Meine Damen und Herren! Da... 2021-11-18   \n",
       "...                                                   ...        ...   \n",
       "261819   Herr Abgeordneter, ich habe deutlich betont, ... 1971-05-13   \n",
       "261821   Herr Kollege Baier, selbstverständlich respek... 1971-05-14   \n",
       "261822   Herr Kollege Baier, Sie sind Mitglied des Hau... 1971-05-14   \n",
       "261823   Herr Staatssekretär, ich verstehe Sie nicht, ... 1971-05-14   \n",
       "261824   Herr Staatssekretär, Sie haben in der Fragest... 1971-09-06   \n",
       "\n",
       "       legislative_period           speaker_name speaker_gender  \\\n",
       "0                      20         Thomas Ehrhorn           male   \n",
       "1                      20            Olaf Scholz           male   \n",
       "2                      20  Sebastian Münzenmaier           male   \n",
       "3                      20       Johannes Fechner           male   \n",
       "4                      20         Martin Sichert           male   \n",
       "...                   ...                    ...            ...   \n",
       "261819                  6      Herbert Ehrenberg           male   \n",
       "261821                  6         Heinz Westphal           male   \n",
       "261822                  6         Heinz Westphal           male   \n",
       "261823                  6            Fritz Baier           male   \n",
       "261824                  6          Rolf Meinecke           male   \n",
       "\n",
       "                                             speaker_role speaker_party  \\\n",
       "0                                                    None           AfD   \n",
       "1                             Bundesminister der Finanzen          None   \n",
       "2                                                    None           AfD   \n",
       "3                                                    None           SPD   \n",
       "4                                                    None           AfD   \n",
       "...                                                   ...           ...   \n",
       "261819  Staatssekretär des Bundesministeriums für Arbe...           SPD   \n",
       "261821  Parlamentarischer Staatssekretär beim Bundesmi...           SPD   \n",
       "261822  Parlamentarischer Staatssekretär beim Bundesmi...           SPD   \n",
       "261823                                                 NA           CDU   \n",
       "261824                                                 NA           SPD   \n",
       "\n",
       "                                                 comments              id  \\\n",
       "0       [(Beifall bei Abgeordneten der AfD), (Beifall ...      SP-2021-21   \n",
       "1       [(Zuruf von der AfD: Warum?), (Beifall bei der...      SP-2021-22   \n",
       "2       [(Dr. Marco Buschmann [FDP]: Das ist Quatsch!)...      SP-2021-26   \n",
       "3       [(Beifall bei der SPD, dem BÜNDNIS 90/DIE GRÜN...      SP-2021-98   \n",
       "4       [(Beifall bei Abgeordneten der AfD – Widerspru...     SP-2021-104   \n",
       "...                                                   ...             ...   \n",
       "261819                                                 []  SP-1971-229694   \n",
       "261821                                                 []  SP-1971-229920   \n",
       "261822                                                 []  SP-1971-229923   \n",
       "261823                                                 []  SP-1971-229925   \n",
       "261824                                                 []  SP-1971-230130   \n",
       "\n",
       "       speaker_id speech_length  \\\n",
       "0            4132           982   \n",
       "1            3440          1951   \n",
       "2            3961          4231   \n",
       "3            2376           496   \n",
       "4            3216          6208   \n",
       "...           ...           ...   \n",
       "261819       2018           295   \n",
       "261821       1936          1451   \n",
       "261822       1936          1164   \n",
       "261823       1243           475   \n",
       "261824       3843           340   \n",
       "\n",
       "                                       topic_distribution  \n",
       "0                                         {0: 0.22465643}  \n",
       "1                          {0: 0.42684105, 29: 0.2142375}  \n",
       "2                                         {0: 0.20533974}  \n",
       "3                        {0: 0.24128607, 130: 0.25529233}  \n",
       "4                                         {0: 0.28747255}  \n",
       "...                                                   ...  \n",
       "261819    {5: 0.24575704, 27: 0.24492292, 149: 0.2524942}  \n",
       "261821  {61: 0.28843397, 86: 0.26967123, 149: 0.21287826}  \n",
       "261822                 {107: 0.28058052, 149: 0.22335199}  \n",
       "261823                                  {149: 0.36631507}  \n",
       "261824                                  {149: 0.26268545}  \n",
       "\n",
       "[200209 rows x 12 columns]"
      ]
     },
     "execution_count": 19,
     "metadata": {},
     "output_type": "execute_result"
    }
   ],
   "source": [
    "reduced_male_df"
   ]
  },
  {
   "cell_type": "code",
   "execution_count": 14,
   "metadata": {},
   "outputs": [],
   "source": [
    "# remove duplicates due to multiple topics in one speech\n",
    "to_remove = reduced_male_df[reduced_male_df['id'].duplicated() == True].index\n",
    "reduced_male_df = reduced_male_df.drop(to_remove)"
   ]
  },
  {
   "cell_type": "code",
   "execution_count": 15,
   "metadata": {},
   "outputs": [
    {
     "data": {
      "text/plain": [
       "200209"
      ]
     },
     "execution_count": 15,
     "metadata": {},
     "output_type": "execute_result"
    }
   ],
   "source": [
    "len(reduced_male_df['id'].unique())"
   ]
  },
  {
   "cell_type": "markdown",
   "metadata": {},
   "source": [
    "### Remove rest difference between male and female speeches"
   ]
  },
  {
   "cell_type": "code",
   "execution_count": 22,
   "metadata": {},
   "outputs": [
    {
     "data": {
      "text/plain": [
       "27888"
      ]
     },
     "execution_count": 22,
     "metadata": {},
     "output_type": "execute_result"
    }
   ],
   "source": [
    "difference_count = df['speaker_gender'].value_counts().female - len(reduced_male_df)\n",
    "difference_count"
   ]
  },
  {
   "cell_type": "code",
   "execution_count": 23,
   "metadata": {},
   "outputs": [],
   "source": [
    "female_speeches = df[df['speaker_gender'] == 'female']"
   ]
  },
  {
   "cell_type": "code",
   "execution_count": 24,
   "metadata": {},
   "outputs": [],
   "source": [
    "fem_indeces = list(female_speeches.index)"
   ]
  },
  {
   "cell_type": "code",
   "execution_count": 25,
   "metadata": {},
   "outputs": [
    {
     "data": {
      "text/plain": [
       "27888"
      ]
     },
     "execution_count": 25,
     "metadata": {},
     "output_type": "execute_result"
    }
   ],
   "source": [
    "samples_to_remove = random.sample(fem_indeces, difference_count)\n",
    "len(samples_to_remove)"
   ]
  },
  {
   "cell_type": "code",
   "execution_count": 26,
   "metadata": {},
   "outputs": [],
   "source": [
    "female_speeches = female_speeches.drop(samples_to_remove)"
   ]
  },
  {
   "cell_type": "code",
   "execution_count": 27,
   "metadata": {},
   "outputs": [
    {
     "data": {
      "text/html": [
       "<div>\n",
       "<style scoped>\n",
       "    .dataframe tbody tr th:only-of-type {\n",
       "        vertical-align: middle;\n",
       "    }\n",
       "\n",
       "    .dataframe tbody tr th {\n",
       "        vertical-align: top;\n",
       "    }\n",
       "\n",
       "    .dataframe thead th {\n",
       "        text-align: right;\n",
       "    }\n",
       "</style>\n",
       "<table border=\"1\" class=\"dataframe\">\n",
       "  <thead>\n",
       "    <tr style=\"text-align: right;\">\n",
       "      <th></th>\n",
       "      <th>text</th>\n",
       "      <th>date</th>\n",
       "      <th>legislative_period</th>\n",
       "      <th>speaker_name</th>\n",
       "      <th>speaker_gender</th>\n",
       "      <th>speaker_role</th>\n",
       "      <th>speaker_party</th>\n",
       "      <th>comments</th>\n",
       "      <th>id</th>\n",
       "      <th>speaker_id</th>\n",
       "      <th>speech_length</th>\n",
       "      <th>topic_distribution</th>\n",
       "    </tr>\n",
       "  </thead>\n",
       "  <tbody>\n",
       "    <tr>\n",
       "      <th>0</th>\n",
       "      <td>Sehr geehrter Herr Alterspräsident! So muss ...</td>\n",
       "      <td>2021-10-26</td>\n",
       "      <td>20</td>\n",
       "      <td>Gabriele Katzmarek</td>\n",
       "      <td>female</td>\n",
       "      <td>None</td>\n",
       "      <td>SPD</td>\n",
       "      <td>[(Beifall bei der SPD sowie bei Abgeordneten d...</td>\n",
       "      <td>SP-2021-0</td>\n",
       "      <td>1299</td>\n",
       "      <td>2593</td>\n",
       "      <td>{68: 0.35882655}</td>\n",
       "    </tr>\n",
       "    <tr>\n",
       "      <th>2</th>\n",
       "      <td>Sehr geehrter Herr Alterspräsident Wolfgang ...</td>\n",
       "      <td>2021-10-26</td>\n",
       "      <td>20</td>\n",
       "      <td>Britta Haßelmann</td>\n",
       "      <td>female</td>\n",
       "      <td>None</td>\n",
       "      <td>BÜNDNIS 90/DIE GRÜNEN</td>\n",
       "      <td>[(Beifall beim BÜNDNIS 90/DIE GRÜNEN und bei d...</td>\n",
       "      <td>SP-2021-2</td>\n",
       "      <td>451</td>\n",
       "      <td>4301</td>\n",
       "      <td>{68: 0.26328164}</td>\n",
       "    </tr>\n",
       "    <tr>\n",
       "      <th>7</th>\n",
       "      <td>Herr Alterspräsident, vielen Dank. Ich nehme...</td>\n",
       "      <td>2021-10-26</td>\n",
       "      <td>20</td>\n",
       "      <td>Bärbel Bas</td>\n",
       "      <td>female</td>\n",
       "      <td>None</td>\n",
       "      <td>SPD</td>\n",
       "      <td>[(Beifall im ganzen Hause – Abgeordnete aller ...</td>\n",
       "      <td>SP-2021-7</td>\n",
       "      <td>471</td>\n",
       "      <td>89</td>\n",
       "      <td>{68: 0.7516313}</td>\n",
       "    </tr>\n",
       "    <tr>\n",
       "      <th>9</th>\n",
       "      <td>Frau Präsidentin, ich nehme die Wahl sehr ge...</td>\n",
       "      <td>2021-10-26</td>\n",
       "      <td>20</td>\n",
       "      <td>Aydan Özoğuz</td>\n",
       "      <td>female</td>\n",
       "      <td>None</td>\n",
       "      <td>SPD</td>\n",
       "      <td>[(Beifall bei der SPD, der CDU/CSU, dem BÜNDNI...</td>\n",
       "      <td>SP-2021-9</td>\n",
       "      <td>327</td>\n",
       "      <td>167</td>\n",
       "      <td>{68: 0.37566105, 115: 0.4293458}</td>\n",
       "    </tr>\n",
       "    <tr>\n",
       "      <th>10</th>\n",
       "      <td>Ich nehme die Wahl an, bedanke mich auf das ...</td>\n",
       "      <td>2021-10-26</td>\n",
       "      <td>20</td>\n",
       "      <td>Yvonne Magwas</td>\n",
       "      <td>female</td>\n",
       "      <td>None</td>\n",
       "      <td>CDU/CSU</td>\n",
       "      <td>[(Beifall bei der CDU/CSU, der SPD, dem BÜNDNI...</td>\n",
       "      <td>SP-2021-10</td>\n",
       "      <td>4708</td>\n",
       "      <td>188</td>\n",
       "      <td>{68: 0.38035467}</td>\n",
       "    </tr>\n",
       "    <tr>\n",
       "      <th>...</th>\n",
       "      <td>...</td>\n",
       "      <td>...</td>\n",
       "      <td>...</td>\n",
       "      <td>...</td>\n",
       "      <td>...</td>\n",
       "      <td>...</td>\n",
       "      <td>...</td>\n",
       "      <td>...</td>\n",
       "      <td>...</td>\n",
       "      <td>...</td>\n",
       "      <td>...</td>\n",
       "      <td>...</td>\n",
       "    </tr>\n",
       "    <tr>\n",
       "      <th>971273</th>\n",
       "      <td>Vielen Dank. – Frau Präsidentin! Meine sehr g...</td>\n",
       "      <td>2021-07-09</td>\n",
       "      <td>19</td>\n",
       "      <td>Gesine Lötzsch</td>\n",
       "      <td>female</td>\n",
       "      <td>None</td>\n",
       "      <td>DIE LINKE</td>\n",
       "      <td>[(Beifall bei der LINKEN), (Beifall bei der LI...</td>\n",
       "      <td>SP-2021-971273</td>\n",
       "      <td>1442</td>\n",
       "      <td>1703</td>\n",
       "      <td>{29: 0.25471678}</td>\n",
       "    </tr>\n",
       "    <tr>\n",
       "      <th>971274</th>\n",
       "      <td>Ich weise noch einmal darauf hin, dass die Ze...</td>\n",
       "      <td>2021-07-09</td>\n",
       "      <td>19</td>\n",
       "      <td>Petra Pau</td>\n",
       "      <td>female</td>\n",
       "      <td>None</td>\n",
       "      <td>LINKE</td>\n",
       "      <td>[(Beifall beim BÜNDNIS 90/DIE GRÜNEN)]</td>\n",
       "      <td>SP-2021-971274</td>\n",
       "      <td>3648</td>\n",
       "      <td>174</td>\n",
       "      <td>{81: 0.2370022, 85: 0.5163264}</td>\n",
       "    </tr>\n",
       "    <tr>\n",
       "      <th>971275</th>\n",
       "      <td>Sehr geehrte Frau Präsidentin! Meine Damen un...</td>\n",
       "      <td>2021-07-09</td>\n",
       "      <td>19</td>\n",
       "      <td>Britta Haßelmann</td>\n",
       "      <td>female</td>\n",
       "      <td>None</td>\n",
       "      <td>GRUENE</td>\n",
       "      <td>[(Beifall beim BÜNDNIS 90/DIE GRÜNEN), (Beifal...</td>\n",
       "      <td>SP-2021-971275</td>\n",
       "      <td>451</td>\n",
       "      <td>1593</td>\n",
       "      <td>{14: 0.25521588, 148: 0.345872}</td>\n",
       "    </tr>\n",
       "    <tr>\n",
       "      <th>971276</th>\n",
       "      <td>Das Wort hat der Kollege Dr. Florian Toncar.</td>\n",
       "      <td>2021-07-09</td>\n",
       "      <td>19</td>\n",
       "      <td>Petra Pau</td>\n",
       "      <td>female</td>\n",
       "      <td>None</td>\n",
       "      <td>LINKE</td>\n",
       "      <td>[(Beifall bei der FDP)]</td>\n",
       "      <td>SP-2021-971276</td>\n",
       "      <td>3648</td>\n",
       "      <td>45</td>\n",
       "      <td>{}</td>\n",
       "    </tr>\n",
       "    <tr>\n",
       "      <th>971279</th>\n",
       "      <td>Die unterbrochene Sitzung ist wieder eröffnet...</td>\n",
       "      <td>2021-07-09</td>\n",
       "      <td>19</td>\n",
       "      <td>Petra Pau</td>\n",
       "      <td>female</td>\n",
       "      <td>None</td>\n",
       "      <td>LINKE</td>\n",
       "      <td>[(Beifall), (Beifall), (Beifall), (Beifall), (...</td>\n",
       "      <td>SP-2021-971279</td>\n",
       "      <td>3648</td>\n",
       "      <td>15388</td>\n",
       "      <td>{}</td>\n",
       "    </tr>\n",
       "  </tbody>\n",
       "</table>\n",
       "<p>200209 rows × 12 columns</p>\n",
       "</div>"
      ],
      "text/plain": [
       "                                                     text       date  \\\n",
       "0         Sehr geehrter Herr Alterspräsident! So muss ... 2021-10-26   \n",
       "2         Sehr geehrter Herr Alterspräsident Wolfgang ... 2021-10-26   \n",
       "7         Herr Alterspräsident, vielen Dank. Ich nehme... 2021-10-26   \n",
       "9         Frau Präsidentin, ich nehme die Wahl sehr ge... 2021-10-26   \n",
       "10        Ich nehme die Wahl an, bedanke mich auf das ... 2021-10-26   \n",
       "...                                                   ...        ...   \n",
       "971273   Vielen Dank. – Frau Präsidentin! Meine sehr g... 2021-07-09   \n",
       "971274   Ich weise noch einmal darauf hin, dass die Ze... 2021-07-09   \n",
       "971275   Sehr geehrte Frau Präsidentin! Meine Damen un... 2021-07-09   \n",
       "971276       Das Wort hat der Kollege Dr. Florian Toncar. 2021-07-09   \n",
       "971279   Die unterbrochene Sitzung ist wieder eröffnet... 2021-07-09   \n",
       "\n",
       "       legislative_period        speaker_name speaker_gender speaker_role  \\\n",
       "0                      20  Gabriele Katzmarek         female         None   \n",
       "2                      20    Britta Haßelmann         female         None   \n",
       "7                      20          Bärbel Bas         female         None   \n",
       "9                      20        Aydan Özoğuz         female         None   \n",
       "10                     20       Yvonne Magwas         female         None   \n",
       "...                   ...                 ...            ...          ...   \n",
       "971273                 19      Gesine Lötzsch         female         None   \n",
       "971274                 19           Petra Pau         female         None   \n",
       "971275                 19    Britta Haßelmann         female         None   \n",
       "971276                 19           Petra Pau         female         None   \n",
       "971279                 19           Petra Pau         female         None   \n",
       "\n",
       "                speaker_party  \\\n",
       "0                         SPD   \n",
       "2       BÜNDNIS 90/DIE GRÜNEN   \n",
       "7                         SPD   \n",
       "9                         SPD   \n",
       "10                    CDU/CSU   \n",
       "...                       ...   \n",
       "971273              DIE LINKE   \n",
       "971274                  LINKE   \n",
       "971275                 GRUENE   \n",
       "971276                  LINKE   \n",
       "971279                  LINKE   \n",
       "\n",
       "                                                 comments              id  \\\n",
       "0       [(Beifall bei der SPD sowie bei Abgeordneten d...       SP-2021-0   \n",
       "2       [(Beifall beim BÜNDNIS 90/DIE GRÜNEN und bei d...       SP-2021-2   \n",
       "7       [(Beifall im ganzen Hause – Abgeordnete aller ...       SP-2021-7   \n",
       "9       [(Beifall bei der SPD, der CDU/CSU, dem BÜNDNI...       SP-2021-9   \n",
       "10      [(Beifall bei der CDU/CSU, der SPD, dem BÜNDNI...      SP-2021-10   \n",
       "...                                                   ...             ...   \n",
       "971273  [(Beifall bei der LINKEN), (Beifall bei der LI...  SP-2021-971273   \n",
       "971274             [(Beifall beim BÜNDNIS 90/DIE GRÜNEN)]  SP-2021-971274   \n",
       "971275  [(Beifall beim BÜNDNIS 90/DIE GRÜNEN), (Beifal...  SP-2021-971275   \n",
       "971276                            [(Beifall bei der FDP)]  SP-2021-971276   \n",
       "971279  [(Beifall), (Beifall), (Beifall), (Beifall), (...  SP-2021-971279   \n",
       "\n",
       "        speaker_id  speech_length                topic_distribution  \n",
       "0             1299           2593                  {68: 0.35882655}  \n",
       "2              451           4301                  {68: 0.26328164}  \n",
       "7              471             89                   {68: 0.7516313}  \n",
       "9              327            167  {68: 0.37566105, 115: 0.4293458}  \n",
       "10            4708            188                  {68: 0.38035467}  \n",
       "...            ...            ...                               ...  \n",
       "971273        1442           1703                  {29: 0.25471678}  \n",
       "971274        3648            174    {81: 0.2370022, 85: 0.5163264}  \n",
       "971275         451           1593   {14: 0.25521588, 148: 0.345872}  \n",
       "971276        3648             45                                {}  \n",
       "971279        3648          15388                                {}  \n",
       "\n",
       "[200209 rows x 12 columns]"
      ]
     },
     "execution_count": 27,
     "metadata": {},
     "output_type": "execute_result"
    }
   ],
   "source": [
    "female_speeches"
   ]
  },
  {
   "cell_type": "markdown",
   "metadata": {},
   "source": [
    "### Combine to new resampled dataframe"
   ]
  },
  {
   "cell_type": "code",
   "execution_count": 28,
   "metadata": {},
   "outputs": [],
   "source": [
    "resampled_data = pd.concat([reduced_male_df, female_speeches], ignore_index=True)"
   ]
  },
  {
   "cell_type": "code",
   "execution_count": 32,
   "metadata": {},
   "outputs": [],
   "source": [
    "resampled_data.to_pickle('C:/Users/Ana/OneDrive - Hochschule Düsseldorf/MA/data_undersampled.pkl')"
   ]
  },
  {
   "cell_type": "markdown",
   "metadata": {},
   "source": [
    "## [Method #2: Oversampling Female Speeches]"
   ]
  },
  {
   "cell_type": "code",
   "execution_count": 6,
   "metadata": {},
   "outputs": [
    {
     "data": {
      "text/plain": [
       "speaker_gender\n",
       "male      743167\n",
       "female    228097\n",
       "Name: count, dtype: int64"
      ]
     },
     "execution_count": 6,
     "metadata": {},
     "output_type": "execute_result"
    }
   ],
   "source": [
    "df[\"speaker_gender\"].value_counts()"
   ]
  },
  {
   "cell_type": "code",
   "execution_count": 7,
   "metadata": {},
   "outputs": [
    {
     "data": {
      "text/plain": [
       "743167"
      ]
     },
     "execution_count": 7,
     "metadata": {},
     "output_type": "execute_result"
    }
   ],
   "source": [
    "df_male_speeches = df[df[\"speaker_gender\"] == \"male\"]\n",
    "male_speeches_total"
   ]
  },
  {
   "cell_type": "code",
   "execution_count": 8,
   "metadata": {},
   "outputs": [
    {
     "data": {
      "text/html": [
       "<div>\n",
       "<style scoped>\n",
       "    .dataframe tbody tr th:only-of-type {\n",
       "        vertical-align: middle;\n",
       "    }\n",
       "\n",
       "    .dataframe tbody tr th {\n",
       "        vertical-align: top;\n",
       "    }\n",
       "\n",
       "    .dataframe thead th {\n",
       "        text-align: right;\n",
       "    }\n",
       "</style>\n",
       "<table border=\"1\" class=\"dataframe\">\n",
       "  <thead>\n",
       "    <tr style=\"text-align: right;\">\n",
       "      <th></th>\n",
       "      <th>text</th>\n",
       "      <th>date</th>\n",
       "      <th>legislative_period</th>\n",
       "      <th>speaker_name</th>\n",
       "      <th>speaker_gender</th>\n",
       "      <th>speaker_role</th>\n",
       "      <th>speaker_party</th>\n",
       "      <th>comments</th>\n",
       "      <th>id</th>\n",
       "      <th>speaker_id</th>\n",
       "      <th>speech_length</th>\n",
       "      <th>topic_distribution</th>\n",
       "    </tr>\n",
       "  </thead>\n",
       "  <tbody>\n",
       "    <tr>\n",
       "      <th>0</th>\n",
       "      <td>Sehr geehrter Herr Alterspräsident! So muss ...</td>\n",
       "      <td>2021-10-26</td>\n",
       "      <td>20</td>\n",
       "      <td>Gabriele Katzmarek</td>\n",
       "      <td>female</td>\n",
       "      <td>None</td>\n",
       "      <td>SPD</td>\n",
       "      <td>[(Beifall bei der SPD sowie bei Abgeordneten d...</td>\n",
       "      <td>SP-2021-0</td>\n",
       "      <td>1299</td>\n",
       "      <td>2593</td>\n",
       "      <td>{68: 0.35882655}</td>\n",
       "    </tr>\n",
       "    <tr>\n",
       "      <th>2</th>\n",
       "      <td>Sehr geehrter Herr Alterspräsident Wolfgang ...</td>\n",
       "      <td>2021-10-26</td>\n",
       "      <td>20</td>\n",
       "      <td>Britta Haßelmann</td>\n",
       "      <td>female</td>\n",
       "      <td>None</td>\n",
       "      <td>BÜNDNIS 90/DIE GRÜNEN</td>\n",
       "      <td>[(Beifall beim BÜNDNIS 90/DIE GRÜNEN und bei d...</td>\n",
       "      <td>SP-2021-2</td>\n",
       "      <td>451</td>\n",
       "      <td>4301</td>\n",
       "      <td>{68: 0.26328164}</td>\n",
       "    </tr>\n",
       "    <tr>\n",
       "      <th>7</th>\n",
       "      <td>Herr Alterspräsident, vielen Dank. Ich nehme...</td>\n",
       "      <td>2021-10-26</td>\n",
       "      <td>20</td>\n",
       "      <td>Bärbel Bas</td>\n",
       "      <td>female</td>\n",
       "      <td>None</td>\n",
       "      <td>SPD</td>\n",
       "      <td>[(Beifall im ganzen Hause – Abgeordnete aller ...</td>\n",
       "      <td>SP-2021-7</td>\n",
       "      <td>471</td>\n",
       "      <td>89</td>\n",
       "      <td>{68: 0.7516313}</td>\n",
       "    </tr>\n",
       "    <tr>\n",
       "      <th>9</th>\n",
       "      <td>Frau Präsidentin, ich nehme die Wahl sehr ge...</td>\n",
       "      <td>2021-10-26</td>\n",
       "      <td>20</td>\n",
       "      <td>Aydan Özoğuz</td>\n",
       "      <td>female</td>\n",
       "      <td>None</td>\n",
       "      <td>SPD</td>\n",
       "      <td>[(Beifall bei der SPD, der CDU/CSU, dem BÜNDNI...</td>\n",
       "      <td>SP-2021-9</td>\n",
       "      <td>327</td>\n",
       "      <td>167</td>\n",
       "      <td>{68: 0.37566105, 115: 0.4293458}</td>\n",
       "    </tr>\n",
       "    <tr>\n",
       "      <th>10</th>\n",
       "      <td>Ich nehme die Wahl an, bedanke mich auf das ...</td>\n",
       "      <td>2021-10-26</td>\n",
       "      <td>20</td>\n",
       "      <td>Yvonne Magwas</td>\n",
       "      <td>female</td>\n",
       "      <td>None</td>\n",
       "      <td>CDU/CSU</td>\n",
       "      <td>[(Beifall bei der CDU/CSU, der SPD, dem BÜNDNI...</td>\n",
       "      <td>SP-2021-10</td>\n",
       "      <td>4708</td>\n",
       "      <td>188</td>\n",
       "      <td>{68: 0.38035467}</td>\n",
       "    </tr>\n",
       "    <tr>\n",
       "      <th>...</th>\n",
       "      <td>...</td>\n",
       "      <td>...</td>\n",
       "      <td>...</td>\n",
       "      <td>...</td>\n",
       "      <td>...</td>\n",
       "      <td>...</td>\n",
       "      <td>...</td>\n",
       "      <td>...</td>\n",
       "      <td>...</td>\n",
       "      <td>...</td>\n",
       "      <td>...</td>\n",
       "      <td>...</td>\n",
       "    </tr>\n",
       "    <tr>\n",
       "      <th>971274</th>\n",
       "      <td>Ich weise noch einmal darauf hin, dass die Ze...</td>\n",
       "      <td>2021-07-09</td>\n",
       "      <td>19</td>\n",
       "      <td>Petra Pau</td>\n",
       "      <td>female</td>\n",
       "      <td>None</td>\n",
       "      <td>LINKE</td>\n",
       "      <td>[(Beifall beim BÜNDNIS 90/DIE GRÜNEN)]</td>\n",
       "      <td>SP-2021-971274</td>\n",
       "      <td>3648</td>\n",
       "      <td>174</td>\n",
       "      <td>{81: 0.2370022, 85: 0.5163264}</td>\n",
       "    </tr>\n",
       "    <tr>\n",
       "      <th>971275</th>\n",
       "      <td>Sehr geehrte Frau Präsidentin! Meine Damen un...</td>\n",
       "      <td>2021-07-09</td>\n",
       "      <td>19</td>\n",
       "      <td>Britta Haßelmann</td>\n",
       "      <td>female</td>\n",
       "      <td>None</td>\n",
       "      <td>GRUENE</td>\n",
       "      <td>[(Beifall beim BÜNDNIS 90/DIE GRÜNEN), (Beifal...</td>\n",
       "      <td>SP-2021-971275</td>\n",
       "      <td>451</td>\n",
       "      <td>1593</td>\n",
       "      <td>{14: 0.25521588, 148: 0.345872}</td>\n",
       "    </tr>\n",
       "    <tr>\n",
       "      <th>971276</th>\n",
       "      <td>Das Wort hat der Kollege Dr. Florian Toncar.</td>\n",
       "      <td>2021-07-09</td>\n",
       "      <td>19</td>\n",
       "      <td>Petra Pau</td>\n",
       "      <td>female</td>\n",
       "      <td>None</td>\n",
       "      <td>LINKE</td>\n",
       "      <td>[(Beifall bei der FDP)]</td>\n",
       "      <td>SP-2021-971276</td>\n",
       "      <td>3648</td>\n",
       "      <td>45</td>\n",
       "      <td>{}</td>\n",
       "    </tr>\n",
       "    <tr>\n",
       "      <th>971278</th>\n",
       "      <td>Ich mache darauf aufmerksam, dass in fünf Min...</td>\n",
       "      <td>2021-07-09</td>\n",
       "      <td>19</td>\n",
       "      <td>Petra Pau</td>\n",
       "      <td>female</td>\n",
       "      <td>None</td>\n",
       "      <td>LINKE</td>\n",
       "      <td>[(Beifall bei der SPD und dem BÜNDNIS 90/DIE G...</td>\n",
       "      <td>SP-2021-971278</td>\n",
       "      <td>3648</td>\n",
       "      <td>10017</td>\n",
       "      <td>{52: 0.38018292}</td>\n",
       "    </tr>\n",
       "    <tr>\n",
       "      <th>971279</th>\n",
       "      <td>Die unterbrochene Sitzung ist wieder eröffnet...</td>\n",
       "      <td>2021-07-09</td>\n",
       "      <td>19</td>\n",
       "      <td>Petra Pau</td>\n",
       "      <td>female</td>\n",
       "      <td>None</td>\n",
       "      <td>LINKE</td>\n",
       "      <td>[(Beifall), (Beifall), (Beifall), (Beifall), (...</td>\n",
       "      <td>SP-2021-971279</td>\n",
       "      <td>3648</td>\n",
       "      <td>15388</td>\n",
       "      <td>{}</td>\n",
       "    </tr>\n",
       "  </tbody>\n",
       "</table>\n",
       "<p>228097 rows × 12 columns</p>\n",
       "</div>"
      ],
      "text/plain": [
       "                                                     text       date  \\\n",
       "0         Sehr geehrter Herr Alterspräsident! So muss ... 2021-10-26   \n",
       "2         Sehr geehrter Herr Alterspräsident Wolfgang ... 2021-10-26   \n",
       "7         Herr Alterspräsident, vielen Dank. Ich nehme... 2021-10-26   \n",
       "9         Frau Präsidentin, ich nehme die Wahl sehr ge... 2021-10-26   \n",
       "10        Ich nehme die Wahl an, bedanke mich auf das ... 2021-10-26   \n",
       "...                                                   ...        ...   \n",
       "971274   Ich weise noch einmal darauf hin, dass die Ze... 2021-07-09   \n",
       "971275   Sehr geehrte Frau Präsidentin! Meine Damen un... 2021-07-09   \n",
       "971276       Das Wort hat der Kollege Dr. Florian Toncar. 2021-07-09   \n",
       "971278   Ich mache darauf aufmerksam, dass in fünf Min... 2021-07-09   \n",
       "971279   Die unterbrochene Sitzung ist wieder eröffnet... 2021-07-09   \n",
       "\n",
       "       legislative_period        speaker_name speaker_gender speaker_role  \\\n",
       "0                      20  Gabriele Katzmarek         female         None   \n",
       "2                      20    Britta Haßelmann         female         None   \n",
       "7                      20          Bärbel Bas         female         None   \n",
       "9                      20        Aydan Özoğuz         female         None   \n",
       "10                     20       Yvonne Magwas         female         None   \n",
       "...                   ...                 ...            ...          ...   \n",
       "971274                 19           Petra Pau         female         None   \n",
       "971275                 19    Britta Haßelmann         female         None   \n",
       "971276                 19           Petra Pau         female         None   \n",
       "971278                 19           Petra Pau         female         None   \n",
       "971279                 19           Petra Pau         female         None   \n",
       "\n",
       "                speaker_party  \\\n",
       "0                         SPD   \n",
       "2       BÜNDNIS 90/DIE GRÜNEN   \n",
       "7                         SPD   \n",
       "9                         SPD   \n",
       "10                    CDU/CSU   \n",
       "...                       ...   \n",
       "971274                  LINKE   \n",
       "971275                 GRUENE   \n",
       "971276                  LINKE   \n",
       "971278                  LINKE   \n",
       "971279                  LINKE   \n",
       "\n",
       "                                                 comments              id  \\\n",
       "0       [(Beifall bei der SPD sowie bei Abgeordneten d...       SP-2021-0   \n",
       "2       [(Beifall beim BÜNDNIS 90/DIE GRÜNEN und bei d...       SP-2021-2   \n",
       "7       [(Beifall im ganzen Hause – Abgeordnete aller ...       SP-2021-7   \n",
       "9       [(Beifall bei der SPD, der CDU/CSU, dem BÜNDNI...       SP-2021-9   \n",
       "10      [(Beifall bei der CDU/CSU, der SPD, dem BÜNDNI...      SP-2021-10   \n",
       "...                                                   ...             ...   \n",
       "971274             [(Beifall beim BÜNDNIS 90/DIE GRÜNEN)]  SP-2021-971274   \n",
       "971275  [(Beifall beim BÜNDNIS 90/DIE GRÜNEN), (Beifal...  SP-2021-971275   \n",
       "971276                            [(Beifall bei der FDP)]  SP-2021-971276   \n",
       "971278  [(Beifall bei der SPD und dem BÜNDNIS 90/DIE G...  SP-2021-971278   \n",
       "971279  [(Beifall), (Beifall), (Beifall), (Beifall), (...  SP-2021-971279   \n",
       "\n",
       "        speaker_id  speech_length                topic_distribution  \n",
       "0             1299           2593                  {68: 0.35882655}  \n",
       "2              451           4301                  {68: 0.26328164}  \n",
       "7              471             89                   {68: 0.7516313}  \n",
       "9              327            167  {68: 0.37566105, 115: 0.4293458}  \n",
       "10            4708            188                  {68: 0.38035467}  \n",
       "...            ...            ...                               ...  \n",
       "971274        3648            174    {81: 0.2370022, 85: 0.5163264}  \n",
       "971275         451           1593   {14: 0.25521588, 148: 0.345872}  \n",
       "971276        3648             45                                {}  \n",
       "971278        3648          10017                  {52: 0.38018292}  \n",
       "971279        3648          15388                                {}  \n",
       "\n",
       "[228097 rows x 12 columns]"
      ]
     },
     "execution_count": 8,
     "metadata": {},
     "output_type": "execute_result"
    }
   ],
   "source": [
    "df_female_speeches = df[df[\"speaker_gender\"] == \"female\"]\n",
    "df_female_speeches"
   ]
  },
  {
   "cell_type": "code",
   "execution_count": 20,
   "metadata": {},
   "outputs": [
    {
     "data": {
      "text/html": [
       "<div>\n",
       "<style scoped>\n",
       "    .dataframe tbody tr th:only-of-type {\n",
       "        vertical-align: middle;\n",
       "    }\n",
       "\n",
       "    .dataframe tbody tr th {\n",
       "        vertical-align: top;\n",
       "    }\n",
       "\n",
       "    .dataframe thead th {\n",
       "        text-align: right;\n",
       "    }\n",
       "</style>\n",
       "<table border=\"1\" class=\"dataframe\">\n",
       "  <thead>\n",
       "    <tr style=\"text-align: right;\">\n",
       "      <th></th>\n",
       "      <th>text</th>\n",
       "      <th>date</th>\n",
       "      <th>legislative_period</th>\n",
       "      <th>speaker_name</th>\n",
       "      <th>speaker_gender</th>\n",
       "      <th>speaker_role</th>\n",
       "      <th>speaker_party</th>\n",
       "      <th>comments</th>\n",
       "      <th>id</th>\n",
       "      <th>speaker_id</th>\n",
       "      <th>speech_length</th>\n",
       "      <th>topic_distribution</th>\n",
       "    </tr>\n",
       "  </thead>\n",
       "  <tbody>\n",
       "    <tr>\n",
       "      <th>0</th>\n",
       "      <td>Sehr geehrter Herr Alterspräsident! So muss ...</td>\n",
       "      <td>2021-10-26</td>\n",
       "      <td>20</td>\n",
       "      <td>Gabriele Katzmarek</td>\n",
       "      <td>female</td>\n",
       "      <td>None</td>\n",
       "      <td>SPD</td>\n",
       "      <td>[(Beifall bei der SPD sowie bei Abgeordneten d...</td>\n",
       "      <td>SP-2021-0</td>\n",
       "      <td>1299</td>\n",
       "      <td>2593</td>\n",
       "      <td>{68: 0.35882655}</td>\n",
       "    </tr>\n",
       "    <tr>\n",
       "      <th>0</th>\n",
       "      <td>Sehr geehrter Herr Alterspräsident! So muss ...</td>\n",
       "      <td>2021-10-26</td>\n",
       "      <td>20</td>\n",
       "      <td>Gabriele Katzmarek</td>\n",
       "      <td>female</td>\n",
       "      <td>None</td>\n",
       "      <td>SPD</td>\n",
       "      <td>[(Beifall bei der SPD sowie bei Abgeordneten d...</td>\n",
       "      <td>SP-2021-0</td>\n",
       "      <td>1299</td>\n",
       "      <td>2593</td>\n",
       "      <td>{68: 0.35882655}</td>\n",
       "    </tr>\n",
       "    <tr>\n",
       "      <th>0</th>\n",
       "      <td>Sehr geehrter Herr Alterspräsident! So muss ...</td>\n",
       "      <td>2021-10-26</td>\n",
       "      <td>20</td>\n",
       "      <td>Gabriele Katzmarek</td>\n",
       "      <td>female</td>\n",
       "      <td>None</td>\n",
       "      <td>SPD</td>\n",
       "      <td>[(Beifall bei der SPD sowie bei Abgeordneten d...</td>\n",
       "      <td>SP-2021-0</td>\n",
       "      <td>1299</td>\n",
       "      <td>2593</td>\n",
       "      <td>{68: 0.35882655}</td>\n",
       "    </tr>\n",
       "    <tr>\n",
       "      <th>2</th>\n",
       "      <td>Sehr geehrter Herr Alterspräsident Wolfgang ...</td>\n",
       "      <td>2021-10-26</td>\n",
       "      <td>20</td>\n",
       "      <td>Britta Haßelmann</td>\n",
       "      <td>female</td>\n",
       "      <td>None</td>\n",
       "      <td>BÜNDNIS 90/DIE GRÜNEN</td>\n",
       "      <td>[(Beifall beim BÜNDNIS 90/DIE GRÜNEN und bei d...</td>\n",
       "      <td>SP-2021-2</td>\n",
       "      <td>451</td>\n",
       "      <td>4301</td>\n",
       "      <td>{68: 0.26328164}</td>\n",
       "    </tr>\n",
       "    <tr>\n",
       "      <th>2</th>\n",
       "      <td>Sehr geehrter Herr Alterspräsident Wolfgang ...</td>\n",
       "      <td>2021-10-26</td>\n",
       "      <td>20</td>\n",
       "      <td>Britta Haßelmann</td>\n",
       "      <td>female</td>\n",
       "      <td>None</td>\n",
       "      <td>BÜNDNIS 90/DIE GRÜNEN</td>\n",
       "      <td>[(Beifall beim BÜNDNIS 90/DIE GRÜNEN und bei d...</td>\n",
       "      <td>SP-2021-2</td>\n",
       "      <td>451</td>\n",
       "      <td>4301</td>\n",
       "      <td>{68: 0.26328164}</td>\n",
       "    </tr>\n",
       "    <tr>\n",
       "      <th>...</th>\n",
       "      <td>...</td>\n",
       "      <td>...</td>\n",
       "      <td>...</td>\n",
       "      <td>...</td>\n",
       "      <td>...</td>\n",
       "      <td>...</td>\n",
       "      <td>...</td>\n",
       "      <td>...</td>\n",
       "      <td>...</td>\n",
       "      <td>...</td>\n",
       "      <td>...</td>\n",
       "      <td>...</td>\n",
       "    </tr>\n",
       "    <tr>\n",
       "      <th>971278</th>\n",
       "      <td>Ich mache darauf aufmerksam, dass in fünf Min...</td>\n",
       "      <td>2021-07-09</td>\n",
       "      <td>19</td>\n",
       "      <td>Petra Pau</td>\n",
       "      <td>female</td>\n",
       "      <td>None</td>\n",
       "      <td>LINKE</td>\n",
       "      <td>[(Beifall bei der SPD und dem BÜNDNIS 90/DIE G...</td>\n",
       "      <td>SP-2021-971278</td>\n",
       "      <td>3648</td>\n",
       "      <td>10017</td>\n",
       "      <td>{52: 0.38018292}</td>\n",
       "    </tr>\n",
       "    <tr>\n",
       "      <th>971278</th>\n",
       "      <td>Ich mache darauf aufmerksam, dass in fünf Min...</td>\n",
       "      <td>2021-07-09</td>\n",
       "      <td>19</td>\n",
       "      <td>Petra Pau</td>\n",
       "      <td>female</td>\n",
       "      <td>None</td>\n",
       "      <td>LINKE</td>\n",
       "      <td>[(Beifall bei der SPD und dem BÜNDNIS 90/DIE G...</td>\n",
       "      <td>SP-2021-971278</td>\n",
       "      <td>3648</td>\n",
       "      <td>10017</td>\n",
       "      <td>{52: 0.38018292}</td>\n",
       "    </tr>\n",
       "    <tr>\n",
       "      <th>971279</th>\n",
       "      <td>Die unterbrochene Sitzung ist wieder eröffnet...</td>\n",
       "      <td>2021-07-09</td>\n",
       "      <td>19</td>\n",
       "      <td>Petra Pau</td>\n",
       "      <td>female</td>\n",
       "      <td>None</td>\n",
       "      <td>LINKE</td>\n",
       "      <td>[(Beifall), (Beifall), (Beifall), (Beifall), (...</td>\n",
       "      <td>SP-2021-971279</td>\n",
       "      <td>3648</td>\n",
       "      <td>15388</td>\n",
       "      <td>{}</td>\n",
       "    </tr>\n",
       "    <tr>\n",
       "      <th>971279</th>\n",
       "      <td>Die unterbrochene Sitzung ist wieder eröffnet...</td>\n",
       "      <td>2021-07-09</td>\n",
       "      <td>19</td>\n",
       "      <td>Petra Pau</td>\n",
       "      <td>female</td>\n",
       "      <td>None</td>\n",
       "      <td>LINKE</td>\n",
       "      <td>[(Beifall), (Beifall), (Beifall), (Beifall), (...</td>\n",
       "      <td>SP-2021-971279</td>\n",
       "      <td>3648</td>\n",
       "      <td>15388</td>\n",
       "      <td>{}</td>\n",
       "    </tr>\n",
       "    <tr>\n",
       "      <th>971279</th>\n",
       "      <td>Die unterbrochene Sitzung ist wieder eröffnet...</td>\n",
       "      <td>2021-07-09</td>\n",
       "      <td>19</td>\n",
       "      <td>Petra Pau</td>\n",
       "      <td>female</td>\n",
       "      <td>None</td>\n",
       "      <td>LINKE</td>\n",
       "      <td>[(Beifall), (Beifall), (Beifall), (Beifall), (...</td>\n",
       "      <td>SP-2021-971279</td>\n",
       "      <td>3648</td>\n",
       "      <td>15388</td>\n",
       "      <td>{}</td>\n",
       "    </tr>\n",
       "  </tbody>\n",
       "</table>\n",
       "<p>684291 rows × 12 columns</p>\n",
       "</div>"
      ],
      "text/plain": [
       "                                                     text       date  \\\n",
       "0         Sehr geehrter Herr Alterspräsident! So muss ... 2021-10-26   \n",
       "0         Sehr geehrter Herr Alterspräsident! So muss ... 2021-10-26   \n",
       "0         Sehr geehrter Herr Alterspräsident! So muss ... 2021-10-26   \n",
       "2         Sehr geehrter Herr Alterspräsident Wolfgang ... 2021-10-26   \n",
       "2         Sehr geehrter Herr Alterspräsident Wolfgang ... 2021-10-26   \n",
       "...                                                   ...        ...   \n",
       "971278   Ich mache darauf aufmerksam, dass in fünf Min... 2021-07-09   \n",
       "971278   Ich mache darauf aufmerksam, dass in fünf Min... 2021-07-09   \n",
       "971279   Die unterbrochene Sitzung ist wieder eröffnet... 2021-07-09   \n",
       "971279   Die unterbrochene Sitzung ist wieder eröffnet... 2021-07-09   \n",
       "971279   Die unterbrochene Sitzung ist wieder eröffnet... 2021-07-09   \n",
       "\n",
       "       legislative_period        speaker_name speaker_gender speaker_role  \\\n",
       "0                      20  Gabriele Katzmarek         female         None   \n",
       "0                      20  Gabriele Katzmarek         female         None   \n",
       "0                      20  Gabriele Katzmarek         female         None   \n",
       "2                      20    Britta Haßelmann         female         None   \n",
       "2                      20    Britta Haßelmann         female         None   \n",
       "...                   ...                 ...            ...          ...   \n",
       "971278                 19           Petra Pau         female         None   \n",
       "971278                 19           Petra Pau         female         None   \n",
       "971279                 19           Petra Pau         female         None   \n",
       "971279                 19           Petra Pau         female         None   \n",
       "971279                 19           Petra Pau         female         None   \n",
       "\n",
       "                speaker_party  \\\n",
       "0                         SPD   \n",
       "0                         SPD   \n",
       "0                         SPD   \n",
       "2       BÜNDNIS 90/DIE GRÜNEN   \n",
       "2       BÜNDNIS 90/DIE GRÜNEN   \n",
       "...                       ...   \n",
       "971278                  LINKE   \n",
       "971278                  LINKE   \n",
       "971279                  LINKE   \n",
       "971279                  LINKE   \n",
       "971279                  LINKE   \n",
       "\n",
       "                                                 comments              id  \\\n",
       "0       [(Beifall bei der SPD sowie bei Abgeordneten d...       SP-2021-0   \n",
       "0       [(Beifall bei der SPD sowie bei Abgeordneten d...       SP-2021-0   \n",
       "0       [(Beifall bei der SPD sowie bei Abgeordneten d...       SP-2021-0   \n",
       "2       [(Beifall beim BÜNDNIS 90/DIE GRÜNEN und bei d...       SP-2021-2   \n",
       "2       [(Beifall beim BÜNDNIS 90/DIE GRÜNEN und bei d...       SP-2021-2   \n",
       "...                                                   ...             ...   \n",
       "971278  [(Beifall bei der SPD und dem BÜNDNIS 90/DIE G...  SP-2021-971278   \n",
       "971278  [(Beifall bei der SPD und dem BÜNDNIS 90/DIE G...  SP-2021-971278   \n",
       "971279  [(Beifall), (Beifall), (Beifall), (Beifall), (...  SP-2021-971279   \n",
       "971279  [(Beifall), (Beifall), (Beifall), (Beifall), (...  SP-2021-971279   \n",
       "971279  [(Beifall), (Beifall), (Beifall), (Beifall), (...  SP-2021-971279   \n",
       "\n",
       "        speaker_id  speech_length topic_distribution  \n",
       "0             1299           2593   {68: 0.35882655}  \n",
       "0             1299           2593   {68: 0.35882655}  \n",
       "0             1299           2593   {68: 0.35882655}  \n",
       "2              451           4301   {68: 0.26328164}  \n",
       "2              451           4301   {68: 0.26328164}  \n",
       "...            ...            ...                ...  \n",
       "971278        3648          10017   {52: 0.38018292}  \n",
       "971278        3648          10017   {52: 0.38018292}  \n",
       "971279        3648          15388                 {}  \n",
       "971279        3648          15388                 {}  \n",
       "971279        3648          15388                 {}  \n",
       "\n",
       "[684291 rows x 12 columns]"
      ]
     },
     "execution_count": 20,
     "metadata": {},
     "output_type": "execute_result"
    }
   ],
   "source": [
    "df_female_speeches = df_female_speeches.loc[df_female_speeches.index.repeat(3)]\n",
    "df_female_speeches"
   ]
  },
  {
   "cell_type": "code",
   "execution_count": 22,
   "metadata": {},
   "outputs": [
    {
     "data": {
      "text/plain": [
       "58876"
      ]
     },
     "execution_count": 22,
     "metadata": {},
     "output_type": "execute_result"
    }
   ],
   "source": [
    "rest_difference = male_speeches_total - len(df_female_speeches)\n",
    "rest_difference"
   ]
  },
  {
   "cell_type": "code",
   "execution_count": 26,
   "metadata": {},
   "outputs": [
    {
     "data": {
      "text/plain": [
       "58876"
      ]
     },
     "execution_count": 26,
     "metadata": {},
     "output_type": "execute_result"
    }
   ],
   "source": [
    "samples_to_add = random.sample(fem_indeces, rest_difference)\n",
    "len(samples_to_add)"
   ]
  },
  {
   "cell_type": "code",
   "execution_count": 30,
   "metadata": {},
   "outputs": [],
   "source": [
    "for speech_index in samples_to_add:\n",
    "    selected_speeches = df[df.index == speech_index]\n",
    "    \n",
    "    df_female_speeches = pd.concat([df_female_speeches, selected_speeches])"
   ]
  },
  {
   "cell_type": "code",
   "execution_count": 33,
   "metadata": {},
   "outputs": [],
   "source": [
    "oversampled_data = pd.concat([df_female_speeches, df_male_speeches])"
   ]
  },
  {
   "cell_type": "code",
   "execution_count": 36,
   "metadata": {},
   "outputs": [
    {
     "data": {
      "text/plain": [
       "1486334"
      ]
     },
     "execution_count": 36,
     "metadata": {},
     "output_type": "execute_result"
    }
   ],
   "source": [
    "len(oversampled_data)"
   ]
  },
  {
   "cell_type": "code",
   "execution_count": 35,
   "metadata": {},
   "outputs": [],
   "source": [
    "oversampled_data.to_pickle('C:/Users/Ana/OneDrive - Hochschule Düsseldorf/MA/data_oversampled.pkl')"
   ]
  },
  {
   "cell_type": "markdown",
   "metadata": {},
   "source": [
    "## Vectorize and Train Model"
   ]
  },
  {
   "cell_type": "code",
   "execution_count": 69,
   "metadata": {},
   "outputs": [],
   "source": [
    "undersampled_data = pd.read_pickle('C:/Users/Ana/OneDrive - Hochschule Düsseldorf/MA/data_undersampled.pkl')"
   ]
  },
  {
   "cell_type": "code",
   "execution_count": 82,
   "metadata": {},
   "outputs": [
    {
     "data": {
      "text/html": [
       "<div>\n",
       "<style scoped>\n",
       "    .dataframe tbody tr th:only-of-type {\n",
       "        vertical-align: middle;\n",
       "    }\n",
       "\n",
       "    .dataframe tbody tr th {\n",
       "        vertical-align: top;\n",
       "    }\n",
       "\n",
       "    .dataframe thead th {\n",
       "        text-align: right;\n",
       "    }\n",
       "</style>\n",
       "<table border=\"1\" class=\"dataframe\">\n",
       "  <thead>\n",
       "    <tr style=\"text-align: right;\">\n",
       "      <th></th>\n",
       "      <th>speaker_gender</th>\n",
       "      <th>text</th>\n",
       "    </tr>\n",
       "  </thead>\n",
       "  <tbody>\n",
       "    <tr>\n",
       "      <th>0</th>\n",
       "      <td>male</td>\n",
       "      <td>Meine Damen und Herren! Herr Minister, ich m...</td>\n",
       "    </tr>\n",
       "    <tr>\n",
       "      <th>1</th>\n",
       "      <td>male</td>\n",
       "      <td>Ich möchte auf Ihre Frage gern antworten. Er...</td>\n",
       "    </tr>\n",
       "    <tr>\n",
       "      <th>2</th>\n",
       "      <td>male</td>\n",
       "      <td>Sehr geehrte Frau Präsidentin! Meine Damen u...</td>\n",
       "    </tr>\n",
       "    <tr>\n",
       "      <th>3</th>\n",
       "      <td>male</td>\n",
       "      <td>Ja, gerne. – Zunächst mal ist es ja ein Fort...</td>\n",
       "    </tr>\n",
       "    <tr>\n",
       "      <th>4</th>\n",
       "      <td>male</td>\n",
       "      <td>Frau Präsidentin! Meine Damen und Herren! Da...</td>\n",
       "    </tr>\n",
       "    <tr>\n",
       "      <th>...</th>\n",
       "      <td>...</td>\n",
       "      <td>...</td>\n",
       "    </tr>\n",
       "    <tr>\n",
       "      <th>400413</th>\n",
       "      <td>female</td>\n",
       "      <td>Vielen Dank. – Frau Präsidentin! Meine sehr g...</td>\n",
       "    </tr>\n",
       "    <tr>\n",
       "      <th>400414</th>\n",
       "      <td>female</td>\n",
       "      <td>Ich weise noch einmal darauf hin, dass die Ze...</td>\n",
       "    </tr>\n",
       "    <tr>\n",
       "      <th>400415</th>\n",
       "      <td>female</td>\n",
       "      <td>Sehr geehrte Frau Präsidentin! Meine Damen un...</td>\n",
       "    </tr>\n",
       "    <tr>\n",
       "      <th>400416</th>\n",
       "      <td>female</td>\n",
       "      <td>Das Wort hat der Kollege Dr. Florian Toncar.</td>\n",
       "    </tr>\n",
       "    <tr>\n",
       "      <th>400417</th>\n",
       "      <td>female</td>\n",
       "      <td>Die unterbrochene Sitzung ist wieder eröffnet...</td>\n",
       "    </tr>\n",
       "  </tbody>\n",
       "</table>\n",
       "<p>400418 rows × 2 columns</p>\n",
       "</div>"
      ],
      "text/plain": [
       "       speaker_gender                                               text\n",
       "0                male    Meine Damen und Herren! Herr Minister, ich m...\n",
       "1                male    Ich möchte auf Ihre Frage gern antworten. Er...\n",
       "2                male    Sehr geehrte Frau Präsidentin! Meine Damen u...\n",
       "3                male    Ja, gerne. – Zunächst mal ist es ja ein Fort...\n",
       "4                male    Frau Präsidentin! Meine Damen und Herren! Da...\n",
       "...               ...                                                ...\n",
       "400413         female   Vielen Dank. – Frau Präsidentin! Meine sehr g...\n",
       "400414         female   Ich weise noch einmal darauf hin, dass die Ze...\n",
       "400415         female   Sehr geehrte Frau Präsidentin! Meine Damen un...\n",
       "400416         female       Das Wort hat der Kollege Dr. Florian Toncar.\n",
       "400417         female   Die unterbrochene Sitzung ist wieder eröffnet...\n",
       "\n",
       "[400418 rows x 2 columns]"
      ]
     },
     "execution_count": 82,
     "metadata": {},
     "output_type": "execute_result"
    }
   ],
   "source": [
    "undersampled_data = undersampled_data[[\"speaker_gender\", \"text\"]]\n",
    "undersampled_data"
   ]
  },
  {
   "cell_type": "code",
   "execution_count": 10,
   "metadata": {},
   "outputs": [],
   "source": [
    "# remove named entities with spacy\n",
    "def remove_entities(text):\n",
    "    doc = nlp(text)\n",
    "\n",
    "    filtered_tokens = [token.text for token in doc if token.ent_type_ not in ['LOC', 'PER']]\n",
    "\n",
    "    processed_text = ' '.join(filtered_tokens)\n",
    "\n",
    "    return processed_text"
   ]
  },
  {
   "cell_type": "code",
   "execution_count": 45,
   "metadata": {},
   "outputs": [],
   "source": [
    "# collect names which have not been recognized by spacy NER\n",
    "RE_ADDRESS = re.compile(r'\\b(?:Herr|Frau)\\s+(?P<name>[A-Z][\\w]*)\\b')\n",
    "\n",
    "exclude_titles = ['kollege', 'kollegin', 'minister', 'ministerin', 'präsident', \n",
    "                  'präsidentin', 'bundesminister', 'bundesministerin', 'staatssekretärin',\n",
    "                  'staatssekretär', 'bundeskanzler', 'bundeskanzlerin', 'abgeordnete', 'abgeordneter',\n",
    "                  'bundesinnenminister', 'bundesinnenministerin', 'bundeswirtschaftsminister', 'bundeswirtschaftsministerin',\n",
    "                  'bundesjustizminister', 'bundesjustizministerin'\n",
    "                  ]\n",
    "names_to_remove = []\n",
    "\n",
    "def remove_names(text):\n",
    "    if re.search(RE_ADDRESS, text) is not None:\n",
    "        matches = RE_ADDRESS.finditer(text)\n",
    "\n",
    "        for match in matches:\n",
    "            if 'name' in match.groupdict():\n",
    "                name = match.groupdict()['name'].lower()\n",
    "                if name not in exclude_titles:\n",
    "                    names_to_remove.append(name)\n"
   ]
  },
  {
   "cell_type": "code",
   "execution_count": 48,
   "metadata": {},
   "outputs": [],
   "source": [
    "# lower text; remove punctuation, non-alphabetic tokens and collected names from above\n",
    "def process_text(text):\n",
    "    text = str(text).lower()\n",
    "    text = re.sub(\n",
    "        f\"[{re.escape(string.punctuation)}]\", \" \", text\n",
    "    )\n",
    "    text = text.split()\n",
    "\n",
    "    for token in text:\n",
    "        if not token.isalpha() or token in names_to_remove:\n",
    "            text.remove(token)\n",
    "\n",
    "    text = \" \".join(text)\n",
    "\n",
    "    return text"
   ]
  },
  {
   "cell_type": "code",
   "execution_count": 84,
   "metadata": {},
   "outputs": [],
   "source": [
    "undersampled_data['clean_text'] = undersampled_data['text'].apply(remove_entities)"
   ]
  },
  {
   "cell_type": "code",
   "execution_count": 46,
   "metadata": {},
   "outputs": [
    {
     "data": {
      "text/plain": [
       "0         None\n",
       "1         None\n",
       "2         None\n",
       "3         None\n",
       "4         None\n",
       "          ... \n",
       "400413    None\n",
       "400414    None\n",
       "400415    None\n",
       "400416    None\n",
       "400417    None\n",
       "Name: clean_text, Length: 400418, dtype: object"
      ]
     },
     "execution_count": 46,
     "metadata": {},
     "output_type": "execute_result"
    }
   ],
   "source": [
    "undersampled_data['clean_text'].apply(remove_names)"
   ]
  },
  {
   "cell_type": "code",
   "execution_count": 50,
   "metadata": {},
   "outputs": [],
   "source": [
    "undersampled_data['clean_text'] = undersampled_data['clean_text'].apply(process_text)"
   ]
  },
  {
   "cell_type": "code",
   "execution_count": 54,
   "metadata": {},
   "outputs": [
    {
     "data": {
      "text/html": [
       "<div>\n",
       "<style scoped>\n",
       "    .dataframe tbody tr th:only-of-type {\n",
       "        vertical-align: middle;\n",
       "    }\n",
       "\n",
       "    .dataframe tbody tr th {\n",
       "        vertical-align: top;\n",
       "    }\n",
       "\n",
       "    .dataframe thead th {\n",
       "        text-align: right;\n",
       "    }\n",
       "</style>\n",
       "<table border=\"1\" class=\"dataframe\">\n",
       "  <thead>\n",
       "    <tr style=\"text-align: right;\">\n",
       "      <th></th>\n",
       "      <th>speaker_gender</th>\n",
       "      <th>text</th>\n",
       "      <th>clean_text</th>\n",
       "    </tr>\n",
       "  </thead>\n",
       "  <tbody>\n",
       "    <tr>\n",
       "      <th>0</th>\n",
       "      <td>male</td>\n",
       "      <td>Meine Damen und Herren! Herr Minister, ich m...</td>\n",
       "      <td>damen und herren minister muss als erstes vora...</td>\n",
       "    </tr>\n",
       "    <tr>\n",
       "      <th>1</th>\n",
       "      <td>male</td>\n",
       "      <td>Ich möchte auf Ihre Frage gern antworten. Er...</td>\n",
       "      <td>möchte auf frage gern antworten erst einmal is...</td>\n",
       "    </tr>\n",
       "    <tr>\n",
       "      <th>2</th>\n",
       "      <td>male</td>\n",
       "      <td>Sehr geehrte Frau Präsidentin! Meine Damen u...</td>\n",
       "      <td>sehr geehrte präsidentin damen und herren man ...</td>\n",
       "    </tr>\n",
       "    <tr>\n",
       "      <th>3</th>\n",
       "      <td>male</td>\n",
       "      <td>Ja, gerne. – Zunächst mal ist es ja ein Fort...</td>\n",
       "      <td>gerne zunächst mal ist ein fortschritt dass of...</td>\n",
       "    </tr>\n",
       "    <tr>\n",
       "      <th>4</th>\n",
       "      <td>male</td>\n",
       "      <td>Frau Präsidentin! Meine Damen und Herren! Da...</td>\n",
       "      <td>präsidentin damen und herren dass als abgeordn...</td>\n",
       "    </tr>\n",
       "  </tbody>\n",
       "</table>\n",
       "</div>"
      ],
      "text/plain": [
       "  speaker_gender                                               text  \\\n",
       "0           male    Meine Damen und Herren! Herr Minister, ich m...   \n",
       "1           male    Ich möchte auf Ihre Frage gern antworten. Er...   \n",
       "2           male    Sehr geehrte Frau Präsidentin! Meine Damen u...   \n",
       "3           male    Ja, gerne. – Zunächst mal ist es ja ein Fort...   \n",
       "4           male    Frau Präsidentin! Meine Damen und Herren! Da...   \n",
       "\n",
       "                                          clean_text  \n",
       "0  damen und herren minister muss als erstes vora...  \n",
       "1  möchte auf frage gern antworten erst einmal is...  \n",
       "2  sehr geehrte präsidentin damen und herren man ...  \n",
       "3  gerne zunächst mal ist ein fortschritt dass of...  \n",
       "4  präsidentin damen und herren dass als abgeordn...  "
      ]
     },
     "execution_count": 54,
     "metadata": {},
     "output_type": "execute_result"
    }
   ],
   "source": [
    "undersampled_data.head()"
   ]
  },
  {
   "cell_type": "code",
   "execution_count": 51,
   "metadata": {},
   "outputs": [],
   "source": [
    "# save processed undersampled data\n",
    "undersampled_data.to_pickle('C:/Users/Ana/OneDrive - Hochschule Düsseldorf/MA/data_undersampled_processed.pkl')"
   ]
  },
  {
   "cell_type": "markdown",
   "metadata": {},
   "source": [
    "### Train Test Split"
   ]
  },
  {
   "cell_type": "code",
   "execution_count": 56,
   "metadata": {},
   "outputs": [
    {
     "name": "stderr",
     "output_type": "stream",
     "text": [
      "d:\\anaconda3\\Lib\\site-packages\\sklearn\\utils\\validation.py:605: FutureWarning: is_sparse is deprecated and will be removed in a future version. Check `isinstance(dtype, pd.SparseDtype)` instead.\n",
      "  if is_sparse(pd_dtype):\n",
      "d:\\anaconda3\\Lib\\site-packages\\sklearn\\utils\\validation.py:614: FutureWarning: is_sparse is deprecated and will be removed in a future version. Check `isinstance(dtype, pd.SparseDtype)` instead.\n",
      "  if is_sparse(pd_dtype) or not is_extension_array_dtype(pd_dtype):\n"
     ]
    }
   ],
   "source": [
    "df_train, df_test = train_test_split(undersampled_data, test_size=0.20, stratify=undersampled_data.speaker_gender, random_state=0)"
   ]
  },
  {
   "cell_type": "code",
   "execution_count": 115,
   "metadata": {},
   "outputs": [],
   "source": [
    "vec = CountVectorizer(\n",
    "    ngram_range=(1, 3),\n",
    "    stop_words=stop_words,\n",
    "    min_df=20, # ignore terms that appear in less than 20 the speeches\n",
    "    max_df=0.5 # ignore terms that appear in more than 50% of the speeches\n",
    ")  \n",
    "\n",
    "X_train = vec.fit_transform(df_train.clean_text)\n",
    "X_test = vec.transform(df_test.clean_text)\n",
    "\n",
    "y_train = df_train.speaker_gender\n",
    "y_test = df_test.speaker_gender"
   ]
  },
  {
   "cell_type": "code",
   "execution_count": 116,
   "metadata": {},
   "outputs": [
    {
     "data": {
      "text/plain": [
       "<80084x160472 sparse matrix of type '<class 'numpy.int64'>'\n",
       "\twith 6335990 stored elements in Compressed Sparse Row format>"
      ]
     },
     "execution_count": 116,
     "metadata": {},
     "output_type": "execute_result"
    }
   ],
   "source": [
    "# check vector size\n",
    "X_test"
   ]
  },
  {
   "cell_type": "markdown",
   "metadata": {},
   "source": [
    "### Fit Model"
   ]
  },
  {
   "cell_type": "code",
   "execution_count": 117,
   "metadata": {},
   "outputs": [
    {
     "name": "stderr",
     "output_type": "stream",
     "text": [
      "d:\\anaconda3\\Lib\\site-packages\\sklearn\\utils\\validation.py:605: FutureWarning: is_sparse is deprecated and will be removed in a future version. Check `isinstance(dtype, pd.SparseDtype)` instead.\n",
      "  if is_sparse(pd_dtype):\n",
      "d:\\anaconda3\\Lib\\site-packages\\sklearn\\utils\\validation.py:614: FutureWarning: is_sparse is deprecated and will be removed in a future version. Check `isinstance(dtype, pd.SparseDtype)` instead.\n",
      "  if is_sparse(pd_dtype) or not is_extension_array_dtype(pd_dtype):\n",
      "d:\\anaconda3\\Lib\\site-packages\\sklearn\\linear_model\\_logistic.py:458: ConvergenceWarning: lbfgs failed to converge (status=1):\n",
      "STOP: TOTAL NO. of ITERATIONS REACHED LIMIT.\n",
      "\n",
      "Increase the number of iterations (max_iter) or scale the data as shown in:\n",
      "    https://scikit-learn.org/stable/modules/preprocessing.html\n",
      "Please also refer to the documentation for alternative solver options:\n",
      "    https://scikit-learn.org/stable/modules/linear_model.html#logistic-regression\n",
      "  n_iter_i = _check_optimize_result(\n",
      "d:\\anaconda3\\Lib\\site-packages\\sklearn\\utils\\validation.py:605: FutureWarning: is_sparse is deprecated and will be removed in a future version. Check `isinstance(dtype, pd.SparseDtype)` instead.\n",
      "  if is_sparse(pd_dtype):\n",
      "d:\\anaconda3\\Lib\\site-packages\\sklearn\\utils\\validation.py:614: FutureWarning: is_sparse is deprecated and will be removed in a future version. Check `isinstance(dtype, pd.SparseDtype)` instead.\n",
      "  if is_sparse(pd_dtype) or not is_extension_array_dtype(pd_dtype):\n",
      "d:\\anaconda3\\Lib\\site-packages\\sklearn\\utils\\validation.py:605: FutureWarning: is_sparse is deprecated and will be removed in a future version. Check `isinstance(dtype, pd.SparseDtype)` instead.\n",
      "  if is_sparse(pd_dtype):\n",
      "d:\\anaconda3\\Lib\\site-packages\\sklearn\\utils\\validation.py:614: FutureWarning: is_sparse is deprecated and will be removed in a future version. Check `isinstance(dtype, pd.SparseDtype)` instead.\n",
      "  if is_sparse(pd_dtype) or not is_extension_array_dtype(pd_dtype):\n",
      "d:\\anaconda3\\Lib\\site-packages\\sklearn\\utils\\validation.py:605: FutureWarning: is_sparse is deprecated and will be removed in a future version. Check `isinstance(dtype, pd.SparseDtype)` instead.\n",
      "  if is_sparse(pd_dtype):\n",
      "d:\\anaconda3\\Lib\\site-packages\\sklearn\\utils\\validation.py:614: FutureWarning: is_sparse is deprecated and will be removed in a future version. Check `isinstance(dtype, pd.SparseDtype)` instead.\n",
      "  if is_sparse(pd_dtype) or not is_extension_array_dtype(pd_dtype):\n"
     ]
    },
    {
     "name": "stdout",
     "output_type": "stream",
     "text": [
      "              precision    recall  f1-score   support\n",
      "\n",
      "      female       0.82      0.81      0.82     40042\n",
      "        male       0.82      0.82      0.82     40042\n",
      "\n",
      "    accuracy                           0.82     80084\n",
      "   macro avg       0.82      0.82      0.82     80084\n",
      "weighted avg       0.82      0.82      0.82     80084\n",
      "\n"
     ]
    }
   ],
   "source": [
    "log = LogisticRegression()\n",
    "log.fit(X_train, y_train)\n",
    "\n",
    "\n",
    "preds = log.predict(X_test)\n",
    "print(classification_report(y_test, preds))"
   ]
  },
  {
   "cell_type": "code",
   "execution_count": 124,
   "metadata": {},
   "outputs": [
    {
     "data": {
      "text/plain": [
       "['models/vec.joblib']"
      ]
     },
     "execution_count": 124,
     "metadata": {},
     "output_type": "execute_result"
    }
   ],
   "source": [
    "# save classifier and vectorizer\n",
    "joblib.dump(log, \"models/log.joblib\")\n",
    "joblib.dump(vec, \"models/vec.joblib\")"
   ]
  },
  {
   "cell_type": "code",
   "execution_count": 12,
   "metadata": {},
   "outputs": [],
   "source": [
    "# load classifier and vectorizer\n",
    "log = joblib.load(\"models/log.joblib\")\n",
    "vec = joblib.load(\"models/vec.joblib\")"
   ]
  },
  {
   "cell_type": "code",
   "execution_count": 125,
   "metadata": {},
   "outputs": [
    {
     "data": {
      "text/plain": [
       "array([[9.99114757e-01, 8.85242989e-04],\n",
       "       [6.05888023e-01, 3.94111977e-01],\n",
       "       [4.49183978e-01, 5.50816022e-01],\n",
       "       ...,\n",
       "       [2.94993080e-02, 9.70500692e-01],\n",
       "       [8.23241033e-01, 1.76758967e-01],\n",
       "       [1.70162284e-02, 9.82983772e-01]])"
      ]
     },
     "execution_count": 125,
     "metadata": {},
     "output_type": "execute_result"
    }
   ],
   "source": [
    "# get class prediction probabilites\n",
    "log.predict_proba(X_test)"
   ]
  },
  {
   "cell_type": "code",
   "execution_count": 126,
   "metadata": {},
   "outputs": [
    {
     "data": {
      "text/plain": [
       "array(['male'], dtype=object)"
      ]
     },
     "execution_count": 126,
     "metadata": {},
     "output_type": "execute_result"
    }
   ],
   "source": [
    "# test prediction with unknown data\n",
    "sample_text = [\"Ich möchte Ihnen sagen, dass es schon gut gewesen wäre, wenn Sie ein paar Sätze zu dem haarsträubenden Verfahren – dem Riesendesaster und den zahlreichen Verfassungsverstößen – gesagt hätten, das wesentlich das Bundesfinanzministerium verursacht hat und das eine ratlose und planlose Regierung hinterlassen hat, die alle Hände voll zu tun hatte, die Fehler auszumerzen, die sie selber verursacht hat.\"]\n",
    "\n",
    "clean_sample_text = process_text(sample_text)\n",
    "sample_vec = vec.transform(sample_text)\n",
    "log.predict(sample_vec)"
   ]
  },
  {
   "cell_type": "markdown",
   "metadata": {},
   "source": [
    "## Confusion Matrix"
   ]
  },
  {
   "cell_type": "code",
   "execution_count": 131,
   "metadata": {},
   "outputs": [
    {
     "data": {
      "text/plain": [
       "array([[32634,  7408],\n",
       "       [ 7124, 32918]], dtype=int64)"
      ]
     },
     "execution_count": 131,
     "metadata": {},
     "output_type": "execute_result"
    }
   ],
   "source": [
    "confusion_matrix(y_test.to_numpy(), preds)"
   ]
  },
  {
   "cell_type": "code",
   "execution_count": 132,
   "metadata": {},
   "outputs": [
    {
     "data": {
      "text/plain": [
       "<Axes: >"
      ]
     },
     "execution_count": 132,
     "metadata": {},
     "output_type": "execute_result"
    },
    {
     "data": {
      "image/png": "[encoded data removed]",
      "text/plain": [
       "<Figure size 500x500 with 1 Axes>"
      ]
     },
     "metadata": {},
     "output_type": "display_data"
    }
   ],
   "source": [
    "fig, ax = plt.subplots(figsize=(5, 5))\n",
    "\n",
    "sb.heatmap(confusion_matrix(y_test.to_numpy(), preds),\n",
    "           annot=True, cmap=\"viridis\", cbar=False,\n",
    "           fmt=\"d\",\n",
    "           xticklabels=log.classes_,\n",
    "           yticklabels=log.classes_)"
   ]
  },
  {
   "cell_type": "markdown",
   "metadata": {},
   "source": [
    "## Get Important Features"
   ]
  },
  {
   "cell_type": "code",
   "execution_count": 36,
   "metadata": {},
   "outputs": [
    {
     "data": {
      "text/plain": [
       "array(['female', 'male'], dtype=object)"
      ]
     },
     "execution_count": 36,
     "metadata": {},
     "output_type": "execute_result"
    }
   ],
   "source": [
    "log.classes_"
   ]
  },
  {
   "cell_type": "code",
   "execution_count": 133,
   "metadata": {},
   "outputs": [
    {
     "data": {
      "text/plain": [
       "160472"
      ]
     },
     "execution_count": 133,
     "metadata": {},
     "output_type": "execute_result"
    }
   ],
   "source": [
    "len(vec.get_feature_names_out())"
   ]
  },
  {
   "cell_type": "code",
   "execution_count": 118,
   "metadata": {},
   "outputs": [
    {
     "data": {
      "text/plain": [
       "160472"
      ]
     },
     "execution_count": 118,
     "metadata": {},
     "output_type": "execute_result"
    }
   ],
   "source": [
    "coefficients = log.coef_[0]\n",
    "len(coefficients)"
   ]
  },
  {
   "cell_type": "code",
   "execution_count": 134,
   "metadata": {},
   "outputs": [
    {
     "data": {
      "text/plain": [
       "array([111697,  73965, 111698, 108802,  46773, 126904, 151760, 157620,\n",
       "       106712,  84890,  24367, 152137, 147933,  28980,  33064,  89968,\n",
       "        84559,  85143, 151804, 127278], dtype=int64)"
      ]
     },
     "execution_count": 134,
     "metadata": {},
     "output_type": "execute_result"
    }
   ],
   "source": [
    "top_negative_features = np.argsort(coefficients)[::1][:20]\n",
    "top_negative_features # female"
   ]
  },
  {
   "cell_type": "code",
   "execution_count": 135,
   "metadata": {},
   "outputs": [
    {
     "data": {
      "text/plain": [
       "array([ 29699,  29697,  68641,   5201,  28984, 142917, 151830, 106543,\n",
       "       121644, 106721,  53730,  84763,  10161, 147140,  26327, 142486,\n",
       "        84775, 114140,  84758,  29946], dtype=int64)"
      ]
     },
     "execution_count": 135,
     "metadata": {},
     "output_type": "execute_result"
    }
   ],
   "source": [
    "top_positive_features = np.argsort(coefficients)[::-1][:20]\n",
    "top_positive_features # male"
   ]
  },
  {
   "cell_type": "code",
   "execution_count": 145,
   "metadata": {},
   "outputs": [
    {
     "name": "stdout",
     "output_type": "stream",
     "text": [
      "\n",
      "      Token: präsident herren\n",
      "      Coefficient: -8.699283125244607\n",
      "      \n"
     ]
    }
   ],
   "source": [
    "# get coefficient for specific n-gram by id\n",
    "ngram_id = 111697 # set id here\n",
    "\n",
    "print(f'''\n",
    "      Token: {vec.get_feature_names_out()[ngram_id]}\n",
    "      Coefficient: {coefficients[ngram_id]}\n",
    "      ''')"
   ]
  },
  {
   "cell_type": "code",
   "execution_count": 146,
   "metadata": {},
   "outputs": [
    {
     "data": {
      "text/plain": [
       "array(['dank dank kollege', 'dank dank', 'gnädige', 'ampelkoalition',\n",
       "       'damen herren', 'vielen dank kollege', 'wort kollege pds',\n",
       "       'nächste kollegin wort', 'schönen dank', 'nächster wort kollege',\n",
       "       'fraktion pds', 'kollege nächster kollege', 'aufmerksamkeit dank',\n",
       "       'weitere zusatzfrage abgeordnete', 'bundesverkehrsminister',\n",
       "       'verzeihung', 'kollege pds', 'redezeit minuten',\n",
       "       'kollege nächste kollegin', 'danke berichterstatter'], dtype=object)"
      ]
     },
     "execution_count": 146,
     "metadata": {},
     "output_type": "execute_result"
    }
   ],
   "source": [
    "vec.get_feature_names_out()[top_positive_features] # male"
   ]
  },
  {
   "cell_type": "code",
   "execution_count": 147,
   "metadata": {},
   "outputs": [
    {
     "data": {
      "text/plain": [
       "array(['präsident herren', 'herren damen', 'präsident herren damen',\n",
       "       'pds fraktion', 'erste zusatzfrage', 'spricht abgeordnete',\n",
       "       'wort geht', 'zweite nachfrage', 'nächster spricht',\n",
       "       'kollege unionsfraktion', 'bundeskanzlerin',\n",
       "       'wunsch zwischenfrage', 'wer dagegen', 'damen', 'denken redezeit',\n",
       "       'lassen zwischenfrage', 'kollege fraktion', 'kollegin kommen',\n",
       "       'wort herr abgeordnete', 'staatsministerin'], dtype=object)"
      ]
     },
     "execution_count": 147,
     "metadata": {},
     "output_type": "execute_result"
    }
   ],
   "source": [
    "vec.get_feature_names_out()[top_negative_features] # female "
   ]
  },
  {
   "cell_type": "code",
   "execution_count": 148,
   "metadata": {},
   "outputs": [
    {
     "data": {
      "image/png": "[encoded data removed]",
      "text/plain": [
       "<Figure size 1600x1000 with 1 Axes>"
      ]
     },
     "metadata": {},
     "output_type": "display_data"
    },
    {
     "data": {
      "image/png": "[encoded data removed]",
      "text/plain": [
       "<Figure size 1600x1000 with 1 Axes>"
      ]
     },
     "metadata": {},
     "output_type": "display_data"
    }
   ],
   "source": [
    "# plot\n",
    "for gender in ['male', 'female']:\n",
    "    features = top_positive_features if gender=='male' else top_negative_features\n",
    "    color = 'skyblue' if gender=='male' else 'orange'\n",
    "\n",
    "    y_labels = vec.get_feature_names_out()[features]\n",
    "    y_values = coefficients[features]\n",
    "\n",
    "\n",
    "    plt.figure(figsize=(16, 10))\n",
    "    bar = plt.barh(list(y_labels), list(y_values), color=color)\n",
    "    plt.title(f'Top 20 Important Features for {gender.capitalize()} Predicitions')\n",
    "    plt.bar_label(bar, label_type='edge', fmt='{:0.3f}')\n",
    "\n",
    "    plt.show()"
   ]
  }
 ],
 "metadata": {
  "kernelspec": {
   "display_name": "base",
   "language": "python",
   "name": "python3"
  },
  "language_info": {
   "codemirror_mode": {
    "name": "ipython",
    "version": 3
   },
   "file_extension": ".py",
   "mimetype": "text/x-python",
   "name": "python",
   "nbconvert_exporter": "python",
   "pygments_lexer": "ipython3",
   "version": "3.11.4"
  }
 },
 "nbformat": 4,
 "nbformat_minor": 2
}
