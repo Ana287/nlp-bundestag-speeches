{
 "cells": [
  {
   "cell_type": "markdown",
   "metadata": {},
   "source": [
    "# Gender Prediction by Speech Content"
   ]
  },
  {
   "cell_type": "code",
   "execution_count": 2,
   "metadata": {},
   "outputs": [],
   "source": [
    "import joblib\n",
    "import re\n",
    "import string\n",
    "\n",
    "import numpy as np\n",
    "import pandas as pd\n",
    "\n",
    "from sklearn.datasets import fetch_20newsgroups\n",
    "from sklearn.feature_extraction.text import CountVectorizer\n",
    "from sklearn.metrics import accuracy_score, cohen_kappa_score, f1_score, classification_report\n",
    "from sklearn.model_selection import StratifiedKFold, train_test_split\n",
    "from sklearn.naive_bayes import MultinomialNB\n",
    "from nltk.stem import SnowballStemmer"
   ]
  },
  {
   "cell_type": "code",
   "execution_count": 3,
   "metadata": {},
   "outputs": [],
   "source": [
    "import nltk\n",
    "from nltk.corpus import stopwords"
   ]
  },
  {
   "cell_type": "code",
   "execution_count": 4,
   "metadata": {},
   "outputs": [
    {
     "name": "stderr",
     "output_type": "stream",
     "text": [
      "[nltk_data] Downloading package stopwords to\n",
      "[nltk_data]     C:\\Users\\Ana\\AppData\\Roaming\\nltk_data...\n",
      "[nltk_data]   Package stopwords is already up-to-date!\n"
     ]
    },
    {
     "data": {
      "text/plain": [
       "True"
      ]
     },
     "execution_count": 4,
     "metadata": {},
     "output_type": "execute_result"
    }
   ],
   "source": [
    "nltk.download('stopwords')"
   ]
  },
  {
   "cell_type": "code",
   "execution_count": 5,
   "metadata": {},
   "outputs": [],
   "source": [
    "stop_words = list(set(stopwords.words('german')))"
   ]
  },
  {
   "cell_type": "code",
   "execution_count": 6,
   "metadata": {},
   "outputs": [
    {
     "data": {
      "text/html": [
       "<div>\n",
       "<style scoped>\n",
       "    .dataframe tbody tr th:only-of-type {\n",
       "        vertical-align: middle;\n",
       "    }\n",
       "\n",
       "    .dataframe tbody tr th {\n",
       "        vertical-align: top;\n",
       "    }\n",
       "\n",
       "    .dataframe thead th {\n",
       "        text-align: right;\n",
       "    }\n",
       "</style>\n",
       "<table border=\"1\" class=\"dataframe\">\n",
       "  <thead>\n",
       "    <tr style=\"text-align: right;\">\n",
       "      <th></th>\n",
       "      <th>text</th>\n",
       "      <th>date</th>\n",
       "      <th>legislative_period</th>\n",
       "      <th>speaker_name</th>\n",
       "      <th>speaker_gender</th>\n",
       "      <th>speaker_role</th>\n",
       "      <th>speaker_party</th>\n",
       "      <th>comments</th>\n",
       "      <th>id</th>\n",
       "      <th>speaker_id</th>\n",
       "      <th>speech_length</th>\n",
       "      <th>topic_distribution</th>\n",
       "    </tr>\n",
       "  </thead>\n",
       "  <tbody>\n",
       "    <tr>\n",
       "      <th>0</th>\n",
       "      <td>Sehr geehrter Herr Alterspräsident! So muss ...</td>\n",
       "      <td>2021-10-26</td>\n",
       "      <td>20</td>\n",
       "      <td>Gabriele Katzmarek</td>\n",
       "      <td>female</td>\n",
       "      <td>None</td>\n",
       "      <td>SPD</td>\n",
       "      <td>[(Beifall bei der SPD sowie bei Abgeordneten d...</td>\n",
       "      <td>SP-2021-0</td>\n",
       "      <td>1299</td>\n",
       "      <td>2593</td>\n",
       "      <td>{68: 0.35882655}</td>\n",
       "    </tr>\n",
       "    <tr>\n",
       "      <th>1</th>\n",
       "      <td>Herr Präsident! Liebe Kolleginnen und Kolleg...</td>\n",
       "      <td>2021-10-26</td>\n",
       "      <td>20</td>\n",
       "      <td>Stefan Müller</td>\n",
       "      <td>male</td>\n",
       "      <td>None</td>\n",
       "      <td>CDU/CSU</td>\n",
       "      <td>[(Beifall bei der CDU/CSU sowie bei Abgeordnet...</td>\n",
       "      <td>SP-2021-1</td>\n",
       "      <td>4028</td>\n",
       "      <td>3796</td>\n",
       "      <td>{68: 0.46776655}</td>\n",
       "    </tr>\n",
       "    <tr>\n",
       "      <th>2</th>\n",
       "      <td>Sehr geehrter Herr Alterspräsident Wolfgang ...</td>\n",
       "      <td>2021-10-26</td>\n",
       "      <td>20</td>\n",
       "      <td>Britta Haßelmann</td>\n",
       "      <td>female</td>\n",
       "      <td>None</td>\n",
       "      <td>BÜNDNIS 90/DIE GRÜNEN</td>\n",
       "      <td>[(Beifall beim BÜNDNIS 90/DIE GRÜNEN und bei d...</td>\n",
       "      <td>SP-2021-2</td>\n",
       "      <td>451</td>\n",
       "      <td>4301</td>\n",
       "      <td>{68: 0.26328164}</td>\n",
       "    </tr>\n",
       "    <tr>\n",
       "      <th>3</th>\n",
       "      <td>Sehr geehrter Herr Präsident! Meine lieben K...</td>\n",
       "      <td>2021-10-26</td>\n",
       "      <td>20</td>\n",
       "      <td>Marco Buschmann</td>\n",
       "      <td>male</td>\n",
       "      <td>None</td>\n",
       "      <td>FDP</td>\n",
       "      <td>[(Jan Korte [DIE LINKE]: Oder Jugendweihe!), (...</td>\n",
       "      <td>SP-2021-3</td>\n",
       "      <td>3083</td>\n",
       "      <td>4555</td>\n",
       "      <td>{}</td>\n",
       "    </tr>\n",
       "    <tr>\n",
       "      <th>4</th>\n",
       "      <td>Herr Alterspräsident! Lassen Sie mich zunäch...</td>\n",
       "      <td>2021-10-26</td>\n",
       "      <td>20</td>\n",
       "      <td>Stephan Brandner</td>\n",
       "      <td>male</td>\n",
       "      <td>None</td>\n",
       "      <td>AfD</td>\n",
       "      <td>[(Beifall bei der AfD), (Beifall bei Abgeordne...</td>\n",
       "      <td>SP-2021-4</td>\n",
       "      <td>4055</td>\n",
       "      <td>5996</td>\n",
       "      <td>{68: 0.3120498}</td>\n",
       "    </tr>\n",
       "  </tbody>\n",
       "</table>\n",
       "</div>"
      ],
      "text/plain": [
       "                                                text       date  \\\n",
       "0    Sehr geehrter Herr Alterspräsident! So muss ... 2021-10-26   \n",
       "1    Herr Präsident! Liebe Kolleginnen und Kolleg... 2021-10-26   \n",
       "2    Sehr geehrter Herr Alterspräsident Wolfgang ... 2021-10-26   \n",
       "3    Sehr geehrter Herr Präsident! Meine lieben K... 2021-10-26   \n",
       "4    Herr Alterspräsident! Lassen Sie mich zunäch... 2021-10-26   \n",
       "\n",
       "  legislative_period        speaker_name speaker_gender speaker_role  \\\n",
       "0                 20  Gabriele Katzmarek         female         None   \n",
       "1                 20       Stefan Müller           male         None   \n",
       "2                 20    Britta Haßelmann         female         None   \n",
       "3                 20     Marco Buschmann           male         None   \n",
       "4                 20    Stephan Brandner           male         None   \n",
       "\n",
       "           speaker_party                                           comments  \\\n",
       "0                    SPD  [(Beifall bei der SPD sowie bei Abgeordneten d...   \n",
       "1                CDU/CSU  [(Beifall bei der CDU/CSU sowie bei Abgeordnet...   \n",
       "2  BÜNDNIS 90/DIE GRÜNEN  [(Beifall beim BÜNDNIS 90/DIE GRÜNEN und bei d...   \n",
       "3                    FDP  [(Jan Korte [DIE LINKE]: Oder Jugendweihe!), (...   \n",
       "4                    AfD  [(Beifall bei der AfD), (Beifall bei Abgeordne...   \n",
       "\n",
       "          id  speaker_id  speech_length topic_distribution  \n",
       "0  SP-2021-0        1299           2593   {68: 0.35882655}  \n",
       "1  SP-2021-1        4028           3796   {68: 0.46776655}  \n",
       "2  SP-2021-2         451           4301   {68: 0.26328164}  \n",
       "3  SP-2021-3        3083           4555                 {}  \n",
       "4  SP-2021-4        4055           5996    {68: 0.3120498}  "
      ]
     },
     "execution_count": 6,
     "metadata": {},
     "output_type": "execute_result"
    }
   ],
   "source": [
    "# load data\n",
    "df = pd.read_pickle('C:/Users/Ana/OneDrive - Hochschule Düsseldorf/MA/data_topics.pkl')\n",
    "\n",
    "df.head()"
   ]
  },
  {
   "cell_type": "code",
   "execution_count": 7,
   "metadata": {},
   "outputs": [
    {
     "data": {
      "text/html": [
       "<div>\n",
       "<style scoped>\n",
       "    .dataframe tbody tr th:only-of-type {\n",
       "        vertical-align: middle;\n",
       "    }\n",
       "\n",
       "    .dataframe tbody tr th {\n",
       "        vertical-align: top;\n",
       "    }\n",
       "\n",
       "    .dataframe thead th {\n",
       "        text-align: right;\n",
       "    }\n",
       "</style>\n",
       "<table border=\"1\" class=\"dataframe\">\n",
       "  <thead>\n",
       "    <tr style=\"text-align: right;\">\n",
       "      <th></th>\n",
       "      <th>speaker_gender</th>\n",
       "      <th>text</th>\n",
       "    </tr>\n",
       "  </thead>\n",
       "  <tbody>\n",
       "    <tr>\n",
       "      <th>0</th>\n",
       "      <td>female</td>\n",
       "      <td>Sehr geehrter Herr Alterspräsident! So muss ...</td>\n",
       "    </tr>\n",
       "    <tr>\n",
       "      <th>1</th>\n",
       "      <td>male</td>\n",
       "      <td>Herr Präsident! Liebe Kolleginnen und Kolleg...</td>\n",
       "    </tr>\n",
       "    <tr>\n",
       "      <th>2</th>\n",
       "      <td>female</td>\n",
       "      <td>Sehr geehrter Herr Alterspräsident Wolfgang ...</td>\n",
       "    </tr>\n",
       "    <tr>\n",
       "      <th>3</th>\n",
       "      <td>male</td>\n",
       "      <td>Sehr geehrter Herr Präsident! Meine lieben K...</td>\n",
       "    </tr>\n",
       "    <tr>\n",
       "      <th>4</th>\n",
       "      <td>male</td>\n",
       "      <td>Herr Alterspräsident! Lassen Sie mich zunäch...</td>\n",
       "    </tr>\n",
       "  </tbody>\n",
       "</table>\n",
       "</div>"
      ],
      "text/plain": [
       "  speaker_gender                                               text\n",
       "0         female    Sehr geehrter Herr Alterspräsident! So muss ...\n",
       "1           male    Herr Präsident! Liebe Kolleginnen und Kolleg...\n",
       "2         female    Sehr geehrter Herr Alterspräsident Wolfgang ...\n",
       "3           male    Sehr geehrter Herr Präsident! Meine lieben K...\n",
       "4           male    Herr Alterspräsident! Lassen Sie mich zunäch..."
      ]
     },
     "execution_count": 7,
     "metadata": {},
     "output_type": "execute_result"
    }
   ],
   "source": [
    "df = df[[\"speaker_gender\", \"text\"]]\n",
    "df.head()"
   ]
  },
  {
   "cell_type": "code",
   "execution_count": 8,
   "metadata": {},
   "outputs": [],
   "source": [
    "def process_text(text):\n",
    "    text = str(text).lower()\n",
    "    text = re.sub(\n",
    "        f\"[{re.escape(string.punctuation)}]\", \" \", text\n",
    "    )\n",
    "    text = \" \".join(text.split())\n",
    "\n",
    "    return text"
   ]
  },
  {
   "cell_type": "code",
   "execution_count": 9,
   "metadata": {},
   "outputs": [],
   "source": [
    "df[\"clean_text\"] = df.text.map(process_text)"
   ]
  },
  {
   "cell_type": "code",
   "execution_count": 10,
   "metadata": {},
   "outputs": [
    {
     "data": {
      "text/html": [
       "<div>\n",
       "<style scoped>\n",
       "    .dataframe tbody tr th:only-of-type {\n",
       "        vertical-align: middle;\n",
       "    }\n",
       "\n",
       "    .dataframe tbody tr th {\n",
       "        vertical-align: top;\n",
       "    }\n",
       "\n",
       "    .dataframe thead th {\n",
       "        text-align: right;\n",
       "    }\n",
       "</style>\n",
       "<table border=\"1\" class=\"dataframe\">\n",
       "  <thead>\n",
       "    <tr style=\"text-align: right;\">\n",
       "      <th></th>\n",
       "      <th>speaker_gender</th>\n",
       "      <th>text</th>\n",
       "      <th>clean_text</th>\n",
       "    </tr>\n",
       "  </thead>\n",
       "  <tbody>\n",
       "    <tr>\n",
       "      <th>0</th>\n",
       "      <td>female</td>\n",
       "      <td>Sehr geehrter Herr Alterspräsident! So muss ...</td>\n",
       "      <td>sehr geehrter herr alterspräsident so muss ich...</td>\n",
       "    </tr>\n",
       "    <tr>\n",
       "      <th>1</th>\n",
       "      <td>male</td>\n",
       "      <td>Herr Präsident! Liebe Kolleginnen und Kolleg...</td>\n",
       "      <td>herr präsident liebe kolleginnen und kollegen ...</td>\n",
       "    </tr>\n",
       "    <tr>\n",
       "      <th>2</th>\n",
       "      <td>female</td>\n",
       "      <td>Sehr geehrter Herr Alterspräsident Wolfgang ...</td>\n",
       "      <td>sehr geehrter herr alterspräsident wolfgang sc...</td>\n",
       "    </tr>\n",
       "    <tr>\n",
       "      <th>3</th>\n",
       "      <td>male</td>\n",
       "      <td>Sehr geehrter Herr Präsident! Meine lieben K...</td>\n",
       "      <td>sehr geehrter herr präsident meine lieben koll...</td>\n",
       "    </tr>\n",
       "    <tr>\n",
       "      <th>4</th>\n",
       "      <td>male</td>\n",
       "      <td>Herr Alterspräsident! Lassen Sie mich zunäch...</td>\n",
       "      <td>herr alterspräsident lassen sie mich zunächst ...</td>\n",
       "    </tr>\n",
       "  </tbody>\n",
       "</table>\n",
       "</div>"
      ],
      "text/plain": [
       "  speaker_gender                                               text  \\\n",
       "0         female    Sehr geehrter Herr Alterspräsident! So muss ...   \n",
       "1           male    Herr Präsident! Liebe Kolleginnen und Kolleg...   \n",
       "2         female    Sehr geehrter Herr Alterspräsident Wolfgang ...   \n",
       "3           male    Sehr geehrter Herr Präsident! Meine lieben K...   \n",
       "4           male    Herr Alterspräsident! Lassen Sie mich zunäch...   \n",
       "\n",
       "                                          clean_text  \n",
       "0  sehr geehrter herr alterspräsident so muss ich...  \n",
       "1  herr präsident liebe kolleginnen und kollegen ...  \n",
       "2  sehr geehrter herr alterspräsident wolfgang sc...  \n",
       "3  sehr geehrter herr präsident meine lieben koll...  \n",
       "4  herr alterspräsident lassen sie mich zunächst ...  "
      ]
     },
     "execution_count": 10,
     "metadata": {},
     "output_type": "execute_result"
    }
   ],
   "source": [
    "df.head()"
   ]
  },
  {
   "cell_type": "code",
   "execution_count": 11,
   "metadata": {},
   "outputs": [
    {
     "data": {
      "text/plain": [
       "971264"
      ]
     },
     "execution_count": 11,
     "metadata": {},
     "output_type": "execute_result"
    }
   ],
   "source": [
    "len(df)"
   ]
  },
  {
   "cell_type": "code",
   "execution_count": 30,
   "metadata": {},
   "outputs": [],
   "source": [
    "df_train, df_test = train_test_split(df, test_size=0.20, stratify=df.speaker_gender, random_state=0)"
   ]
  },
  {
   "cell_type": "code",
   "execution_count": 62,
   "metadata": {},
   "outputs": [],
   "source": [
    "vec = CountVectorizer(\n",
    "    ngram_range=(1, 3), \n",
    "    stop_words=stop_words,\n",
    ")  \n",
    "\n",
    "X_train = vec.fit_transform(df_train.clean_text)\n",
    "X_test = vec.transform(df_test.clean_text)\n",
    "\n",
    "y_train = df_train.speaker_gender\n",
    "y_test = df_test.speaker_gender"
   ]
  },
  {
   "cell_type": "code",
   "execution_count": 18,
   "metadata": {},
   "outputs": [],
   "source": [
    "# split data for testing\n",
    "#specify number of rows in each chunk\n",
    "n=100000\n",
    "\n",
    "#split DataFrame into chunks\n",
    "splitted_df = [df[i:i+n] for i in range(0,len(df),n)]"
   ]
  },
  {
   "cell_type": "code",
   "execution_count": 24,
   "metadata": {},
   "outputs": [
    {
     "data": {
      "text/html": [
       "<div>\n",
       "<style scoped>\n",
       "    .dataframe tbody tr th:only-of-type {\n",
       "        vertical-align: middle;\n",
       "    }\n",
       "\n",
       "    .dataframe tbody tr th {\n",
       "        vertical-align: top;\n",
       "    }\n",
       "\n",
       "    .dataframe thead th {\n",
       "        text-align: right;\n",
       "    }\n",
       "</style>\n",
       "<table border=\"1\" class=\"dataframe\">\n",
       "  <thead>\n",
       "    <tr style=\"text-align: right;\">\n",
       "      <th></th>\n",
       "      <th>speaker_gender</th>\n",
       "      <th>text</th>\n",
       "      <th>clean_text</th>\n",
       "    </tr>\n",
       "  </thead>\n",
       "  <tbody>\n",
       "    <tr>\n",
       "      <th>0</th>\n",
       "      <td>female</td>\n",
       "      <td>Sehr geehrter Herr Alterspräsident! So muss ...</td>\n",
       "      <td>sehr geehrter herr alterspräsident so muss ich...</td>\n",
       "    </tr>\n",
       "    <tr>\n",
       "      <th>1</th>\n",
       "      <td>male</td>\n",
       "      <td>Herr Präsident! Liebe Kolleginnen und Kolleg...</td>\n",
       "      <td>herr präsident liebe kolleginnen und kollegen ...</td>\n",
       "    </tr>\n",
       "    <tr>\n",
       "      <th>2</th>\n",
       "      <td>female</td>\n",
       "      <td>Sehr geehrter Herr Alterspräsident Wolfgang ...</td>\n",
       "      <td>sehr geehrter herr alterspräsident wolfgang sc...</td>\n",
       "    </tr>\n",
       "    <tr>\n",
       "      <th>3</th>\n",
       "      <td>male</td>\n",
       "      <td>Sehr geehrter Herr Präsident! Meine lieben K...</td>\n",
       "      <td>sehr geehrter herr präsident meine lieben koll...</td>\n",
       "    </tr>\n",
       "    <tr>\n",
       "      <th>4</th>\n",
       "      <td>male</td>\n",
       "      <td>Herr Alterspräsident! Lassen Sie mich zunäch...</td>\n",
       "      <td>herr alterspräsident lassen sie mich zunächst ...</td>\n",
       "    </tr>\n",
       "    <tr>\n",
       "      <th>...</th>\n",
       "      <td>...</td>\n",
       "      <td>...</td>\n",
       "      <td>...</td>\n",
       "    </tr>\n",
       "    <tr>\n",
       "      <th>100010</th>\n",
       "      <td>male</td>\n",
       "      <td>Eine Zusatzfrage des Abgeordneten Dr. Mommer!</td>\n",
       "      <td>eine zusatzfrage des abgeordneten dr mommer</td>\n",
       "    </tr>\n",
       "    <tr>\n",
       "      <th>100011</th>\n",
       "      <td>male</td>\n",
       "      <td>Frau Minister, Sie verstehen sicher, daß die ...</td>\n",
       "      <td>frau minister sie verstehen sicher daß die bet...</td>\n",
       "    </tr>\n",
       "    <tr>\n",
       "      <th>100012</th>\n",
       "      <td>female</td>\n",
       "      <td>Herr Kollege Mommer, ich bekomme zahlreiche B...</td>\n",
       "      <td>herr kollege mommer ich bekomme zahlreiche bri...</td>\n",
       "    </tr>\n",
       "    <tr>\n",
       "      <th>100013</th>\n",
       "      <td>male</td>\n",
       "      <td>Eine Zusatzfrage des Abgeordneten Dr. Schäfer!</td>\n",
       "      <td>eine zusatzfrage des abgeordneten dr schäfer</td>\n",
       "    </tr>\n",
       "    <tr>\n",
       "      <th>100014</th>\n",
       "      <td>male</td>\n",
       "      <td>Frau Minister, ist es nicht möglich, das Bund...</td>\n",
       "      <td>frau minister ist es nicht möglich das bundesg...</td>\n",
       "    </tr>\n",
       "  </tbody>\n",
       "</table>\n",
       "<p>100000 rows × 3 columns</p>\n",
       "</div>"
      ],
      "text/plain": [
       "       speaker_gender                                               text  \\\n",
       "0              female    Sehr geehrter Herr Alterspräsident! So muss ...   \n",
       "1                male    Herr Präsident! Liebe Kolleginnen und Kolleg...   \n",
       "2              female    Sehr geehrter Herr Alterspräsident Wolfgang ...   \n",
       "3                male    Sehr geehrter Herr Präsident! Meine lieben K...   \n",
       "4                male    Herr Alterspräsident! Lassen Sie mich zunäch...   \n",
       "...               ...                                                ...   \n",
       "100010           male      Eine Zusatzfrage des Abgeordneten Dr. Mommer!   \n",
       "100011           male   Frau Minister, Sie verstehen sicher, daß die ...   \n",
       "100012         female   Herr Kollege Mommer, ich bekomme zahlreiche B...   \n",
       "100013           male     Eine Zusatzfrage des Abgeordneten Dr. Schäfer!   \n",
       "100014           male   Frau Minister, ist es nicht möglich, das Bund...   \n",
       "\n",
       "                                               clean_text  \n",
       "0       sehr geehrter herr alterspräsident so muss ich...  \n",
       "1       herr präsident liebe kolleginnen und kollegen ...  \n",
       "2       sehr geehrter herr alterspräsident wolfgang sc...  \n",
       "3       sehr geehrter herr präsident meine lieben koll...  \n",
       "4       herr alterspräsident lassen sie mich zunächst ...  \n",
       "...                                                   ...  \n",
       "100010        eine zusatzfrage des abgeordneten dr mommer  \n",
       "100011  frau minister sie verstehen sicher daß die bet...  \n",
       "100012  herr kollege mommer ich bekomme zahlreiche bri...  \n",
       "100013       eine zusatzfrage des abgeordneten dr schäfer  \n",
       "100014  frau minister ist es nicht möglich das bundesg...  \n",
       "\n",
       "[100000 rows x 3 columns]"
      ]
     },
     "execution_count": 24,
     "metadata": {},
     "output_type": "execute_result"
    }
   ],
   "source": [
    "small_df = splitted_df[0]\n",
    "small_df"
   ]
  },
  {
   "cell_type": "code",
   "execution_count": 25,
   "metadata": {},
   "outputs": [],
   "source": [
    "small_df_train, small_df_test = train_test_split(small_df, test_size=0.20, stratify=small_df.speaker_gender, random_state=0)"
   ]
  },
  {
   "cell_type": "code",
   "execution_count": 26,
   "metadata": {},
   "outputs": [],
   "source": [
    "vec = CountVectorizer(\n",
    "    ngram_range=(1, 3), \n",
    "    stop_words=stop_words,\n",
    ")  \n",
    "\n",
    "X_train = vec.fit_transform(small_df_train.clean_text)\n",
    "X_test = vec.transform(small_df_test.clean_text)\n",
    "\n",
    "y_train = small_df_train.speaker_gender\n",
    "y_test = small_df_test.speaker_gender"
   ]
  },
  {
   "cell_type": "code",
   "execution_count": 28,
   "metadata": {},
   "outputs": [],
   "source": [
    "import pickle\n",
    "\n",
    "# with open('C:/Users/Ana/OneDrive - Hochschule Düsseldorf/MA/x_train.pkl', 'wb') as f:\n",
    "#     pickle.dump(X_train, f)\n",
    "\n",
    "# with open('C:/Users/Ana/OneDrive - Hochschule Düsseldorf/MA/x_test.pkl', 'wb') as f:\n",
    "#     pickle.dump(X_test, f)\n",
    "\n",
    "# load\n",
    "with open('C:/Users/Ana/OneDrive - Hochschule Düsseldorf/MA/x_train.pkl', 'rb') as f:\n",
    "   df_x_train = pickle.load(f)\n",
    "\n",
    "with open('C:/Users/Ana/OneDrive - Hochschule Düsseldorf/MA/x_test.pkl', 'rb') as f:\n",
    "   df_x_test = pickle.load(f)"
   ]
  },
  {
   "cell_type": "code",
   "execution_count": 31,
   "metadata": {},
   "outputs": [],
   "source": [
    "vec = CountVectorizer(\n",
    "    ngram_range=(1, 3), \n",
    "    stop_words=stop_words,\n",
    ")  \n",
    "\n",
    "# X_train = vec.fit_transform(df_train.clean_text)\n",
    "# X_test = vec.transform(df_test.clean_text)\n",
    "\n",
    "y_train = df_train.speaker_gender\n",
    "y_test = df_test.speaker_gender"
   ]
  },
  {
   "cell_type": "code",
   "execution_count": 33,
   "metadata": {},
   "outputs": [
    {
     "name": "stdout",
     "output_type": "stream",
     "text": [
      "              precision    recall  f1-score   support\n",
      "\n",
      "      female       0.20      0.00      0.00     45513\n",
      "        male       0.77      1.00      0.87    148740\n",
      "\n",
      "    accuracy                           0.77    194253\n",
      "   macro avg       0.48      0.50      0.43    194253\n",
      "weighted avg       0.63      0.77      0.66    194253\n",
      "\n"
     ]
    }
   ],
   "source": [
    "# alle Daten\n",
    "nb = MultinomialNB()\n",
    "nb.fit(df_x_train, y_train)\n",
    "\n",
    "preds = nb.predict(df_x_test)\n",
    "print(classification_report(y_test, preds))"
   ]
  },
  {
   "cell_type": "code",
   "execution_count": 34,
   "metadata": {},
   "outputs": [
    {
     "data": {
      "text/plain": [
       "['vec.joblib']"
      ]
     },
     "execution_count": 34,
     "metadata": {},
     "output_type": "execute_result"
    }
   ],
   "source": [
    "joblib.dump(nb, \"nb.joblib\")\n",
    "joblib.dump(vec, \"vec.joblib\")"
   ]
  },
  {
   "cell_type": "code",
   "execution_count": 27,
   "metadata": {},
   "outputs": [
    {
     "name": "stdout",
     "output_type": "stream",
     "text": [
      "              precision    recall  f1-score   support\n",
      "\n",
      "      female       0.89      0.01      0.02      1433\n",
      "        male       0.93      1.00      0.96     18567\n",
      "\n",
      "    accuracy                           0.93     20000\n",
      "   macro avg       0.91      0.51      0.49     20000\n",
      "weighted avg       0.93      0.93      0.90     20000\n",
      "\n"
     ]
    }
   ],
   "source": [
    "nb = MultinomialNB()\n",
    "nb.fit(X_train, y_train)\n",
    "\n",
    "preds = nb.predict(X_test)\n",
    "print(classification_report(y_test, preds))"
   ]
  },
  {
   "cell_type": "code",
   "execution_count": 63,
   "metadata": {},
   "outputs": [
    {
     "data": {
      "text/html": [
       "<div>\n",
       "<style scoped>\n",
       "    .dataframe tbody tr th:only-of-type {\n",
       "        vertical-align: middle;\n",
       "    }\n",
       "\n",
       "    .dataframe tbody tr th {\n",
       "        vertical-align: top;\n",
       "    }\n",
       "\n",
       "    .dataframe thead th {\n",
       "        text-align: right;\n",
       "    }\n",
       "</style>\n",
       "<table border=\"1\" class=\"dataframe\">\n",
       "  <thead>\n",
       "    <tr style=\"text-align: right;\">\n",
       "      <th></th>\n",
       "      <th>speaker_gender</th>\n",
       "      <th>text</th>\n",
       "      <th>clean_text</th>\n",
       "    </tr>\n",
       "  </thead>\n",
       "  <tbody>\n",
       "    <tr>\n",
       "      <th>0</th>\n",
       "      <td>False</td>\n",
       "      <td>Sehr geehrter Herr Alterspräsident! So muss ...</td>\n",
       "      <td>sehr geehrter herr alterspräsident so muss ich...</td>\n",
       "    </tr>\n",
       "    <tr>\n",
       "      <th>1</th>\n",
       "      <td>True</td>\n",
       "      <td>Herr Präsident! Liebe Kolleginnen und Kolleg...</td>\n",
       "      <td>herr präsident liebe kolleginnen und kollegen ...</td>\n",
       "    </tr>\n",
       "    <tr>\n",
       "      <th>2</th>\n",
       "      <td>False</td>\n",
       "      <td>Sehr geehrter Herr Alterspräsident Wolfgang ...</td>\n",
       "      <td>sehr geehrter herr alterspräsident wolfgang sc...</td>\n",
       "    </tr>\n",
       "    <tr>\n",
       "      <th>3</th>\n",
       "      <td>True</td>\n",
       "      <td>Sehr geehrter Herr Präsident! Meine lieben K...</td>\n",
       "      <td>sehr geehrter herr präsident meine lieben koll...</td>\n",
       "    </tr>\n",
       "    <tr>\n",
       "      <th>4</th>\n",
       "      <td>True</td>\n",
       "      <td>Herr Alterspräsident! Lassen Sie mich zunäch...</td>\n",
       "      <td>herr alterspräsident lassen sie mich zunächst ...</td>\n",
       "    </tr>\n",
       "  </tbody>\n",
       "</table>\n",
       "</div>"
      ],
      "text/plain": [
       "   speaker_gender                                               text  \\\n",
       "0           False    Sehr geehrter Herr Alterspräsident! So muss ...   \n",
       "1            True    Herr Präsident! Liebe Kolleginnen und Kolleg...   \n",
       "2           False    Sehr geehrter Herr Alterspräsident Wolfgang ...   \n",
       "3            True    Sehr geehrter Herr Präsident! Meine lieben K...   \n",
       "4            True    Herr Alterspräsident! Lassen Sie mich zunäch...   \n",
       "\n",
       "                                          clean_text  \n",
       "0  sehr geehrter herr alterspräsident so muss ich...  \n",
       "1  herr präsident liebe kolleginnen und kollegen ...  \n",
       "2  sehr geehrter herr alterspräsident wolfgang sc...  \n",
       "3  sehr geehrter herr präsident meine lieben koll...  \n",
       "4  herr alterspräsident lassen sie mich zunächst ...  "
      ]
     },
     "execution_count": 63,
     "metadata": {},
     "output_type": "execute_result"
    }
   ],
   "source": [
    "# gender in Zahlen umwandeln TODO\n",
    "df[\"speaker_gender\"] = pd.get_dummies(df[\"speaker_gender\"])[\"male\"]\n",
    "df.head()"
   ]
  },
  {
   "cell_type": "code",
   "execution_count": null,
   "metadata": {},
   "outputs": [],
   "source": []
  }
 ],
 "metadata": {
  "kernelspec": {
   "display_name": "base",
   "language": "python",
   "name": "python3"
  },
  "language_info": {
   "codemirror_mode": {
    "name": "ipython",
    "version": 3
   },
   "file_extension": ".py",
   "mimetype": "text/x-python",
   "name": "python",
   "nbconvert_exporter": "python",
   "pygments_lexer": "ipython3",
   "version": "3.11.4"
  }
 },
 "nbformat": 4,
 "nbformat_minor": 2
}
