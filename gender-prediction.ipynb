{
 "cells": [
  {
   "cell_type": "markdown",
   "metadata": {},
   "source": [
    "# Gender Prediction by Speech Content"
   ]
  },
  {
   "cell_type": "code",
   "execution_count": 76,
   "metadata": {},
   "outputs": [],
   "source": [
    "import joblib\n",
    "import re\n",
    "import string\n",
    "import numpy as np\n",
    "import random\n",
    "\n",
    "import pandas as pd\n",
    "from matplotlib import pyplot as plt\n",
    "import seaborn as sb\n",
    "import imblearn\n",
    "\n",
    "from sklearn.feature_extraction.text import CountVectorizer\n",
    "from sklearn.metrics import accuracy_score, cohen_kappa_score, f1_score, classification_report\n",
    "from sklearn.model_selection import StratifiedKFold, train_test_split\n",
    "from sklearn.naive_bayes import MultinomialNB\n",
    "from sklearn.metrics import confusion_matrix\n",
    "\n",
    "import nltk\n",
    "from nltk.corpus import stopwords"
   ]
  },
  {
   "cell_type": "code",
   "execution_count": 3,
   "metadata": {},
   "outputs": [
    {
     "name": "stderr",
     "output_type": "stream",
     "text": [
      "[nltk_data] Downloading package stopwords to\n",
      "[nltk_data]     C:\\Users\\Ana\\AppData\\Roaming\\nltk_data...\n",
      "[nltk_data]   Package stopwords is already up-to-date!\n"
     ]
    },
    {
     "data": {
      "text/plain": [
       "True"
      ]
     },
     "execution_count": 3,
     "metadata": {},
     "output_type": "execute_result"
    }
   ],
   "source": [
    "nltk.download('stopwords')"
   ]
  },
  {
   "cell_type": "code",
   "execution_count": 4,
   "metadata": {},
   "outputs": [],
   "source": [
    "stop_words = list(set(stopwords.words('german')))"
   ]
  },
  {
   "cell_type": "code",
   "execution_count": 54,
   "metadata": {},
   "outputs": [
    {
     "data": {
      "text/html": [
       "<div>\n",
       "<style scoped>\n",
       "    .dataframe tbody tr th:only-of-type {\n",
       "        vertical-align: middle;\n",
       "    }\n",
       "\n",
       "    .dataframe tbody tr th {\n",
       "        vertical-align: top;\n",
       "    }\n",
       "\n",
       "    .dataframe thead th {\n",
       "        text-align: right;\n",
       "    }\n",
       "</style>\n",
       "<table border=\"1\" class=\"dataframe\">\n",
       "  <thead>\n",
       "    <tr style=\"text-align: right;\">\n",
       "      <th></th>\n",
       "      <th>text</th>\n",
       "      <th>date</th>\n",
       "      <th>legislative_period</th>\n",
       "      <th>speaker_name</th>\n",
       "      <th>speaker_gender</th>\n",
       "      <th>speaker_role</th>\n",
       "      <th>speaker_party</th>\n",
       "      <th>comments</th>\n",
       "      <th>id</th>\n",
       "      <th>speaker_id</th>\n",
       "      <th>speech_length</th>\n",
       "      <th>topic_distribution</th>\n",
       "    </tr>\n",
       "  </thead>\n",
       "  <tbody>\n",
       "    <tr>\n",
       "      <th>0</th>\n",
       "      <td>Sehr geehrter Herr Alterspräsident! So muss ...</td>\n",
       "      <td>2021-10-26</td>\n",
       "      <td>20</td>\n",
       "      <td>Gabriele Katzmarek</td>\n",
       "      <td>female</td>\n",
       "      <td>None</td>\n",
       "      <td>SPD</td>\n",
       "      <td>[(Beifall bei der SPD sowie bei Abgeordneten d...</td>\n",
       "      <td>SP-2021-0</td>\n",
       "      <td>1299</td>\n",
       "      <td>2593</td>\n",
       "      <td>{68: 0.35882655}</td>\n",
       "    </tr>\n",
       "    <tr>\n",
       "      <th>1</th>\n",
       "      <td>Herr Präsident! Liebe Kolleginnen und Kolleg...</td>\n",
       "      <td>2021-10-26</td>\n",
       "      <td>20</td>\n",
       "      <td>Stefan Müller</td>\n",
       "      <td>male</td>\n",
       "      <td>None</td>\n",
       "      <td>CDU/CSU</td>\n",
       "      <td>[(Beifall bei der CDU/CSU sowie bei Abgeordnet...</td>\n",
       "      <td>SP-2021-1</td>\n",
       "      <td>4028</td>\n",
       "      <td>3796</td>\n",
       "      <td>{68: 0.46776655}</td>\n",
       "    </tr>\n",
       "    <tr>\n",
       "      <th>2</th>\n",
       "      <td>Sehr geehrter Herr Alterspräsident Wolfgang ...</td>\n",
       "      <td>2021-10-26</td>\n",
       "      <td>20</td>\n",
       "      <td>Britta Haßelmann</td>\n",
       "      <td>female</td>\n",
       "      <td>None</td>\n",
       "      <td>BÜNDNIS 90/DIE GRÜNEN</td>\n",
       "      <td>[(Beifall beim BÜNDNIS 90/DIE GRÜNEN und bei d...</td>\n",
       "      <td>SP-2021-2</td>\n",
       "      <td>451</td>\n",
       "      <td>4301</td>\n",
       "      <td>{68: 0.26328164}</td>\n",
       "    </tr>\n",
       "    <tr>\n",
       "      <th>3</th>\n",
       "      <td>Sehr geehrter Herr Präsident! Meine lieben K...</td>\n",
       "      <td>2021-10-26</td>\n",
       "      <td>20</td>\n",
       "      <td>Marco Buschmann</td>\n",
       "      <td>male</td>\n",
       "      <td>None</td>\n",
       "      <td>FDP</td>\n",
       "      <td>[(Jan Korte [DIE LINKE]: Oder Jugendweihe!), (...</td>\n",
       "      <td>SP-2021-3</td>\n",
       "      <td>3083</td>\n",
       "      <td>4555</td>\n",
       "      <td>{}</td>\n",
       "    </tr>\n",
       "    <tr>\n",
       "      <th>4</th>\n",
       "      <td>Herr Alterspräsident! Lassen Sie mich zunäch...</td>\n",
       "      <td>2021-10-26</td>\n",
       "      <td>20</td>\n",
       "      <td>Stephan Brandner</td>\n",
       "      <td>male</td>\n",
       "      <td>None</td>\n",
       "      <td>AfD</td>\n",
       "      <td>[(Beifall bei der AfD), (Beifall bei Abgeordne...</td>\n",
       "      <td>SP-2021-4</td>\n",
       "      <td>4055</td>\n",
       "      <td>5996</td>\n",
       "      <td>{68: 0.3120498}</td>\n",
       "    </tr>\n",
       "  </tbody>\n",
       "</table>\n",
       "</div>"
      ],
      "text/plain": [
       "                                                text       date  \\\n",
       "0    Sehr geehrter Herr Alterspräsident! So muss ... 2021-10-26   \n",
       "1    Herr Präsident! Liebe Kolleginnen und Kolleg... 2021-10-26   \n",
       "2    Sehr geehrter Herr Alterspräsident Wolfgang ... 2021-10-26   \n",
       "3    Sehr geehrter Herr Präsident! Meine lieben K... 2021-10-26   \n",
       "4    Herr Alterspräsident! Lassen Sie mich zunäch... 2021-10-26   \n",
       "\n",
       "  legislative_period        speaker_name speaker_gender speaker_role  \\\n",
       "0                 20  Gabriele Katzmarek         female         None   \n",
       "1                 20       Stefan Müller           male         None   \n",
       "2                 20    Britta Haßelmann         female         None   \n",
       "3                 20     Marco Buschmann           male         None   \n",
       "4                 20    Stephan Brandner           male         None   \n",
       "\n",
       "           speaker_party                                           comments  \\\n",
       "0                    SPD  [(Beifall bei der SPD sowie bei Abgeordneten d...   \n",
       "1                CDU/CSU  [(Beifall bei der CDU/CSU sowie bei Abgeordnet...   \n",
       "2  BÜNDNIS 90/DIE GRÜNEN  [(Beifall beim BÜNDNIS 90/DIE GRÜNEN und bei d...   \n",
       "3                    FDP  [(Jan Korte [DIE LINKE]: Oder Jugendweihe!), (...   \n",
       "4                    AfD  [(Beifall bei der AfD), (Beifall bei Abgeordne...   \n",
       "\n",
       "          id  speaker_id  speech_length topic_distribution  \n",
       "0  SP-2021-0        1299           2593   {68: 0.35882655}  \n",
       "1  SP-2021-1        4028           3796   {68: 0.46776655}  \n",
       "2  SP-2021-2         451           4301   {68: 0.26328164}  \n",
       "3  SP-2021-3        3083           4555                 {}  \n",
       "4  SP-2021-4        4055           5996    {68: 0.3120498}  "
      ]
     },
     "execution_count": 54,
     "metadata": {},
     "output_type": "execute_result"
    }
   ],
   "source": [
    "# load data\n",
    "df = pd.read_pickle('C:/Users/Ana/OneDrive - Hochschule Düsseldorf/MA/data_topics_revised.pkl')\n",
    "\n",
    "df.head()"
   ]
  },
  {
   "cell_type": "code",
   "execution_count": 55,
   "metadata": {},
   "outputs": [
    {
     "data": {
      "text/plain": [
       "speaker_gender\n",
       "male      743167\n",
       "female    228097\n",
       "Name: count, dtype: int64"
      ]
     },
     "execution_count": 55,
     "metadata": {},
     "output_type": "execute_result"
    }
   ],
   "source": [
    "df[\"speaker_gender\"].value_counts()"
   ]
  },
  {
   "cell_type": "code",
   "execution_count": 23,
   "metadata": {},
   "outputs": [
    {
     "data": {
      "text/plain": [
       "'  Sehr verehrte Frau Präsidentin! Meine Damen und Herren! „In dem Moment, in dem wir keine freie Presse mehr haben, kann alles passieren“, sagte Hannah Arendt 1974 in einem Interview. In dem Moment fehlt Wissen, und Journalistinnen und Journalisten leben gefährlich. Uninformiertheit war für Hannah Arendt ein Weg zum Totalitarismus und zur Unterdrückung. Folglich ist eine starke unabhängige Presse die Voraussetzung für das Funktionieren von Demokratie. Das galt 1974, und das gilt erst recht auch heute. Hannah Arendt setzte auf den einzelnen Menschen, auf seinen Willen, wissen zu wollen, auf seine Fähigkeit, selbst zu denken, auf Informationsfreiheit als Bollwerk gegen Diktaturen. Aus genau diesem Grund bekämpfen Diktaturen die freie Presse. „Reporter ohne Grenzen“ berichtet aktuell, dass so viele Journalistinnen und Journalisten in Haft sind wie noch niemals zuvor. 533 inhaftierte Journalistinnen und Journalisten sind ein neuer Negativrekord. Zwei Drittel sitzen ohne Verfahren ein. Auf den traurigen Spitzenplätzen stehen China, Myanmar und der Iran. Russland greift seit dem Angriff auf die Menschen in der Ukraine zu immer drakonischeren Strafen. Unabhängige Medien werden von der russischen Regierung mit größter Härte verfolgt, die freien arbeiten nur noch im Untergrund; sie arbeiten weiter trotz der Bedrohung. Der Journalist Iwan Safronow ist zu 22\\xa0Jahren Straflager verurteilt worden, weil er über Unfälle beim russischen Militär geschrieben hat. Im Frühjahr 2022 wurde die Deutsche Welle in Russland zum ausländischen Agenten erklärt und verboten, ihre Mitarbeiterinnen und Mitarbeiter folglich mit drakonischen Strafen bedroht; offiziell als Reaktion auf den Ausstrahlungsstopp des russischen Fernsehkanals RT. Tatsächlich wurde die Deutsche Welle verboten, weil Putins Regime die Tatsachen über den Kriegsverlauf mit allen Mitteln unterdrücken muss. Die Moskauer Büros der Deutschen Welle wurden geschlossen. Den Journalistinnen und Journalisten wurde die Akkreditierung entzogen. Die Verbreitung des russischsprachigen Programms der Deutschen Welle über Satellit und alle anderen Übertragungswege wurde verboten. Die Reputation der Deutschen Welle und ihre Bedeutung ist für das russische Regime Anlass, sie zu verfolgen. Denn, ja, die Deutsche Welle ist ein wichtiger globaler Player in der Medienwelt geworden. Ihre Geschichte ist zweifellos eine Erfolgsstory. Heute verfügt sie über Redaktionen weltweit. Sie sendet in 34\\xa0Sprachen. Wo sie arbeitet, trägt sie entscheidend zur Diversifizierung des Medienangebots bei, besonders in Ländern mit restriktiver staatlicher Medienpolitik. Gerade dort, wo Repression und Desinformation regieren, ist sie oft der einzige Fixstern für die Pressefreiheit und die faktenbasierte Meinungsbildung. Dafür möchte ich den Journalistinnen und Journalisten der Deutschen Welle weltweit unsere Hochachtung aussprechen. Für die Zukunft hat die Deutsche Welle viel vor. Sie wird ihr Informationsangebot ausbauen; so sieht es die Aufgabenplanung bis 2025 vor. Sie wird etwa der russischen Propaganda ihre russischsprachigen Angebote entgegensetzen und sie weiter ausbauen. Sie wird sich technisch weiterentwickeln, digitaler werden und sich fit machen, um repressive technische Blockaden zu überwinden. Stärker werden soll auch die Deutsche Welle Akademie, und das gerade dort, wo rechtsstaatliche Grundsätze missachtet werden. Die Akademie soll zum Zentrum internationaler Medienentwicklung werden, verstärkt Aus- und Fortbildung bieten, ein Ort der Wissensvermittlung sein und so die Voraussetzungen für eine freie, kritische und unabhängige Berichterstattung stärken. Im eigenen Haus muss die Deutsche Welle einiges tun. Es geht darum, die Zahl der Festangestellten zu erhöhen; denn solide berufliche Perspektiven sichern Qualität und kritische Berichterstattung. Ein wichtiges Thema bleibt dabei die weitere Prüfung der antisemitischen Vorfälle in der Nahostredaktion der Deutschen Welle. Hier steht die gutachterliche Prüfung noch aus. Bisher liegt bereits ein Maßnahmenplan zur Bekämpfung von Antisemitismus vor. Danach wurde der Code of Conduct aktualisiert und unterstrichen, dass Diskriminierung wie Sexismus, Rassismus und Antisemitismus nicht toleriert wird. Das ist entscheidend; denn als deutscher Auslandssender steht die Deutsche Welle weltweit für die Werte unserer freiheitlichen Demokratie. Sie kooperiert dabei mit Mittlerorganisationen wie den Goethe-Instituten und den Deutschen Auslandsschulen, und das ist wichtig. Angesichts der Tatsache, dass der Fachkräftemangel unseren Wohlstand gefährdet und angesichts der Tatsache, dass wir gerade für den Erhalt unserer Wirtschaftskraft mehr Zuwanderung brauchen, kommt auch der Deutschen Welle eine noch stärkere Bedeutung zu; denn die Einwanderung von Arbeitskräften ist ein wichtiger Baustein für ein modernes Einwanderungsland. Umso wichtiger ist es, dass die Deutsche Welle ein aktuelles realistisches Deutschlandbild vermittelt, dass sie ein Bild der Arbeitsrealität vermittelt, dass sie klare Einblicke gibt in Sprache, Kultur und Leben in Deutschland, dass sie ein Bild unserer freiheitlichen Demokratie vermittelt, das sich durch eine Vielfalt von Lebensentwürfen auszeichnet. Demokratie\\xa0– daran erinnert Hannah Arendt immer wieder\\xa0– will gelebt werden, muss gewollt werden und muss verteidigt werden. Demokratie braucht mündige Bürgerinnen und Bürger, die eine Haltung haben, eben weil sie durch eine freie Presse informiert sind. Eine starke Stimme ist dabei die Deutsche Welle, die mit ihrer Vorhabenplanung auf der Höhe der Zeit ist. Ich bedanke mich für Ihre Aufmerksamkeit. Das Wort erhält Marco Wanderwitz für die CDU/CSU-Fraktion.'"
      ]
     },
     "execution_count": 23,
     "metadata": {},
     "output_type": "execute_result"
    }
   ],
   "source": [
    "df.loc[8568].text"
   ]
  },
  {
   "cell_type": "markdown",
   "metadata": {},
   "source": [
    "## Undersampling Male Speeches"
   ]
  },
  {
   "cell_type": "code",
   "execution_count": 30,
   "metadata": {},
   "outputs": [],
   "source": [
    "# calculate topic ratios in original data\n",
    "male_speeches_total = df['speaker_gender'].value_counts().male\n",
    "female_speeches_total = df['speaker_gender'].value_counts().female\n",
    "\n",
    "male_topic_ratios = {}\n",
    "\n",
    "for topic in np.arange(0, 150):\n",
    "    filtered_df = df[df['topic_distribution'].apply(lambda topics: topic in topics)]\n",
    "    male_speeches = filtered_df.groupby('speaker_gender').size().male\n",
    "    topic_ratio = male_speeches / male_speeches_total\n",
    "    male_topic_ratios[topic] = topic_ratio\n",
    "\n",
    "male_topic_ratios"
   ]
  },
  {
   "cell_type": "code",
   "execution_count": 32,
   "metadata": {},
   "outputs": [],
   "source": [
    "# calculate new speech counts per topic for resampled data\n",
    "new_speech_counts = {}\n",
    "\n",
    "for topic, ratio in male_topic_ratios.items():\n",
    "    new_speech_count = np.round(ratio * female_speeches_total)\n",
    "    new_speech_counts[topic] = int(new_speech_count)\n",
    "\n",
    "new_speech_counts"
   ]
  },
  {
   "cell_type": "code",
   "execution_count": 34,
   "metadata": {},
   "outputs": [
    {
     "name": "stderr",
     "output_type": "stream",
     "text": [
      "C:\\Users\\Ana\\AppData\\Local\\Temp\\ipykernel_27892\\332800175.py:6: FutureWarning: The behavior of DataFrame concatenation with empty or all-NA entries is deprecated. In a future version, this will no longer exclude empty or all-NA columns when determining the result dtypes. To retain the old behavior, exclude the relevant entries before the concat operation.\n",
      "  reduced_male_df = pd.concat([reduced_male_df, selected_speeches], ignore_index=True)\n"
     ]
    }
   ],
   "source": [
    "# assemble reduced male data\n",
    "reduced_male_df = pd.DataFrame(columns=df.columns)\n",
    "\n",
    "for topic, count in new_speech_counts.items():\n",
    "    selected_speeches = df[(df['speaker_gender'] == 'male') & (df['topic_distribution'].apply(lambda topics: topic in topics))].head(count)\n",
    "    \n",
    "    reduced_male_df = pd.concat([reduced_male_df, selected_speeches], ignore_index=True)"
   ]
  },
  {
   "cell_type": "code",
   "execution_count": 35,
   "metadata": {},
   "outputs": [
    {
     "data": {
      "text/html": [
       "<div>\n",
       "<style scoped>\n",
       "    .dataframe tbody tr th:only-of-type {\n",
       "        vertical-align: middle;\n",
       "    }\n",
       "\n",
       "    .dataframe tbody tr th {\n",
       "        vertical-align: top;\n",
       "    }\n",
       "\n",
       "    .dataframe thead th {\n",
       "        text-align: right;\n",
       "    }\n",
       "</style>\n",
       "<table border=\"1\" class=\"dataframe\">\n",
       "  <thead>\n",
       "    <tr style=\"text-align: right;\">\n",
       "      <th></th>\n",
       "      <th>text</th>\n",
       "      <th>date</th>\n",
       "      <th>legislative_period</th>\n",
       "      <th>speaker_name</th>\n",
       "      <th>speaker_gender</th>\n",
       "      <th>speaker_role</th>\n",
       "      <th>speaker_party</th>\n",
       "      <th>comments</th>\n",
       "      <th>id</th>\n",
       "      <th>speaker_id</th>\n",
       "      <th>speech_length</th>\n",
       "      <th>topic_distribution</th>\n",
       "    </tr>\n",
       "  </thead>\n",
       "  <tbody>\n",
       "    <tr>\n",
       "      <th>0</th>\n",
       "      <td>Meine Damen und Herren! Herr Minister, ich m...</td>\n",
       "      <td>2021-11-11</td>\n",
       "      <td>20</td>\n",
       "      <td>Thomas Ehrhorn</td>\n",
       "      <td>male</td>\n",
       "      <td>None</td>\n",
       "      <td>AfD</td>\n",
       "      <td>[(Beifall bei Abgeordneten der AfD), (Beifall ...</td>\n",
       "      <td>SP-2021-21</td>\n",
       "      <td>4132</td>\n",
       "      <td>982</td>\n",
       "      <td>{0: 0.22465643}</td>\n",
       "    </tr>\n",
       "    <tr>\n",
       "      <th>1</th>\n",
       "      <td>Ich möchte auf Ihre Frage gern antworten. Er...</td>\n",
       "      <td>2021-11-11</td>\n",
       "      <td>20</td>\n",
       "      <td>Olaf Scholz</td>\n",
       "      <td>male</td>\n",
       "      <td>Bundesminister der Finanzen</td>\n",
       "      <td>None</td>\n",
       "      <td>[(Zuruf von der AfD: Warum?), (Beifall bei der...</td>\n",
       "      <td>SP-2021-22</td>\n",
       "      <td>3440</td>\n",
       "      <td>1951</td>\n",
       "      <td>{0: 0.42684105, 29: 0.2142375}</td>\n",
       "    </tr>\n",
       "    <tr>\n",
       "      <th>2</th>\n",
       "      <td>Sehr geehrte Frau Präsidentin! Meine Damen u...</td>\n",
       "      <td>2021-11-11</td>\n",
       "      <td>20</td>\n",
       "      <td>Sebastian Münzenmaier</td>\n",
       "      <td>male</td>\n",
       "      <td>None</td>\n",
       "      <td>AfD</td>\n",
       "      <td>[(Dr. Marco Buschmann [FDP]: Das ist Quatsch!)...</td>\n",
       "      <td>SP-2021-26</td>\n",
       "      <td>3961</td>\n",
       "      <td>4231</td>\n",
       "      <td>{0: 0.20533974}</td>\n",
       "    </tr>\n",
       "    <tr>\n",
       "      <th>3</th>\n",
       "      <td>Ja, gerne. – Zunächst mal ist es ja ein Fort...</td>\n",
       "      <td>2021-11-18</td>\n",
       "      <td>20</td>\n",
       "      <td>Johannes Fechner</td>\n",
       "      <td>male</td>\n",
       "      <td>None</td>\n",
       "      <td>SPD</td>\n",
       "      <td>[(Beifall bei der SPD, dem BÜNDNIS 90/DIE GRÜN...</td>\n",
       "      <td>SP-2021-98</td>\n",
       "      <td>2376</td>\n",
       "      <td>496</td>\n",
       "      <td>{0: 0.24128607, 130: 0.25529233}</td>\n",
       "    </tr>\n",
       "    <tr>\n",
       "      <th>4</th>\n",
       "      <td>Frau Präsidentin! Meine Damen und Herren! Da...</td>\n",
       "      <td>2021-11-18</td>\n",
       "      <td>20</td>\n",
       "      <td>Martin Sichert</td>\n",
       "      <td>male</td>\n",
       "      <td>None</td>\n",
       "      <td>AfD</td>\n",
       "      <td>[(Beifall bei Abgeordneten der AfD – Widerspru...</td>\n",
       "      <td>SP-2021-104</td>\n",
       "      <td>3216</td>\n",
       "      <td>6208</td>\n",
       "      <td>{0: 0.28747255}</td>\n",
       "    </tr>\n",
       "    <tr>\n",
       "      <th>...</th>\n",
       "      <td>...</td>\n",
       "      <td>...</td>\n",
       "      <td>...</td>\n",
       "      <td>...</td>\n",
       "      <td>...</td>\n",
       "      <td>...</td>\n",
       "      <td>...</td>\n",
       "      <td>...</td>\n",
       "      <td>...</td>\n",
       "      <td>...</td>\n",
       "      <td>...</td>\n",
       "      <td>...</td>\n",
       "    </tr>\n",
       "    <tr>\n",
       "      <th>261820</th>\n",
       "      <td>Ich rufe die Frage 89 des Abgeordneten Baier ...</td>\n",
       "      <td>1971-05-14</td>\n",
       "      <td>6</td>\n",
       "      <td>Kai-Uwe Von Hassel</td>\n",
       "      <td>male</td>\n",
       "      <td>Präsident</td>\n",
       "      <td>CDU</td>\n",
       "      <td>[]</td>\n",
       "      <td>SP-1971-229919</td>\n",
       "      <td>2559</td>\n",
       "      <td>461</td>\n",
       "      <td>{28: 0.29532668, 149: 0.27315643}</td>\n",
       "    </tr>\n",
       "    <tr>\n",
       "      <th>261821</th>\n",
       "      <td>Herr Kollege Baier, selbstverständlich respek...</td>\n",
       "      <td>1971-05-14</td>\n",
       "      <td>6</td>\n",
       "      <td>Heinz Westphal</td>\n",
       "      <td>male</td>\n",
       "      <td>Parlamentarischer Staatssekretär beim Bundesmi...</td>\n",
       "      <td>SPD</td>\n",
       "      <td>[]</td>\n",
       "      <td>SP-1971-229920</td>\n",
       "      <td>1936</td>\n",
       "      <td>1451</td>\n",
       "      <td>{61: 0.28843397, 86: 0.26967123, 149: 0.21287826}</td>\n",
       "    </tr>\n",
       "    <tr>\n",
       "      <th>261822</th>\n",
       "      <td>Herr Kollege Baier, Sie sind Mitglied des Hau...</td>\n",
       "      <td>1971-05-14</td>\n",
       "      <td>6</td>\n",
       "      <td>Heinz Westphal</td>\n",
       "      <td>male</td>\n",
       "      <td>Parlamentarischer Staatssekretär beim Bundesmi...</td>\n",
       "      <td>SPD</td>\n",
       "      <td>[]</td>\n",
       "      <td>SP-1971-229923</td>\n",
       "      <td>1936</td>\n",
       "      <td>1164</td>\n",
       "      <td>{107: 0.28058052, 149: 0.22335199}</td>\n",
       "    </tr>\n",
       "    <tr>\n",
       "      <th>261823</th>\n",
       "      <td>Herr Staatssekretär, ich verstehe Sie nicht, ...</td>\n",
       "      <td>1971-05-14</td>\n",
       "      <td>6</td>\n",
       "      <td>Fritz Baier</td>\n",
       "      <td>male</td>\n",
       "      <td>NA</td>\n",
       "      <td>CDU</td>\n",
       "      <td>[]</td>\n",
       "      <td>SP-1971-229925</td>\n",
       "      <td>1243</td>\n",
       "      <td>475</td>\n",
       "      <td>{149: 0.36631507}</td>\n",
       "    </tr>\n",
       "    <tr>\n",
       "      <th>261824</th>\n",
       "      <td>Herr Staatssekretär, Sie haben in der Fragest...</td>\n",
       "      <td>1971-09-06</td>\n",
       "      <td>6</td>\n",
       "      <td>Rolf Meinecke</td>\n",
       "      <td>male</td>\n",
       "      <td>NA</td>\n",
       "      <td>SPD</td>\n",
       "      <td>[]</td>\n",
       "      <td>SP-1971-230130</td>\n",
       "      <td>3843</td>\n",
       "      <td>340</td>\n",
       "      <td>{149: 0.26268545}</td>\n",
       "    </tr>\n",
       "  </tbody>\n",
       "</table>\n",
       "<p>261825 rows × 12 columns</p>\n",
       "</div>"
      ],
      "text/plain": [
       "                                                     text       date  \\\n",
       "0         Meine Damen und Herren! Herr Minister, ich m... 2021-11-11   \n",
       "1         Ich möchte auf Ihre Frage gern antworten. Er... 2021-11-11   \n",
       "2         Sehr geehrte Frau Präsidentin! Meine Damen u... 2021-11-11   \n",
       "3         Ja, gerne. – Zunächst mal ist es ja ein Fort... 2021-11-18   \n",
       "4         Frau Präsidentin! Meine Damen und Herren! Da... 2021-11-18   \n",
       "...                                                   ...        ...   \n",
       "261820   Ich rufe die Frage 89 des Abgeordneten Baier ... 1971-05-14   \n",
       "261821   Herr Kollege Baier, selbstverständlich respek... 1971-05-14   \n",
       "261822   Herr Kollege Baier, Sie sind Mitglied des Hau... 1971-05-14   \n",
       "261823   Herr Staatssekretär, ich verstehe Sie nicht, ... 1971-05-14   \n",
       "261824   Herr Staatssekretär, Sie haben in der Fragest... 1971-09-06   \n",
       "\n",
       "       legislative_period           speaker_name speaker_gender  \\\n",
       "0                      20         Thomas Ehrhorn           male   \n",
       "1                      20            Olaf Scholz           male   \n",
       "2                      20  Sebastian Münzenmaier           male   \n",
       "3                      20       Johannes Fechner           male   \n",
       "4                      20         Martin Sichert           male   \n",
       "...                   ...                    ...            ...   \n",
       "261820                  6     Kai-Uwe Von Hassel           male   \n",
       "261821                  6         Heinz Westphal           male   \n",
       "261822                  6         Heinz Westphal           male   \n",
       "261823                  6            Fritz Baier           male   \n",
       "261824                  6          Rolf Meinecke           male   \n",
       "\n",
       "                                             speaker_role speaker_party  \\\n",
       "0                                                    None           AfD   \n",
       "1                             Bundesminister der Finanzen          None   \n",
       "2                                                    None           AfD   \n",
       "3                                                    None           SPD   \n",
       "4                                                    None           AfD   \n",
       "...                                                   ...           ...   \n",
       "261820                                          Präsident           CDU   \n",
       "261821  Parlamentarischer Staatssekretär beim Bundesmi...           SPD   \n",
       "261822  Parlamentarischer Staatssekretär beim Bundesmi...           SPD   \n",
       "261823                                                 NA           CDU   \n",
       "261824                                                 NA           SPD   \n",
       "\n",
       "                                                 comments              id  \\\n",
       "0       [(Beifall bei Abgeordneten der AfD), (Beifall ...      SP-2021-21   \n",
       "1       [(Zuruf von der AfD: Warum?), (Beifall bei der...      SP-2021-22   \n",
       "2       [(Dr. Marco Buschmann [FDP]: Das ist Quatsch!)...      SP-2021-26   \n",
       "3       [(Beifall bei der SPD, dem BÜNDNIS 90/DIE GRÜN...      SP-2021-98   \n",
       "4       [(Beifall bei Abgeordneten der AfD – Widerspru...     SP-2021-104   \n",
       "...                                                   ...             ...   \n",
       "261820                                                 []  SP-1971-229919   \n",
       "261821                                                 []  SP-1971-229920   \n",
       "261822                                                 []  SP-1971-229923   \n",
       "261823                                                 []  SP-1971-229925   \n",
       "261824                                                 []  SP-1971-230130   \n",
       "\n",
       "       speaker_id speech_length  \\\n",
       "0            4132           982   \n",
       "1            3440          1951   \n",
       "2            3961          4231   \n",
       "3            2376           496   \n",
       "4            3216          6208   \n",
       "...           ...           ...   \n",
       "261820       2559           461   \n",
       "261821       1936          1451   \n",
       "261822       1936          1164   \n",
       "261823       1243           475   \n",
       "261824       3843           340   \n",
       "\n",
       "                                       topic_distribution  \n",
       "0                                         {0: 0.22465643}  \n",
       "1                          {0: 0.42684105, 29: 0.2142375}  \n",
       "2                                         {0: 0.20533974}  \n",
       "3                        {0: 0.24128607, 130: 0.25529233}  \n",
       "4                                         {0: 0.28747255}  \n",
       "...                                                   ...  \n",
       "261820                  {28: 0.29532668, 149: 0.27315643}  \n",
       "261821  {61: 0.28843397, 86: 0.26967123, 149: 0.21287826}  \n",
       "261822                 {107: 0.28058052, 149: 0.22335199}  \n",
       "261823                                  {149: 0.36631507}  \n",
       "261824                                  {149: 0.26268545}  \n",
       "\n",
       "[261825 rows x 12 columns]"
      ]
     },
     "execution_count": 35,
     "metadata": {},
     "output_type": "execute_result"
    }
   ],
   "source": [
    "reduced_male_df"
   ]
  },
  {
   "cell_type": "code",
   "execution_count": 36,
   "metadata": {},
   "outputs": [],
   "source": [
    "# remove duplicates due to multiple topics in one speech\n",
    "to_remove = reduced_male_df[reduced_male_df['id'].duplicated() == True].index\n",
    "reduced_male_df = reduced_male_df.drop(to_remove)"
   ]
  },
  {
   "cell_type": "code",
   "execution_count": 37,
   "metadata": {},
   "outputs": [
    {
     "data": {
      "text/plain": [
       "200209"
      ]
     },
     "execution_count": 37,
     "metadata": {},
     "output_type": "execute_result"
    }
   ],
   "source": [
    "len(reduced_male_df['id'].unique())"
   ]
  },
  {
   "cell_type": "code",
   "execution_count": 43,
   "metadata": {},
   "outputs": [],
   "source": [
    "# test new ratios \n",
    "# male_speeches_total = reduced_male_df['speaker_gender'].value_counts().male\n",
    "# #female_speeches_total = df['speaker_gender'].value_counts().female\n",
    "\n",
    "# male_topic_ratios_new = {}\n",
    "\n",
    "# for topic in np.arange(0, 150):\n",
    "#     filtered_df = reduced_male_df[reduced_male_df['topic_distribution'].apply(lambda topics: topic in topics)]\n",
    "#     #male_speeches = filtered_df.groupby('speaker_gender').size().male\n",
    "#     topic_ratio = len(filtered_df) / male_speeches_total\n",
    "#     male_topic_ratios_new[topic] = topic_ratio\n",
    "\n",
    "# male_speeches_total"
   ]
  },
  {
   "cell_type": "markdown",
   "metadata": {},
   "source": [
    "### Remove rest difference between male and female speeches"
   ]
  },
  {
   "cell_type": "code",
   "execution_count": 45,
   "metadata": {},
   "outputs": [
    {
     "data": {
      "text/plain": [
       "27888"
      ]
     },
     "execution_count": 45,
     "metadata": {},
     "output_type": "execute_result"
    }
   ],
   "source": [
    "difference_count = df['speaker_gender'].value_counts().female - male_speeches_total\n",
    "difference_count"
   ]
  },
  {
   "cell_type": "code",
   "execution_count": 46,
   "metadata": {},
   "outputs": [],
   "source": [
    "female_speeches = df[df['speaker_gender'] == 'female']"
   ]
  },
  {
   "cell_type": "code",
   "execution_count": 47,
   "metadata": {},
   "outputs": [],
   "source": [
    "fem_indeces = list(female_speeches.index)"
   ]
  },
  {
   "cell_type": "code",
   "execution_count": 48,
   "metadata": {},
   "outputs": [
    {
     "data": {
      "text/plain": [
       "27888"
      ]
     },
     "execution_count": 48,
     "metadata": {},
     "output_type": "execute_result"
    }
   ],
   "source": [
    "samples_to_remove = random.sample(fem_indeces, difference_count)\n",
    "len(samples_to_remove)"
   ]
  },
  {
   "cell_type": "code",
   "execution_count": 49,
   "metadata": {},
   "outputs": [],
   "source": [
    "female_speeches = female_speeches.drop(samples_to_remove)"
   ]
  },
  {
   "cell_type": "code",
   "execution_count": 50,
   "metadata": {},
   "outputs": [
    {
     "data": {
      "text/html": [
       "<div>\n",
       "<style scoped>\n",
       "    .dataframe tbody tr th:only-of-type {\n",
       "        vertical-align: middle;\n",
       "    }\n",
       "\n",
       "    .dataframe tbody tr th {\n",
       "        vertical-align: top;\n",
       "    }\n",
       "\n",
       "    .dataframe thead th {\n",
       "        text-align: right;\n",
       "    }\n",
       "</style>\n",
       "<table border=\"1\" class=\"dataframe\">\n",
       "  <thead>\n",
       "    <tr style=\"text-align: right;\">\n",
       "      <th></th>\n",
       "      <th>text</th>\n",
       "      <th>date</th>\n",
       "      <th>legislative_period</th>\n",
       "      <th>speaker_name</th>\n",
       "      <th>speaker_gender</th>\n",
       "      <th>speaker_role</th>\n",
       "      <th>speaker_party</th>\n",
       "      <th>comments</th>\n",
       "      <th>id</th>\n",
       "      <th>speaker_id</th>\n",
       "      <th>speech_length</th>\n",
       "      <th>topic_distribution</th>\n",
       "    </tr>\n",
       "  </thead>\n",
       "  <tbody>\n",
       "    <tr>\n",
       "      <th>0</th>\n",
       "      <td>Sehr geehrter Herr Alterspräsident! So muss ...</td>\n",
       "      <td>2021-10-26</td>\n",
       "      <td>20</td>\n",
       "      <td>Gabriele Katzmarek</td>\n",
       "      <td>female</td>\n",
       "      <td>None</td>\n",
       "      <td>SPD</td>\n",
       "      <td>[(Beifall bei der SPD sowie bei Abgeordneten d...</td>\n",
       "      <td>SP-2021-0</td>\n",
       "      <td>1299</td>\n",
       "      <td>2593</td>\n",
       "      <td>{68: 0.35882655}</td>\n",
       "    </tr>\n",
       "    <tr>\n",
       "      <th>2</th>\n",
       "      <td>Sehr geehrter Herr Alterspräsident Wolfgang ...</td>\n",
       "      <td>2021-10-26</td>\n",
       "      <td>20</td>\n",
       "      <td>Britta Haßelmann</td>\n",
       "      <td>female</td>\n",
       "      <td>None</td>\n",
       "      <td>BÜNDNIS 90/DIE GRÜNEN</td>\n",
       "      <td>[(Beifall beim BÜNDNIS 90/DIE GRÜNEN und bei d...</td>\n",
       "      <td>SP-2021-2</td>\n",
       "      <td>451</td>\n",
       "      <td>4301</td>\n",
       "      <td>{68: 0.26328164}</td>\n",
       "    </tr>\n",
       "    <tr>\n",
       "      <th>7</th>\n",
       "      <td>Herr Alterspräsident, vielen Dank. Ich nehme...</td>\n",
       "      <td>2021-10-26</td>\n",
       "      <td>20</td>\n",
       "      <td>Bärbel Bas</td>\n",
       "      <td>female</td>\n",
       "      <td>None</td>\n",
       "      <td>SPD</td>\n",
       "      <td>[(Beifall im ganzen Hause – Abgeordnete aller ...</td>\n",
       "      <td>SP-2021-7</td>\n",
       "      <td>471</td>\n",
       "      <td>89</td>\n",
       "      <td>{68: 0.7516313}</td>\n",
       "    </tr>\n",
       "    <tr>\n",
       "      <th>9</th>\n",
       "      <td>Frau Präsidentin, ich nehme die Wahl sehr ge...</td>\n",
       "      <td>2021-10-26</td>\n",
       "      <td>20</td>\n",
       "      <td>Aydan Özoğuz</td>\n",
       "      <td>female</td>\n",
       "      <td>None</td>\n",
       "      <td>SPD</td>\n",
       "      <td>[(Beifall bei der SPD, der CDU/CSU, dem BÜNDNI...</td>\n",
       "      <td>SP-2021-9</td>\n",
       "      <td>327</td>\n",
       "      <td>167</td>\n",
       "      <td>{68: 0.37566105, 115: 0.4293458}</td>\n",
       "    </tr>\n",
       "    <tr>\n",
       "      <th>10</th>\n",
       "      <td>Ich nehme die Wahl an, bedanke mich auf das ...</td>\n",
       "      <td>2021-10-26</td>\n",
       "      <td>20</td>\n",
       "      <td>Yvonne Magwas</td>\n",
       "      <td>female</td>\n",
       "      <td>None</td>\n",
       "      <td>CDU/CSU</td>\n",
       "      <td>[(Beifall bei der CDU/CSU, der SPD, dem BÜNDNI...</td>\n",
       "      <td>SP-2021-10</td>\n",
       "      <td>4708</td>\n",
       "      <td>188</td>\n",
       "      <td>{68: 0.38035467}</td>\n",
       "    </tr>\n",
       "    <tr>\n",
       "      <th>...</th>\n",
       "      <td>...</td>\n",
       "      <td>...</td>\n",
       "      <td>...</td>\n",
       "      <td>...</td>\n",
       "      <td>...</td>\n",
       "      <td>...</td>\n",
       "      <td>...</td>\n",
       "      <td>...</td>\n",
       "      <td>...</td>\n",
       "      <td>...</td>\n",
       "      <td>...</td>\n",
       "      <td>...</td>\n",
       "    </tr>\n",
       "    <tr>\n",
       "      <th>971274</th>\n",
       "      <td>Ich weise noch einmal darauf hin, dass die Ze...</td>\n",
       "      <td>2021-07-09</td>\n",
       "      <td>19</td>\n",
       "      <td>Petra Pau</td>\n",
       "      <td>female</td>\n",
       "      <td>None</td>\n",
       "      <td>LINKE</td>\n",
       "      <td>[(Beifall beim BÜNDNIS 90/DIE GRÜNEN)]</td>\n",
       "      <td>SP-2021-971274</td>\n",
       "      <td>3648</td>\n",
       "      <td>174</td>\n",
       "      <td>{81: 0.2370022, 85: 0.5163264}</td>\n",
       "    </tr>\n",
       "    <tr>\n",
       "      <th>971275</th>\n",
       "      <td>Sehr geehrte Frau Präsidentin! Meine Damen un...</td>\n",
       "      <td>2021-07-09</td>\n",
       "      <td>19</td>\n",
       "      <td>Britta Haßelmann</td>\n",
       "      <td>female</td>\n",
       "      <td>None</td>\n",
       "      <td>GRUENE</td>\n",
       "      <td>[(Beifall beim BÜNDNIS 90/DIE GRÜNEN), (Beifal...</td>\n",
       "      <td>SP-2021-971275</td>\n",
       "      <td>451</td>\n",
       "      <td>1593</td>\n",
       "      <td>{14: 0.25521588, 148: 0.345872}</td>\n",
       "    </tr>\n",
       "    <tr>\n",
       "      <th>971276</th>\n",
       "      <td>Das Wort hat der Kollege Dr. Florian Toncar.</td>\n",
       "      <td>2021-07-09</td>\n",
       "      <td>19</td>\n",
       "      <td>Petra Pau</td>\n",
       "      <td>female</td>\n",
       "      <td>None</td>\n",
       "      <td>LINKE</td>\n",
       "      <td>[(Beifall bei der FDP)]</td>\n",
       "      <td>SP-2021-971276</td>\n",
       "      <td>3648</td>\n",
       "      <td>45</td>\n",
       "      <td>{}</td>\n",
       "    </tr>\n",
       "    <tr>\n",
       "      <th>971278</th>\n",
       "      <td>Ich mache darauf aufmerksam, dass in fünf Min...</td>\n",
       "      <td>2021-07-09</td>\n",
       "      <td>19</td>\n",
       "      <td>Petra Pau</td>\n",
       "      <td>female</td>\n",
       "      <td>None</td>\n",
       "      <td>LINKE</td>\n",
       "      <td>[(Beifall bei der SPD und dem BÜNDNIS 90/DIE G...</td>\n",
       "      <td>SP-2021-971278</td>\n",
       "      <td>3648</td>\n",
       "      <td>10017</td>\n",
       "      <td>{52: 0.38018292}</td>\n",
       "    </tr>\n",
       "    <tr>\n",
       "      <th>971279</th>\n",
       "      <td>Die unterbrochene Sitzung ist wieder eröffnet...</td>\n",
       "      <td>2021-07-09</td>\n",
       "      <td>19</td>\n",
       "      <td>Petra Pau</td>\n",
       "      <td>female</td>\n",
       "      <td>None</td>\n",
       "      <td>LINKE</td>\n",
       "      <td>[(Beifall), (Beifall), (Beifall), (Beifall), (...</td>\n",
       "      <td>SP-2021-971279</td>\n",
       "      <td>3648</td>\n",
       "      <td>15388</td>\n",
       "      <td>{}</td>\n",
       "    </tr>\n",
       "  </tbody>\n",
       "</table>\n",
       "<p>200209 rows × 12 columns</p>\n",
       "</div>"
      ],
      "text/plain": [
       "                                                     text       date  \\\n",
       "0         Sehr geehrter Herr Alterspräsident! So muss ... 2021-10-26   \n",
       "2         Sehr geehrter Herr Alterspräsident Wolfgang ... 2021-10-26   \n",
       "7         Herr Alterspräsident, vielen Dank. Ich nehme... 2021-10-26   \n",
       "9         Frau Präsidentin, ich nehme die Wahl sehr ge... 2021-10-26   \n",
       "10        Ich nehme die Wahl an, bedanke mich auf das ... 2021-10-26   \n",
       "...                                                   ...        ...   \n",
       "971274   Ich weise noch einmal darauf hin, dass die Ze... 2021-07-09   \n",
       "971275   Sehr geehrte Frau Präsidentin! Meine Damen un... 2021-07-09   \n",
       "971276       Das Wort hat der Kollege Dr. Florian Toncar. 2021-07-09   \n",
       "971278   Ich mache darauf aufmerksam, dass in fünf Min... 2021-07-09   \n",
       "971279   Die unterbrochene Sitzung ist wieder eröffnet... 2021-07-09   \n",
       "\n",
       "       legislative_period        speaker_name speaker_gender speaker_role  \\\n",
       "0                      20  Gabriele Katzmarek         female         None   \n",
       "2                      20    Britta Haßelmann         female         None   \n",
       "7                      20          Bärbel Bas         female         None   \n",
       "9                      20        Aydan Özoğuz         female         None   \n",
       "10                     20       Yvonne Magwas         female         None   \n",
       "...                   ...                 ...            ...          ...   \n",
       "971274                 19           Petra Pau         female         None   \n",
       "971275                 19    Britta Haßelmann         female         None   \n",
       "971276                 19           Petra Pau         female         None   \n",
       "971278                 19           Petra Pau         female         None   \n",
       "971279                 19           Petra Pau         female         None   \n",
       "\n",
       "                speaker_party  \\\n",
       "0                         SPD   \n",
       "2       BÜNDNIS 90/DIE GRÜNEN   \n",
       "7                         SPD   \n",
       "9                         SPD   \n",
       "10                    CDU/CSU   \n",
       "...                       ...   \n",
       "971274                  LINKE   \n",
       "971275                 GRUENE   \n",
       "971276                  LINKE   \n",
       "971278                  LINKE   \n",
       "971279                  LINKE   \n",
       "\n",
       "                                                 comments              id  \\\n",
       "0       [(Beifall bei der SPD sowie bei Abgeordneten d...       SP-2021-0   \n",
       "2       [(Beifall beim BÜNDNIS 90/DIE GRÜNEN und bei d...       SP-2021-2   \n",
       "7       [(Beifall im ganzen Hause – Abgeordnete aller ...       SP-2021-7   \n",
       "9       [(Beifall bei der SPD, der CDU/CSU, dem BÜNDNI...       SP-2021-9   \n",
       "10      [(Beifall bei der CDU/CSU, der SPD, dem BÜNDNI...      SP-2021-10   \n",
       "...                                                   ...             ...   \n",
       "971274             [(Beifall beim BÜNDNIS 90/DIE GRÜNEN)]  SP-2021-971274   \n",
       "971275  [(Beifall beim BÜNDNIS 90/DIE GRÜNEN), (Beifal...  SP-2021-971275   \n",
       "971276                            [(Beifall bei der FDP)]  SP-2021-971276   \n",
       "971278  [(Beifall bei der SPD und dem BÜNDNIS 90/DIE G...  SP-2021-971278   \n",
       "971279  [(Beifall), (Beifall), (Beifall), (Beifall), (...  SP-2021-971279   \n",
       "\n",
       "        speaker_id  speech_length                topic_distribution  \n",
       "0             1299           2593                  {68: 0.35882655}  \n",
       "2              451           4301                  {68: 0.26328164}  \n",
       "7              471             89                   {68: 0.7516313}  \n",
       "9              327            167  {68: 0.37566105, 115: 0.4293458}  \n",
       "10            4708            188                  {68: 0.38035467}  \n",
       "...            ...            ...                               ...  \n",
       "971274        3648            174    {81: 0.2370022, 85: 0.5163264}  \n",
       "971275         451           1593   {14: 0.25521588, 148: 0.345872}  \n",
       "971276        3648             45                                {}  \n",
       "971278        3648          10017                  {52: 0.38018292}  \n",
       "971279        3648          15388                                {}  \n",
       "\n",
       "[200209 rows x 12 columns]"
      ]
     },
     "execution_count": 50,
     "metadata": {},
     "output_type": "execute_result"
    }
   ],
   "source": [
    "female_speeches"
   ]
  },
  {
   "cell_type": "markdown",
   "metadata": {},
   "source": [
    "### Combine to new resampled dataframe"
   ]
  },
  {
   "cell_type": "code",
   "execution_count": 51,
   "metadata": {},
   "outputs": [],
   "source": [
    "resampled_data = pd.concat([reduced_male_df, female_speeches], ignore_index=True)"
   ]
  },
  {
   "cell_type": "code",
   "execution_count": 53,
   "metadata": {},
   "outputs": [
    {
     "data": {
      "text/plain": [
       "legislative_period\n",
       "9      7139\n",
       "20     9764\n",
       "10    12559\n",
       "15    12600\n",
       "11    12608\n",
       "12    14684\n",
       "3     15914\n",
       "8     16259\n",
       "13    17533\n",
       "2     18637\n",
       "14    20683\n",
       "17    21045\n",
       "7     21656\n",
       "16    21867\n",
       "19    22214\n",
       "18    23327\n",
       "6     28020\n",
       "1     28478\n",
       "4     31501\n",
       "5     43930\n",
       "Name: count, dtype: int64"
      ]
     },
     "execution_count": 53,
     "metadata": {},
     "output_type": "execute_result"
    }
   ],
   "source": [
    "resampled_data[\"legislative_period\"].value_counts().sort_values()"
   ]
  },
  {
   "cell_type": "code",
   "execution_count": 56,
   "metadata": {},
   "outputs": [
    {
     "data": {
      "text/plain": [
       "296099999"
      ]
     },
     "execution_count": 56,
     "metadata": {},
     "output_type": "execute_result"
    }
   ],
   "source": [
    "resampled_data[resampled_data[\"speaker_gender\"] == \"female\"][\"speech_length\"].sum()"
   ]
  },
  {
   "cell_type": "code",
   "execution_count": 58,
   "metadata": {},
   "outputs": [
    {
     "data": {
      "text/plain": [
       "242973815"
      ]
     },
     "execution_count": 58,
     "metadata": {},
     "output_type": "execute_result"
    }
   ],
   "source": [
    "resampled_data[resampled_data[\"speaker_gender\"] == \"male\"][\"speech_length\"].sum()"
   ]
  },
  {
   "cell_type": "code",
   "execution_count": 47,
   "metadata": {},
   "outputs": [
    {
     "data": {
      "text/plain": [
       "array([0.00141626, 0.00259723, 0.00224538, 0.00105774, 0.0013889 ,\n",
       "       0.00091286, 0.00163184, 0.00410218, 0.0023991 , 0.00137933,\n",
       "       0.02460958, 0.00017801, 0.00298253, 0.00331147, 0.00054817,\n",
       "       0.00027151, 0.00082235, 0.00364318, 0.00122518, 0.00151597,\n",
       "       0.00110062, 0.00061719, 0.00093075, 0.00041942, 0.00212889,\n",
       "       0.00074037, 0.00066248, 0.00476264, 0.00081071, 0.00315072,\n",
       "       0.00257303, 0.00241748, 0.00057152, 0.00069848, 0.00014726,\n",
       "       0.00058086, 0.0109106 , 0.00227023, 0.00291866, 0.00015569,\n",
       "       0.00055272, 0.00109196, 0.00080768, 0.00056029, 0.00083511,\n",
       "       0.00091645, 0.00104223, 0.00405231, 0.00192711, 0.00074563,\n",
       "       0.00504063, 0.00020099, 0.00178553, 0.00112628, 0.00021807,\n",
       "       0.000849  , 0.02167052, 0.00135837, 0.00432242, 0.00119771,\n",
       "       0.00764887, 0.02195982, 0.00041031, 0.00660957, 0.00042738,\n",
       "       0.00042344, 0.01087182, 0.00103284, 0.00616514, 0.00456327,\n",
       "       0.00032315, 0.00124529, 0.00154018, 0.00513269, 0.0011196 ,\n",
       "       0.00032047, 0.00071935, 0.02092219, 0.00160853, 0.00298939,\n",
       "       0.0033947 , 0.0035486 , 0.0055919 , 0.00145065, 0.00017893,\n",
       "       0.00769211, 0.00968031, 0.00211387, 0.0008174 , 0.00090708,\n",
       "       0.00025028, 0.00121038, 0.00183034, 0.00028268, 0.0005415 ,\n",
       "       0.00285163, 0.01307432, 0.00111562, 0.00029269, 0.00047948,\n",
       "       0.00050466, 0.00268108, 0.00176358, 0.00096908, 0.00118376,\n",
       "       0.00185102, 0.00230885, 0.00426419, 0.00134138, 0.00234571,\n",
       "       0.00192308, 0.01437589, 0.00117913, 0.00371587, 0.00403657,\n",
       "       0.00621689, 0.00151034, 0.00152428, 0.00134486, 0.00092687,\n",
       "       0.00925184, 0.00065527, 0.00188354, 0.00206034, 0.00636045,\n",
       "       0.00034383, 0.00192105, 0.00014067, 0.00270917, 0.00072293,\n",
       "       0.00026511, 0.00059281, 0.00051201, 0.00373972, 0.00024039,\n",
       "       0.00126966, 0.00026041, 0.00027528, 0.00053122, 0.00253696,\n",
       "       0.00063592, 0.00159303, 0.00146711, 0.00357144, 0.00554045,\n",
       "       0.00130141, 0.00452416, 0.00548498, 0.00100037, 0.00217219])"
      ]
     },
     "execution_count": 47,
     "metadata": {},
     "output_type": "execute_result"
    }
   ],
   "source": [
    "# test differences between original and new topic ratios\n",
    "# np.subtract([*male_topic_ratios_new.values()], [*male_topic_ratios.values()])"
   ]
  },
  {
   "cell_type": "markdown",
   "metadata": {},
   "source": [
    "## Vectorize and Train Model"
   ]
  },
  {
   "cell_type": "code",
   "execution_count": 76,
   "metadata": {},
   "outputs": [
    {
     "data": {
      "text/html": [
       "<div>\n",
       "<style scoped>\n",
       "    .dataframe tbody tr th:only-of-type {\n",
       "        vertical-align: middle;\n",
       "    }\n",
       "\n",
       "    .dataframe tbody tr th {\n",
       "        vertical-align: top;\n",
       "    }\n",
       "\n",
       "    .dataframe thead th {\n",
       "        text-align: right;\n",
       "    }\n",
       "</style>\n",
       "<table border=\"1\" class=\"dataframe\">\n",
       "  <thead>\n",
       "    <tr style=\"text-align: right;\">\n",
       "      <th></th>\n",
       "      <th>speaker_gender</th>\n",
       "      <th>text</th>\n",
       "    </tr>\n",
       "  </thead>\n",
       "  <tbody>\n",
       "    <tr>\n",
       "      <th>0</th>\n",
       "      <td>male</td>\n",
       "      <td>Meine Damen und Herren! Herr Minister, ich m...</td>\n",
       "    </tr>\n",
       "    <tr>\n",
       "      <th>1</th>\n",
       "      <td>male</td>\n",
       "      <td>Ich möchte auf Ihre Frage gern antworten. Er...</td>\n",
       "    </tr>\n",
       "    <tr>\n",
       "      <th>2</th>\n",
       "      <td>male</td>\n",
       "      <td>Sehr geehrte Frau Präsidentin! Meine Damen u...</td>\n",
       "    </tr>\n",
       "    <tr>\n",
       "      <th>3</th>\n",
       "      <td>male</td>\n",
       "      <td>Ja, gerne. – Zunächst mal ist es ja ein Fort...</td>\n",
       "    </tr>\n",
       "    <tr>\n",
       "      <th>4</th>\n",
       "      <td>male</td>\n",
       "      <td>Frau Präsidentin! Meine Damen und Herren! Da...</td>\n",
       "    </tr>\n",
       "    <tr>\n",
       "      <th>...</th>\n",
       "      <td>...</td>\n",
       "      <td>...</td>\n",
       "    </tr>\n",
       "    <tr>\n",
       "      <th>400413</th>\n",
       "      <td>female</td>\n",
       "      <td>Vielen Dank. – Frau Präsidentin! Meine sehr g...</td>\n",
       "    </tr>\n",
       "    <tr>\n",
       "      <th>400414</th>\n",
       "      <td>female</td>\n",
       "      <td>Ich weise noch einmal darauf hin, dass die Ze...</td>\n",
       "    </tr>\n",
       "    <tr>\n",
       "      <th>400415</th>\n",
       "      <td>female</td>\n",
       "      <td>Sehr geehrte Frau Präsidentin! Meine Damen un...</td>\n",
       "    </tr>\n",
       "    <tr>\n",
       "      <th>400416</th>\n",
       "      <td>female</td>\n",
       "      <td>Das Wort hat der Kollege Dr. Florian Toncar.</td>\n",
       "    </tr>\n",
       "    <tr>\n",
       "      <th>400417</th>\n",
       "      <td>female</td>\n",
       "      <td>Ich mache darauf aufmerksam, dass in fünf Min...</td>\n",
       "    </tr>\n",
       "  </tbody>\n",
       "</table>\n",
       "<p>400418 rows × 2 columns</p>\n",
       "</div>"
      ],
      "text/plain": [
       "       speaker_gender                                               text\n",
       "0                male    Meine Damen und Herren! Herr Minister, ich m...\n",
       "1                male    Ich möchte auf Ihre Frage gern antworten. Er...\n",
       "2                male    Sehr geehrte Frau Präsidentin! Meine Damen u...\n",
       "3                male    Ja, gerne. – Zunächst mal ist es ja ein Fort...\n",
       "4                male    Frau Präsidentin! Meine Damen und Herren! Da...\n",
       "...               ...                                                ...\n",
       "400413         female   Vielen Dank. – Frau Präsidentin! Meine sehr g...\n",
       "400414         female   Ich weise noch einmal darauf hin, dass die Ze...\n",
       "400415         female   Sehr geehrte Frau Präsidentin! Meine Damen un...\n",
       "400416         female       Das Wort hat der Kollege Dr. Florian Toncar.\n",
       "400417         female   Ich mache darauf aufmerksam, dass in fünf Min...\n",
       "\n",
       "[400418 rows x 2 columns]"
      ]
     },
     "execution_count": 76,
     "metadata": {},
     "output_type": "execute_result"
    }
   ],
   "source": [
    "resampled_data = resampled_data[[\"speaker_gender\", \"text\"]]\n",
    "resampled_data"
   ]
  },
  {
   "cell_type": "code",
   "execution_count": 11,
   "metadata": {},
   "outputs": [],
   "source": [
    "def process_text(text):\n",
    "    text = str(text).lower()\n",
    "    text = re.sub(\n",
    "        f\"[{re.escape(string.punctuation)}]\", \" \", text\n",
    "    )\n",
    "    text = \" \".join(text.split())\n",
    "\n",
    "    return text"
   ]
  },
  {
   "cell_type": "code",
   "execution_count": 64,
   "metadata": {},
   "outputs": [],
   "source": [
    "resampled_data[\"clean_text\"] = resampled_data.text.map(process_text)"
   ]
  },
  {
   "cell_type": "code",
   "execution_count": 65,
   "metadata": {},
   "outputs": [
    {
     "data": {
      "text/html": [
       "<div>\n",
       "<style scoped>\n",
       "    .dataframe tbody tr th:only-of-type {\n",
       "        vertical-align: middle;\n",
       "    }\n",
       "\n",
       "    .dataframe tbody tr th {\n",
       "        vertical-align: top;\n",
       "    }\n",
       "\n",
       "    .dataframe thead th {\n",
       "        text-align: right;\n",
       "    }\n",
       "</style>\n",
       "<table border=\"1\" class=\"dataframe\">\n",
       "  <thead>\n",
       "    <tr style=\"text-align: right;\">\n",
       "      <th></th>\n",
       "      <th>text</th>\n",
       "      <th>date</th>\n",
       "      <th>legislative_period</th>\n",
       "      <th>speaker_name</th>\n",
       "      <th>speaker_gender</th>\n",
       "      <th>speaker_role</th>\n",
       "      <th>speaker_party</th>\n",
       "      <th>comments</th>\n",
       "      <th>id</th>\n",
       "      <th>speaker_id</th>\n",
       "      <th>speech_length</th>\n",
       "      <th>topic_distribution</th>\n",
       "      <th>clean_text</th>\n",
       "    </tr>\n",
       "  </thead>\n",
       "  <tbody>\n",
       "    <tr>\n",
       "      <th>0</th>\n",
       "      <td>Meine Damen und Herren! Herr Minister, ich m...</td>\n",
       "      <td>2021-11-11</td>\n",
       "      <td>20</td>\n",
       "      <td>Thomas Ehrhorn</td>\n",
       "      <td>male</td>\n",
       "      <td>None</td>\n",
       "      <td>AfD</td>\n",
       "      <td>[(Beifall bei Abgeordneten der AfD), (Beifall ...</td>\n",
       "      <td>SP-2021-21</td>\n",
       "      <td>4132</td>\n",
       "      <td>982</td>\n",
       "      <td>{0: 0.22465643}</td>\n",
       "      <td>meine damen und herren herr minister ich muss ...</td>\n",
       "    </tr>\n",
       "    <tr>\n",
       "      <th>1</th>\n",
       "      <td>Ich möchte auf Ihre Frage gern antworten. Er...</td>\n",
       "      <td>2021-11-11</td>\n",
       "      <td>20</td>\n",
       "      <td>Olaf Scholz</td>\n",
       "      <td>male</td>\n",
       "      <td>Bundesminister der Finanzen</td>\n",
       "      <td>None</td>\n",
       "      <td>[(Zuruf von der AfD: Warum?), (Beifall bei der...</td>\n",
       "      <td>SP-2021-22</td>\n",
       "      <td>3440</td>\n",
       "      <td>1951</td>\n",
       "      <td>{0: 0.42684105, 29: 0.2142375}</td>\n",
       "      <td>ich möchte auf ihre frage gern antworten erst ...</td>\n",
       "    </tr>\n",
       "    <tr>\n",
       "      <th>2</th>\n",
       "      <td>Sehr geehrte Frau Präsidentin! Meine Damen u...</td>\n",
       "      <td>2021-11-11</td>\n",
       "      <td>20</td>\n",
       "      <td>Sebastian Münzenmaier</td>\n",
       "      <td>male</td>\n",
       "      <td>None</td>\n",
       "      <td>AfD</td>\n",
       "      <td>[(Dr. Marco Buschmann [FDP]: Das ist Quatsch!)...</td>\n",
       "      <td>SP-2021-26</td>\n",
       "      <td>3961</td>\n",
       "      <td>4231</td>\n",
       "      <td>{0: 0.20533974}</td>\n",
       "      <td>sehr geehrte frau präsidentin meine damen und ...</td>\n",
       "    </tr>\n",
       "    <tr>\n",
       "      <th>3</th>\n",
       "      <td>Ja, gerne. – Zunächst mal ist es ja ein Fort...</td>\n",
       "      <td>2021-11-18</td>\n",
       "      <td>20</td>\n",
       "      <td>Johannes Fechner</td>\n",
       "      <td>male</td>\n",
       "      <td>None</td>\n",
       "      <td>SPD</td>\n",
       "      <td>[(Beifall bei der SPD, dem BÜNDNIS 90/DIE GRÜN...</td>\n",
       "      <td>SP-2021-98</td>\n",
       "      <td>2376</td>\n",
       "      <td>496</td>\n",
       "      <td>{0: 0.24128607, 130: 0.25529233}</td>\n",
       "      <td>ja gerne – zunächst mal ist es ja ein fortschr...</td>\n",
       "    </tr>\n",
       "    <tr>\n",
       "      <th>4</th>\n",
       "      <td>Frau Präsidentin! Meine Damen und Herren! Da...</td>\n",
       "      <td>2021-11-18</td>\n",
       "      <td>20</td>\n",
       "      <td>Martin Sichert</td>\n",
       "      <td>male</td>\n",
       "      <td>None</td>\n",
       "      <td>AfD</td>\n",
       "      <td>[(Beifall bei Abgeordneten der AfD – Widerspru...</td>\n",
       "      <td>SP-2021-104</td>\n",
       "      <td>3216</td>\n",
       "      <td>6208</td>\n",
       "      <td>{0: 0.28747255}</td>\n",
       "      <td>frau präsidentin meine damen und herren dass i...</td>\n",
       "    </tr>\n",
       "  </tbody>\n",
       "</table>\n",
       "</div>"
      ],
      "text/plain": [
       "                                                text       date  \\\n",
       "0    Meine Damen und Herren! Herr Minister, ich m... 2021-11-11   \n",
       "1    Ich möchte auf Ihre Frage gern antworten. Er... 2021-11-11   \n",
       "2    Sehr geehrte Frau Präsidentin! Meine Damen u... 2021-11-11   \n",
       "3    Ja, gerne. – Zunächst mal ist es ja ein Fort... 2021-11-18   \n",
       "4    Frau Präsidentin! Meine Damen und Herren! Da... 2021-11-18   \n",
       "\n",
       "  legislative_period           speaker_name speaker_gender  \\\n",
       "0                 20         Thomas Ehrhorn           male   \n",
       "1                 20            Olaf Scholz           male   \n",
       "2                 20  Sebastian Münzenmaier           male   \n",
       "3                 20       Johannes Fechner           male   \n",
       "4                 20         Martin Sichert           male   \n",
       "\n",
       "                  speaker_role speaker_party  \\\n",
       "0                         None           AfD   \n",
       "1  Bundesminister der Finanzen          None   \n",
       "2                         None           AfD   \n",
       "3                         None           SPD   \n",
       "4                         None           AfD   \n",
       "\n",
       "                                            comments           id speaker_id  \\\n",
       "0  [(Beifall bei Abgeordneten der AfD), (Beifall ...   SP-2021-21       4132   \n",
       "1  [(Zuruf von der AfD: Warum?), (Beifall bei der...   SP-2021-22       3440   \n",
       "2  [(Dr. Marco Buschmann [FDP]: Das ist Quatsch!)...   SP-2021-26       3961   \n",
       "3  [(Beifall bei der SPD, dem BÜNDNIS 90/DIE GRÜN...   SP-2021-98       2376   \n",
       "4  [(Beifall bei Abgeordneten der AfD – Widerspru...  SP-2021-104       3216   \n",
       "\n",
       "  speech_length                topic_distribution  \\\n",
       "0           982                   {0: 0.22465643}   \n",
       "1          1951    {0: 0.42684105, 29: 0.2142375}   \n",
       "2          4231                   {0: 0.20533974}   \n",
       "3           496  {0: 0.24128607, 130: 0.25529233}   \n",
       "4          6208                   {0: 0.28747255}   \n",
       "\n",
       "                                          clean_text  \n",
       "0  meine damen und herren herr minister ich muss ...  \n",
       "1  ich möchte auf ihre frage gern antworten erst ...  \n",
       "2  sehr geehrte frau präsidentin meine damen und ...  \n",
       "3  ja gerne – zunächst mal ist es ja ein fortschr...  \n",
       "4  frau präsidentin meine damen und herren dass i...  "
      ]
     },
     "execution_count": 65,
     "metadata": {},
     "output_type": "execute_result"
    }
   ],
   "source": [
    "resampled_data.head()"
   ]
  },
  {
   "cell_type": "code",
   "execution_count": 66,
   "metadata": {},
   "outputs": [
    {
     "data": {
      "text/plain": [
       "400418"
      ]
     },
     "execution_count": 66,
     "metadata": {},
     "output_type": "execute_result"
    }
   ],
   "source": [
    "len(resampled_data)"
   ]
  },
  {
   "cell_type": "markdown",
   "metadata": {},
   "source": [
    "### Train Test Split"
   ]
  },
  {
   "cell_type": "code",
   "execution_count": 67,
   "metadata": {},
   "outputs": [
    {
     "name": "stderr",
     "output_type": "stream",
     "text": [
      "d:\\anaconda3\\Lib\\site-packages\\sklearn\\utils\\validation.py:605: FutureWarning: is_sparse is deprecated and will be removed in a future version. Check `isinstance(dtype, pd.SparseDtype)` instead.\n",
      "  if is_sparse(pd_dtype):\n",
      "d:\\anaconda3\\Lib\\site-packages\\sklearn\\utils\\validation.py:614: FutureWarning: is_sparse is deprecated and will be removed in a future version. Check `isinstance(dtype, pd.SparseDtype)` instead.\n",
      "  if is_sparse(pd_dtype) or not is_extension_array_dtype(pd_dtype):\n"
     ]
    }
   ],
   "source": [
    "df_train, df_test = train_test_split(resampled_data, test_size=0.20, stratify=resampled_data.speaker_gender, random_state=0)"
   ]
  },
  {
   "cell_type": "code",
   "execution_count": null,
   "metadata": {},
   "outputs": [],
   "source": [
    "vec = CountVectorizer(\n",
    "    ngram_range=(1, 3), \n",
    "    stop_words=stop_words,\n",
    "    min_df=50,\n",
    "    max_df=0.4\n",
    ")  \n",
    "\n",
    "X_train = vec.fit_transform(df_train.clean_text)\n",
    "X_test = vec.transform(df_test.clean_text)\n",
    "\n",
    "y_train = df_train.speaker_gender\n",
    "y_test = df_test.speaker_gender"
   ]
  },
  {
   "cell_type": "code",
   "execution_count": 69,
   "metadata": {},
   "outputs": [],
   "source": [
    "import pickle\n",
    "\n",
    "# with open('C:/Users/Ana/OneDrive - Hochschule Düsseldorf/MA/x_train.pkl', 'wb') as f:\n",
    "#     pickle.dump(X_train, f)\n",
    "\n",
    "# with open('C:/Users/Ana/OneDrive - Hochschule Düsseldorf/MA/x_test.pkl', 'wb') as f:\n",
    "#     pickle.dump(X_test, f)\n",
    "\n",
    "# with open('C:/Users/Ana/OneDrive - Hochschule Düsseldorf/MA/y_train.pkl', 'wb') as f:\n",
    "#     pickle.dump(y_train, f)\n",
    "\n",
    "# with open('C:/Users/Ana/OneDrive - Hochschule Düsseldorf/MA/y_test.pkl', 'wb') as f:\n",
    "#     pickle.dump(y_test, f)\n",
    "\n",
    "# load\n",
    "with open('C:/Users/Ana/OneDrive - Hochschule Düsseldorf/MA/x_train.pkl', 'rb') as f:\n",
    "   X_train = pickle.load(f)\n",
    "\n",
    "with open('C:/Users/Ana/OneDrive - Hochschule Düsseldorf/MA/x_test.pkl', 'rb') as f:\n",
    "   X_test = pickle.load(f)\n",
    "    \n",
    "with open('C:/Users/Ana/OneDrive - Hochschule Düsseldorf/MA/y_train.pkl', 'rb') as f:\n",
    "   y_train = pickle.load(f)\n",
    "\n",
    "with open('C:/Users/Ana/OneDrive - Hochschule Düsseldorf/MA/y_test.pkl', 'rb') as f:\n",
    "   y_test = pickle.load(f)"
   ]
  },
  {
   "cell_type": "code",
   "execution_count": 70,
   "metadata": {},
   "outputs": [
    {
     "data": {
      "text/plain": [
       "<80084x81335 sparse matrix of type '<class 'numpy.int64'>'\n",
       "\twith 7025377 stored elements in Compressed Sparse Row format>"
      ]
     },
     "execution_count": 70,
     "metadata": {},
     "output_type": "execute_result"
    }
   ],
   "source": [
    "X_test"
   ]
  },
  {
   "cell_type": "markdown",
   "metadata": {},
   "source": [
    "### Fit Model"
   ]
  },
  {
   "cell_type": "code",
   "execution_count": 86,
   "metadata": {},
   "outputs": [
    {
     "name": "stderr",
     "output_type": "stream",
     "text": [
      "d:\\anaconda3\\Lib\\site-packages\\sklearn\\utils\\validation.py:605: FutureWarning: is_sparse is deprecated and will be removed in a future version. Check `isinstance(dtype, pd.SparseDtype)` instead.\n",
      "  if is_sparse(pd_dtype):\n",
      "d:\\anaconda3\\Lib\\site-packages\\sklearn\\utils\\validation.py:614: FutureWarning: is_sparse is deprecated and will be removed in a future version. Check `isinstance(dtype, pd.SparseDtype)` instead.\n",
      "  if is_sparse(pd_dtype) or not is_extension_array_dtype(pd_dtype):\n",
      "d:\\anaconda3\\Lib\\site-packages\\sklearn\\utils\\validation.py:605: FutureWarning: is_sparse is deprecated and will be removed in a future version. Check `isinstance(dtype, pd.SparseDtype)` instead.\n",
      "  if is_sparse(pd_dtype):\n",
      "d:\\anaconda3\\Lib\\site-packages\\sklearn\\utils\\validation.py:614: FutureWarning: is_sparse is deprecated and will be removed in a future version. Check `isinstance(dtype, pd.SparseDtype)` instead.\n",
      "  if is_sparse(pd_dtype) or not is_extension_array_dtype(pd_dtype):\n",
      "d:\\anaconda3\\Lib\\site-packages\\sklearn\\utils\\validation.py:605: FutureWarning: is_sparse is deprecated and will be removed in a future version. Check `isinstance(dtype, pd.SparseDtype)` instead.\n",
      "  if is_sparse(pd_dtype):\n",
      "d:\\anaconda3\\Lib\\site-packages\\sklearn\\utils\\validation.py:614: FutureWarning: is_sparse is deprecated and will be removed in a future version. Check `isinstance(dtype, pd.SparseDtype)` instead.\n",
      "  if is_sparse(pd_dtype) or not is_extension_array_dtype(pd_dtype):\n",
      "d:\\anaconda3\\Lib\\site-packages\\sklearn\\utils\\validation.py:605: FutureWarning: is_sparse is deprecated and will be removed in a future version. Check `isinstance(dtype, pd.SparseDtype)` instead.\n",
      "  if is_sparse(pd_dtype):\n",
      "d:\\anaconda3\\Lib\\site-packages\\sklearn\\utils\\validation.py:614: FutureWarning: is_sparse is deprecated and will be removed in a future version. Check `isinstance(dtype, pd.SparseDtype)` instead.\n",
      "  if is_sparse(pd_dtype) or not is_extension_array_dtype(pd_dtype):\n"
     ]
    },
    {
     "name": "stdout",
     "output_type": "stream",
     "text": [
      "              precision    recall  f1-score   support\n",
      "\n",
      "      female       0.89      0.71      0.79     40042\n",
      "        male       0.76      0.91      0.83     40042\n",
      "\n",
      "    accuracy                           0.81     80084\n",
      "   macro avg       0.82      0.81      0.81     80084\n",
      "weighted avg       0.82      0.81      0.81     80084\n",
      "\n"
     ]
    }
   ],
   "source": [
    "nb = MultinomialNB()\n",
    "nb.fit(X_train, y_train)\n",
    "\n",
    "preds = nb.predict(X_test)\n",
    "print(classification_report(y_test, preds))"
   ]
  },
  {
   "cell_type": "code",
   "execution_count": 87,
   "metadata": {},
   "outputs": [
    {
     "data": {
      "text/plain": [
       "['vec.joblib']"
      ]
     },
     "execution_count": 87,
     "metadata": {},
     "output_type": "execute_result"
    }
   ],
   "source": [
    "# save classifier and vectorizer\n",
    "joblib.dump(nb, \"nb.joblib\")\n",
    "joblib.dump(vec, \"vec.joblib\")"
   ]
  },
  {
   "cell_type": "code",
   "execution_count": 6,
   "metadata": {},
   "outputs": [],
   "source": [
    "# load\n",
    "nb_saved = joblib.load(\"nb.joblib\")\n",
    "vec_saved = joblib.load(\"vec.joblib\")"
   ]
  },
  {
   "cell_type": "code",
   "execution_count": 71,
   "metadata": {},
   "outputs": [],
   "source": [
    "preds = nb_saved.predict(X_test)"
   ]
  },
  {
   "cell_type": "code",
   "execution_count": 90,
   "metadata": {},
   "outputs": [
    {
     "data": {
      "text/plain": [
       "speaker_gender\n",
       "female    40042\n",
       "male      40042\n",
       "Name: count, dtype: int64"
      ]
     },
     "execution_count": 90,
     "metadata": {},
     "output_type": "execute_result"
    }
   ],
   "source": [
    "y_test.value_counts()"
   ]
  },
  {
   "cell_type": "code",
   "execution_count": 29,
   "metadata": {},
   "outputs": [
    {
     "data": {
      "text/plain": [
       "array(['male'], dtype='<U6')"
      ]
     },
     "execution_count": 29,
     "metadata": {},
     "output_type": "execute_result"
    }
   ],
   "source": [
    "# test prediction\n",
    "sample_text = [\"Ich möchte Ihnen sagen, dass es schon gut gewesen wäre, wenn Sie ein paar Sätze zu dem haarsträubenden Verfahren – dem Riesendesaster und den zahlreichen Verfassungsverstößen – gesagt hätten, das wesentlich das Bundesfinanzministerium verursacht hat und das eine ratlose und planlose Regierung hinterlassen hat, die alle Hände voll zu tun hatte, die Fehler auszumerzen, die sie selber verursacht hat.\"]\n",
    "\n",
    "clean_sample_text = process_text(sample_text)\n",
    "sample_vec = vec_saved.transform(sample_text)\n",
    "nb_saved.predict(sample_vec)"
   ]
  },
  {
   "cell_type": "markdown",
   "metadata": {},
   "source": [
    "## Confusion Matrix"
   ]
  },
  {
   "cell_type": "code",
   "execution_count": 91,
   "metadata": {},
   "outputs": [
    {
     "data": {
      "text/plain": [
       "array([[28325, 11717],\n",
       "       [ 3561, 36481]], dtype=int64)"
      ]
     },
     "execution_count": 91,
     "metadata": {},
     "output_type": "execute_result"
    }
   ],
   "source": [
    "confusion_matrix(y_test.to_numpy(), preds)"
   ]
  },
  {
   "cell_type": "code",
   "execution_count": 85,
   "metadata": {},
   "outputs": [
    {
     "data": {
      "text/plain": [
       "<Axes: >"
      ]
     },
     "execution_count": 85,
     "metadata": {},
     "output_type": "execute_result"
    },
    {
     "data": {
      "image/png": "[encoded data removed]",
      "text/plain": [
       "<Figure size 500x500 with 1 Axes>"
      ]
     },
     "metadata": {},
     "output_type": "display_data"
    }
   ],
   "source": [
    "fig, ax = plt.subplots(figsize=(5, 5))\n",
    "\n",
    "sb.heatmap(confusion_matrix(y_test.to_numpy(), preds),\n",
    "           annot=True, cmap=\"viridis\", cbar=False,\n",
    "           fmt=\"d\",\n",
    "           xticklabels=nb_saved.classes_,\n",
    "           yticklabels=nb_saved.classes_)"
   ]
  },
  {
   "cell_type": "markdown",
   "metadata": {},
   "source": [
    "## Get Important Features"
   ]
  },
  {
   "cell_type": "code",
   "execution_count": 103,
   "metadata": {},
   "outputs": [
    {
     "data": {
      "text/plain": [
       "array(['female', 'male'], dtype='<U6')"
      ]
     },
     "execution_count": 103,
     "metadata": {},
     "output_type": "execute_result"
    }
   ],
   "source": [
    "nb_saved.classes_"
   ]
  },
  {
   "cell_type": "code",
   "execution_count": 106,
   "metadata": {},
   "outputs": [
    {
     "data": {
      "text/plain": [
       "array(['00', '00 uhr', '000', ..., 'übungen', 'ühlingen', 'üppig'],\n",
       "      dtype=object)"
      ]
     },
     "execution_count": 106,
     "metadata": {},
     "output_type": "execute_result"
    }
   ],
   "source": [
    "vec_saved.get_feature_names_out()"
   ]
  },
  {
   "cell_type": "code",
   "execution_count": 97,
   "metadata": {},
   "outputs": [],
   "source": [
    "fem_class_prob_sorted = nb_saved.feature_log_prob_[0, :].argsort()[::-1]\n",
    "male_class_prob_sorted = nb_saved.feature_log_prob_[1, :].argsort()[::-1]"
   ]
  },
  {
   "cell_type": "code",
   "execution_count": 114,
   "metadata": {},
   "outputs": [
    {
     "name": "stdout",
     "output_type": "stream",
     "text": [
      "Important words in female speeches\n",
      "['dr' 'mehr' 'müssen' 'bundesregierung' 'frau' 'fraktion' 'schon'\n",
      " 'menschen' 'frage' 'kollegen' 'heute' 'gibt' 'immer' 'ganz' 'sagen' 'ja'\n",
      " 'kollege' 'wort' 'geht' 'herren']\n",
      "-----------------------------------------\n",
      "Important words in male speeches\n",
      "['herren' 'frage' 'damen' 'damen herren' 'bundesregierung' 'worden'\n",
      " 'kollege' 'muß' 'sagen' 'bitte' 'müssen' 'dr' 'mehr' 'antrag' 'heute'\n",
      " 'herr kollege' 'schon' 'ja' 'deutschen' 'wort']\n"
     ]
    }
   ],
   "source": [
    "print(\"Important words in female speeches\")\n",
    "print(np.take(vec_saved.get_feature_names_out(), fem_class_prob_sorted[:20]))\n",
    "print(\"-----------------------------------------\")\n",
    "\n",
    "print(\"Important words in male speeches\")\n",
    "print(np.take(vec_saved.get_feature_names_out(), male_class_prob_sorted[:20]))"
   ]
  }
 ],
 "metadata": {
  "kernelspec": {
   "display_name": "base",
   "language": "python",
   "name": "python3"
  },
  "language_info": {
   "codemirror_mode": {
    "name": "ipython",
    "version": 3
   },
   "file_extension": ".py",
   "mimetype": "text/x-python",
   "name": "python",
   "nbconvert_exporter": "python",
   "pygments_lexer": "ipython3",
   "version": "3.11.4"
  }
 },
 "nbformat": 4,
 "nbformat_minor": 2
}
